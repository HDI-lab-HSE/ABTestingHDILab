{
 "cells": [
  {
   "cell_type": "markdown",
   "metadata": {},
   "source": [
    "# Снижение дисперсии при A/B тесировании с помощью контрольных перменных, описанное в разделе 3 отчета о НИР."
   ]
  },
  {
   "cell_type": "code",
   "execution_count": 1,
   "metadata": {},
   "outputs": [
    {
     "name": "stderr",
     "output_type": "stream",
     "text": [
      "/Users/ulianavinogradova/opt/anaconda3/lib/python3.7/site-packages/statsmodels/tools/_testing.py:19: FutureWarning: pandas.util.testing is deprecated. Use the functions in the public API at pandas.testing instead.\n",
      "  import pandas.util.testing as tm\n"
     ]
    }
   ],
   "source": [
    "import numpy as np\n",
    "import statsmodels.api as sm\n",
    "import pandas as pd\n",
    "from tqdm.notebook import tqdm\n",
    "import joblib\n",
    "import itertools\n",
    "\n",
    "import warnings\n",
    "warnings.filterwarnings('ignore')\n",
    "\n",
    "from sklearn import linear_model\n",
    "from sklearn.compose import ColumnTransformer\n",
    "from sklearn.metrics import mean_squared_error\n",
    "from sklearn.ensemble import RandomForestClassifier, GradientBoostingClassifier, GradientBoostingRegressor\n",
    "from sklearn.model_selection import train_test_split\n",
    "from sklearn.inspection import permutation_importance\n",
    "from sklearn.impute import SimpleImputer\n",
    "from sklearn.pipeline import Pipeline\n",
    "from sklearn.preprocessing import normalize, OrdinalEncoder, OneHotEncoder\n",
    "from scipy import stats\n",
    "\n",
    "from iterstrat.ml_stratifiers import MultilabelStratifiedKFold, MultilabelStratifiedShuffleSplit\n",
    "\n",
    "import matplotlib.pyplot as plt\n",
    "plt.rcParams.update(plt.rcParamsDefault)\n",
    "import seaborn as sns\n",
    "%matplotlib inline"
   ]
  },
  {
   "cell_type": "code",
   "execution_count": 2,
   "metadata": {},
   "outputs": [],
   "source": [
    "def get_coef_significance(X, Y): \n",
    "    \"\"\"\n",
    "    Функция для проверки на значимость коэффициентов значимой регресии\n",
    "    \"\"\"\n",
    "    X_train = sm.tools.tools.add_constant(X.values.astype(np.float64), prepend=True, has_constant='skip')\n",
    "    \n",
    "    Y_train = Y\n",
    "\n",
    "    lin_reg = sm.OLS(Y_train, X_train).fit()\n",
    "    summary = lin_reg.summary().tables[1]\n",
    "    return pd.read_html(summary.as_html(), header=0, index_col=0)[0], lin_reg"
   ]
  },
  {
   "cell_type": "code",
   "execution_count": 3,
   "metadata": {},
   "outputs": [],
   "source": [
    "def check_pval(pval):\n",
    "    \"\"\"\n",
    "    Функция для проверки на наличие статистически значимой разницы\n",
    "    \"\"\"\n",
    "    if pval <= 0.05:\n",
    "        print(f'p-val: {pval}\\nСтат. значимая разница (отвергли нулевую гипотезу о равенстве средних)')\n",
    "    else:\n",
    "        print(f'p-val: {pval}\\nСтатзначимой разницы нет')"
   ]
  },
  {
   "cell_type": "code",
   "execution_count": 4,
   "metadata": {},
   "outputs": [],
   "source": [
    "def ttest(x, y, randomized=False, verbose=False):\n",
    "    \"\"\"\n",
    "    Функция для проведения обычного и рандомизированного T-теста\n",
    "    Параметры:\n",
    "        x (np.array) - значение целевой перменной в контрольной группе\n",
    "        y (np.array) - значение целевой перменной в экспериментальной группе\n",
    "        randomized (bool) - идикатор типа теста (при ложном значении проводится обычный тест)\n",
    "        verbose (bool) - индикатор вывода вспомогательной информации \n",
    "    \"\"\"\n",
    "    n_x = x.shape[0]\n",
    "    n_y = y.shape[0]\n",
    "    \n",
    "    s_x = np.var(x, ddof=1)\n",
    "    s_y = np.var(y, ddof=1)\n",
    "    \n",
    "    if randomized:\n",
    "        b0 = n_x ** 0.75\n",
    "        b1 = n_y ** 0.75\n",
    "        \n",
    "        dof =  (s_x / n_x + s_y / n_y) ** 2 / ((s_x / n_x) ** 2 / (n_x - 1) + (s_y / n_y) ** 2 / (n_y - 1))\n",
    "        \n",
    "        \n",
    "        theta_x = np.append(np.tile(np.array([1, np.sqrt(2), 1, np.sqrt(2)]), math.ceil(b0)),\\\n",
    "                   np.tile(np.array([1, np.sqrt(2), -1, -np.sqrt(2)]), n_x // 4 + 1))\n",
    "        \n",
    "        theta_x = theta_x[:n_x]\n",
    "\n",
    "        theta_y = np.append(np.tile(np.array([1, np.sqrt(2), 1, np.sqrt(2)]), math.ceil(b1)),\\\n",
    "                   np.tile(np.array([1, np.sqrt(2), -1, -np.sqrt(2)]), n_y // 4 + 1))\n",
    "        \n",
    "        theta_y = theta_y[:n_y]\n",
    "\n",
    "        t_val = (theta_x @ x - theta_y @ y) / np.sqrt(s_x * np.sum(theta_x ** 2) + s_y * np.sum(theta_y ** 2))\n",
    "        p = 2*(stats.t.cdf(-abs(t_stat_rand), dof))\n",
    "        \n",
    "    else: \n",
    "        t_val, p = stats.ttest_ind(x, y, equal_var=False) \n",
    "        \n",
    "    if verbose:\n",
    "        check_pval(p)\n",
    "    return p"
   ]
  },
  {
   "cell_type": "markdown",
   "metadata": {},
   "source": [
    "# Обработка датасета и генерация подвыборок"
   ]
  },
  {
   "cell_type": "code",
   "execution_count": 5,
   "metadata": {},
   "outputs": [
    {
     "name": "stdout",
     "output_type": "stream",
     "text": [
      "CPU times: user 26.8 s, sys: 10.1 s, total: 36.9 s\n",
      "Wall time: 39.1 s\n"
     ]
    }
   ],
   "source": [
    "%%time\n",
    "\n",
    "# адтасет можно скачать по ссылке \n",
    "# http://go.criteo.net/criteo-research-uplift-v2.1.csv.gz\n",
    "\n",
    "inp_df = pd.read_csv('criteo-uplift-v2.1.csv')\n",
    "\n",
    "features = ['f{}'.format(n) for n in range(12)]\n",
    "inp_df[features] = normalize(inp_df[features], axis=0, norm='l2')\n",
    "df = inp_df \n",
    "\n",
    "X = features\n",
    "y = 'visit'\n",
    "t = 'treatment'"
   ]
  },
  {
   "cell_type": "code",
   "execution_count": 6,
   "metadata": {},
   "outputs": [],
   "source": [
    "cat_features = ['f1', 'f3', 'f4', 'f5', 'f6', 'f8', 'f9', 'f11']\n",
    "noncat_features = list(df.columns.difference(cat_features + [y,t,'conversion', 'exposure']))"
   ]
  },
  {
   "cell_type": "code",
   "execution_count": 7,
   "metadata": {},
   "outputs": [
    {
     "name": "stdout",
     "output_type": "stream",
     "text": [
      "Full data p-value: 0.0\n"
     ]
    }
   ],
   "source": [
    "t, p = stats.ttest_ind(df.loc[df['treatment'] == 1, 'visit'], df.loc[df['treatment'] == 0, 'visit'], equal_var=False, random_state=3)\n",
    "print(f'Full data p-value: {p}')"
   ]
  },
  {
   "cell_type": "markdown",
   "metadata": {},
   "source": [
    "## Генерация стратифицированной подвыборки меньшего размера\n",
    "\n",
    "В данной подвыборке с помощью стандартного Т-теста нулевая гипотеза \n",
    "$$\\mathcal{H_0}: \\mu_1 = \\mu_2\\, ,$$\n",
    "не отвергается при истиности алтернативной\n",
    "$$\\mathcal{H_1}: \\mu_1 \\neq \\mu_2\\, ,$$\n",
    "\n",
    "где $\\mu_1$ и $\\mu_2$ - математичекие ожидавния в тестовой и контрольной выборках. Таким образом, размеры сгенерированных подвыборок недостаточны для того, чтобы обнаружить величину эффекта, равную $\\mu_1 - \\mu_2$."
   ]
  },
  {
   "cell_type": "code",
   "execution_count": 69,
   "metadata": {},
   "outputs": [
    {
     "data": {
      "text/plain": [
       "5.666672389299249"
      ]
     },
     "execution_count": 69,
     "metadata": {},
     "output_type": "execute_result"
    }
   ],
   "source": [
    "scale = all_treatment.shape[0] / all_control.shape[0]\n",
    "scale"
   ]
  },
  {
   "cell_type": "code",
   "execution_count": 8,
   "metadata": {},
   "outputs": [
    {
     "data": {
      "text/plain": [
       "['f0', 'f2', 'f8', 'f9', 'visit']"
      ]
     },
     "execution_count": 8,
     "metadata": {},
     "output_type": "execute_result"
    }
   ],
   "source": [
    "columns = ['f0', 'f2', 'f8', 'f9', 'visit']\n",
    "columns"
   ]
  },
  {
   "cell_type": "code",
   "execution_count": 66,
   "metadata": {},
   "outputs": [],
   "source": [
    "all_control = df.loc[df['treatment'] == 0]\n",
    "all_treatment = df.loc[df['treatment'] == 1]"
   ]
  },
  {
   "cell_type": "code",
   "execution_count": 9,
   "metadata": {},
   "outputs": [],
   "source": [
    "# Код ниже в этой секции можно не запускать, а скачать сохраненную подвыборку\n",
    "\n",
    "# control_sample = joblib.load('saved_variables/control_sample.joblib')\n",
    "# treatment_sample = joblib.load('saved_variables/treatment_sample.joblib')"
   ]
  },
  {
   "cell_type": "code",
   "execution_count": 12,
   "metadata": {},
   "outputs": [],
   "source": [
    "size_control = 0.0005\n",
    "scale = all_treatment.shape[0] / all_control.shape[0]\n",
    "size_treatment = int(scale * size_control * all_control.shape[0]) # scale * control_size = scale * 0.002 * all_control.shape[0]\n",
    "\n",
    "msss_control = MultilabelStratifiedShuffleSplit(n_splits=1, test_size=size_control, random_state=0)\n",
    "msss_treatment = MultilabelStratifiedShuffleSplit(n_splits=1, test_size=size_treatment, random_state=0)"
   ]
  },
  {
   "cell_type": "code",
   "execution_count": 44,
   "metadata": {},
   "outputs": [],
   "source": [
    "trval_i, control_sample_i = next(msss_control.split(all_control.values, all_control.loc[:, columns].values))\n",
    "trval_i, treatment_sample_i = next(msss_treatment.split(all_treatment.values, all_treatment.loc[:, columns].values))"
   ]
  },
  {
   "cell_type": "code",
   "execution_count": null,
   "metadata": {},
   "outputs": [],
   "source": [
    "control_sample = all_control.iloc[control_sample_i]\n",
    "treatment_sample = all_treatment.iloc[treatment_sample_i]"
   ]
  },
  {
   "cell_type": "code",
   "execution_count": 10,
   "metadata": {},
   "outputs": [
    {
     "name": "stdout",
     "output_type": "stream",
     "text": [
      "treatment: 5941, control: 1049, frac: 5.663489037178265\n"
     ]
    }
   ],
   "source": [
    "print(f\"treatment: {treatment_sample.shape[0]}, control: {control_sample.shape[0]}, frac: {treatment_sample.shape[0] / control_sample.shape[0]}\")\n"
   ]
  },
  {
   "cell_type": "code",
   "execution_count": 11,
   "metadata": {},
   "outputs": [
    {
     "data": {
      "text/plain": [
       "Ttest_indResult(statistic=1.5819821163140801, pvalue=0.1138575105831692)"
      ]
     },
     "execution_count": 11,
     "metadata": {},
     "output_type": "execute_result"
    }
   ],
   "source": [
    "# control_size = 0.0005\n",
    "\n",
    "stats.ttest_ind(treatment_sample['visit'], control_sample['visit'], equal_var=False, random_state=1)"
   ]
  },
  {
   "cell_type": "code",
   "execution_count": 12,
   "metadata": {},
   "outputs": [
    {
     "name": "stdout",
     "output_type": "stream",
     "text": [
      "Дисперсия в подвыборках: контроль 0.036712536112182566, тест 0.046134463639932156\n"
     ]
    }
   ],
   "source": [
    "print(f\"Дисперсия в подвыборках: контроль {control_sample['visit'].var()}, тест {treatment_sample['visit'].var()}\")"
   ]
  },
  {
   "cell_type": "markdown",
   "metadata": {},
   "source": [
    "## Генерация исторического контекста\n",
    "\n",
    "Генерация стартифицированной подвыборки, которая соответствует предэкспериментальному периоду."
   ]
  },
  {
   "cell_type": "code",
   "execution_count": 13,
   "metadata": {},
   "outputs": [],
   "source": [
    "# Код ниже в этой секции можно не запускать, а скачать сохраненную подвыборку\n",
    "\n",
    "# control_sample_hist = joblib.load('saved_variables/control_sample_hist.joblib')\n",
    "# treatment_sample_hist = joblib.load('saved_variables/treatment_sample_hist.joblib')"
   ]
  },
  {
   "cell_type": "code",
   "execution_count": 17,
   "metadata": {},
   "outputs": [],
   "source": [
    "all_control_for_hist = df.loc[(df['treatment'] == 0) & (~df.index.isin(control_sample.index))]\n",
    "all_treatment_for_hist = df.loc[(df['treatment'] == 1) & (~df.index.isin(treatment_sample.index))]"
   ]
  },
  {
   "cell_type": "code",
   "execution_count": 14,
   "metadata": {},
   "outputs": [],
   "source": [
    "size_control = 0.0005\n",
    "scale = all_treatment_for_hist.shape[0] / all_control_for_hist.shape[0]\n",
    "size_treatment = int(scale * size_control * all_control_for_hist.shape[0]) # scale * control_size = scale * 0.002 * all_control.shape[0]\n",
    "\n",
    "msss_control = MultilabelStratifiedShuffleSplit(n_splits=1, test_size=size_control, random_state=2)\n",
    "msss_treatment = MultilabelStratifiedShuffleSplit(n_splits=1, test_size=size_treatment, random_state=2)"
   ]
  },
  {
   "cell_type": "code",
   "execution_count": null,
   "metadata": {},
   "outputs": [],
   "source": [
    "trval_i, control_sample_hist_i = next(msss_control.split(all_control_for_hist.values, all_control_for_hist.loc[:, columns].values))\n",
    "trval_i, treatment_sample_hist_i = next(msss_treatment.split(all_treatment_for_hist.values, all_treatment_for_hist.loc[:, columns].values))"
   ]
  },
  {
   "cell_type": "code",
   "execution_count": null,
   "metadata": {},
   "outputs": [],
   "source": [
    "control_sample_hist = all_control_for_hist.iloc[control_sample_hist_i]\n",
    "treatment_sample_hist = all_treatment_for_hist.iloc[treatment_sample_hist_i]"
   ]
  },
  {
   "cell_type": "code",
   "execution_count": 22,
   "metadata": {},
   "outputs": [
    {
     "name": "stdout",
     "output_type": "stream",
     "text": [
      "treatment: 5938, control: 1048, frac: 5.666030534351145\n"
     ]
    }
   ],
   "source": [
    "print(f\"treatment: {treatment_sample_hist.shape[0]}, control: {control_sample_hist.shape[0]}, frac: {treatment_sample_hist.shape[0] / control_sample_hist.shape[0]}\")"
   ]
  },
  {
   "cell_type": "markdown",
   "metadata": {},
   "source": [
    "## Генерация подвыборки с увеличивающимся размером\n",
    "\n",
    "Генерация стратифицированных подвыборок размеромами от 420 до 4200 с шагом 420 для эксперимента, описанного в разделе 3.4.1 отчета о НИР."
   ]
  },
  {
   "cell_type": "code",
   "execution_count": 44,
   "metadata": {},
   "outputs": [],
   "source": [
    "all_control = df.loc[(df['treatment'] == 0) & (~df.index.isin(control_sample_hist.index))]\n",
    "all_treatment = df.loc[(df['treatment'] == 1) & (~df.index.isin(treatment_sample_hist.index))]"
   ]
  },
  {
   "cell_type": "code",
   "execution_count": null,
   "metadata": {},
   "outputs": [],
   "source": [
    "### Код ниже в этой секции можно не запускать, а скачать сохраненную подвыборку из папки saved_variables\n",
    "\n",
    "# control_indexes_big = joblib.load('saved_variables/control_data_split_35e-5.joblib')\n",
    "# treatment_indexes_big = joblib.load('saved_variables/treatment_data_split_35e-5.joblib')\n",
    "\n",
    "# control_indexes_small = joblib.load('saved_variables/control_data_split_2e-4.joblib')\n",
    "# treatment_indexes_small = joblib.load('saved_variables/treatment_data_split_2e-4.joblib')\n",
    "\n",
    "# all_in_slit_control = []\n",
    "# all_in_slit_treatment = []\n",
    "\n",
    "# for i in tqdm(range(0, len(control_indexes_small))):\n",
    "#     all_in_slit_control.extend(control_indexes_small[i].index)\n",
    "#     all_in_slit_treatment.extend(treatment_indexes_small[i].index)\n",
    "    \n",
    "# for i in tqdm(range(0, len(control_indexes_big))):\n",
    "#     all_in_slit_control.extend(control_indexes_big[i].index)\n",
    "#     all_in_slit_treatment.extend(treatment_indexes_big[i].index)"
   ]
  },
  {
   "cell_type": "code",
   "execution_count": 449,
   "metadata": {},
   "outputs": [
    {
     "data": {
      "text/plain": [
       "733.87825"
      ]
     },
     "execution_count": 449,
     "metadata": {},
     "output_type": "execute_result"
    }
   ],
   "source": [
    "size_control = 0.00035\n",
    "\n",
    "all_control.shape[0] * size_control"
   ]
  },
  {
   "cell_type": "code",
   "execution_count": 450,
   "metadata": {},
   "outputs": [],
   "source": [
    "size_control = 0.00035\n",
    "scale = all_treatment.shape[0] / all_control.shape[0]\n",
    "size_treatment = int(scale * size_control * all_control.shape[0]) # scale * control_size = scale * 0.002 * all_control.shape[0]\n",
    "\n",
    "msss_control = MultilabelStratifiedShuffleSplit(n_splits=10, test_size=size_control, random_state=3)\n",
    "msss_treatment = MultilabelStratifiedShuffleSplit(n_splits=10, test_size=size_treatment, random_state=3)"
   ]
  },
  {
   "cell_type": "code",
   "execution_count": 451,
   "metadata": {},
   "outputs": [],
   "source": [
    "control_generator = msss_control.split(all_control.values, all_control.loc[:, columns].values)\n",
    "treatment_generator = msss_treatment.split(all_treatment.values, all_treatment.loc[:, columns].values)"
   ]
  },
  {
   "cell_type": "code",
   "execution_count": 452,
   "metadata": {},
   "outputs": [
    {
     "name": "stdout",
     "output_type": "stream",
     "text": [
      "CPU times: user 34min 31s, sys: 19.1 s, total: 34min 50s\n",
      "Wall time: 35min 1s\n"
     ]
    }
   ],
   "source": [
    "%%time\n",
    "\n",
    "control_indexes = list(control_generator)\n",
    "treatment_indexes = list(treatment_generator)"
   ]
  },
  {
   "cell_type": "code",
   "execution_count": 457,
   "metadata": {},
   "outputs": [
    {
     "data": {
      "application/vnd.jupyter.widget-view+json": {
       "model_id": "ab50eb05f0b441539a4a42aec1697cf8",
       "version_major": 2,
       "version_minor": 0
      },
      "text/plain": [
       "  0%|          | 0/10 [00:00<?, ?it/s]"
      ]
     },
     "metadata": {},
     "output_type": "display_data"
    }
   ],
   "source": [
    "data_control = []\n",
    "data_treatment = []\n",
    "\n",
    "for i in tqdm(range(0, len(control_indexes))):\n",
    "    data_control.append(all_control.iloc[control_indexes[i][1]])\n",
    "    data_treatment.append(all_treatment.iloc[treatment_indexes[i][1]])"
   ]
  },
  {
   "cell_type": "markdown",
   "metadata": {},
   "source": [
    "# Методы снижения дисперсии при помощи контрольных переменных"
   ]
  },
  {
   "cell_type": "markdown",
   "metadata": {},
   "source": [
    "## Метод ML-rate из раздела 3.3 отчета о НИР"
   ]
  },
  {
   "cell_type": "code",
   "execution_count": 18,
   "metadata": {},
   "outputs": [],
   "source": [
    "def modify_with_regression_test(control, experimental, control_hist, experimental_hist, columns, verbose=False, aa=False):\n",
    "    if verbose:\n",
    "        print(f\"Control size: {control.shape[0]}, Experimental size: {experimental.shape[0]}\")\n",
    "    \n",
    "    if aa:\n",
    "        experimental['treatment'] = 1\n",
    "        \n",
    "    Z = pd.concat((control, experimental, control_hist, experimental_hist), axis=0).sample(frac=1)\n",
    "    means = np.mean(Z[columns])\n",
    "\n",
    "    Y = Z['visit']\n",
    "    X = Z[columns]\n",
    "    X = X - means.values\n",
    "    X = pd.concat((X, Z['treatment']), axis=1)\n",
    "\n",
    "    table_summary, model = get_coef_significance(sm.tools.tools.add_constant(X), Y)\n",
    "#     print(table_summary)\n",
    "    p_after = table_summary.iloc[-1, :]['P>|t|']\n",
    "    \n",
    "    return p_after"
   ]
  },
  {
   "cell_type": "markdown",
   "metadata": {},
   "source": [
    "## Метод CUPED из раздела 3.1 отчета о НИР"
   ]
  },
  {
   "cell_type": "code",
   "execution_count": 19,
   "metadata": {},
   "outputs": [],
   "source": [
    "def modify_with_cuped(control, experimental, control_hist, experimental_hist, columns, pipeline=False, encoder=\"OHE\", verbose=False):\n",
    "    if verbose:\n",
    "        print(f\"Control size: {control.shape[0]}, Experimental size: {experimental.shape[0]}\")\n",
    "\n",
    "    X = pd.concat((control_hist, experimental_hist), axis=0).sample(frac=1)\n",
    "    \n",
    "    Y = X['visit']\n",
    "    X = X[columns]\n",
    "    \n",
    "    categorical_columns = list(set(cat_features).intersection(set(columns)))\n",
    "    numerical_columns = list(set(noncat_features).intersection(set(columns)))\n",
    "\n",
    "\n",
    "\n",
    "    if pipeline:\n",
    "        means = np.mean(X[numerical_columns])\n",
    "        X[numerical_columns] = X[numerical_columns] - means\n",
    "        \n",
    "        if encoder == 'OHE':\n",
    "            categorical_encoder = OneHotEncoder(\n",
    "            handle_unknown=\"ignore\"\n",
    "            )\n",
    "        else:  \n",
    "            categorical_encoder = OrdinalEncoder(\n",
    "            handle_unknown=\"use_encoded_value\", unknown_value=-1\n",
    "            )\n",
    "            \n",
    "        numerical_pipe = SimpleImputer(strategy=\"mean\")\n",
    "\n",
    "        preprocessing = ColumnTransformer(\n",
    "            [\n",
    "                (\"cat\", categorical_encoder, categorical_columns),\n",
    "                (\"num\", numerical_pipe, numerical_columns),\n",
    "            ],\n",
    "            verbose_feature_names_out=False,\n",
    "        )\n",
    "\n",
    "        reg = Pipeline(\n",
    "            [\n",
    "                (\"preprocess\", preprocessing),\n",
    "                (\"regressor\", linear_model.LinearRegression()),\n",
    "            ]\n",
    "        )\n",
    "        reg.fit(X, Y)\n",
    "        c = control[columns]\n",
    "        e = experimental[columns]\n",
    "        c[numerical_columns] = c[numerical_columns] - means\n",
    "        e[numerical_columns] = e[numerical_columns] - means\n",
    "    else:\n",
    "        means = np.mean(X)\n",
    "        X = X - means\n",
    "        \n",
    "        reg = Pipeline(\n",
    "            [\n",
    "                (\"regressor\", linear_model.LinearRegression()),\n",
    "            ]\n",
    "        )\n",
    "        reg.fit(X, Y)\n",
    "    \n",
    "        c = control[columns] - means\n",
    "        e = experimental[columns] - means\n",
    "\n",
    "    \n",
    "\n",
    "    y_c = control['visit']\n",
    "    y_e = experimental['visit']\n",
    "\n",
    "\n",
    "    control_cuped = y_c - reg.predict(c) + reg.predict(c).mean()\n",
    "    experimental_cuped = y_e - reg.predict(e) + reg.predict(e).mean()\n",
    "    \n",
    "    if verbose:\n",
    "        print(f\"control var new: {np.var(control_cuped)}, var old: {np.var(y_c)}\")\n",
    "        print(f\"exper var new: {np.var(experimental_cuped)}, var old: {np.var(y_e)}\")\n",
    "\n",
    "        print(f\"Mean diff\\nold: {y_c.mean() - y_e.mean()}, new: {control_cuped.mean() - experimental_cuped.mean()}\\n\")\n",
    "    \n",
    "    \n",
    "    p_before = ttest(y_c, y_e)\n",
    "    \n",
    "    p_after = ttest(control_cuped, experimental_cuped)\n",
    "    return p_before, p_after"
   ]
  },
  {
   "cell_type": "markdown",
   "metadata": {},
   "source": [
    "## Метод CUPAC из раздела 3.2 отчета о НИР"
   ]
  },
  {
   "cell_type": "code",
   "execution_count": 20,
   "metadata": {},
   "outputs": [],
   "source": [
    "def modify_with_gb(control, experimental, control_hist, experimental_hist, columns, pipeline=False, encoder='OHE', verbose=False):\n",
    "\n",
    "    if verbose:\n",
    "        print(f\"Control size: {control.shape[0]}, Experimental size: {experimental.shape[0]}\")\n",
    "\n",
    "    X = pd.concat((control_hist, experimental_hist), axis=0).sample(frac=1)\n",
    "\n",
    "\n",
    "    Y = X['visit']\n",
    "    X = X[columns]\n",
    "    \n",
    "    categorical_columns = list(set(cat_features).intersection(set(columns)))\n",
    "    numerical_columns = list(set(noncat_features).intersection(set(columns)))\n",
    "    \n",
    "    if pipeline:\n",
    "        means = np.mean(X[numerical_columns])\n",
    "        X[numerical_columns] = X[numerical_columns] - means\n",
    "        \n",
    "        if encoder == 'OHE':\n",
    "            categorical_encoder = OneHotEncoder(\n",
    "            handle_unknown=\"ignore\"\n",
    "            )\n",
    "        else:  \n",
    "            categorical_encoder = OrdinalEncoder(\n",
    "            handle_unknown=\"use_encoded_value\", unknown_value=-1\n",
    "            )\n",
    "            \n",
    "        numerical_pipe = SimpleImputer(strategy=\"mean\")\n",
    "\n",
    "        preprocessing = ColumnTransformer(\n",
    "            [\n",
    "                (\"cat\", categorical_encoder, categorical_columns),\n",
    "                (\"num\", numerical_pipe, numerical_columns),\n",
    "            ],\n",
    "            verbose_feature_names_out=False,\n",
    "        )\n",
    "\n",
    "        reg = Pipeline(\n",
    "            [\n",
    "                (\"preprocess\", preprocessing),\n",
    "                (\"regressor\", GradientBoostingRegressor(n_estimators=200, learning_rate=0.01, min_samples_split=2, min_samples_leaf=1, max_depth=3, random_state=2)),\n",
    "            ]\n",
    "        )\n",
    "        reg.fit(X, Y)\n",
    "        \n",
    "        c = control[columns]\n",
    "        e = experimental[columns]\n",
    "        c[numerical_columns] = c[numerical_columns] - means\n",
    "        e[numerical_columns] = e[numerical_columns] - means\n",
    "    else:\n",
    "        means = np.mean(X)\n",
    "        X = X - means\n",
    "        \n",
    "        reg = Pipeline(\n",
    "            [\n",
    "                (\"regressor\", GradientBoostingRegressor(n_estimators=200, learning_rate=0.01, min_samples_split=2, min_samples_leaf=1, max_depth=3, random_state=2).fit(X, Y)),\n",
    "            ]\n",
    "        )\n",
    "        reg.fit(X, Y)\n",
    "    \n",
    "        c = control[columns] - means\n",
    "        e = experimental[columns] - means\n",
    "    \n",
    "\n",
    "\n",
    "    y_c = control['visit']\n",
    "    y_e = experimental['visit']\n",
    "\n",
    "    \n",
    "\n",
    "    control_cuped = y_c - reg.predict(c)  + reg.predict(c).mean()\n",
    "    experimental_cuped = y_e - reg.predict(e) + reg.predict(e).mean()\n",
    "\n",
    "    if verbose:\n",
    "        print(f\"control var new: {np.var(control_cuped)}, var old: {np.var(y_c)}\")\n",
    "        print(f\"exper var new: {np.var(experimental_cuped)}, var old: {np.var(y_e)}\")\n",
    "\n",
    "        print(f\"Mean diff\\nold: {y_c.mean() - y_e.mean()}, new: {control_cuped.mean() - experimental_cuped.mean()}\\n\")\n",
    "    \n",
    "    \n",
    "    p_before = ttest(y_c, y_e)\n",
    "    \n",
    "    p_after = ttest(control_cuped, experimental_cuped)\n",
    "    return p_before, p_after"
   ]
  },
  {
   "cell_type": "markdown",
   "metadata": {},
   "source": [
    "# Отбор признаков "
   ]
  },
  {
   "cell_type": "markdown",
   "metadata": {},
   "source": [
    "Для метода CUPED были выбраны наиболее значимые признаки из датасета при обучении линейной регрессии.\n",
    "\n",
    "Для метода CUPAC - с помощью Permutation Feature Importance. Данный подход основан на том, что при изменении значений конкретного признака (путем случайной перестановки или перемешивания) и оценке влияния этого изменения на метрику качества модели можно определить, насколько важен этот признак для модели."
   ]
  },
  {
   "cell_type": "code",
   "execution_count": 87,
   "metadata": {},
   "outputs": [],
   "source": [
    "cols_regr_ordinal = ['f6', 'f8', 'f9', 'f0', 'f2']\n",
    "cols_boosting = ['f2', 'f0', 'f9', 'f10', 'f4', 'f7', 'f8']"
   ]
  },
  {
   "cell_type": "markdown",
   "metadata": {},
   "source": [
    "# Эксперимент с размером исторических данных из раздела 3.4.2 отчета о НИР"
   ]
  },
  {
   "cell_type": "code",
   "execution_count": 58,
   "metadata": {},
   "outputs": [],
   "source": [
    "def draw_graphics(before=None, after_cup=None, after_gb=None, p_after_reg=None, title='', alpha=0.05):\n",
    "    if len(title) != 0:\n",
    "        print('\\n', title, '\\n')\n",
    "        \n",
    "    f, (ax1, ax2) = plt.subplots(1, 2, figsize=(18, 5))\n",
    "\n",
    "    ax1.plot(shapes, [alpha] * len(shapes), color=\"red\", linestyle='dashed', label='alpha')\n",
    "    if not (before is None):\n",
    "        ax1.plot(shapes, before, marker='o', ms=5, label='Default')\n",
    "        ax2.plot(shapes, np.log(before), marker='o', ms=5, label='Default')\n",
    "    if not (after_cup is None):\n",
    "        ax1.plot(shapes, after_cup, marker='o', ms=5, label='CUPED')\n",
    "        ax2.plot(shapes, np.log(after_cup), marker='o', ms=5, label='CUPED')\n",
    "    if not (after_gb is None):\n",
    "        ax1.plot(shapes, after_gb, marker='o', ms=5, label='CUPAC')\n",
    "        ax2.plot(shapes, np.log(after_gb), marker='o', ms=5, label='CUPAC')\n",
    "    if not (p_after_reg is None):\n",
    "        ax1.plot(shapes, p_after_reg, marker='o', ms=5, label='Ml-rate')\n",
    "        ax2.plot(shapes, np.log(p_after_reg), marker='o', ms=5, label='Ml-rate')\n",
    "    ax1.set_xlabel('Размер контрольной выборки', fontsize=15)\n",
    "    ax1.set_ylabel('p-value', fontsize=15)\n",
    "#     ax1.set_title(f'Поведение p-value в зависимости от размера выборки', fontsize=15)\n",
    "\n",
    "    ax2.plot(shapes, [np.log(alpha)] * len(shapes), color=\"red\", linestyle='dashed', label='alpha')\n",
    "    ax2.set_xlabel('Размер контрольной выборки', fontsize=15)\n",
    "    ax2.set_ylabel('log p-value', fontsize=15)\n",
    "#     ax2.set_title(f'Поведение log p-value в зависимости от размера выборки',fontsize=15)\n",
    "\n",
    "    ax1.legend(fontsize='x-large')\n",
    "    ax2.legend(fontsize='x-large')"
   ]
  },
  {
   "cell_type": "markdown",
   "metadata": {},
   "source": [
    "## Очень маленький исторический контекст (см. раздел отчета 3.4.2 для более подробного описания постановки задач)"
   ]
  },
  {
   "cell_type": "code",
   "execution_count": 218,
   "metadata": {
    "scrolled": true
   },
   "outputs": [
    {
     "name": "stdout",
     "output_type": "stream",
     "text": [
      "CUPED with small history\n",
      "\n",
      "\n"
     ]
    },
    {
     "name": "stderr",
     "output_type": "stream",
     "text": [
      "\r",
      "  0%|          | 0/10 [00:00<?, ?it/s]"
     ]
    },
    {
     "name": "stdout",
     "output_type": "stream",
     "text": [
      "control repeated: 0, treatment repeated: 0\n",
      "Control size: 420, Experimental size: 2375\n",
      "БЫЛО:\n",
      "Стало:\n",
      "\n",
      "\n",
      "Control size: 420, Experimental size: 2375\n"
     ]
    },
    {
     "name": "stderr",
     "output_type": "stream",
     "text": [
      "\r",
      " 10%|█         | 1/10 [00:00<00:03,  2.49it/s]"
     ]
    },
    {
     "name": "stdout",
     "output_type": "stream",
     "text": [
      "БЫЛО:\n",
      "Стало:\n",
      "\n",
      "\n",
      "Control size: 420, Experimental size: 2375\n",
      "Control size: 420, Experimental size: 2375\n",
      "\n",
      "\n",
      "control repeated: 0, treatment repeated: 0\n",
      "Control size: 840, Experimental size: 4750\n",
      "БЫЛО:\n",
      "Стало:\n",
      "\n",
      "\n",
      "Control size: 840, Experimental size: 4750\n"
     ]
    },
    {
     "name": "stderr",
     "output_type": "stream",
     "text": [
      "\r",
      " 20%|██        | 2/10 [00:00<00:02,  3.15it/s]"
     ]
    },
    {
     "name": "stdout",
     "output_type": "stream",
     "text": [
      "БЫЛО:\n",
      "Стало:\n",
      "\n",
      "\n",
      "Control size: 840, Experimental size: 4750\n",
      "Control size: 840, Experimental size: 4750\n",
      "\n",
      "\n",
      "control repeated: 0, treatment repeated: 1\n",
      "Control size: 1260, Experimental size: 7124\n",
      "БЫЛО:\n",
      "Стало:\n",
      "\n",
      "\n",
      "Control size: 1260, Experimental size: 7124\n"
     ]
    },
    {
     "name": "stderr",
     "output_type": "stream",
     "text": [
      "\r",
      " 30%|███       | 3/10 [00:00<00:01,  3.51it/s]"
     ]
    },
    {
     "name": "stdout",
     "output_type": "stream",
     "text": [
      "БЫЛО:\n",
      "Стало:\n",
      "\n",
      "\n",
      "Control size: 1260, Experimental size: 7124\n",
      "Control size: 1260, Experimental size: 7124\n",
      "\n",
      "\n",
      "control repeated: 0, treatment repeated: 1\n",
      "Control size: 1680, Experimental size: 9498\n",
      "БЫЛО:\n",
      "Стало:\n",
      "\n",
      "\n",
      "Control size: 1680, Experimental size: 9498\n"
     ]
    },
    {
     "name": "stderr",
     "output_type": "stream",
     "text": [
      "\r",
      " 40%|████      | 4/10 [00:01<00:01,  3.78it/s]"
     ]
    },
    {
     "name": "stdout",
     "output_type": "stream",
     "text": [
      "БЫЛО:\n",
      "Стало:\n",
      "\n",
      "\n",
      "Control size: 1680, Experimental size: 9498\n",
      "Control size: 1680, Experimental size: 9498\n",
      "\n",
      "\n",
      "control repeated: 0, treatment repeated: 5\n",
      "Control size: 2100, Experimental size: 11868\n",
      "БЫЛО:\n",
      "Стало:\n",
      "\n",
      "\n",
      "Control size: 2100, Experimental size: 11868\n"
     ]
    },
    {
     "name": "stderr",
     "output_type": "stream",
     "text": [
      "\r",
      " 50%|█████     | 5/10 [00:01<00:01,  3.64it/s]"
     ]
    },
    {
     "name": "stdout",
     "output_type": "stream",
     "text": [
      "БЫЛО:\n",
      "Стало:\n",
      "\n",
      "\n",
      "Control size: 2100, Experimental size: 11868\n",
      "Control size: 2100, Experimental size: 11868\n",
      "\n",
      "\n",
      "control repeated: 0, treatment repeated: 4\n",
      "Control size: 2520, Experimental size: 14239\n",
      "БЫЛО:\n",
      "Стало:\n",
      "\n",
      "\n",
      "Control size: 2520, Experimental size: 14239\n"
     ]
    },
    {
     "name": "stderr",
     "output_type": "stream",
     "text": [
      "\r",
      " 60%|██████    | 6/10 [00:01<00:01,  3.75it/s]"
     ]
    },
    {
     "name": "stdout",
     "output_type": "stream",
     "text": [
      "БЫЛО:\n",
      "Стало:\n",
      "\n",
      "\n",
      "Control size: 2520, Experimental size: 14239\n",
      "Control size: 2520, Experimental size: 14239\n",
      "\n",
      "\n",
      "control repeated: 0, treatment repeated: 2\n",
      "Control size: 2940, Experimental size: 16612\n",
      "БЫЛО:\n",
      "Стало:\n",
      "\n",
      "\n",
      "Control size: 2940, Experimental size: 16612\n"
     ]
    },
    {
     "name": "stderr",
     "output_type": "stream",
     "text": [
      "\r",
      " 70%|███████   | 7/10 [00:01<00:00,  3.59it/s]"
     ]
    },
    {
     "name": "stdout",
     "output_type": "stream",
     "text": [
      "БЫЛО:\n",
      "Стало:\n",
      "\n",
      "\n",
      "Control size: 2940, Experimental size: 16612\n",
      "Control size: 2940, Experimental size: 16612\n",
      "\n",
      "\n",
      "control repeated: 1, treatment repeated: 3\n",
      "Control size: 3359, Experimental size: 18984\n",
      "БЫЛО:\n",
      "Стало:\n",
      "\n",
      "\n",
      "Control size: 3359, Experimental size: 18984\n"
     ]
    },
    {
     "name": "stderr",
     "output_type": "stream",
     "text": [
      "\r",
      " 80%|████████  | 8/10 [00:02<00:00,  3.55it/s]"
     ]
    },
    {
     "name": "stdout",
     "output_type": "stream",
     "text": [
      "БЫЛО:\n",
      "Стало:\n",
      "\n",
      "\n",
      "Control size: 3359, Experimental size: 18984\n",
      "Control size: 3359, Experimental size: 18984\n",
      "\n",
      "\n",
      "control repeated: 0, treatment repeated: 7\n",
      "Control size: 3779, Experimental size: 21352\n",
      "БЫЛО:\n",
      "Стало:\n",
      "\n",
      "\n",
      "Control size: 3779, Experimental size: 21352\n"
     ]
    },
    {
     "name": "stderr",
     "output_type": "stream",
     "text": [
      "\r",
      " 90%|█████████ | 9/10 [00:02<00:00,  3.56it/s]"
     ]
    },
    {
     "name": "stdout",
     "output_type": "stream",
     "text": [
      "БЫЛО:\n",
      "Стало:\n",
      "\n",
      "\n",
      "Control size: 3779, Experimental size: 21352\n",
      "Control size: 3779, Experimental size: 21352\n",
      "\n",
      "\n",
      "control repeated: 1, treatment repeated: 2\n",
      "Control size: 4198, Experimental size: 23725\n",
      "БЫЛО:\n",
      "Стало:\n",
      "\n",
      "\n",
      "Control size: 4198, Experimental size: 23725\n"
     ]
    },
    {
     "name": "stderr",
     "output_type": "stream",
     "text": [
      "100%|██████████| 10/10 [00:02<00:00,  3.54it/s]"
     ]
    },
    {
     "name": "stdout",
     "output_type": "stream",
     "text": [
      "БЫЛО:\n",
      "Стало:\n",
      "\n",
      "\n",
      "Control size: 4198, Experimental size: 23725\n",
      "Control size: 4198, Experimental size: 23725\n",
      "\n",
      "\n"
     ]
    },
    {
     "name": "stderr",
     "output_type": "stream",
     "text": [
      "\n"
     ]
    }
   ],
   "source": [
    "indexes_control = np.array([])\n",
    "indexes_treatment = np.array([])\n",
    "cols1 = cols_regr_ordinal\n",
    "cols2 = cols_boosting\n",
    "cols3 = ['f4', 'f11', 'f2']\n",
    "\n",
    "shapes = []\n",
    "\n",
    "before = []\n",
    "after_cup = []\n",
    "after_gb = []\n",
    "after_reg = []\n",
    "after_dr = []\n",
    "\n",
    "all_test_control = pd.DataFrame()\n",
    "all_test_treatment = pd.DataFrame()\n",
    "\n",
    "i = 0\n",
    "for i in tqdm(range(0, len(control_indexes_small))):\n",
    "    test_control = control_indexes_small[i]\n",
    "    test_treatment = treatment_indexes_small[i]\n",
    "    \n",
    "    print(f'control repeated: {np.isin(test_control.index, indexes_control).sum()}, treatment repeated: {np.isin(test_treatment.index, indexes_treatment).sum()}')\n",
    "    \n",
    "    test_control = test_control[~np.isin(test_control.index, indexes_control)]\n",
    "    test_treatment = test_treatment[~np.isin(test_treatment.index, indexes_treatment)]\n",
    "\n",
    "    all_test_control = pd.concat((all_test_control, test_control), axis=0)\n",
    "    all_test_treatment = pd.concat((all_test_treatment, test_treatment), axis=0)\n",
    "    shapes.append(all_test_control.shape[0])\n",
    "    \n",
    "    indexes_control = np.append(indexes_control,  test_control.index)\n",
    "    indexes_treatment = np.append(indexes_treatment,  test_treatment.index)\n",
    "    \n",
    "    hist_c = control_sample_hist.sample(100)\n",
    "    hist_e = treatment_sample_hist.sample(100)\n",
    "    p_bef, p_aft_cup = modify_with_cuped(all_test_control, all_test_treatment, hist_c, hist_e, cols1, True, encoder=\"Ord\", verbose=False)\n",
    "    \n",
    "    p_bef, p_aft_gb = modify_with_gb(all_test_control, all_test_treatment, hist_c, hist_e, cols2, False, verbose=False)\n",
    "    p_aft_reg = modify_with_regression_test(all_test_control, all_test_treatment, hist_c, hist_e, cols3)\n",
    "    p_aft_dr = doubly_robust(all_test_control, all_test_treatment, hist_c, hist_e, cols2)\n",
    "    \n",
    "    \n",
    "    before.append(p_bef)\n",
    "    after_cup.append(p_aft_cup)\n",
    "    after_gb.append(p_aft_gb)\n",
    "    after_reg.append(p_aft_reg)\n",
    "    after_dr.append(p_aft_dr)"
   ]
  },
  {
   "cell_type": "code",
   "execution_count": 219,
   "metadata": {},
   "outputs": [
    {
     "name": "stdout",
     "output_type": "stream",
     "text": [
      "\n",
      " Маленькие фолды: 420\n",
      "Маленькая история: 200 \n",
      "\n"
     ]
    },
    {
     "data": {
      "image/png": "[encoded data removed]",
      "text/plain": [
       "<Figure size 1296x360 with 2 Axes>"
      ]
     },
     "metadata": {
      "needs_background": "light"
     },
     "output_type": "display_data"
    }
   ],
   "source": [
    "draw_graphics(before, after_cup, after_gb, after_reg, title=f'Маленькие фолды: {control_indexes_small[0].shape[0]}\\nМаленькая история: {hist_c.shape[0] + hist_e.shape[0]}')\n",
    "plt.show()"
   ]
  },
  {
   "cell_type": "markdown",
   "metadata": {},
   "source": [
    "## Маленький исторический контекст (см. раздел отчета 3.4.2 для более подробного описания постановки задач)"
   ]
  },
  {
   "cell_type": "code",
   "execution_count": 246,
   "metadata": {
    "scrolled": true
   },
   "outputs": [
    {
     "name": "stdout",
     "output_type": "stream",
     "text": [
      "CUPED with small history\n",
      "\n",
      "\n"
     ]
    },
    {
     "name": "stderr",
     "output_type": "stream",
     "text": [
      "\r",
      "  0%|          | 0/10 [00:00<?, ?it/s]"
     ]
    },
    {
     "name": "stdout",
     "output_type": "stream",
     "text": [
      "control repeated: 0, treatment repeated: 0\n",
      "Control size: 420, Experimental size: 2375\n",
      "БЫЛО:\n",
      "Стало:\n",
      "\n",
      "\n",
      "Control size: 420, Experimental size: 2375\n"
     ]
    },
    {
     "name": "stderr",
     "output_type": "stream",
     "text": [
      "\r",
      " 10%|█         | 1/10 [00:00<00:06,  1.40it/s]"
     ]
    },
    {
     "name": "stdout",
     "output_type": "stream",
     "text": [
      "БЫЛО:\n",
      "Стало:\n",
      "\n",
      "\n",
      "Control size: 420, Experimental size: 2375\n",
      "Control size: 420, Experimental size: 2375\n",
      "\n",
      "\n",
      "control repeated: 0, treatment repeated: 0\n",
      "Control size: 840, Experimental size: 4750\n",
      "БЫЛО:\n",
      "Стало:\n",
      "\n",
      "\n",
      "Control size: 840, Experimental size: 4750\n"
     ]
    },
    {
     "name": "stderr",
     "output_type": "stream",
     "text": [
      "\r",
      " 20%|██        | 2/10 [00:01<00:05,  1.40it/s]"
     ]
    },
    {
     "name": "stdout",
     "output_type": "stream",
     "text": [
      "БЫЛО:\n",
      "Стало:\n",
      "\n",
      "\n",
      "Control size: 840, Experimental size: 4750\n",
      "Control size: 840, Experimental size: 4750\n",
      "\n",
      "\n",
      "control repeated: 0, treatment repeated: 1\n",
      "Control size: 1260, Experimental size: 7124\n",
      "БЫЛО:\n",
      "Стало:\n",
      "\n",
      "\n",
      "Control size: 1260, Experimental size: 7124\n"
     ]
    },
    {
     "name": "stderr",
     "output_type": "stream",
     "text": [
      "\r",
      " 30%|███       | 3/10 [00:02<00:05,  1.36it/s]"
     ]
    },
    {
     "name": "stdout",
     "output_type": "stream",
     "text": [
      "БЫЛО:\n",
      "Стало:\n",
      "\n",
      "\n",
      "Control size: 1260, Experimental size: 7124\n",
      "Control size: 1260, Experimental size: 7124\n",
      "\n",
      "\n",
      "control repeated: 0, treatment repeated: 1\n",
      "Control size: 1680, Experimental size: 9498\n",
      "БЫЛО:\n",
      "Стало:\n",
      "\n",
      "\n",
      "Control size: 1680, Experimental size: 9498\n"
     ]
    },
    {
     "name": "stderr",
     "output_type": "stream",
     "text": [
      "\r",
      " 40%|████      | 4/10 [00:02<00:04,  1.38it/s]"
     ]
    },
    {
     "name": "stdout",
     "output_type": "stream",
     "text": [
      "БЫЛО:\n",
      "Стало:\n",
      "\n",
      "\n",
      "Control size: 1680, Experimental size: 9498\n",
      "Control size: 1680, Experimental size: 9498\n",
      "\n",
      "\n",
      "control repeated: 0, treatment repeated: 5\n",
      "Control size: 2100, Experimental size: 11868\n",
      "БЫЛО:\n",
      "Стало:\n",
      "\n",
      "\n",
      "Control size: 2100, Experimental size: 11868\n"
     ]
    },
    {
     "name": "stderr",
     "output_type": "stream",
     "text": [
      "\r",
      " 50%|█████     | 5/10 [00:03<00:03,  1.38it/s]"
     ]
    },
    {
     "name": "stdout",
     "output_type": "stream",
     "text": [
      "БЫЛО:\n",
      "Стало:\n",
      "\n",
      "\n",
      "Control size: 2100, Experimental size: 11868\n",
      "Control size: 2100, Experimental size: 11868\n",
      "\n",
      "\n",
      "control repeated: 0, treatment repeated: 4\n",
      "Control size: 2520, Experimental size: 14239\n",
      "БЫЛО:\n",
      "Стало:\n",
      "\n",
      "\n",
      "Control size: 2520, Experimental size: 14239\n"
     ]
    },
    {
     "name": "stderr",
     "output_type": "stream",
     "text": [
      "\r",
      " 60%|██████    | 6/10 [00:04<00:02,  1.37it/s]"
     ]
    },
    {
     "name": "stdout",
     "output_type": "stream",
     "text": [
      "БЫЛО:\n",
      "Стало:\n",
      "\n",
      "\n",
      "Control size: 2520, Experimental size: 14239\n",
      "Control size: 2520, Experimental size: 14239\n",
      "\n",
      "\n",
      "control repeated: 0, treatment repeated: 2\n",
      "Control size: 2940, Experimental size: 16612\n",
      "БЫЛО:\n",
      "Стало:\n",
      "\n",
      "\n",
      "Control size: 2940, Experimental size: 16612\n"
     ]
    },
    {
     "name": "stderr",
     "output_type": "stream",
     "text": [
      "\r",
      " 70%|███████   | 7/10 [00:05<00:02,  1.36it/s]"
     ]
    },
    {
     "name": "stdout",
     "output_type": "stream",
     "text": [
      "БЫЛО:\n",
      "Стало:\n",
      "\n",
      "\n",
      "Control size: 2940, Experimental size: 16612\n",
      "Control size: 2940, Experimental size: 16612\n",
      "\n",
      "\n",
      "control repeated: 1, treatment repeated: 3\n",
      "Control size: 3359, Experimental size: 18984\n",
      "БЫЛО:\n",
      "Стало:\n",
      "\n",
      "\n",
      "Control size: 3359, Experimental size: 18984\n"
     ]
    },
    {
     "name": "stderr",
     "output_type": "stream",
     "text": [
      "\r",
      " 80%|████████  | 8/10 [00:05<00:01,  1.33it/s]"
     ]
    },
    {
     "name": "stdout",
     "output_type": "stream",
     "text": [
      "БЫЛО:\n",
      "Стало:\n",
      "\n",
      "\n",
      "Control size: 3359, Experimental size: 18984\n",
      "Control size: 3359, Experimental size: 18984\n",
      "\n",
      "\n",
      "control repeated: 0, treatment repeated: 7\n",
      "Control size: 3779, Experimental size: 21352\n",
      "БЫЛО:\n",
      "Стало:\n",
      "\n",
      "\n",
      "Control size: 3779, Experimental size: 21352\n"
     ]
    },
    {
     "name": "stderr",
     "output_type": "stream",
     "text": [
      "\r",
      " 90%|█████████ | 9/10 [00:06<00:00,  1.31it/s]"
     ]
    },
    {
     "name": "stdout",
     "output_type": "stream",
     "text": [
      "БЫЛО:\n",
      "Стало:\n",
      "\n",
      "\n",
      "Control size: 3779, Experimental size: 21352\n",
      "Control size: 3779, Experimental size: 21352\n",
      "\n",
      "\n",
      "control repeated: 1, treatment repeated: 2\n",
      "Control size: 4198, Experimental size: 23725\n",
      "БЫЛО:\n",
      "Стало:\n",
      "\n",
      "\n",
      "Control size: 4198, Experimental size: 23725\n"
     ]
    },
    {
     "name": "stderr",
     "output_type": "stream",
     "text": [
      "100%|██████████| 10/10 [00:07<00:00,  1.34it/s]"
     ]
    },
    {
     "name": "stdout",
     "output_type": "stream",
     "text": [
      "БЫЛО:\n",
      "Стало:\n",
      "\n",
      "\n",
      "Control size: 4198, Experimental size: 23725\n",
      "Control size: 4198, Experimental size: 23725\n",
      "\n",
      "\n"
     ]
    },
    {
     "name": "stderr",
     "output_type": "stream",
     "text": [
      "\n"
     ]
    }
   ],
   "source": [
    "indexes_control = np.array([])\n",
    "indexes_treatment = np.array([])\n",
    "cols1 = cols_regr_ordinal\n",
    "cols2 = cols_boosting\n",
    "cols3 = ['f4', 'f11', 'f2']\n",
    "\n",
    "shapes = []\n",
    "\n",
    "before = []\n",
    "after_cup = []\n",
    "after_gb = []\n",
    "after_reg = []\n",
    "after_dr = []\n",
    "\n",
    "all_test_control = pd.DataFrame()\n",
    "all_test_treatment = pd.DataFrame()\n",
    "\n",
    "i = 0\n",
    "for i in tqdm(range(0, len(control_indexes_small))):\n",
    "    test_control = control_indexes_small[i]\n",
    "    test_treatment = treatment_indexes_small[i]\n",
    "    \n",
    "    print(f'control repeated: {np.isin(test_control.index, indexes_control).sum()}, treatment repeated: {np.isin(test_treatment.index, indexes_treatment).sum()}')\n",
    "    \n",
    "    test_control = test_control[~np.isin(test_control.index, indexes_control)]\n",
    "    test_treatment = test_treatment[~np.isin(test_treatment.index, indexes_treatment)]\n",
    "\n",
    "    all_test_control = pd.concat((all_test_control, test_control), axis=0)\n",
    "    all_test_treatment = pd.concat((all_test_treatment, test_treatment), axis=0)\n",
    "    shapes.append(all_test_control.shape[0])\n",
    "    \n",
    "    indexes_control = np.append(indexes_control,  test_control.index)\n",
    "    indexes_treatment = np.append(indexes_treatment,  test_treatment.index)\n",
    "    \n",
    "    hist_c = control_sample_hist.sample(500)\n",
    "    hist_e = treatment_sample_hist.sample(int(scale * 500))\n",
    "    p_bef, p_aft_cup = modify_with_cuped(all_test_control, all_test_treatment, hist_c, hist_e, cols1, True, encoder=\"Ord\", verbose=False)\n",
    "    \n",
    "    p_bef, p_aft_gb = modify_with_gb(all_test_control, all_test_treatment, hist_c, hist_e, cols2, False, verbose=False)\n",
    "    p_aft_reg = modify_with_regression_test(all_test_control, all_test_treatment, hist_c, hist_e, cols3)\n",
    "    p_aft_dr = doubly_robust(all_test_control, all_test_treatment, hist_c, hist_e, cols2)\n",
    "    \n",
    "    \n",
    "    before.append(p_bef)\n",
    "    after_cup.append(p_aft_cup)\n",
    "    after_gb.append(p_aft_gb)\n",
    "    after_reg.append(p_aft_reg)\n",
    "    after_dr.append(p_aft_dr)"
   ]
  },
  {
   "cell_type": "code",
   "execution_count": 247,
   "metadata": {},
   "outputs": [
    {
     "name": "stdout",
     "output_type": "stream",
     "text": [
      "\n",
      " Маленькие фолды: 420\n",
      "Маленькая история: 3333 \n",
      "\n"
     ]
    },
    {
     "data": {
      "image/png": "[encoded data removed]",
      "text/plain": [
       "<Figure size 1296x360 with 2 Axes>"
      ]
     },
     "metadata": {
      "needs_background": "light"
     },
     "output_type": "display_data"
    }
   ],
   "source": [
    "draw_graphics(before, after_cup, after_gb, after_reg, title=f'Маленькие фолды: {control_indexes_small[0].shape[0]}\\nМаленькая история: {hist_c.shape[0] + hist_e.shape[0]}')\n",
    "plt.show()"
   ]
  },
  {
   "cell_type": "markdown",
   "metadata": {},
   "source": [
    "## Большой исторический контекст (см. раздел отчета 3.4.2 для более подробного описания постановки задач)"
   ]
  },
  {
   "cell_type": "code",
   "execution_count": 248,
   "metadata": {
    "scrolled": true
   },
   "outputs": [
    {
     "name": "stdout",
     "output_type": "stream",
     "text": [
      "CUPED with small history\n",
      "\n",
      "\n"
     ]
    },
    {
     "name": "stderr",
     "output_type": "stream",
     "text": [
      "\r",
      "  0%|          | 0/10 [00:00<?, ?it/s]"
     ]
    },
    {
     "name": "stdout",
     "output_type": "stream",
     "text": [
      "control repeated: 0, treatment repeated: 0\n",
      "Control size: 420, Experimental size: 2375\n",
      "БЫЛО:\n",
      "Стало:\n",
      "\n",
      "\n",
      "Control size: 420, Experimental size: 2375\n"
     ]
    },
    {
     "name": "stderr",
     "output_type": "stream",
     "text": [
      "\r",
      " 10%|█         | 1/10 [00:01<00:12,  1.39s/it]"
     ]
    },
    {
     "name": "stdout",
     "output_type": "stream",
     "text": [
      "БЫЛО:\n",
      "Стало:\n",
      "\n",
      "\n",
      "Control size: 420, Experimental size: 2375\n",
      "Control size: 420, Experimental size: 2375\n",
      "\n",
      "\n",
      "control repeated: 0, treatment repeated: 0\n",
      "Control size: 840, Experimental size: 4750\n",
      "БЫЛО:\n",
      "Стало:\n",
      "\n",
      "\n",
      "Control size: 840, Experimental size: 4750\n"
     ]
    },
    {
     "name": "stderr",
     "output_type": "stream",
     "text": [
      "\r",
      " 20%|██        | 2/10 [00:02<00:11,  1.41s/it]"
     ]
    },
    {
     "name": "stdout",
     "output_type": "stream",
     "text": [
      "БЫЛО:\n",
      "Стало:\n",
      "\n",
      "\n",
      "Control size: 840, Experimental size: 4750\n",
      "Control size: 840, Experimental size: 4750\n",
      "\n",
      "\n",
      "control repeated: 0, treatment repeated: 1\n",
      "Control size: 1260, Experimental size: 7124\n",
      "БЫЛО:\n",
      "Стало:\n",
      "\n",
      "\n",
      "Control size: 1260, Experimental size: 7124\n"
     ]
    },
    {
     "name": "stderr",
     "output_type": "stream",
     "text": [
      "\r",
      " 30%|███       | 3/10 [00:04<00:09,  1.39s/it]"
     ]
    },
    {
     "name": "stdout",
     "output_type": "stream",
     "text": [
      "БЫЛО:\n",
      "Стало:\n",
      "\n",
      "\n",
      "Control size: 1260, Experimental size: 7124\n",
      "Control size: 1260, Experimental size: 7124\n",
      "\n",
      "\n",
      "control repeated: 0, treatment repeated: 1\n",
      "Control size: 1680, Experimental size: 9498\n",
      "БЫЛО:\n",
      "Стало:\n",
      "\n",
      "\n",
      "Control size: 1680, Experimental size: 9498\n"
     ]
    },
    {
     "name": "stderr",
     "output_type": "stream",
     "text": [
      "\r",
      " 40%|████      | 4/10 [00:05<00:08,  1.41s/it]"
     ]
    },
    {
     "name": "stdout",
     "output_type": "stream",
     "text": [
      "БЫЛО:\n",
      "Стало:\n",
      "\n",
      "\n",
      "Control size: 1680, Experimental size: 9498\n",
      "Control size: 1680, Experimental size: 9498\n",
      "\n",
      "\n",
      "control repeated: 0, treatment repeated: 5\n",
      "Control size: 2100, Experimental size: 11868\n",
      "БЫЛО:\n",
      "Стало:\n",
      "\n",
      "\n",
      "Control size: 2100, Experimental size: 11868\n"
     ]
    },
    {
     "name": "stderr",
     "output_type": "stream",
     "text": [
      "\r",
      " 50%|█████     | 5/10 [00:06<00:06,  1.38s/it]"
     ]
    },
    {
     "name": "stdout",
     "output_type": "stream",
     "text": [
      "БЫЛО:\n",
      "Стало:\n",
      "\n",
      "\n",
      "Control size: 2100, Experimental size: 11868\n",
      "Control size: 2100, Experimental size: 11868\n",
      "\n",
      "\n",
      "control repeated: 0, treatment repeated: 4\n",
      "Control size: 2520, Experimental size: 14239\n",
      "БЫЛО:\n",
      "Стало:\n",
      "\n",
      "\n",
      "Control size: 2520, Experimental size: 14239\n"
     ]
    },
    {
     "name": "stderr",
     "output_type": "stream",
     "text": [
      "\r",
      " 60%|██████    | 6/10 [00:08<00:05,  1.37s/it]"
     ]
    },
    {
     "name": "stdout",
     "output_type": "stream",
     "text": [
      "БЫЛО:\n",
      "Стало:\n",
      "\n",
      "\n",
      "Control size: 2520, Experimental size: 14239\n",
      "Control size: 2520, Experimental size: 14239\n",
      "\n",
      "\n",
      "control repeated: 0, treatment repeated: 2\n",
      "Control size: 2940, Experimental size: 16612\n",
      "БЫЛО:\n",
      "Стало:\n",
      "\n",
      "\n",
      "Control size: 2940, Experimental size: 16612\n"
     ]
    },
    {
     "name": "stderr",
     "output_type": "stream",
     "text": [
      "\r",
      " 70%|███████   | 7/10 [00:09<00:04,  1.36s/it]"
     ]
    },
    {
     "name": "stdout",
     "output_type": "stream",
     "text": [
      "БЫЛО:\n",
      "Стало:\n",
      "\n",
      "\n",
      "Control size: 2940, Experimental size: 16612\n",
      "Control size: 2940, Experimental size: 16612\n",
      "\n",
      "\n",
      "control repeated: 1, treatment repeated: 3\n",
      "Control size: 3359, Experimental size: 18984\n",
      "БЫЛО:\n",
      "Стало:\n",
      "\n",
      "\n",
      "Control size: 3359, Experimental size: 18984\n"
     ]
    },
    {
     "name": "stderr",
     "output_type": "stream",
     "text": [
      "\r",
      " 80%|████████  | 8/10 [00:11<00:02,  1.37s/it]"
     ]
    },
    {
     "name": "stdout",
     "output_type": "stream",
     "text": [
      "БЫЛО:\n",
      "Стало:\n",
      "\n",
      "\n",
      "Control size: 3359, Experimental size: 18984\n",
      "Control size: 3359, Experimental size: 18984\n",
      "\n",
      "\n",
      "control repeated: 0, treatment repeated: 7\n",
      "Control size: 3779, Experimental size: 21352\n",
      "БЫЛО:\n",
      "Стало:\n",
      "\n",
      "\n",
      "Control size: 3779, Experimental size: 21352\n"
     ]
    },
    {
     "name": "stderr",
     "output_type": "stream",
     "text": [
      "\r",
      " 90%|█████████ | 9/10 [00:12<00:01,  1.38s/it]"
     ]
    },
    {
     "name": "stdout",
     "output_type": "stream",
     "text": [
      "БЫЛО:\n",
      "Стало:\n",
      "\n",
      "\n",
      "Control size: 3779, Experimental size: 21352\n",
      "Control size: 3779, Experimental size: 21352\n",
      "\n",
      "\n",
      "control repeated: 1, treatment repeated: 2\n",
      "Control size: 4198, Experimental size: 23725\n",
      "БЫЛО:\n",
      "Стало:\n",
      "\n",
      "\n",
      "Control size: 4198, Experimental size: 23725\n"
     ]
    },
    {
     "name": "stderr",
     "output_type": "stream",
     "text": [
      "100%|██████████| 10/10 [00:13<00:00,  1.38s/it]"
     ]
    },
    {
     "name": "stdout",
     "output_type": "stream",
     "text": [
      "БЫЛО:\n",
      "Стало:\n",
      "\n",
      "\n",
      "Control size: 4198, Experimental size: 23725\n",
      "Control size: 4198, Experimental size: 23725\n",
      "\n",
      "\n"
     ]
    },
    {
     "name": "stderr",
     "output_type": "stream",
     "text": [
      "\n"
     ]
    }
   ],
   "source": [
    "indexes_control = np.array([])\n",
    "indexes_treatment = np.array([])\n",
    "cols1 = cols_regr_ordinal\n",
    "cols2 = cols_boosting\n",
    "cols3 = ['f4', 'f11', 'f2']\n",
    "\n",
    "shapes = []\n",
    "\n",
    "before = []\n",
    "after_cup = []\n",
    "after_gb = []\n",
    "after_reg = []\n",
    "\n",
    "all_test_control = pd.DataFrame()\n",
    "all_test_treatment = pd.DataFrame()\n",
    "\n",
    "i = 0\n",
    "for i in tqdm(range(0, len(control_indexes_small))):\n",
    "    test_control = control_indexes_small[i]\n",
    "    test_treatment = treatment_indexes_small[i]\n",
    "    \n",
    "    print(f'control repeated: {np.isin(test_control.index, indexes_control).sum()}, treatment repeated: {np.isin(test_treatment.index, indexes_treatment).sum()}')\n",
    "    \n",
    "    test_control = test_control[~np.isin(test_control.index, indexes_control)]\n",
    "    test_treatment = test_treatment[~np.isin(test_treatment.index, indexes_treatment)]\n",
    "\n",
    "    all_test_control = pd.concat((all_test_control, test_control), axis=0)\n",
    "    all_test_treatment = pd.concat((all_test_treatment, test_treatment), axis=0)\n",
    "    shapes.append(all_test_control.shape[0])\n",
    "    \n",
    "    indexes_control = np.append(indexes_control,  test_control.index)\n",
    "    indexes_treatment = np.append(indexes_treatment,  test_treatment.index)\n",
    "    \n",
    "    hist_c = control_sample_hist\n",
    "    hist_e = treatment_sample_hist\n",
    "    p_bef, p_aft_cup = modify_with_cuped(all_test_control, all_test_treatment, hist_c, hist_e, cols1, True, encoder=\"Ord\", verbose=False)\n",
    "\n",
    "    \n",
    "    p_bef, p_aft_gb = modify_with_gb(all_test_control, all_test_treatment, hist_c, hist_e, cols2, False, verbose=False)\n",
    "    p_aft_reg = modify_with_regression_test(all_test_control, all_test_treatment, hist_c, hist_e, cols3)\n",
    "    \n",
    "    \n",
    "    before.append(p_bef)\n",
    "    after_cup.append(p_aft_cup)\n",
    "    after_gb.append(p_aft_gb)\n",
    "    after_reg.append(p_aft_reg)"
   ]
  },
  {
   "cell_type": "code",
   "execution_count": 249,
   "metadata": {},
   "outputs": [
    {
     "name": "stdout",
     "output_type": "stream",
     "text": [
      "\n",
      " Маленькие фолды: 420\n",
      "Маленькая история: 6986 \n",
      "\n"
     ]
    },
    {
     "data": {
      "image/png": "[encoded data removed]",
      "text/plain": [
       "<Figure size 1296x360 with 2 Axes>"
      ]
     },
     "metadata": {
      "needs_background": "light"
     },
     "output_type": "display_data"
    }
   ],
   "source": [
    "draw_graphics(before, after_cup, after_gb, after_reg, title=f'Маленькие фолды: {control_indexes_small[0].shape[0]}\\nМаленькая история: {hist_c.shape[0] + hist_e.shape[0]}')\n",
    "plt.show()"
   ]
  },
  {
   "cell_type": "markdown",
   "metadata": {},
   "source": [
    "# Эксперимент по сравнению методов, описанный в разделе 3.4.1 отчета о НИР"
   ]
  },
  {
   "cell_type": "code",
   "execution_count": 75,
   "metadata": {},
   "outputs": [],
   "source": [
    "sizes = [400, 800, 1000, 1200, 1500, 2000]"
   ]
  },
  {
   "cell_type": "code",
   "execution_count": 76,
   "metadata": {},
   "outputs": [],
   "source": [
    "columns = ['f0', 'f2', 'f8', 'f9']"
   ]
  },
  {
   "cell_type": "markdown",
   "metadata": {},
   "source": [
    "Для данного эксперимента было сгенерированно по 10 стратифицированных подвыборок с размерами контрольной группы `400, 800, 1000, 1200, 1500, 2000`. На каждой паре подвыборки из тестовой и контрольной групп замерялось p-value до и после применения различных методов снижения дисперсии. По 10 запускам был оценен разброс значений. "
   ]
  },
  {
   "cell_type": "code",
   "execution_count": 104,
   "metadata": {},
   "outputs": [
    {
     "name": "stderr",
     "output_type": "stream",
     "text": [
      "  0%|          | 0/6 [00:00<?, ?it/s]\n",
      "  0%|          | 0/10 [00:00<?, ?it/s]\u001b[A\n",
      " 10%|█         | 1/10 [00:01<00:13,  1.45s/it]\u001b[A\n",
      " 20%|██        | 2/10 [00:01<00:05,  1.37it/s]\u001b[A\n",
      " 30%|███       | 3/10 [00:01<00:03,  2.05it/s]\u001b[A\n",
      " 40%|████      | 4/10 [00:02<00:02,  2.77it/s]\u001b[A\n",
      " 50%|█████     | 5/10 [00:02<00:01,  3.50it/s]\u001b[A\n",
      " 60%|██████    | 6/10 [00:02<00:00,  4.28it/s]\u001b[A\n",
      " 70%|███████   | 7/10 [00:02<00:00,  4.98it/s]\u001b[A\n",
      " 80%|████████  | 8/10 [00:02<00:00,  5.75it/s]\u001b[A\n",
      " 90%|█████████ | 9/10 [00:02<00:00,  6.39it/s]\u001b[A\n",
      "100%|██████████| 10/10 [00:02<00:00,  3.56it/s]\u001b[A\n",
      " 17%|█▋        | 1/6 [35:52<2:59:22, 2152.47s/it]"
     ]
    },
    {
     "name": "stdout",
     "output_type": "stream",
     "text": [
      "(400,)\n"
     ]
    },
    {
     "name": "stderr",
     "output_type": "stream",
     "text": [
      "\n",
      "  0%|          | 0/10 [00:00<?, ?it/s]\u001b[A\n",
      " 10%|█         | 1/10 [00:02<00:18,  2.04s/it]\u001b[A\n",
      " 20%|██        | 2/10 [00:02<00:08,  1.08s/it]\u001b[A\n",
      " 30%|███       | 3/10 [00:02<00:05,  1.35it/s]\u001b[A\n",
      " 40%|████      | 4/10 [00:03<00:03,  1.80it/s]\u001b[A\n",
      " 50%|█████     | 5/10 [00:03<00:02,  2.31it/s]\u001b[A\n",
      " 60%|██████    | 6/10 [00:03<00:01,  2.91it/s]\u001b[A\n",
      " 70%|███████   | 7/10 [00:03<00:00,  3.61it/s]\u001b[A\n",
      " 80%|████████  | 8/10 [00:03<00:00,  4.39it/s]\u001b[A\n",
      "100%|██████████| 10/10 [00:03<00:00,  2.58it/s]\u001b[A\n",
      " 33%|███▎      | 2/6 [1:12:38<2:25:36, 2184.08s/it]"
     ]
    },
    {
     "name": "stdout",
     "output_type": "stream",
     "text": [
      "(800,)\n"
     ]
    },
    {
     "name": "stderr",
     "output_type": "stream",
     "text": [
      "\n",
      "  0%|          | 0/10 [00:00<?, ?it/s]\u001b[A\n",
      " 10%|█         | 1/10 [00:02<00:22,  2.52s/it]\u001b[A\n",
      " 20%|██        | 2/10 [00:03<00:10,  1.33s/it]\u001b[A\n",
      " 30%|███       | 3/10 [00:03<00:06,  1.11it/s]\u001b[A\n",
      " 40%|████      | 4/10 [00:03<00:03,  1.54it/s]\u001b[A\n",
      " 50%|█████     | 5/10 [00:03<00:02,  2.05it/s]\u001b[A\n",
      " 60%|██████    | 6/10 [00:04<00:01,  2.64it/s]\u001b[A\n",
      " 70%|███████   | 7/10 [00:04<00:00,  3.32it/s]\u001b[A\n",
      " 80%|████████  | 8/10 [00:04<00:00,  4.19it/s]\u001b[A\n",
      "100%|██████████| 10/10 [00:04<00:00,  2.26it/s]\u001b[A\n",
      " 50%|█████     | 3/6 [1:47:22<1:46:54, 2138.15s/it]"
     ]
    },
    {
     "name": "stdout",
     "output_type": "stream",
     "text": [
      "(1000,)\n"
     ]
    },
    {
     "name": "stderr",
     "output_type": "stream",
     "text": [
      "\n",
      "  0%|          | 0/10 [00:00<?, ?it/s]\u001b[A\n",
      " 10%|█         | 1/10 [00:04<00:36,  4.03s/it]\u001b[A\n",
      " 20%|██        | 2/10 [00:04<00:16,  2.06s/it]\u001b[A\n",
      " 30%|███       | 3/10 [00:05<00:09,  1.32s/it]\u001b[A\n",
      " 40%|████      | 4/10 [00:05<00:05,  1.09it/s]\u001b[A\n",
      " 50%|█████     | 5/10 [00:05<00:03,  1.49it/s]\u001b[A\n",
      " 60%|██████    | 6/10 [00:05<00:01,  2.00it/s]\u001b[A\n",
      " 70%|███████   | 7/10 [00:05<00:01,  2.65it/s]\u001b[A\n",
      " 80%|████████  | 8/10 [00:06<00:00,  3.44it/s]\u001b[A\n",
      "100%|██████████| 10/10 [00:06<00:00,  1.61it/s]\u001b[A\n",
      " 67%|██████▋   | 4/6 [2:22:33<1:10:55, 2127.52s/it]"
     ]
    },
    {
     "name": "stdout",
     "output_type": "stream",
     "text": [
      "(1200,)\n"
     ]
    },
    {
     "name": "stderr",
     "output_type": "stream",
     "text": [
      "\n",
      "  0%|          | 0/10 [00:00<?, ?it/s]\u001b[A\n",
      " 10%|█         | 1/10 [00:04<00:36,  4.03s/it]\u001b[A\n",
      " 20%|██        | 2/10 [00:04<00:16,  2.07s/it]\u001b[A\n",
      " 30%|███       | 3/10 [00:05<00:09,  1.33s/it]\u001b[A\n",
      " 40%|████      | 4/10 [00:05<00:05,  1.07it/s]\u001b[A\n",
      " 50%|█████     | 5/10 [00:05<00:03,  1.45it/s]\u001b[A\n",
      " 60%|██████    | 6/10 [00:05<00:02,  1.96it/s]\u001b[A\n",
      " 70%|███████   | 7/10 [00:06<00:01,  2.57it/s]\u001b[A\n",
      "100%|██████████| 10/10 [00:06<00:00,  1.60it/s][A\n",
      " 83%|████████▎ | 5/6 [2:57:13<35:10, 2110.24s/it]  "
     ]
    },
    {
     "name": "stdout",
     "output_type": "stream",
     "text": [
      "(1500,)\n"
     ]
    },
    {
     "name": "stderr",
     "output_type": "stream",
     "text": [
      "\n",
      "  0%|          | 0/10 [00:00<?, ?it/s]\u001b[A\n",
      " 10%|█         | 1/10 [00:04<00:41,  4.62s/it]\u001b[A\n",
      " 20%|██        | 2/10 [00:05<00:18,  2.35s/it]\u001b[A\n",
      " 30%|███       | 3/10 [00:05<00:10,  1.52s/it]\u001b[A\n",
      " 40%|████      | 4/10 [00:06<00:06,  1.10s/it]\u001b[A\n",
      " 50%|█████     | 5/10 [00:06<00:04,  1.20it/s]\u001b[A\n",
      " 60%|██████    | 6/10 [00:07<00:02,  1.54it/s]\u001b[A\n",
      " 70%|███████   | 7/10 [00:07<00:01,  1.97it/s]\u001b[A\n",
      " 80%|████████  | 8/10 [00:07<00:00,  2.48it/s]\u001b[A\n",
      "100%|██████████| 10/10 [00:07<00:00,  1.31it/s][A\n",
      "100%|██████████| 6/6 [3:31:44<00:00, 2117.43s/it]"
     ]
    },
    {
     "name": "stdout",
     "output_type": "stream",
     "text": [
      "(2000,)\n"
     ]
    },
    {
     "name": "stderr",
     "output_type": "stream",
     "text": [
      "\n"
     ]
    }
   ],
   "source": [
    "# all_control = df.loc[(df['treatment'] == 0) & (~df.index.isin(control_sample_hist.index))]\n",
    "# all_treatment = df.loc[(df['treatment'] == 1) & (~df.index.isin(treatment_sample_hist.index))]\n",
    "# scale = all_treatment.shape[0] / all_control.shape[0]\n",
    "\n",
    "# control_generators = []\n",
    "# treatment_generators = []\n",
    "\n",
    "# for size in tqdm(sizes):\n",
    "#     msss_control = MultilabelStratifiedShuffleSplit(n_splits=10, test_size=size, random_state=size + 5)\n",
    "#     msss_treatment = MultilabelStratifiedShuffleSplit(n_splits=10, test_size=int(size * scale), random_state=size + 5)\n",
    "    \n",
    "#     control_generator = msss_control.split(all_control.values, all_control.loc[:, columns].values)\n",
    "#     treatment_generator = msss_treatment.split(all_treatment.values, all_treatment.loc[:, columns].values)\n",
    "    \n",
    "#     control_indexes = list(control_generator)\n",
    "#     treatment_indexes = list(treatment_generator)\n",
    "    \n",
    "    \n",
    "#     data_control = []\n",
    "#     data_treatment = []\n",
    "\n",
    "#     for i in tqdm(range(0, len(control_indexes))):\n",
    "#         data_control.append(all_control.iloc[control_indexes[i][1]])\n",
    "#         data_treatment.append(all_treatment.iloc[treatment_indexes[i][1]])\n",
    "    \n",
    "#     print(control_indexes[0][1].shape)\n",
    "\n",
    "#     joblib.dump(data_control, f'control_data_split_{size}_notarget.joblib')\n",
    "#     joblib.dump(data_treatment, f'treatment_data_split_{size}_notarget.joblib')\n",
    "    \n",
    "    "
   ]
  },
  {
   "cell_type": "code",
   "execution_count": 105,
   "metadata": {},
   "outputs": [
    {
     "name": "stderr",
     "output_type": "stream",
     "text": [
      "\r",
      "  0%|          | 0/6 [00:00<?, ?it/s]"
     ]
    },
    {
     "name": "stdout",
     "output_type": "stream",
     "text": [
      "(1000,)\n"
     ]
    },
    {
     "name": "stderr",
     "output_type": "stream",
     "text": [
      "\r",
      " 17%|█▋        | 1/6 [35:16<2:56:23, 2116.76s/it]"
     ]
    },
    {
     "name": "stdout",
     "output_type": "stream",
     "text": [
      "(1000,)\n"
     ]
    },
    {
     "name": "stderr",
     "output_type": "stream",
     "text": [
      "\r",
      " 33%|███▎      | 2/6 [1:37:11<3:23:46, 3056.66s/it]"
     ]
    },
    {
     "name": "stdout",
     "output_type": "stream",
     "text": [
      "(1000,)\n"
     ]
    },
    {
     "name": "stderr",
     "output_type": "stream",
     "text": [
      "\r",
      " 50%|█████     | 3/6 [2:09:26<2:07:13, 2544.45s/it]"
     ]
    },
    {
     "name": "stdout",
     "output_type": "stream",
     "text": [
      "(1000,)\n"
     ]
    },
    {
     "name": "stderr",
     "output_type": "stream",
     "text": [
      "\r",
      " 67%|██████▋   | 4/6 [2:42:34<1:17:29, 2324.83s/it]"
     ]
    },
    {
     "name": "stdout",
     "output_type": "stream",
     "text": [
      "(1000,)\n"
     ]
    },
    {
     "name": "stderr",
     "output_type": "stream",
     "text": [
      "\r",
      " 83%|████████▎ | 5/6 [3:14:53<36:25, 2185.70s/it]  "
     ]
    },
    {
     "name": "stdout",
     "output_type": "stream",
     "text": [
      "(1000,)\n"
     ]
    },
    {
     "name": "stderr",
     "output_type": "stream",
     "text": [
      "100%|██████████| 6/6 [3:48:01<00:00, 2280.23s/it]\n"
     ]
    }
   ],
   "source": [
    "# history_size = 1000\n",
    "# history_scale = scale\n",
    "\n",
    "# for size in tqdm(sizes):\n",
    "#     control_ind = joblib.load(f'control_data_split_{size}_notarget.joblib')\n",
    "#     treatment_ind = joblib.load(f'treatment_data_split_{size}_notarget.joblib')\n",
    "    \n",
    "#     all_in_slit_control = []\n",
    "#     all_in_slit_treatment = []\n",
    "    \n",
    "#     for i in range(0, len(control_ind)):\n",
    "#         all_in_slit_control.extend(control_ind[i].index)\n",
    "#         all_in_slit_treatment.extend(treatment_ind[i].index)\n",
    "        \n",
    "        \n",
    "#     all_control_for_hist = df.loc[(df['treatment'] == 0) & (~df.index.isin(all_in_slit_control))]\n",
    "#     all_treatment_for_hist = df.loc[(df['treatment'] == 1) & (~df.index.isin(all_in_slit_treatment))]\n",
    "     \n",
    "    \n",
    "#     msss_control = MultilabelStratifiedShuffleSplit(n_splits=10, test_size=history_size, random_state=size + 2)\n",
    "#     msss_treatment = MultilabelStratifiedShuffleSplit(n_splits=10, test_size=int(history_size * history_scale), random_state=size + 2)\n",
    "    \n",
    "#     control_generator = msss_control.split(all_control_for_hist.values, all_control_for_hist.loc[:, columns].values)\n",
    "#     treatment_generator = msss_treatment.split(all_treatment_for_hist.values, all_treatment_for_hist.loc[:, columns].values)\n",
    "    \n",
    "#     control_indexes = list(control_generator)\n",
    "#     treatment_indexes = list(treatment_generator)\n",
    "    \n",
    "#     print(control_indexes[0][1].shape)\n",
    "    \n",
    "#     hist_control_table = []\n",
    "#     hist_treatment_table = []\n",
    "    \n",
    "#     for i in range(0, len(control_indexes)):\n",
    "#         hist_control_table.append(all_control_for_hist.iloc[control_indexes[i][1]])\n",
    "#         hist_treatment_table.append(all_treatment_for_hist.iloc[treatment_indexes[i][1]])\n",
    "\n",
    "\n",
    "        \n",
    "        \n",
    "#     joblib.dump(hist_control_table, f'control_data_hist_{size}_notarget.joblib')\n",
    "#     joblib.dump(hist_treatment_table, f'treatment_data_hist_{size}_notarget.joblib')\n",
    "    "
   ]
  },
  {
   "cell_type": "markdown",
   "metadata": {},
   "source": []
  },
  {
   "cell_type": "code",
   "execution_count": 77,
   "metadata": {},
   "outputs": [],
   "source": [
    "def run_test(sample_c, sample_t, history_c_ind, history_t_ind):\n",
    "    before = []\n",
    "    after_cup = []\n",
    "    after_gb = []\n",
    "    after_reg = []\n",
    "\n",
    "    cols1 = cols_regr_ordinal\n",
    "    cols2 = cols_boosting\n",
    "    cols3 = ['f4', 'f11', 'f2']\n",
    "    \n",
    "    \n",
    "    for i in tqdm(range(0, len(sample_c))):\n",
    "        test_control = sample_c[i]\n",
    "        test_treatment = sample_t[i]\n",
    "        \n",
    "        hist_control = history_c_ind[i]\n",
    "        hist_treatment = history_t_ind[i]\n",
    "        \n",
    "        \n",
    "        p_bef, p_after_cup = modify_with_cuped(test_control, test_treatment, hist_control, hist_treatment, cols1, True, encoder='Ord')\n",
    "        p_bef, p_after_gb = modify_with_gb(test_control, test_treatment, hist_control, hist_treatment, cols2)\n",
    "        p_aft_reg = modify_with_regression_test(test_control, test_treatment, hist_control, hist_treatment, cols3)\n",
    "\n",
    "        \n",
    "        before.append(p_bef)\n",
    "        after_cup.append(p_after_cup)\n",
    "        after_gb.append(p_after_gb)\n",
    "        after_reg.append(p_aft_reg)\n",
    "        \n",
    "    return np.array(before), np.array(after_cup), np.array(after_gb), np.array(after_reg)"
   ]
  },
  {
   "cell_type": "code",
   "execution_count": 78,
   "metadata": {},
   "outputs": [
    {
     "data": {
      "application/vnd.jupyter.widget-view+json": {
       "model_id": "1b70332b12974b3d9a0f74905cf166b9",
       "version_major": 2,
       "version_minor": 0
      },
      "text/plain": [
       "  0%|          | 0/6 [00:00<?, ?it/s]"
      ]
     },
     "metadata": {},
     "output_type": "display_data"
    },
    {
     "data": {
      "application/vnd.jupyter.widget-view+json": {
       "model_id": "b7b655f0ae3e4b02bc41df7cc2bc443e",
       "version_major": 2,
       "version_minor": 0
      },
      "text/plain": [
       "  0%|          | 0/10 [00:00<?, ?it/s]"
      ]
     },
     "metadata": {},
     "output_type": "display_data"
    },
    {
     "data": {
      "application/vnd.jupyter.widget-view+json": {
       "model_id": "682a5af6e7634551be66ca6960616603",
       "version_major": 2,
       "version_minor": 0
      },
      "text/plain": [
       "  0%|          | 0/10 [00:00<?, ?it/s]"
      ]
     },
     "metadata": {},
     "output_type": "display_data"
    },
    {
     "data": {
      "application/vnd.jupyter.widget-view+json": {
       "model_id": "8976696e0e95481bbd52a5ca027a6d01",
       "version_major": 2,
       "version_minor": 0
      },
      "text/plain": [
       "  0%|          | 0/10 [00:00<?, ?it/s]"
      ]
     },
     "metadata": {},
     "output_type": "display_data"
    },
    {
     "data": {
      "application/vnd.jupyter.widget-view+json": {
       "model_id": "a62dfd63bb0942fab59d7878c90310a3",
       "version_major": 2,
       "version_minor": 0
      },
      "text/plain": [
       "  0%|          | 0/10 [00:00<?, ?it/s]"
      ]
     },
     "metadata": {},
     "output_type": "display_data"
    },
    {
     "data": {
      "application/vnd.jupyter.widget-view+json": {
       "model_id": "a2600b92c94d4f20bd766420dfa8f846",
       "version_major": 2,
       "version_minor": 0
      },
      "text/plain": [
       "  0%|          | 0/10 [00:00<?, ?it/s]"
      ]
     },
     "metadata": {},
     "output_type": "display_data"
    },
    {
     "data": {
      "application/vnd.jupyter.widget-view+json": {
       "model_id": "1c31e844e924424494c15f441033ad5c",
       "version_major": 2,
       "version_minor": 0
      },
      "text/plain": [
       "  0%|          | 0/10 [00:00<?, ?it/s]"
      ]
     },
     "metadata": {},
     "output_type": "display_data"
    }
   ],
   "source": [
    "sizes = [400, 800, 1000, 1200, 1500, 2000]\n",
    "\n",
    "pvals_b = []\n",
    "pvals_c = []\n",
    "pvals_gb = []\n",
    "pvals_reg = []\n",
    "\n",
    "for size in tqdm(sizes):\n",
    "    control_ind = joblib.load(f'saved_variables/control_data_split_{size}.joblib')\n",
    "    treatment_ind = joblib.load(f'saved_variables/treatment_data_split_{size}.joblib')\n",
    "    \n",
    "    control_ind_hist = joblib.load(f'saved_variables/control_data_hist_{size}.joblib')\n",
    "    treatment_ind_hist = joblib.load(f'saved_variables/treatment_data_hist_{size}.joblib')\n",
    "    \n",
    "    b, c, gb, reg = run_test(control_ind, treatment_ind, control_ind_hist, treatment_ind_hist)\n",
    "    \n",
    "    pvals_b.append(b)\n",
    "    pvals_c.append(c)\n",
    "    pvals_gb.append(gb)\n",
    "    pvals_reg.append(reg)"
   ]
  },
  {
   "cell_type": "code",
   "execution_count": 79,
   "metadata": {},
   "outputs": [],
   "source": [
    "pvals_c = pd.DataFrame(pvals_c)\n",
    "pvals_c = pvals_c.set_axis(sizes)\n",
    "\n",
    "pvals_gb = pd.DataFrame(pvals_gb)\n",
    "pvals_gb = pvals_gb.set_axis(sizes)\n",
    "\n",
    "pvals_b = pd.DataFrame(pvals_b)\n",
    "pvals_b = pvals_b.set_axis(sizes)\n",
    "\n",
    "pvals_reg = pd.DataFrame(pvals_reg)\n",
    "pvals_reg = pvals_reg.set_axis(sizes)"
   ]
  },
  {
   "cell_type": "code",
   "execution_count": 80,
   "metadata": {},
   "outputs": [],
   "source": [
    "data_cuped = None\n",
    "for i in range(pvals_c.shape[1]):\n",
    "    data_cuped = pd.concat([data_cuped, pvals_c.iloc[:, i]])\n",
    "    \n",
    "data_grad_boost = None\n",
    "for i in range(pvals_gb.shape[1]):\n",
    "    data_grad_boost = pd.concat([data_grad_boost, pvals_gb.iloc[:, i]])\n",
    "    \n",
    "    \n",
    "data_before = None\n",
    "for i in range(pvals_b.shape[1]):\n",
    "    data_before = pd.concat([data_before, pvals_b.iloc[:, i]])\n",
    "\n",
    "data_reg = None\n",
    "for i in range(pvals_reg.shape[1]):\n",
    "    data_reg = pd.concat([data_reg, pvals_reg.iloc[:, i]])"
   ]
  },
  {
   "cell_type": "code",
   "execution_count": 81,
   "metadata": {},
   "outputs": [
    {
     "data": {
      "image/png": "[encoded data removed]",
      "text/plain": [
       "<Figure size 720x504 with 1 Axes>"
      ]
     },
     "metadata": {
      "needs_background": "light"
     },
     "output_type": "display_data"
    }
   ],
   "source": [
    "f = plt.subplots(1, figsize=(10, 7))\n",
    "sns.lineplot(data=data_cuped, label='CUPED', marker=\"o\", markersize=7, color='#3399ff')\n",
    "sns.lineplot(data=data_grad_boost, label='CUPAC', marker=\"o\", markersize=7, color='#009900')\n",
    "sns.lineplot(data=data_before, label='Default', marker=\"o\", markersize=7, color='#ff9933')\n",
    "sns.lineplot(data=data_reg, label='Ml-rate', marker=\"o\", markersize=7, color='#ff66ff')\n",
    "plt.plot(sizes, [0.05] * len(sizes), color=\"#ff0000\", linestyle='dashed', label='alpha')\n",
    "# plt.title('Зависимость параметра p-value оцененного по 10 запускам от размера выборки')\n",
    "plt.xlabel('Размер контрольной выборки')\n",
    "plt.ylabel('p-value')\n",
    "\n",
    "plt.show()"
   ]
  },
  {
   "cell_type": "markdown",
   "metadata": {},
   "source": [
    "# A/A тест на данных Criteo из раздела 3.6 отчета о НИР."
   ]
  },
  {
   "cell_type": "markdown",
   "metadata": {},
   "source": [
    "В данной секции мы проверяем, что методы снижения дисперсии CUPED/CUPAC/ML-RATE не приводят к ложноположительным результатам T-теста при генерации "
   ]
  },
  {
   "cell_type": "code",
   "execution_count": 82,
   "metadata": {},
   "outputs": [],
   "source": [
    "def run_test_AA(sample, history, n_pairs=45):\n",
    "    before = []\n",
    "    after_cup = []\n",
    "    after_gb = []\n",
    "    after_reg = []\n",
    "\n",
    "    cols1 = cols_regr_ordinal\n",
    "    cols2 = cols_boosting\n",
    "    cols3 = ['f4', 'f11', 'f2']\n",
    "    \n",
    "    \n",
    "    \n",
    "    # берем некоторые пары из контроля\n",
    "    indexes = list(range(0, len(sample)))\n",
    "\n",
    "    pairs = np.array(list((itertools.combinations(indexes, 2))))\n",
    "    chosen_indexes = np.random.choice(np.arange(0, len(pairs)), n_pairs, replace=False)\n",
    "    chosen_pairs = pairs[chosen_indexes]\n",
    "    \n",
    "    for pair in tqdm(chosen_pairs):\n",
    "        test_control = sample[pair[0]]\n",
    "        test_treatment = sample[pair[1]]\n",
    "        \n",
    "        hist_control = history[pair[0]]\n",
    "        hist_treatment = history[pair[1]]\n",
    "        \n",
    "        p_bef, p_after_cup = modify_with_cuped(test_control, test_treatment, hist_control, hist_treatment, cols1, True, encoder='Ord')\n",
    "        p_bef, p_after_gb = modify_with_gb(test_control, test_treatment, hist_control, hist_treatment, cols2)\n",
    "        p_aft_reg = modify_with_regression_test(test_control, test_treatment, hist_control, hist_treatment, cols3, aa=True)\n",
    "        \n",
    "        before.append(p_bef)\n",
    "        after_cup.append(p_after_cup)\n",
    "        after_gb.append(p_after_gb)\n",
    "        after_reg.append(p_aft_reg)\n",
    "        \n",
    "    return np.array(before), np.array(after_cup), np.array(after_gb), np.array(after_reg)"
   ]
  },
  {
   "cell_type": "code",
   "execution_count": 95,
   "metadata": {},
   "outputs": [
    {
     "name": "stderr",
     "output_type": "stream",
     "text": [
      "  0%|          | 0/6 [00:00<?, ?it/s]\n",
      "  0%|          | 0/45 [00:00<?, ?it/s]\u001b[A\n",
      "  2%|▏         | 1/45 [00:00<00:20,  2.19it/s]\u001b[A\n",
      "  4%|▍         | 2/45 [00:00<00:19,  2.18it/s]\u001b[A\n",
      "  7%|▋         | 3/45 [00:01<00:20,  2.07it/s]\u001b[A\n",
      "  9%|▉         | 4/45 [00:01<00:20,  2.04it/s]\u001b[A\n",
      " 11%|█         | 5/45 [00:02<00:18,  2.11it/s]\u001b[A\n",
      " 13%|█▎        | 6/45 [00:02<00:18,  2.16it/s]\u001b[A\n",
      " 16%|█▌        | 7/45 [00:03<00:17,  2.19it/s]\u001b[A\n",
      " 18%|█▊        | 8/45 [00:03<00:16,  2.20it/s]\u001b[A\n",
      " 20%|██        | 9/45 [00:04<00:16,  2.22it/s]\u001b[A\n",
      " 22%|██▏       | 10/45 [00:04<00:15,  2.24it/s]\u001b[A\n",
      " 24%|██▍       | 11/45 [00:05<00:15,  2.24it/s]\u001b[A\n",
      " 27%|██▋       | 12/45 [00:05<00:14,  2.24it/s]\u001b[A\n",
      " 29%|██▉       | 13/45 [00:05<00:14,  2.25it/s]\u001b[A\n",
      " 31%|███       | 14/45 [00:06<00:13,  2.24it/s]\u001b[A\n",
      " 33%|███▎      | 15/45 [00:06<00:13,  2.25it/s]\u001b[A\n",
      " 36%|███▌      | 16/45 [00:07<00:12,  2.25it/s]\u001b[A\n",
      " 38%|███▊      | 17/45 [00:07<00:12,  2.24it/s]\u001b[A\n",
      " 40%|████      | 18/45 [00:08<00:11,  2.25it/s]\u001b[A\n",
      " 42%|████▏     | 19/45 [00:08<00:11,  2.24it/s]\u001b[A\n",
      " 44%|████▍     | 20/45 [00:09<00:11,  2.24it/s]\u001b[A\n",
      " 47%|████▋     | 21/45 [00:09<00:10,  2.24it/s]\u001b[A\n",
      " 49%|████▉     | 22/45 [00:09<00:10,  2.24it/s]\u001b[A\n",
      " 51%|█████     | 23/45 [00:10<00:09,  2.24it/s]\u001b[A\n",
      " 53%|█████▎    | 24/45 [00:10<00:09,  2.24it/s]\u001b[A\n",
      " 56%|█████▌    | 25/45 [00:11<00:08,  2.26it/s]\u001b[A\n",
      " 58%|█████▊    | 26/45 [00:11<00:08,  2.25it/s]\u001b[A\n",
      " 60%|██████    | 27/45 [00:12<00:07,  2.27it/s]\u001b[A\n",
      " 62%|██████▏   | 28/45 [00:12<00:07,  2.28it/s]\u001b[A\n",
      " 64%|██████▍   | 29/45 [00:13<00:07,  2.26it/s]\u001b[A\n",
      " 67%|██████▋   | 30/45 [00:13<00:06,  2.27it/s]\u001b[A\n",
      " 69%|██████▉   | 31/45 [00:13<00:06,  2.27it/s]\u001b[A\n",
      " 71%|███████   | 32/45 [00:14<00:05,  2.28it/s]\u001b[A\n",
      " 73%|███████▎  | 33/45 [00:14<00:05,  2.28it/s]\u001b[A\n",
      " 76%|███████▌  | 34/45 [00:15<00:04,  2.27it/s]\u001b[A\n",
      " 78%|███████▊  | 35/45 [00:15<00:04,  2.27it/s]\u001b[A\n",
      " 80%|████████  | 36/45 [00:16<00:03,  2.26it/s]\u001b[A\n",
      " 82%|████████▏ | 37/45 [00:16<00:03,  2.24it/s]\u001b[A\n",
      " 84%|████████▍ | 38/45 [00:17<00:03,  2.25it/s]\u001b[A\n",
      " 87%|████████▋ | 39/45 [00:17<00:02,  2.23it/s]\u001b[A\n",
      " 89%|████████▉ | 40/45 [00:17<00:02,  2.22it/s]\u001b[A\n",
      " 91%|█████████ | 41/45 [00:18<00:01,  2.24it/s]\u001b[A\n",
      " 93%|█████████▎| 42/45 [00:18<00:01,  2.26it/s]\u001b[A\n",
      " 96%|█████████▌| 43/45 [00:19<00:00,  2.26it/s]\u001b[A\n",
      " 98%|█████████▊| 44/45 [00:19<00:00,  2.26it/s]\u001b[A\n",
      "100%|██████████| 45/45 [00:20<00:00,  2.24it/s]\u001b[A\n",
      " 17%|█▋        | 1/6 [00:20<01:40, 20.13s/it]\n",
      "  0%|          | 0/45 [00:00<?, ?it/s]\u001b[A\n",
      "  2%|▏         | 1/45 [00:00<00:19,  2.26it/s]\u001b[A\n",
      "  4%|▍         | 2/45 [00:00<00:19,  2.22it/s]\u001b[A\n",
      "  7%|▋         | 3/45 [00:01<00:19,  2.20it/s]\u001b[A\n",
      "  9%|▉         | 4/45 [00:01<00:18,  2.20it/s]\u001b[A\n",
      " 11%|█         | 5/45 [00:02<00:18,  2.22it/s]\u001b[A\n",
      " 13%|█▎        | 6/45 [00:02<00:17,  2.22it/s]\u001b[A\n",
      " 16%|█▌        | 7/45 [00:03<00:17,  2.23it/s]\u001b[A\n",
      " 18%|█▊        | 8/45 [00:03<00:16,  2.22it/s]\u001b[A\n",
      " 20%|██        | 9/45 [00:04<00:16,  2.23it/s]\u001b[A\n",
      " 22%|██▏       | 10/45 [00:04<00:15,  2.23it/s]\u001b[A\n",
      " 24%|██▍       | 11/45 [00:04<00:15,  2.21it/s]\u001b[A\n",
      " 27%|██▋       | 12/45 [00:05<00:14,  2.20it/s]\u001b[A\n",
      " 29%|██▉       | 13/45 [00:05<00:14,  2.20it/s]\u001b[A\n",
      " 31%|███       | 14/45 [00:06<00:14,  2.20it/s]\u001b[A\n",
      " 33%|███▎      | 15/45 [00:06<00:13,  2.20it/s]\u001b[A\n",
      " 36%|███▌      | 16/45 [00:07<00:13,  2.21it/s]\u001b[A\n",
      " 38%|███▊      | 17/45 [00:07<00:12,  2.18it/s]\u001b[A\n",
      " 40%|████      | 18/45 [00:08<00:12,  2.19it/s]\u001b[A\n",
      " 42%|████▏     | 19/45 [00:08<00:11,  2.20it/s]\u001b[A\n",
      " 44%|████▍     | 20/45 [00:09<00:11,  2.21it/s]\u001b[A\n",
      " 47%|████▋     | 21/45 [00:09<00:10,  2.21it/s]\u001b[A\n",
      " 49%|████▉     | 22/45 [00:09<00:10,  2.21it/s]\u001b[A\n",
      " 51%|█████     | 23/45 [00:10<00:10,  2.20it/s]\u001b[A\n",
      " 53%|█████▎    | 24/45 [00:10<00:09,  2.21it/s]\u001b[A\n",
      " 56%|█████▌    | 25/45 [00:11<00:09,  2.21it/s]\u001b[A\n",
      " 58%|█████▊    | 26/45 [00:11<00:08,  2.22it/s]\u001b[A\n",
      " 60%|██████    | 27/45 [00:12<00:08,  2.23it/s]\u001b[A\n",
      " 62%|██████▏   | 28/45 [00:12<00:07,  2.24it/s]\u001b[A\n",
      " 64%|██████▍   | 29/45 [00:13<00:07,  2.23it/s]\u001b[A\n",
      " 67%|██████▋   | 30/45 [00:13<00:06,  2.22it/s]\u001b[A\n",
      " 69%|██████▉   | 31/45 [00:14<00:06,  2.22it/s]\u001b[A\n",
      " 71%|███████   | 32/45 [00:14<00:05,  2.21it/s]\u001b[A\n",
      " 73%|███████▎  | 33/45 [00:14<00:05,  2.20it/s]\u001b[A\n",
      " 76%|███████▌  | 34/45 [00:15<00:05,  2.20it/s]\u001b[A\n",
      " 78%|███████▊  | 35/45 [00:15<00:04,  2.21it/s]\u001b[A\n",
      " 80%|████████  | 36/45 [00:16<00:04,  2.21it/s]\u001b[A\n",
      " 82%|████████▏ | 37/45 [00:16<00:03,  2.22it/s]\u001b[A\n",
      " 84%|████████▍ | 38/45 [00:17<00:03,  2.21it/s]\u001b[A\n",
      " 87%|████████▋ | 39/45 [00:17<00:02,  2.21it/s]\u001b[A\n",
      " 89%|████████▉ | 40/45 [00:18<00:02,  2.19it/s]\u001b[A\n",
      " 91%|█████████ | 41/45 [00:18<00:01,  2.19it/s]\u001b[A\n",
      " 93%|█████████▎| 42/45 [00:19<00:01,  2.20it/s]\u001b[A\n",
      " 96%|█████████▌| 43/45 [00:19<00:00,  2.22it/s]\u001b[A\n",
      " 98%|█████████▊| 44/45 [00:19<00:00,  2.20it/s]\u001b[A\n",
      "100%|██████████| 45/45 [00:20<00:00,  2.21it/s]\u001b[A\n",
      " 33%|███▎      | 2/6 [00:40<01:21, 20.27s/it]\n",
      "  0%|          | 0/45 [00:00<?, ?it/s]\u001b[A\n",
      "  2%|▏         | 1/45 [00:00<00:20,  2.12it/s]\u001b[A\n",
      "  4%|▍         | 2/45 [00:00<00:19,  2.16it/s]\u001b[A\n",
      "  7%|▋         | 3/45 [00:01<00:19,  2.16it/s]\u001b[A\n",
      "  9%|▉         | 4/45 [00:01<00:18,  2.18it/s]\u001b[A\n",
      " 11%|█         | 5/45 [00:02<00:18,  2.18it/s]\u001b[A\n",
      " 13%|█▎        | 6/45 [00:02<00:17,  2.19it/s]\u001b[A\n",
      " 16%|█▌        | 7/45 [00:03<00:17,  2.19it/s]\u001b[A\n",
      " 18%|█▊        | 8/45 [00:03<00:16,  2.19it/s]\u001b[A\n",
      " 20%|██        | 9/45 [00:04<00:16,  2.21it/s]\u001b[A\n",
      " 22%|██▏       | 10/45 [00:04<00:15,  2.21it/s]\u001b[A\n",
      " 24%|██▍       | 11/45 [00:05<00:15,  2.22it/s]\u001b[A\n",
      " 27%|██▋       | 12/45 [00:05<00:14,  2.23it/s]\u001b[A\n",
      " 29%|██▉       | 13/45 [00:05<00:14,  2.23it/s]\u001b[A\n",
      " 31%|███       | 14/45 [00:06<00:13,  2.23it/s]\u001b[A\n",
      " 33%|███▎      | 15/45 [00:06<00:13,  2.22it/s]\u001b[A\n",
      " 36%|███▌      | 16/45 [00:07<00:13,  2.21it/s]\u001b[A\n",
      " 38%|███▊      | 17/45 [00:07<00:12,  2.20it/s]\u001b[A\n",
      " 40%|████      | 18/45 [00:08<00:12,  2.19it/s]\u001b[A\n",
      " 42%|████▏     | 19/45 [00:08<00:11,  2.19it/s]\u001b[A\n",
      " 44%|████▍     | 20/45 [00:09<00:11,  2.21it/s]\u001b[A\n",
      " 47%|████▋     | 21/45 [00:09<00:10,  2.23it/s]\u001b[A\n",
      " 49%|████▉     | 22/45 [00:09<00:10,  2.21it/s]\u001b[A\n",
      " 51%|█████     | 23/45 [00:10<00:09,  2.22it/s]\u001b[A\n",
      " 53%|█████▎    | 24/45 [00:10<00:09,  2.20it/s]\u001b[A\n",
      " 56%|█████▌    | 25/45 [00:11<00:09,  2.20it/s]\u001b[A\n",
      " 58%|█████▊    | 26/45 [00:11<00:08,  2.20it/s]\u001b[A\n",
      " 60%|██████    | 27/45 [00:12<00:08,  2.20it/s]\u001b[A\n",
      " 62%|██████▏   | 28/45 [00:12<00:07,  2.19it/s]\u001b[A\n",
      " 64%|██████▍   | 29/45 [00:13<00:07,  2.21it/s]\u001b[A\n",
      " 67%|██████▋   | 30/45 [00:13<00:06,  2.21it/s]\u001b[A\n",
      " 69%|██████▉   | 31/45 [00:14<00:06,  2.22it/s]\u001b[A\n",
      " 71%|███████   | 32/45 [00:14<00:05,  2.23it/s]\u001b[A\n",
      " 73%|███████▎  | 33/45 [00:14<00:05,  2.22it/s]\u001b[A\n",
      " 76%|███████▌  | 34/45 [00:15<00:04,  2.23it/s]\u001b[A\n",
      " 78%|███████▊  | 35/45 [00:15<00:04,  2.21it/s]\u001b[A\n",
      " 80%|████████  | 36/45 [00:16<00:04,  2.22it/s]\u001b[A\n",
      " 82%|████████▏ | 37/45 [00:16<00:03,  2.21it/s]\u001b[A\n",
      " 84%|████████▍ | 38/45 [00:17<00:03,  2.23it/s]\u001b[A\n",
      " 87%|████████▋ | 39/45 [00:17<00:02,  2.22it/s]\u001b[A\n",
      " 89%|████████▉ | 40/45 [00:18<00:02,  2.21it/s]\u001b[A\n",
      " 91%|█████████ | 41/45 [00:18<00:01,  2.22it/s]\u001b[A\n",
      " 93%|█████████▎| 42/45 [00:19<00:01,  2.23it/s]\u001b[A\n",
      " 96%|█████████▌| 43/45 [00:19<00:00,  2.21it/s]\u001b[A\n",
      " 98%|█████████▊| 44/45 [00:19<00:00,  2.21it/s]\u001b[A\n",
      "100%|██████████| 45/45 [00:20<00:00,  2.21it/s]\u001b[A\n",
      " 50%|█████     | 3/6 [01:00<01:00, 20.33s/it]\n",
      "  0%|          | 0/45 [00:00<?, ?it/s]\u001b[A\n",
      "  2%|▏         | 1/45 [00:00<00:20,  2.19it/s]\u001b[A\n",
      "  4%|▍         | 2/45 [00:00<00:19,  2.23it/s]\u001b[A\n",
      "  7%|▋         | 3/45 [00:01<00:18,  2.22it/s]\u001b[A\n",
      "  9%|▉         | 4/45 [00:01<00:18,  2.23it/s]\u001b[A\n",
      " 11%|█         | 5/45 [00:02<00:18,  2.22it/s]\u001b[A\n",
      " 13%|█▎        | 6/45 [00:02<00:17,  2.21it/s]\u001b[A\n",
      " 16%|█▌        | 7/45 [00:03<00:17,  2.16it/s]\u001b[A\n",
      " 18%|█▊        | 8/45 [00:03<00:17,  2.13it/s]\u001b[A\n",
      " 20%|██        | 9/45 [00:04<00:17,  2.10it/s]\u001b[A\n",
      " 22%|██▏       | 10/45 [00:04<00:16,  2.07it/s]\u001b[A\n",
      " 24%|██▍       | 11/45 [00:05<00:16,  2.05it/s]\u001b[A\n",
      " 27%|██▋       | 12/45 [00:05<00:16,  2.03it/s]\u001b[A\n",
      " 29%|██▉       | 13/45 [00:06<00:18,  1.77it/s]\u001b[A\n",
      " 31%|███       | 14/45 [00:06<00:17,  1.79it/s]\u001b[A\n",
      " 33%|███▎      | 15/45 [00:07<00:16,  1.83it/s]\u001b[A\n",
      " 36%|███▌      | 16/45 [00:07<00:15,  1.89it/s]\u001b[A\n",
      " 38%|███▊      | 17/45 [00:08<00:14,  1.94it/s]\u001b[A\n",
      " 40%|████      | 18/45 [00:08<00:13,  1.98it/s]\u001b[A\n",
      " 42%|████▏     | 19/45 [00:09<00:12,  2.01it/s]\u001b[A\n",
      " 44%|████▍     | 20/45 [00:09<00:12,  2.01it/s]\u001b[A\n",
      " 47%|████▋     | 21/45 [00:10<00:11,  2.02it/s]\u001b[A\n",
      " 49%|████▉     | 22/45 [00:10<00:11,  1.93it/s]\u001b[A\n",
      " 51%|█████     | 23/45 [00:11<00:11,  1.84it/s]\u001b[A\n",
      " 53%|█████▎    | 24/45 [00:12<00:11,  1.87it/s]\u001b[A\n",
      " 56%|█████▌    | 25/45 [00:12<00:10,  1.95it/s]\u001b[A\n",
      " 58%|█████▊    | 26/45 [00:13<00:09,  2.00it/s]\u001b[A\n",
      " 60%|██████    | 27/45 [00:13<00:08,  2.04it/s]\u001b[A\n",
      " 62%|██████▏   | 28/45 [00:13<00:08,  2.05it/s]\u001b[A\n",
      " 64%|██████▍   | 29/45 [00:14<00:07,  2.03it/s]\u001b[A\n",
      " 67%|██████▋   | 30/45 [00:14<00:07,  2.07it/s]\u001b[A\n",
      " 69%|██████▉   | 31/45 [00:15<00:06,  2.11it/s]\u001b[A\n",
      " 71%|███████   | 32/45 [00:15<00:06,  2.03it/s]\u001b[A\n",
      " 73%|███████▎  | 33/45 [00:16<00:05,  2.04it/s]\u001b[A\n",
      " 76%|███████▌  | 34/45 [00:16<00:05,  2.07it/s]\u001b[A\n",
      " 78%|███████▊  | 35/45 [00:17<00:04,  2.09it/s]\u001b[A\n",
      " 80%|████████  | 36/45 [00:17<00:04,  2.11it/s]\u001b[A\n",
      " 82%|████████▏ | 37/45 [00:18<00:03,  2.04it/s]\u001b[A\n",
      " 84%|████████▍ | 38/45 [00:18<00:03,  2.03it/s]\u001b[A\n",
      " 87%|████████▋ | 39/45 [00:19<00:03,  1.98it/s]\u001b[A\n",
      " 89%|████████▉ | 40/45 [00:19<00:02,  2.02it/s]\u001b[A\n",
      " 91%|█████████ | 41/45 [00:20<00:01,  2.01it/s]\u001b[A\n",
      " 93%|█████████▎| 42/45 [00:20<00:01,  1.94it/s]\u001b[A\n",
      " 96%|█████████▌| 43/45 [00:21<00:01,  1.93it/s]\u001b[A\n",
      " 98%|█████████▊| 44/45 [00:21<00:00,  1.88it/s]\u001b[A\n",
      "100%|██████████| 45/45 [00:22<00:00,  2.00it/s]\u001b[A\n",
      " 67%|██████▋   | 4/6 [01:23<00:42, 21.18s/it]\n",
      "  0%|          | 0/45 [00:00<?, ?it/s]\u001b[A\n",
      "  2%|▏         | 1/45 [00:00<00:22,  1.95it/s]\u001b[A\n",
      "  4%|▍         | 2/45 [00:01<00:21,  2.01it/s]\u001b[A\n",
      "  7%|▋         | 3/45 [00:01<00:22,  1.84it/s]\u001b[A\n",
      "  9%|▉         | 4/45 [00:02<00:24,  1.70it/s]\u001b[A\n",
      " 11%|█         | 5/45 [00:02<00:22,  1.78it/s]\u001b[A\n",
      " 13%|█▎        | 6/45 [00:03<00:21,  1.85it/s]\u001b[A\n",
      " 16%|█▌        | 7/45 [00:03<00:19,  1.91it/s]\u001b[A\n",
      " 18%|█▊        | 8/45 [00:04<00:18,  1.95it/s]\u001b[A\n",
      " 20%|██        | 9/45 [00:04<00:18,  1.95it/s]\u001b[A\n",
      " 22%|██▏       | 10/45 [00:05<00:17,  1.96it/s]\u001b[A\n",
      " 24%|██▍       | 11/45 [00:05<00:17,  1.95it/s]\u001b[A\n",
      " 27%|██▋       | 12/45 [00:06<00:16,  1.95it/s]\u001b[A\n",
      " 29%|██▉       | 13/45 [00:06<00:16,  1.95it/s]\u001b[A\n",
      " 31%|███       | 14/45 [00:07<00:15,  1.94it/s]\u001b[A\n",
      " 33%|███▎      | 15/45 [00:07<00:15,  1.93it/s]\u001b[A\n",
      " 36%|███▌      | 16/45 [00:08<00:15,  1.93it/s]\u001b[A\n",
      " 38%|███▊      | 17/45 [00:08<00:15,  1.84it/s]\u001b[A\n",
      " 40%|████      | 18/45 [00:09<00:15,  1.78it/s]\u001b[A\n",
      " 42%|████▏     | 19/45 [00:10<00:16,  1.61it/s]\u001b[A\n",
      " 44%|████▍     | 20/45 [00:11<00:16,  1.48it/s]\u001b[A\n",
      " 47%|████▋     | 21/45 [00:12<00:19,  1.21it/s]\u001b[A\n",
      " 49%|████▉     | 22/45 [00:13<00:18,  1.21it/s]\u001b[A\n",
      " 51%|█████     | 23/45 [00:13<00:17,  1.26it/s]\u001b[A\n",
      " 53%|█████▎    | 24/45 [00:14<00:15,  1.37it/s]\u001b[A\n",
      " 56%|█████▌    | 25/45 [00:14<00:13,  1.49it/s]\u001b[A\n",
      " 58%|█████▊    | 26/45 [00:15<00:11,  1.62it/s]\u001b[A\n",
      " 60%|██████    | 27/45 [00:15<00:10,  1.70it/s]\u001b[A\n",
      " 62%|██████▏   | 28/45 [00:16<00:09,  1.74it/s]\u001b[A\n",
      " 64%|██████▍   | 29/45 [00:17<00:09,  1.69it/s]\u001b[A\n",
      " 67%|██████▋   | 30/45 [00:17<00:09,  1.64it/s]\u001b[A\n",
      " 69%|██████▉   | 31/45 [00:18<00:08,  1.69it/s]\u001b[A\n",
      " 71%|███████   | 32/45 [00:18<00:07,  1.75it/s]\u001b[A\n",
      " 73%|███████▎  | 33/45 [00:19<00:06,  1.74it/s]\u001b[A\n",
      " 76%|███████▌  | 34/45 [00:20<00:06,  1.63it/s]\u001b[A\n",
      " 78%|███████▊  | 35/45 [00:21<00:06,  1.44it/s]\u001b[A\n",
      " 80%|████████  | 36/45 [00:21<00:05,  1.54it/s]\u001b[A\n",
      " 82%|████████▏ | 37/45 [00:22<00:04,  1.65it/s]\u001b[A\n",
      " 84%|████████▍ | 38/45 [00:22<00:04,  1.74it/s]\u001b[A\n",
      " 87%|████████▋ | 39/45 [00:23<00:03,  1.78it/s]\u001b[A\n",
      " 89%|████████▉ | 40/45 [00:23<00:02,  1.83it/s]\u001b[A\n",
      " 91%|█████████ | 41/45 [00:24<00:02,  1.87it/s]\u001b[A\n",
      " 93%|█████████▎| 42/45 [00:24<00:01,  1.87it/s]\u001b[A\n",
      " 96%|█████████▌| 43/45 [00:25<00:01,  1.78it/s]\u001b[A\n",
      " 98%|█████████▊| 44/45 [00:25<00:00,  1.82it/s]\u001b[A\n",
      "100%|██████████| 45/45 [00:26<00:00,  1.71it/s]\u001b[A\n",
      " 83%|████████▎ | 5/6 [01:49<00:23, 23.07s/it]\n",
      "  0%|          | 0/45 [00:00<?, ?it/s]\u001b[A\n",
      "  2%|▏         | 1/45 [00:00<00:28,  1.56it/s]\u001b[A\n",
      "  4%|▍         | 2/45 [00:01<00:26,  1.65it/s]\u001b[A\n",
      "  7%|▋         | 3/45 [00:01<00:24,  1.69it/s]\u001b[A\n",
      "  9%|▉         | 4/45 [00:02<00:24,  1.70it/s]\u001b[A\n",
      " 11%|█         | 5/45 [00:03<00:25,  1.59it/s]\u001b[A\n",
      " 13%|█▎        | 6/45 [00:03<00:23,  1.63it/s]\u001b[A\n",
      " 16%|█▌        | 7/45 [00:04<00:22,  1.66it/s]\u001b[A\n",
      " 18%|█▊        | 8/45 [00:04<00:21,  1.69it/s]\u001b[A\n",
      " 20%|██        | 9/45 [00:05<00:21,  1.71it/s]\u001b[A\n",
      " 22%|██▏       | 10/45 [00:05<00:20,  1.72it/s]\u001b[A\n",
      " 24%|██▍       | 11/45 [00:06<00:19,  1.75it/s]\u001b[A\n",
      " 27%|██▋       | 12/45 [00:07<00:18,  1.79it/s]\u001b[A\n",
      " 29%|██▉       | 13/45 [00:07<00:17,  1.83it/s]\u001b[A\n",
      " 31%|███       | 14/45 [00:08<00:16,  1.88it/s]\u001b[A\n",
      " 33%|███▎      | 15/45 [00:08<00:15,  1.92it/s]\u001b[A\n",
      " 36%|███▌      | 16/45 [00:09<00:15,  1.92it/s]\u001b[A\n",
      " 38%|███▊      | 17/45 [00:09<00:14,  1.96it/s]\u001b[A\n",
      " 40%|████      | 18/45 [00:10<00:13,  1.97it/s]\u001b[A\n",
      " 42%|████▏     | 19/45 [00:10<00:13,  1.96it/s]\u001b[A\n",
      " 44%|████▍     | 20/45 [00:11<00:12,  1.96it/s]\u001b[A\n",
      " 47%|████▋     | 21/45 [00:11<00:12,  1.95it/s]\u001b[A\n",
      " 49%|████▉     | 22/45 [00:12<00:11,  2.00it/s]\u001b[A\n",
      " 51%|█████     | 23/45 [00:12<00:10,  2.03it/s]\u001b[A\n",
      " 53%|█████▎    | 24/45 [00:13<00:10,  2.05it/s]\u001b[A\n",
      " 56%|█████▌    | 25/45 [00:13<00:09,  2.04it/s]\u001b[A\n",
      " 58%|█████▊    | 26/45 [00:14<00:09,  2.04it/s]\u001b[A\n",
      " 60%|██████    | 27/45 [00:14<00:08,  2.04it/s]\u001b[A\n",
      " 62%|██████▏   | 28/45 [00:15<00:08,  2.03it/s]\u001b[A\n",
      " 64%|██████▍   | 29/45 [00:15<00:08,  1.99it/s]\u001b[A\n",
      " 67%|██████▋   | 30/45 [00:16<00:07,  2.00it/s]\u001b[A\n",
      " 69%|██████▉   | 31/45 [00:16<00:06,  2.01it/s]\u001b[A\n",
      " 71%|███████   | 32/45 [00:17<00:06,  2.01it/s]\u001b[A\n",
      " 73%|███████▎  | 33/45 [00:17<00:05,  2.03it/s]\u001b[A\n",
      " 76%|███████▌  | 34/45 [00:17<00:05,  2.01it/s]\u001b[A\n",
      " 78%|███████▊  | 35/45 [00:18<00:04,  2.02it/s]\u001b[A\n",
      " 80%|████████  | 36/45 [00:19<00:04,  2.00it/s]\u001b[A\n",
      " 82%|████████▏ | 37/45 [00:19<00:03,  2.01it/s]\u001b[A\n",
      " 84%|████████▍ | 38/45 [00:19<00:03,  2.04it/s]\u001b[A\n",
      " 87%|████████▋ | 39/45 [00:20<00:02,  2.05it/s]\u001b[A\n",
      " 89%|████████▉ | 40/45 [00:20<00:02,  2.03it/s]\u001b[A\n",
      " 91%|█████████ | 41/45 [00:21<00:01,  2.04it/s]\u001b[A\n",
      " 93%|█████████▎| 42/45 [00:21<00:01,  1.98it/s]\u001b[A\n",
      " 96%|█████████▌| 43/45 [00:22<00:01,  1.99it/s]\u001b[A\n",
      " 98%|█████████▊| 44/45 [00:22<00:00,  1.97it/s]\u001b[A\n",
      "100%|██████████| 45/45 [00:23<00:00,  1.91it/s]\u001b[A\n",
      "100%|██████████| 6/6 [02:13<00:00, 22.23s/it]\n"
     ]
    }
   ],
   "source": [
    "sizes = [400, 800, 1000, 1200, 1500, 2000]\n",
    "\n",
    "pvals_b = []\n",
    "pvals_c = []\n",
    "pvals_gb = []\n",
    "pvals_reg = []\n",
    "\n",
    "for size in tqdm(sizes):\n",
    "    control_ind = joblib.load(f'saved_variables/control_data_split_{size}_notarget.joblib')\n",
    "#     treatment_ind = joblib.load(f'saved_variables/treatment_data_split_{size}.joblib')\n",
    "    \n",
    "    control_ind_hist = joblib.load(f'saved_variables/control_data_hist_{size}_notarget.joblib')\n",
    "#     treatment_ind_hist = joblib.load(f'saved_variables/treatment_data_hist_{size}.joblib')\n",
    "    \n",
    "    b, c, gb, reg = run_test_AA(control_ind, control_ind_hist)\n",
    "    \n",
    "    pvals_b.append(b)\n",
    "    pvals_c.append(c)\n",
    "    pvals_gb.append(gb)\n",
    "    pvals_reg.append(reg)"
   ]
  },
  {
   "cell_type": "code",
   "execution_count": 83,
   "metadata": {},
   "outputs": [
    {
     "data": {
      "application/vnd.jupyter.widget-view+json": {
       "model_id": "e1508f2ac0964624abdcff0c62288244",
       "version_major": 2,
       "version_minor": 0
      },
      "text/plain": [
       "  0%|          | 0/6 [00:00<?, ?it/s]"
      ]
     },
     "metadata": {},
     "output_type": "display_data"
    },
    {
     "data": {
      "application/vnd.jupyter.widget-view+json": {
       "model_id": "61f1bade370f4df8bc0a0e0e5bfd13d9",
       "version_major": 2,
       "version_minor": 0
      },
      "text/plain": [
       "  0%|          | 0/45 [00:00<?, ?it/s]"
      ]
     },
     "metadata": {},
     "output_type": "display_data"
    },
    {
     "data": {
      "application/vnd.jupyter.widget-view+json": {
       "model_id": "f898cf65ebc841a29efcfdb267959a1b",
       "version_major": 2,
       "version_minor": 0
      },
      "text/plain": [
       "  0%|          | 0/45 [00:00<?, ?it/s]"
      ]
     },
     "metadata": {},
     "output_type": "display_data"
    },
    {
     "data": {
      "application/vnd.jupyter.widget-view+json": {
       "model_id": "df479408c2d548b486b82b57c1c61015",
       "version_major": 2,
       "version_minor": 0
      },
      "text/plain": [
       "  0%|          | 0/45 [00:00<?, ?it/s]"
      ]
     },
     "metadata": {},
     "output_type": "display_data"
    },
    {
     "data": {
      "application/vnd.jupyter.widget-view+json": {
       "model_id": "47ebb92f6df34573979de30b0268e621",
       "version_major": 2,
       "version_minor": 0
      },
      "text/plain": [
       "  0%|          | 0/45 [00:00<?, ?it/s]"
      ]
     },
     "metadata": {},
     "output_type": "display_data"
    },
    {
     "data": {
      "application/vnd.jupyter.widget-view+json": {
       "model_id": "c6e3ede8b53046428a2b463095d8eb02",
       "version_major": 2,
       "version_minor": 0
      },
      "text/plain": [
       "  0%|          | 0/45 [00:00<?, ?it/s]"
      ]
     },
     "metadata": {},
     "output_type": "display_data"
    },
    {
     "data": {
      "application/vnd.jupyter.widget-view+json": {
       "model_id": "db2b3e5dc194428cbd4a4e2f5da6624e",
       "version_major": 2,
       "version_minor": 0
      },
      "text/plain": [
       "  0%|          | 0/45 [00:00<?, ?it/s]"
      ]
     },
     "metadata": {},
     "output_type": "display_data"
    }
   ],
   "source": [
    "sizes = [400, 800, 1000, 1200, 1500, 2000]\n",
    "\n",
    "pvals_b = []\n",
    "pvals_c = []\n",
    "pvals_gb = []\n",
    "pvals_reg = []\n",
    "\n",
    "for size in tqdm(sizes):\n",
    "    control_ind = joblib.load(f'saved_variables/control_data_split_{size}_notarget.joblib')\n",
    "#     treatment_ind = joblib.load(f'saved_variables/treatment_data_split_{size}.joblib')\n",
    "    \n",
    "    control_ind_hist = joblib.load(f'saved_variables/control_data_hist_{size}_notarget.joblib')\n",
    "#     treatment_ind_hist = joblib.load(f'saved_variables/treatment_data_hist_{size}.joblib')\n",
    "    \n",
    "    b, c, gb, reg = run_test_AA(control_ind, control_ind_hist)\n",
    "    \n",
    "    pvals_b.append(b)\n",
    "    pvals_c.append(c)\n",
    "    pvals_gb.append(gb)\n",
    "    pvals_reg.append(reg)"
   ]
  },
  {
   "cell_type": "code",
   "execution_count": 84,
   "metadata": {},
   "outputs": [],
   "source": [
    "pvals_c = pd.DataFrame(pvals_c)\n",
    "pvals_c = pvals_c.set_axis(sizes)\n",
    "\n",
    "pvals_gb = pd.DataFrame(pvals_gb)\n",
    "pvals_gb = pvals_gb.set_axis(sizes)\n",
    "\n",
    "pvals_b = pd.DataFrame(pvals_b)\n",
    "pvals_b = pvals_b.set_axis(sizes)\n",
    "\n",
    "pvals_reg = pd.DataFrame(pvals_reg)\n",
    "pvals_reg = pvals_reg.set_axis(sizes)"
   ]
  },
  {
   "cell_type": "code",
   "execution_count": 85,
   "metadata": {},
   "outputs": [],
   "source": [
    "data_cuped = None\n",
    "for i in range(pvals_c.shape[1]):\n",
    "    data_cuped = pd.concat([data_cuped, pvals_c.iloc[:, i]])\n",
    "    \n",
    "data_grad_boost = None\n",
    "for i in range(pvals_gb.shape[1]):\n",
    "    data_grad_boost = pd.concat([data_grad_boost, pvals_gb.iloc[:, i]])\n",
    "    \n",
    "    \n",
    "data_before = None\n",
    "for i in range(pvals_b.shape[1]):\n",
    "    data_before = pd.concat([data_before, pvals_b.iloc[:, i]])\n",
    "\n",
    "data_reg = None\n",
    "for i in range(pvals_reg.shape[1]):\n",
    "    data_reg = pd.concat([data_reg, pvals_reg.iloc[:, i]])"
   ]
  },
  {
   "cell_type": "code",
   "execution_count": 86,
   "metadata": {},
   "outputs": [
    {
     "data": {
      "image/png": "[encoded data removed]",
      "text/plain": [
       "<Figure size 720x504 with 1 Axes>"
      ]
     },
     "metadata": {
      "needs_background": "light"
     },
     "output_type": "display_data"
    }
   ],
   "source": [
    "f = plt.subplots(1, figsize=(10, 7))\n",
    "sns.lineplot(data=data_cuped, label='CUPED', marker=\"o\", markersize=7, color='#3399ff')\n",
    "sns.lineplot(data=data_grad_boost, label='CUPAC', marker=\"o\", markersize=7, color='#009900')\n",
    "sns.lineplot(data=data_before, label='Default', marker=\"o\", markersize=7, color='#ff9933')\n",
    "sns.lineplot(data=data_reg, label='Ml-rate', marker=\"o\", markersize=7, color='#ff66ff')\n",
    "\n",
    "plt.plot(sizes, [0.05] * len(sizes), color=\"#ff0000\", linestyle='dashed', label='alpha')\n",
    "# plt.title('Зависимость параметра p-value оцененного по 10 запускам от размера выборки')\n",
    "plt.xlabel('Размер контрольной выборки')\n",
    "plt.ylabel('p-value')\n",
    "plt.legend()\n",
    "plt.show()"
   ]
  }
 ],
 "metadata": {
  "kernelspec": {
   "display_name": "Python 3 (ipykernel)",
   "language": "python",
   "name": "python3"
  },
  "language_info": {
   "codemirror_mode": {
    "name": "ipython",
    "version": 3
   },
   "file_extension": ".py",
   "mimetype": "text/x-python",
   "name": "python",
   "nbconvert_exporter": "python",
   "pygments_lexer": "ipython3",
   "version": "3.9.15"
  }
 },
 "nbformat": 4,
 "nbformat_minor": 4
}
