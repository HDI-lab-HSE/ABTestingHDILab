{
 "cells": [
  {
   "cell_type": "markdown",
   "metadata": {},
   "source": [
    "# Снижение дисперсии при A/B тесировании с помощью контрольных перменных, описанное в разделе 3 отчета о НИР на искусственных данных."
   ]
  },
  {
   "cell_type": "markdown",
   "metadata": {},
   "source": [
    "Предположим, что в процессе проведения A/B теста нам доступны пары наблюдений $(X_i, Y_i)_{i=1}^n$, где $X_i$ и $y_i~-~$ признаки и значение целевой метрики для $i$-го пользователя соотвественно. Суть метода контрольных переменных заключается в том, чтобы на основании значения признаков $X$ построить такую случайную величину $\\zeta$ с известным математическим ожиданием и конечной дисперсией, что\n",
    "$$\n",
    "Var(Y +\\zeta) \\ll Var(Y)\\,.\n",
    "$$\n",
    "В таком случае выводы о наличие эффекта при A/B тестировании будут делаться на основании разницы в средних, обнаруживаемой в наборе величин $\\{Y_i + \\zeta_i\\}$, обладающих меньшей дисперсией. Таким образом, за счет снижения дисперсии $\\{Y_i + \\zeta_i\\}$ можно снизить размер выборки, требуемый для получения статистически значимых результатов."
   ]
  },
  {
   "cell_type": "code",
   "execution_count": 1,
   "metadata": {},
   "outputs": [],
   "source": [
    "from tqdm.notebook import tqdm\n",
    "import numpy as np\n",
    "import statsmodels.api as sm\n",
    "import pandas as pd\n",
    "import joblib\n",
    "from numpy.random import normal\n",
    "\n",
    "import warnings\n",
    "warnings.filterwarnings('ignore')\n",
    "\n",
    "from sklearn import linear_model\n",
    "from sklearn.compose import ColumnTransformer\n",
    "from sklearn.ensemble import RandomForestClassifier, GradientBoostingClassifier, GradientBoostingRegressor\n",
    "from sklearn.impute import SimpleImputer\n",
    "from sklearn.pipeline import Pipeline\n",
    "from sklearn.preprocessing import normalize\n",
    "\n",
    "import matplotlib.pyplot as plt\n",
    "plt.rcParams.update(plt.rcParamsDefault)\n",
    "import seaborn as sns\n",
    "from scipy import stats\n",
    "%matplotlib inline"
   ]
  },
  {
   "cell_type": "code",
   "execution_count": 2,
   "metadata": {},
   "outputs": [],
   "source": [
    "def get_coef_significance(X, Y):\n",
    "    \"\"\"\n",
    "    Функция для оценки статистической значимость коэффициентов линейной регрессии\n",
    "\n",
    "    Параметры:\n",
    "        X - DataFrame - данные, содержащие несколько объектов с признаками\n",
    "        Y - array - целевая метрика для объектов из X\n",
    "\n",
    "    Выход:\n",
    "        table - DataFrame - таблица со значениями p-value, относительно которых можно делать вывод о статистической значимости коэффициента при каждом признаке в X.\n",
    "        lin_reg - statsmodels.OLS - обученная модель регрессии\n",
    "    \"\"\"\n",
    "    X_train = sm.tools.tools.add_constant(X.values.astype(np.float64), prepend=True, has_constant='skip')\n",
    "    \n",
    "    Y_train = Y\n",
    "    lin_reg = sm.OLS(Y_train, X_train).fit()\n",
    "    summary = lin_reg.summary().tables[1]\n",
    "    return pd.read_html(summary.as_html(), header=0, index_col=0)[0], lin_reg"
   ]
  },
  {
   "cell_type": "code",
   "execution_count": 3,
   "metadata": {},
   "outputs": [],
   "source": [
    "def check_pval(pval):\n",
    "    \"\"\"\n",
    "    Функция для автоматической проверки p-value на статистическую значимость\n",
    "\n",
    "    Параметры:\n",
    "        pval - float - значение p-value\n",
    "    \"\"\"  \n",
    "    if pval <= 0.05:\n",
    "        print(f'p-val: {pval}\\nСтат. значимая разница (отвергли нулевую гипотезу о равенстве средних)')\n",
    "    else:\n",
    "        print(f'p-val: {pval}\\nСтатзначимой разницы нет')"
   ]
  },
  {
   "cell_type": "code",
   "execution_count": 4,
   "metadata": {},
   "outputs": [],
   "source": [
    "def ttest(x, y, randomized=False, verbose=False):\n",
    "    \"\"\"\n",
    "    Функция для проведения T-testa в двух модификациях: с обычной и с рандомизированной T-статистикой.\n",
    "\n",
    "    Параметры:\n",
    "        x - array - значение целевой метрики в тестовой группе\n",
    "        y - array - значение целевой метрики в контрольной группе\n",
    "        randomized - bool - индикатор того, какой тест проводить (рандомизированный - 1, стандартный - 0)\n",
    "        verbose - bool - печатать ли вспомогательную информацию\n",
    "    \n",
    "    Выход:\n",
    "         полученное в T-тесте p-value (float)\n",
    "    \"\"\" \n",
    "    n_x = x.shape[0]\n",
    "    n_y = y.shape[0]\n",
    "    \n",
    "    s_x = np.var(x, ddof=1)\n",
    "    s_y = np.var(y, ddof=1)\n",
    "    \n",
    "    if randomized:\n",
    "        b0 = n_x ** 0.75\n",
    "        b1 = n_y ** 0.75\n",
    "        \n",
    "        dof =  (s_x / n_x + s_y / n_y) ** 2 / ((s_x / n_x) ** 2 / (n_x - 1) + (s_y / n_y) ** 2 / (n_y - 1))\n",
    "        \n",
    "        \n",
    "        theta_x = np.append(np.tile(np.array([1, np.sqrt(2), 1, np.sqrt(2)]), math.ceil(b0)),\\\n",
    "                   np.tile(np.array([1, np.sqrt(2), -1, -np.sqrt(2)]), n_x // 4 + 1))\n",
    "        \n",
    "        theta_x = theta_x[:n_x]\n",
    "\n",
    "        theta_y = np.append(np.tile(np.array([1, np.sqrt(2), 1, np.sqrt(2)]), math.ceil(b1)),\\\n",
    "                   np.tile(np.array([1, np.sqrt(2), -1, -np.sqrt(2)]), n_y // 4 + 1))\n",
    "        \n",
    "        theta_y = theta_y[:n_y]\n",
    "\n",
    "        t_val = (theta_x @ x - theta_y @ y) / np.sqrt(s_x * np.sum(theta_x ** 2) + s_y * np.sum(theta_y ** 2))\n",
    "        p = 2*(stats.t.cdf(-abs(t_val), dof))\n",
    "        \n",
    "    else: \n",
    "        t_val, p = stats.ttest_ind(x, y, equal_var=False) \n",
    "        \n",
    "    if verbose:\n",
    "        check_pval(p)\n",
    "    return \n"
   ]
  },
  {
   "cell_type": "markdown",
   "metadata": {},
   "source": [
    "# Генерация искуственных данных, описанная в разделе 3.5 отчета о НИР."
   ]
  },
  {
   "cell_type": "markdown",
   "metadata": {},
   "source": [
    "Генерация данных с количественной целевой переменной $y$ и 3 признаками в матрице $X$ с помощью пуассоновской регрессии."
   ]
  },
  {
   "cell_type": "code",
   "execution_count": 5,
   "metadata": {},
   "outputs": [],
   "source": [
    "def generate_data(control_size, scale, hist_size=5_000, seed=37):\n",
    "    \"\"\"\n",
    "    Функция для генерации данных.\n",
    "\n",
    "    Параметры:\n",
    "        control_size - int - число объектов в контрольной группе\n",
    "        scale - float - отношение размера тетсовой группы к контрольной\n",
    "        hist_size - int - число объектов в исторической выборке\n",
    "        seed - int - число для фиксации случайности\n",
    "\n",
    "    Выход:\n",
    "        X_control - DataFrame - таблица с данными для контрольной выборки\n",
    "        X_experiment - DataFrame - таблица с данными для тестовой выборки\n",
    "        X_hist - DataFrame - таблица с историческими данными\n",
    "    \"\"\" \n",
    "    np.random.seed(seed)\n",
    "\n",
    "    \n",
    "    # Генерация матриц признаков\n",
    "    \n",
    "    M_hist = hist_size\n",
    "    X_hist = np.hstack([\n",
    "        normal(0.0, 1.0, M_hist).reshape(M_hist, 1),\n",
    "        normal(0.0, 1.0, M_hist).reshape(M_hist, 1),\n",
    "        normal(0.0, 1.0, M_hist).reshape(M_hist, 1)\n",
    "    ])\n",
    "\n",
    "    scale = 2.5\n",
    "    M_control = control_size\n",
    "    X_control = np.hstack([\n",
    "        normal(0.0, 1.0, M_control).reshape(M_control, 1),\n",
    "        normal(0.0, 1.0, M_control).reshape(M_control, 1),\n",
    "        normal(0.0, 1.0, M_control).reshape(M_control, 1)\n",
    "    ])\n",
    "\n",
    "    M_experiment = int(M_control * scale)\n",
    "    X_experiment = np.hstack([\n",
    "        normal(0.0, 1, M_experiment).reshape(M_experiment, 1),\n",
    "        normal(0.0, 1, M_experiment).reshape(M_experiment, 1),\n",
    "        normal(0.0, 1, M_experiment).reshape(M_experiment, 1)\n",
    "    ])\n",
    "\n",
    "\n",
    "    w = np.array([0.5, 0.3, 0.7])\n",
    "    n = w.shape[0]\n",
    "    b1 = 0.4\n",
    "    b2 = 0.5\n",
    "\n",
    "\n",
    "    lambda_hist = np.exp(X_hist @ w + b1 + normal(0.0, 0.01, M_hist))\n",
    "\n",
    "    lambda_control = np.exp(X_control @ w + b1 + normal(0.0, 0.01, M_control))\n",
    "    lambda_experiment = np.exp(X_experiment @ w + b2 + normal(0.0, 0.01, M_experiment))\n",
    "    \n",
    "    # Генерация целевой метрики\n",
    "    y_hist = np.random.poisson(lambda_hist)\n",
    "    y_control = np.random.poisson(lambda_control)\n",
    "    y_experiment = np.random.poisson(lambda_experiment)\n",
    "    \n",
    "    \n",
    "    X_control = np.hstack((X_control, \n",
    "                           np.zeros_like(X_control[:, 0]).reshape(-1, 1), \n",
    "                           y_control.reshape(-1, 1)))\n",
    "                          \n",
    "    X_experiment = np.hstack((X_experiment, \n",
    "                              np.ones_like(X_experiment[:, 0]).reshape(-1, 1), \n",
    "                              y_experiment.reshape(-1, 1)))\n",
    "                             \n",
    "    X_hist = np.hstack((X_hist, \n",
    "                        np.zeros_like(X_hist[:, 0]).reshape(-1, 1), \n",
    "                        y_hist.reshape(-1, 1)))\n",
    "    \n",
    "    columns = [f\"f{i}\" for i in range(0, n)]\n",
    "    columns += ['treatment', 'visit']\n",
    "    \n",
    "    X_control = pd.DataFrame(X_control, columns=columns)\n",
    "    X_experiment = pd.DataFrame(X_experiment, columns=columns)\n",
    "    X_hist = pd.DataFrame(X_hist, columns=columns)\n",
    "    \n",
    "    return X_control, X_experiment, X_hist "
   ]
  },
  {
   "cell_type": "code",
   "execution_count": 6,
   "metadata": {},
   "outputs": [],
   "source": [
    "scale = 2.5\n",
    "X_control, X_experiment, X_hist = generate_data(2_000, scale, 5_000, seed=37)"
   ]
  },
  {
   "cell_type": "code",
   "execution_count": 7,
   "metadata": {},
   "outputs": [
    {
     "data": {
      "text/plain": [
       "Text(0.5, 1.0, 'Experiment sample')"
      ]
     },
     "execution_count": 7,
     "metadata": {},
     "output_type": "execute_result"
    },
    {
     "data": {
      "image/png": "[encoded data removed]",
      "text/plain": [
       "<Figure size 2000x700 with 3 Axes>"
      ]
     },
     "metadata": {},
     "output_type": "display_data"
    }
   ],
   "source": [
    "f, (ax1, ax2, ax3) = plt.subplots(1, 3, figsize=(20, 7))\n",
    "sns.histplot(X_control['visit'], kde=True, ax=ax1)\n",
    "ax1.set_title('Control sample')\n",
    "\n",
    "sns.histplot(X_hist['visit'], kde=True, ax=ax2)\n",
    "ax2.set_title('History sample')\n",
    "\n",
    "sns.histplot(X_experiment['visit'], kde=True, ax=ax3)\n",
    "ax3.set_title('Experiment sample')"
   ]
  },
  {
   "cell_type": "code",
   "execution_count": 8,
   "metadata": {},
   "outputs": [
    {
     "data": {
      "text/html": [
       "<div>\n",
       "<style scoped>\n",
       "    .dataframe tbody tr th:only-of-type {\n",
       "        vertical-align: middle;\n",
       "    }\n",
       "\n",
       "    .dataframe tbody tr th {\n",
       "        vertical-align: top;\n",
       "    }\n",
       "\n",
       "    .dataframe thead th {\n",
       "        text-align: right;\n",
       "    }\n",
       "</style>\n",
       "<table border=\"1\" class=\"dataframe\">\n",
       "  <thead>\n",
       "    <tr style=\"text-align: right;\">\n",
       "      <th></th>\n",
       "      <th>C&amp;E</th>\n",
       "      <th>H&amp;E</th>\n",
       "      <th>C&amp;H</th>\n",
       "    </tr>\n",
       "  </thead>\n",
       "  <tbody>\n",
       "    <tr>\n",
       "      <th>pvalue</th>\n",
       "      <td>0.000162</td>\n",
       "      <td>2.868084e-07</td>\n",
       "      <td>0.861076</td>\n",
       "    </tr>\n",
       "  </tbody>\n",
       "</table>\n",
       "</div>"
      ],
      "text/plain": [
       "             C&E           H&E       C&H\n",
       "pvalue  0.000162  2.868084e-07  0.861076"
      ]
     },
     "execution_count": 8,
     "metadata": {},
     "output_type": "execute_result"
    }
   ],
   "source": [
    "data = [[stats.ttest_ind(X_control['visit'], X_experiment['visit'], equal_var=False).pvalue,\n",
    "       stats.ttest_ind(X_hist['visit'], X_experiment['visit'], equal_var=False).pvalue,\n",
    "       stats.ttest_ind(X_control['visit'], X_hist['visit'], equal_var=False).pvalue]]\n",
    "\n",
    "pd.DataFrame(data, columns = ['C&E', 'H&E', 'C&H'], index=['pvalue'])"
   ]
  },
  {
   "cell_type": "markdown",
   "metadata": {},
   "source": [
    "# Методы снижения дисперсии при помощи контрольных переменных"
   ]
  },
  {
   "cell_type": "markdown",
   "metadata": {},
   "source": [
    "## Метод CUPED из раздела 3.1 отчета о НИР"
   ]
  },
  {
   "cell_type": "markdown",
   "metadata": {},
   "source": [
    "A. Deng, Y. Xu, R. Kohavi, T. Walker. \"Improving the sensitivity of online controlled experiments by utilizing pre-experiment data\""
   ]
  },
  {
   "cell_type": "code",
   "execution_count": 9,
   "metadata": {},
   "outputs": [],
   "source": [
    "def modify_with_cuped(control, experimental, control_hist, experimental_hist, columns, verbose=False):\n",
    "    \"\"\"\n",
    "    Применение метода CUPED к контрольной и тестовой выборкам.\n",
    "        \n",
    "    Параметры:\n",
    "        control - DataFrame - объекты, относящиеся к контрольной группе\n",
    "        experimental - DataFrame - объекты, относящиеся к контрольной группе\n",
    "        control_hist - DataFrame - объекты, относящиеся к историческим данным\n",
    "        experimental_hist - DataFrame - объекты, относящиеся к историческим данным\n",
    "        columns - list[str] - имена признаков, используемые в качестве контрольных переменных\n",
    "        pipeline - bool - индикатор дополнительного преобразования признаков\n",
    "        encoder - str - какой энкодер использовать, если pipeline=True\n",
    "        verbose - bool - печатать ли впомогательную информацию \n",
    "    Выход:\n",
    "        p-value - float - значение p-value до и после применения CUPED\n",
    "    \"\"\"\n",
    "    if verbose:\n",
    "        print(f\"Control size: {control.shape[0]}, Experimental size: {experimental.shape[0]}\")\n",
    "\n",
    "    X = pd.concat((control_hist, experimental_hist), axis=0).sample(frac=1)\n",
    "    \n",
    "    Y = X['visit']\n",
    "    X = X[columns]\n",
    "    \n",
    "    means = np.mean(X)\n",
    "    X = X - means\n",
    "    \n",
    "    # Обучение модели\n",
    "    reg = Pipeline(\n",
    "        [\n",
    "            (\"regressor\", linear_model.LinearRegression()),\n",
    "        ]\n",
    "    )\n",
    "    reg.fit(X, Y)\n",
    "\n",
    "    c = control[columns] - means\n",
    "    e = experimental[columns] - means\n",
    "\n",
    "    \n",
    "\n",
    "    y_c = control['visit']\n",
    "    y_e = experimental['visit']\n",
    "\n",
    "    # Изменение целевой переменной\n",
    "    control_cuped = y_c - reg.predict(c) + reg.predict(c).mean()\n",
    "    experimental_cuped = y_e - reg.predict(e) + reg.predict(e).mean()\n",
    "    \n",
    "    if verbose:\n",
    "        print(f\"control var new: {np.var(control_cuped)}, var old: {np.var(y_c)}\")\n",
    "        print(f\"exper var new: {np.var(experimental_cuped)}, var old: {np.var(y_e)}\")\n",
    "\n",
    "        print(f\"Mean diff\\nold: {y_c.mean() - y_e.mean()}, new: {control_cuped.mean() - experimental_cuped.mean()}\\n\")\n",
    "    \n",
    "    \n",
    "    p_before = ttest(y_c, y_e)\n",
    "    \n",
    "    p_after = ttest(control_cuped, experimental_cuped)\n",
    "    return p_before, p_after"
   ]
  },
  {
   "cell_type": "markdown",
   "metadata": {},
   "source": [
    "## Метод CUPAC из раздела 3.2 отчета о НИР"
   ]
  },
  {
   "cell_type": "markdown",
   "metadata": {},
   "source": [
    "A. Poyarkov, A. Drutsa, A. Khalyavin, G. Gusev, P. Serdyukov. \"Boosted decision tree regression adjustment for variance reduction in online controlled experiments.\""
   ]
  },
  {
   "cell_type": "code",
   "execution_count": 10,
   "metadata": {},
   "outputs": [],
   "source": [
    "def modify_with_cupac(control, experimental, control_hist, experimental_hist, columns, verbose=False):\n",
    "\n",
    "    if verbose:\n",
    "        print(f\"Control size: {control.shape[0]}, Experimental size: {experimental.shape[0]}\")\n",
    "\n",
    "    X = pd.concat((control_hist, experimental_hist), axis=0).sample(frac=1)\n",
    "\n",
    "\n",
    "    Y = X['visit']\n",
    "    X = X[columns]\n",
    "    \n",
    "    means = np.mean(X)\n",
    "    X = X - means\n",
    "    \n",
    "    # Обучение модели\n",
    "    reg = Pipeline(\n",
    "        [\n",
    "            (\"regressor\", GradientBoostingRegressor(n_estimators=200, learning_rate=0.01, min_samples_split=2, min_samples_leaf=1, max_depth=3, random_state=2).fit(X, Y)),\n",
    "        ]\n",
    "    )\n",
    "    reg.fit(X, Y)\n",
    "\n",
    "    c = control[columns] - means\n",
    "    e = experimental[columns] - means\n",
    "    \n",
    "\n",
    "\n",
    "    y_c = control['visit']\n",
    "    y_e = experimental['visit']\n",
    "\n",
    "    \n",
    "    # Изменение целевой переменной\n",
    "    control_cuped = y_c - reg.predict(c)  + reg.predict(c).mean()\n",
    "    experimental_cuped = y_e - reg.predict(e) + reg.predict(e).mean()\n",
    "\n",
    "    \n",
    "    if verbose:\n",
    "        print(f\"control var new: {np.var(control_cuped)}, var old: {np.var(y_c)}\")\n",
    "        print(f\"exper var new: {np.var(experimental_cuped)}, var old: {np.var(y_e)}\")\n",
    "\n",
    "        print(f\"Mean diff\\nold: {y_c.mean() - y_e.mean()}, new: {control_cuped.mean() - experimental_cuped.mean()}\\n\")\n",
    "    \n",
    "    \n",
    "    p_before = ttest(y_c, y_e)\n",
    "    \n",
    "    p_after = ttest(control_cuped, experimental_cuped)\n",
    "    return p_before, p_after"
   ]
  },
  {
   "cell_type": "markdown",
   "metadata": {},
   "source": [
    "## Метод ML-rate из раздела 3.3 отчета о НИР"
   ]
  },
  {
   "cell_type": "markdown",
   "metadata": {},
   "source": [
    "Y. Guo, D. Coey, M. Konutgan, W. Li, C. Schoener, M. Goldman. \"Machine learning for variance reduction in online experiments.\""
   ]
  },
  {
   "cell_type": "code",
   "execution_count": 11,
   "metadata": {},
   "outputs": [],
   "source": [
    "def modify_with_ml_rate(control, experimental, control_hist, experimental_hist, columns, verbose=False, aa=False):\n",
    "    if verbose:\n",
    "        print(f\"Control size: {control.shape[0]}, Experimental size: {experimental.shape[0]}\")\n",
    "    \n",
    "    if aa:\n",
    "        experimental['treatment'] = 1\n",
    "        \n",
    "    Z = pd.concat((control, experimental, control_hist, experimental_hist), axis=0).sample(frac=1)\n",
    "    means = np.mean(Z[columns])\n",
    "\n",
    "    Y = Z['visit']\n",
    "    X = Z[columns]\n",
    "    X = X - means.values\n",
    "    X = pd.concat((X, Z['treatment']), axis=1)\n",
    "    \n",
    "    # Обучение модели линейной регрессии\n",
    "    table_summary, model = get_coef_significance(sm.tools.tools.add_constant(X), Y)\n",
    "    p_after = table_summary.iloc[-1, :]['P>|t|']\n",
    "    \n",
    "    return p_after"
   ]
  },
  {
   "cell_type": "markdown",
   "metadata": {},
   "source": [
    "# Эксперимент по сравнению методов на искусственных данных, описанный в разделе 3.5 отчета о НИР"
   ]
  },
  {
   "cell_type": "code",
   "execution_count": 12,
   "metadata": {},
   "outputs": [],
   "source": [
    "sizes = [100, 200, 400, 600, 800]\n",
    "def draw_graphics(before=None, after_cup=None, after_gb=None, after_reg=None, title='', alpha=0.05, sizes=sizes):\n",
    "    \"\"\"\n",
    "    Функция для отрисовки результатов работы методов\n",
    "\n",
    "    Параметры:\n",
    "        before - array - значения p-value для метода с использование изначальной целевой переменной\n",
    "        after_cup - array - значения p-value для метода с использование целевой переменной, модифицированной методов CUPED\n",
    "        after_gb - array - значения p-value для метода с использование целевой переменной, модифицированной методов CUPAC\n",
    "        after_reg - array - значения p-value для метода с использование целевой переменной, модифицированной методов Ml-rate\n",
    "        title - str - дополнительная над графиками\n",
    "        alpha - float - уровень значимости\n",
    "        sizes - array - размеры для контрольных выборок, используемые в эксперименте\n",
    "    \"\"\"\n",
    "    if len(title) != 0:\n",
    "        print('\\n', title, '\\n')\n",
    "        \n",
    "    f, (ax1, ax2) = plt.subplots(1, 2, figsize=(18, 5))\n",
    "\n",
    "    ax1.plot(sizes, [alpha] * len(sizes), color=\"red\", linestyle='dashed', label='alpha')\n",
    "    if not (before is None):\n",
    "        ax1.plot(sizes, before, marker='o', ms=5, label='Default')\n",
    "        ax2.plot(sizes, np.log(before), marker='o', ms=5, label='Default')\n",
    "    if not (after_cup is None):\n",
    "        ax1.plot(sizes, after_cup, marker='o', ms=5, label='CUPED')\n",
    "        ax2.plot(sizes, np.log(after_cup), marker='o', ms=5, label='CUPED')\n",
    "    if not (after_gb is None):\n",
    "        ax1.plot(sizes, after_gb, marker='o', ms=5, label='CUPAC')\n",
    "        ax2.plot(sizes, np.log(after_gb), marker='o', ms=5, label='CUPAC')\n",
    "    if not (after_reg is None):\n",
    "        ax1.plot(sizes, after_reg, marker='o', ms=5, label='Ml-rate')\n",
    "        ax2.plot(sizes, np.log(after_reg), marker='o', ms=5, label='Ml-rate')\n",
    "    ax1.set_xlabel('Размер контрольной выборки', fontsize=15)\n",
    "    ax1.set_ylabel('p-value', fontsize=15)\n",
    "#     ax1.set_title(f'Поведение p-value в зависимости от размера выборки', fontsize=15)\n",
    "\n",
    "    ax2.plot(sizes, [np.log(alpha)] * len(sizes), color=\"red\", linestyle='dashed', label='alpha')\n",
    "    ax2.set_xlabel('Размер контрольной выборки', fontsize=15)\n",
    "    ax2.set_ylabel('log p-value', fontsize=15)\n",
    "#     ax2.set_title(f'Поведение log p-value в зависимости от размера выборки',fontsize=15)\n",
    "\n",
    "    ax1.legend(fontsize='x-large')\n",
    "    ax2.legend(fontsize='x-large')"
   ]
  },
  {
   "cell_type": "code",
   "execution_count": 13,
   "metadata": {},
   "outputs": [
    {
     "data": {
      "application/json": {
       "ascii": false,
       "bar_format": null,
       "colour": null,
       "elapsed": 0.01748204231262207,
       "initial": 0,
       "n": 0,
       "ncols": null,
       "nrows": 24,
       "postfix": null,
       "prefix": "",
       "rate": null,
       "total": 100,
       "unit": "it",
       "unit_divisor": 1000,
       "unit_scale": false
      },
      "application/vnd.jupyter.widget-view+json": {
       "model_id": "5483deb284c042dea06e986933d38bde",
       "version_major": 2,
       "version_minor": 0
      },
      "text/plain": [
       "  0%|          | 0/100 [00:00<?, ?it/s]"
      ]
     },
     "metadata": {},
     "output_type": "display_data"
    },
    {
     "ename": "KeyboardInterrupt",
     "evalue": "",
     "output_type": "error",
     "traceback": [
      "\u001b[0;31m---------------------------------------------------------------------------\u001b[0m",
      "\u001b[0;31mKeyboardInterrupt\u001b[0m                         Traceback (most recent call last)",
      "Cell \u001b[0;32mIn [13], line 36\u001b[0m\n\u001b[1;32m     31\u001b[0m \u001b[38;5;66;03m# Запуск тестов на подвыборках групп размерами [100, 200, 400, 600, 800]\u001b[39;00m\n\u001b[1;32m     32\u001b[0m p_bef, p_aft_cup \u001b[38;5;241m=\u001b[39m modify_with_cuped(control,  experiment, \n\u001b[1;32m     33\u001b[0m                             X_hist_temp[X_hist_temp[\u001b[38;5;124m'\u001b[39m\u001b[38;5;124mtreatment\u001b[39m\u001b[38;5;124m'\u001b[39m] \u001b[38;5;241m==\u001b[39m \u001b[38;5;241m0\u001b[39m], \n\u001b[1;32m     34\u001b[0m                             X_hist_temp[X_hist_temp[\u001b[38;5;124m'\u001b[39m\u001b[38;5;124mtreatment\u001b[39m\u001b[38;5;124m'\u001b[39m] \u001b[38;5;241m==\u001b[39m \u001b[38;5;241m1\u001b[39m], cols)\n\u001b[0;32m---> 36\u001b[0m p_bef, p_aft_gb \u001b[38;5;241m=\u001b[39m \u001b[43mmodify_with_cupac\u001b[49m\u001b[43m(\u001b[49m\u001b[43mcontrol\u001b[49m\u001b[43m,\u001b[49m\u001b[43m  \u001b[49m\u001b[43mexperiment\u001b[49m\u001b[43m,\u001b[49m\u001b[43m \u001b[49m\n\u001b[1;32m     37\u001b[0m \u001b[43m                            \u001b[49m\u001b[43mX_hist_temp\u001b[49m\u001b[43m[\u001b[49m\u001b[43mX_hist_temp\u001b[49m\u001b[43m[\u001b[49m\u001b[38;5;124;43m'\u001b[39;49m\u001b[38;5;124;43mtreatment\u001b[39;49m\u001b[38;5;124;43m'\u001b[39;49m\u001b[43m]\u001b[49m\u001b[43m \u001b[49m\u001b[38;5;241;43m==\u001b[39;49m\u001b[43m \u001b[49m\u001b[38;5;241;43m0\u001b[39;49m\u001b[43m]\u001b[49m\u001b[43m,\u001b[49m\n\u001b[1;32m     38\u001b[0m \u001b[43m                            \u001b[49m\u001b[43mX_hist_temp\u001b[49m\u001b[43m[\u001b[49m\u001b[43mX_hist_temp\u001b[49m\u001b[43m[\u001b[49m\u001b[38;5;124;43m'\u001b[39;49m\u001b[38;5;124;43mtreatment\u001b[39;49m\u001b[38;5;124;43m'\u001b[39;49m\u001b[43m]\u001b[49m\u001b[43m \u001b[49m\u001b[38;5;241;43m==\u001b[39;49m\u001b[43m \u001b[49m\u001b[38;5;241;43m1\u001b[39;49m\u001b[43m]\u001b[49m\u001b[43m,\u001b[49m\u001b[43m \u001b[49m\u001b[43mcols\u001b[49m\u001b[43m)\u001b[49m\n\u001b[1;32m     40\u001b[0m p_aft_reg \u001b[38;5;241m=\u001b[39m modify_with_ml_rate(control,  experiment, \n\u001b[1;32m     41\u001b[0m                             X_hist_temp[X_hist_temp[\u001b[38;5;124m'\u001b[39m\u001b[38;5;124mtreatment\u001b[39m\u001b[38;5;124m'\u001b[39m] \u001b[38;5;241m==\u001b[39m \u001b[38;5;241m0\u001b[39m],\n\u001b[1;32m     42\u001b[0m                             X_hist_temp[X_hist_temp[\u001b[38;5;124m'\u001b[39m\u001b[38;5;124mtreatment\u001b[39m\u001b[38;5;124m'\u001b[39m] \u001b[38;5;241m==\u001b[39m \u001b[38;5;241m1\u001b[39m], cols_regr)\n\u001b[1;32m     43\u001b[0m cur_pvals_b\u001b[38;5;241m.\u001b[39mappend(p_bef)\n",
      "Cell \u001b[0;32mIn [10], line 21\u001b[0m, in \u001b[0;36mmodify_with_cupac\u001b[0;34m(control, experimental, control_hist, experimental_hist, columns, verbose)\u001b[0m\n\u001b[1;32m     15\u001b[0m \u001b[38;5;66;03m# Обучение модели\u001b[39;00m\n\u001b[1;32m     16\u001b[0m reg \u001b[38;5;241m=\u001b[39m Pipeline(\n\u001b[1;32m     17\u001b[0m     [\n\u001b[1;32m     18\u001b[0m         (\u001b[38;5;124m\"\u001b[39m\u001b[38;5;124mregressor\u001b[39m\u001b[38;5;124m\"\u001b[39m, GradientBoostingRegressor(n_estimators\u001b[38;5;241m=\u001b[39m\u001b[38;5;241m200\u001b[39m, learning_rate\u001b[38;5;241m=\u001b[39m\u001b[38;5;241m0.01\u001b[39m, min_samples_split\u001b[38;5;241m=\u001b[39m\u001b[38;5;241m2\u001b[39m, min_samples_leaf\u001b[38;5;241m=\u001b[39m\u001b[38;5;241m1\u001b[39m, max_depth\u001b[38;5;241m=\u001b[39m\u001b[38;5;241m3\u001b[39m, random_state\u001b[38;5;241m=\u001b[39m\u001b[38;5;241m2\u001b[39m)\u001b[38;5;241m.\u001b[39mfit(X, Y)),\n\u001b[1;32m     19\u001b[0m     ]\n\u001b[1;32m     20\u001b[0m )\n\u001b[0;32m---> 21\u001b[0m \u001b[43mreg\u001b[49m\u001b[38;5;241;43m.\u001b[39;49m\u001b[43mfit\u001b[49m\u001b[43m(\u001b[49m\u001b[43mX\u001b[49m\u001b[43m,\u001b[49m\u001b[43m \u001b[49m\u001b[43mY\u001b[49m\u001b[43m)\u001b[49m\n\u001b[1;32m     23\u001b[0m c \u001b[38;5;241m=\u001b[39m control[columns] \u001b[38;5;241m-\u001b[39m means\n\u001b[1;32m     24\u001b[0m e \u001b[38;5;241m=\u001b[39m experimental[columns] \u001b[38;5;241m-\u001b[39m means\n",
      "File \u001b[0;32m/opt/homebrew/Caskroom/miniforge/base/lib/python3.9/site-packages/sklearn/pipeline.py:346\u001b[0m, in \u001b[0;36mPipeline.fit\u001b[0;34m(self, X, y, **fit_params)\u001b[0m\n\u001b[1;32m    344\u001b[0m     \u001b[38;5;28;01mif\u001b[39;00m \u001b[38;5;28mself\u001b[39m\u001b[38;5;241m.\u001b[39m_final_estimator \u001b[38;5;241m!=\u001b[39m \u001b[38;5;124m'\u001b[39m\u001b[38;5;124mpassthrough\u001b[39m\u001b[38;5;124m'\u001b[39m:\n\u001b[1;32m    345\u001b[0m         fit_params_last_step \u001b[38;5;241m=\u001b[39m fit_params_steps[\u001b[38;5;28mself\u001b[39m\u001b[38;5;241m.\u001b[39msteps[\u001b[38;5;241m-\u001b[39m\u001b[38;5;241m1\u001b[39m][\u001b[38;5;241m0\u001b[39m]]\n\u001b[0;32m--> 346\u001b[0m         \u001b[38;5;28;43mself\u001b[39;49m\u001b[38;5;241;43m.\u001b[39;49m\u001b[43m_final_estimator\u001b[49m\u001b[38;5;241;43m.\u001b[39;49m\u001b[43mfit\u001b[49m\u001b[43m(\u001b[49m\u001b[43mXt\u001b[49m\u001b[43m,\u001b[49m\u001b[43m \u001b[49m\u001b[43my\u001b[49m\u001b[43m,\u001b[49m\u001b[43m \u001b[49m\u001b[38;5;241;43m*\u001b[39;49m\u001b[38;5;241;43m*\u001b[39;49m\u001b[43mfit_params_last_step\u001b[49m\u001b[43m)\u001b[49m\n\u001b[1;32m    348\u001b[0m \u001b[38;5;28;01mreturn\u001b[39;00m \u001b[38;5;28mself\u001b[39m\n",
      "File \u001b[0;32m/opt/homebrew/Caskroom/miniforge/base/lib/python3.9/site-packages/sklearn/ensemble/_gb.py:504\u001b[0m, in \u001b[0;36mBaseGradientBoosting.fit\u001b[0;34m(self, X, y, sample_weight, monitor)\u001b[0m\n\u001b[1;32m    501\u001b[0m     \u001b[38;5;28mself\u001b[39m\u001b[38;5;241m.\u001b[39m_resize_state()\n\u001b[1;32m    503\u001b[0m \u001b[38;5;66;03m# fit the boosting stages\u001b[39;00m\n\u001b[0;32m--> 504\u001b[0m n_stages \u001b[38;5;241m=\u001b[39m \u001b[38;5;28;43mself\u001b[39;49m\u001b[38;5;241;43m.\u001b[39;49m\u001b[43m_fit_stages\u001b[49m\u001b[43m(\u001b[49m\n\u001b[1;32m    505\u001b[0m \u001b[43m    \u001b[49m\u001b[43mX\u001b[49m\u001b[43m,\u001b[49m\u001b[43m \u001b[49m\u001b[43my\u001b[49m\u001b[43m,\u001b[49m\u001b[43m \u001b[49m\u001b[43mraw_predictions\u001b[49m\u001b[43m,\u001b[49m\u001b[43m \u001b[49m\u001b[43msample_weight\u001b[49m\u001b[43m,\u001b[49m\u001b[43m \u001b[49m\u001b[38;5;28;43mself\u001b[39;49m\u001b[38;5;241;43m.\u001b[39;49m\u001b[43m_rng\u001b[49m\u001b[43m,\u001b[49m\u001b[43m \u001b[49m\u001b[43mX_val\u001b[49m\u001b[43m,\u001b[49m\u001b[43m \u001b[49m\u001b[43my_val\u001b[49m\u001b[43m,\u001b[49m\n\u001b[1;32m    506\u001b[0m \u001b[43m    \u001b[49m\u001b[43msample_weight_val\u001b[49m\u001b[43m,\u001b[49m\u001b[43m \u001b[49m\u001b[43mbegin_at_stage\u001b[49m\u001b[43m,\u001b[49m\u001b[43m \u001b[49m\u001b[43mmonitor\u001b[49m\u001b[43m)\u001b[49m\n\u001b[1;32m    508\u001b[0m \u001b[38;5;66;03m# change shape of arrays after fit (early-stopping or additional ests)\u001b[39;00m\n\u001b[1;32m    509\u001b[0m \u001b[38;5;28;01mif\u001b[39;00m n_stages \u001b[38;5;241m!=\u001b[39m \u001b[38;5;28mself\u001b[39m\u001b[38;5;241m.\u001b[39mestimators_\u001b[38;5;241m.\u001b[39mshape[\u001b[38;5;241m0\u001b[39m]:\n",
      "File \u001b[0;32m/opt/homebrew/Caskroom/miniforge/base/lib/python3.9/site-packages/sklearn/ensemble/_gb.py:561\u001b[0m, in \u001b[0;36mBaseGradientBoosting._fit_stages\u001b[0;34m(self, X, y, raw_predictions, sample_weight, random_state, X_val, y_val, sample_weight_val, begin_at_stage, monitor)\u001b[0m\n\u001b[1;32m    556\u001b[0m     old_oob_score \u001b[38;5;241m=\u001b[39m loss_(y[\u001b[38;5;241m~\u001b[39msample_mask],\n\u001b[1;32m    557\u001b[0m                           raw_predictions[\u001b[38;5;241m~\u001b[39msample_mask],\n\u001b[1;32m    558\u001b[0m                           sample_weight[\u001b[38;5;241m~\u001b[39msample_mask])\n\u001b[1;32m    560\u001b[0m \u001b[38;5;66;03m# fit next stage of trees\u001b[39;00m\n\u001b[0;32m--> 561\u001b[0m raw_predictions \u001b[38;5;241m=\u001b[39m \u001b[38;5;28;43mself\u001b[39;49m\u001b[38;5;241;43m.\u001b[39;49m\u001b[43m_fit_stage\u001b[49m\u001b[43m(\u001b[49m\n\u001b[1;32m    562\u001b[0m \u001b[43m    \u001b[49m\u001b[43mi\u001b[49m\u001b[43m,\u001b[49m\u001b[43m \u001b[49m\u001b[43mX\u001b[49m\u001b[43m,\u001b[49m\u001b[43m \u001b[49m\u001b[43my\u001b[49m\u001b[43m,\u001b[49m\u001b[43m \u001b[49m\u001b[43mraw_predictions\u001b[49m\u001b[43m,\u001b[49m\u001b[43m \u001b[49m\u001b[43msample_weight\u001b[49m\u001b[43m,\u001b[49m\u001b[43m \u001b[49m\u001b[43msample_mask\u001b[49m\u001b[43m,\u001b[49m\n\u001b[1;32m    563\u001b[0m \u001b[43m    \u001b[49m\u001b[43mrandom_state\u001b[49m\u001b[43m,\u001b[49m\u001b[43m \u001b[49m\u001b[43mX_csc\u001b[49m\u001b[43m,\u001b[49m\u001b[43m \u001b[49m\u001b[43mX_csr\u001b[49m\u001b[43m)\u001b[49m\n\u001b[1;32m    565\u001b[0m \u001b[38;5;66;03m# track deviance (= loss)\u001b[39;00m\n\u001b[1;32m    566\u001b[0m \u001b[38;5;28;01mif\u001b[39;00m do_oob:\n",
      "File \u001b[0;32m/opt/homebrew/Caskroom/miniforge/base/lib/python3.9/site-packages/sklearn/ensemble/_gb.py:214\u001b[0m, in \u001b[0;36mBaseGradientBoosting._fit_stage\u001b[0;34m(self, i, X, y, raw_predictions, sample_weight, sample_mask, random_state, X_csc, X_csr)\u001b[0m\n\u001b[1;32m    211\u001b[0m     sample_weight \u001b[38;5;241m=\u001b[39m sample_weight \u001b[38;5;241m*\u001b[39m sample_mask\u001b[38;5;241m.\u001b[39mastype(np\u001b[38;5;241m.\u001b[39mfloat64)\n\u001b[1;32m    213\u001b[0m X \u001b[38;5;241m=\u001b[39m X_csr \u001b[38;5;28;01mif\u001b[39;00m X_csr \u001b[38;5;129;01mis\u001b[39;00m \u001b[38;5;129;01mnot\u001b[39;00m \u001b[38;5;28;01mNone\u001b[39;00m \u001b[38;5;28;01melse\u001b[39;00m X\n\u001b[0;32m--> 214\u001b[0m \u001b[43mtree\u001b[49m\u001b[38;5;241;43m.\u001b[39;49m\u001b[43mfit\u001b[49m\u001b[43m(\u001b[49m\u001b[43mX\u001b[49m\u001b[43m,\u001b[49m\u001b[43m \u001b[49m\u001b[43mresidual\u001b[49m\u001b[43m,\u001b[49m\u001b[43m \u001b[49m\u001b[43msample_weight\u001b[49m\u001b[38;5;241;43m=\u001b[39;49m\u001b[43msample_weight\u001b[49m\u001b[43m,\u001b[49m\n\u001b[1;32m    215\u001b[0m \u001b[43m         \u001b[49m\u001b[43mcheck_input\u001b[49m\u001b[38;5;241;43m=\u001b[39;49m\u001b[38;5;28;43;01mFalse\u001b[39;49;00m\u001b[43m)\u001b[49m\n\u001b[1;32m    217\u001b[0m \u001b[38;5;66;03m# update tree leaves\u001b[39;00m\n\u001b[1;32m    218\u001b[0m loss\u001b[38;5;241m.\u001b[39mupdate_terminal_regions(\n\u001b[1;32m    219\u001b[0m     tree\u001b[38;5;241m.\u001b[39mtree_, X, y, residual, raw_predictions, sample_weight,\n\u001b[1;32m    220\u001b[0m     sample_mask, learning_rate\u001b[38;5;241m=\u001b[39m\u001b[38;5;28mself\u001b[39m\u001b[38;5;241m.\u001b[39mlearning_rate, k\u001b[38;5;241m=\u001b[39mk)\n",
      "File \u001b[0;32m/opt/homebrew/Caskroom/miniforge/base/lib/python3.9/site-packages/sklearn/tree/_classes.py:1252\u001b[0m, in \u001b[0;36mDecisionTreeRegressor.fit\u001b[0;34m(self, X, y, sample_weight, check_input, X_idx_sorted)\u001b[0m\n\u001b[1;32m   1216\u001b[0m \u001b[38;5;28;01mdef\u001b[39;00m \u001b[38;5;21mfit\u001b[39m(\u001b[38;5;28mself\u001b[39m, X, y, sample_weight\u001b[38;5;241m=\u001b[39m\u001b[38;5;28;01mNone\u001b[39;00m, check_input\u001b[38;5;241m=\u001b[39m\u001b[38;5;28;01mTrue\u001b[39;00m,\n\u001b[1;32m   1217\u001b[0m         X_idx_sorted\u001b[38;5;241m=\u001b[39m\u001b[38;5;124m\"\u001b[39m\u001b[38;5;124mdeprecated\u001b[39m\u001b[38;5;124m\"\u001b[39m):\n\u001b[1;32m   1218\u001b[0m     \u001b[38;5;124;03m\"\"\"Build a decision tree regressor from the training set (X, y).\u001b[39;00m\n\u001b[1;32m   1219\u001b[0m \n\u001b[1;32m   1220\u001b[0m \u001b[38;5;124;03m    Parameters\u001b[39;00m\n\u001b[0;32m   (...)\u001b[0m\n\u001b[1;32m   1249\u001b[0m \u001b[38;5;124;03m        Fitted estimator.\u001b[39;00m\n\u001b[1;32m   1250\u001b[0m \u001b[38;5;124;03m    \"\"\"\u001b[39;00m\n\u001b[0;32m-> 1252\u001b[0m     \u001b[38;5;28;43msuper\u001b[39;49m\u001b[43m(\u001b[49m\u001b[43m)\u001b[49m\u001b[38;5;241;43m.\u001b[39;49m\u001b[43mfit\u001b[49m\u001b[43m(\u001b[49m\n\u001b[1;32m   1253\u001b[0m \u001b[43m        \u001b[49m\u001b[43mX\u001b[49m\u001b[43m,\u001b[49m\u001b[43m \u001b[49m\u001b[43my\u001b[49m\u001b[43m,\u001b[49m\n\u001b[1;32m   1254\u001b[0m \u001b[43m        \u001b[49m\u001b[43msample_weight\u001b[49m\u001b[38;5;241;43m=\u001b[39;49m\u001b[43msample_weight\u001b[49m\u001b[43m,\u001b[49m\n\u001b[1;32m   1255\u001b[0m \u001b[43m        \u001b[49m\u001b[43mcheck_input\u001b[49m\u001b[38;5;241;43m=\u001b[39;49m\u001b[43mcheck_input\u001b[49m\u001b[43m,\u001b[49m\n\u001b[1;32m   1256\u001b[0m \u001b[43m        \u001b[49m\u001b[43mX_idx_sorted\u001b[49m\u001b[38;5;241;43m=\u001b[39;49m\u001b[43mX_idx_sorted\u001b[49m\u001b[43m)\u001b[49m\n\u001b[1;32m   1257\u001b[0m     \u001b[38;5;28;01mreturn\u001b[39;00m \u001b[38;5;28mself\u001b[39m\n",
      "File \u001b[0;32m/opt/homebrew/Caskroom/miniforge/base/lib/python3.9/site-packages/sklearn/tree/_classes.py:394\u001b[0m, in \u001b[0;36mBaseDecisionTree.fit\u001b[0;34m(self, X, y, sample_weight, check_input, X_idx_sorted)\u001b[0m\n\u001b[1;32m    385\u001b[0m \u001b[38;5;28;01melse\u001b[39;00m:\n\u001b[1;32m    386\u001b[0m     builder \u001b[38;5;241m=\u001b[39m BestFirstTreeBuilder(splitter, min_samples_split,\n\u001b[1;32m    387\u001b[0m                                    min_samples_leaf,\n\u001b[1;32m    388\u001b[0m                                    min_weight_leaf,\n\u001b[0;32m   (...)\u001b[0m\n\u001b[1;32m    391\u001b[0m                                    \u001b[38;5;28mself\u001b[39m\u001b[38;5;241m.\u001b[39mmin_impurity_decrease,\n\u001b[1;32m    392\u001b[0m                                    min_impurity_split)\n\u001b[0;32m--> 394\u001b[0m \u001b[43mbuilder\u001b[49m\u001b[38;5;241;43m.\u001b[39;49m\u001b[43mbuild\u001b[49m\u001b[43m(\u001b[49m\u001b[38;5;28;43mself\u001b[39;49m\u001b[38;5;241;43m.\u001b[39;49m\u001b[43mtree_\u001b[49m\u001b[43m,\u001b[49m\u001b[43m \u001b[49m\u001b[43mX\u001b[49m\u001b[43m,\u001b[49m\u001b[43m \u001b[49m\u001b[43my\u001b[49m\u001b[43m,\u001b[49m\u001b[43m \u001b[49m\u001b[43msample_weight\u001b[49m\u001b[43m)\u001b[49m\n\u001b[1;32m    396\u001b[0m \u001b[38;5;28;01mif\u001b[39;00m \u001b[38;5;28mself\u001b[39m\u001b[38;5;241m.\u001b[39mn_outputs_ \u001b[38;5;241m==\u001b[39m \u001b[38;5;241m1\u001b[39m \u001b[38;5;129;01mand\u001b[39;00m is_classifier(\u001b[38;5;28mself\u001b[39m):\n\u001b[1;32m    397\u001b[0m     \u001b[38;5;28mself\u001b[39m\u001b[38;5;241m.\u001b[39mn_classes_ \u001b[38;5;241m=\u001b[39m \u001b[38;5;28mself\u001b[39m\u001b[38;5;241m.\u001b[39mn_classes_[\u001b[38;5;241m0\u001b[39m]\n",
      "\u001b[0;31mKeyboardInterrupt\u001b[0m: "
     ]
    }
   ],
   "source": [
    "# Запуск всех методов на искусственных данных с разными размерами контрольной и тестовой выборок\n",
    "# Выход: 4 list[list[float]] - 4 листа со значением p-value для подвыборок размерами [100, 200, 400, 600, 800]\n",
    "\n",
    "sizes = [100, 200, 400, 600, 800]\n",
    "\n",
    "\n",
    "scale = 2.5\n",
    "cols = ['f0', 'f1', 'f2']\n",
    "cols_regr = ['f0', 'f2']\n",
    "\n",
    "all_pvals_b = []\n",
    "all_pvals_c = []\n",
    "all_pvals_gb = []\n",
    "all_pvals_reg = []\n",
    "\n",
    "n_iter = 100\n",
    "control_size = 2000\n",
    "\n",
    "for i in tqdm(range(0, n_iter)):\n",
    "    # Генерация исторической, тестовой и контрольной выборок\n",
    "    X_control_temp, X_experiment_temp, X_hist_temp = generate_data(control_size, scale, 5_000, seed=i)\n",
    "    \n",
    "    cur_pvals_b = []\n",
    "    cur_pvals_c = []\n",
    "    cur_pvals_gb = []\n",
    "    cur_pvals_reg = []\n",
    "    for j in range(0, control_size // 100, 2):\n",
    "        control = X_control_temp[: 100 * j + control_size // 10]\n",
    "        experiment = X_experiment_temp[: int(scale * (100 * j + control_size // 10))]\n",
    "\n",
    "        # Запуск тестов на подвыборках групп размерами [100, 200, 400, 600, 800]\n",
    "        p_bef, p_aft_cup = modify_with_cuped(control,  experiment, \n",
    "                                    X_hist_temp[X_hist_temp['treatment'] == 0], \n",
    "                                    X_hist_temp[X_hist_temp['treatment'] == 1], cols)\n",
    "    \n",
    "        p_bef, p_aft_gb = modify_with_cupac(control,  experiment, \n",
    "                                    X_hist_temp[X_hist_temp['treatment'] == 0],\n",
    "                                    X_hist_temp[X_hist_temp['treatment'] == 1], cols)\n",
    "\n",
    "        p_aft_reg = modify_with_ml_rate(control,  experiment, \n",
    "                                    X_hist_temp[X_hist_temp['treatment'] == 0],\n",
    "                                    X_hist_temp[X_hist_temp['treatment'] == 1], cols_regr)\n",
    "        cur_pvals_b.append(p_bef)\n",
    "        cur_pvals_c.append(p_aft_cup)\n",
    "        cur_pvals_gb.append(p_aft_gb)\n",
    "        cur_pvals_reg.append(p_aft_reg)\n",
    "    \n",
    "    all_pvals_b.append(cur_pvals_b)\n",
    "    all_pvals_c.append(cur_pvals_c)\n",
    "    all_pvals_gb.append(cur_pvals_gb)\n",
    "    all_pvals_reg.append(cur_pvals_reg)\n",
    "    "
   ]
  },
  {
   "cell_type": "code",
   "execution_count": 14,
   "metadata": {},
   "outputs": [],
   "source": [
    "# Модификации для отрисовки графика\n",
    "\n",
    "pvals_c = pd.DataFrame(all_pvals_c)\n",
    "# pvals_c = pvals_c.set_axis(sizes)\n",
    "\n",
    "pvals_gb = pd.DataFrame(all_pvals_gb)\n",
    "# pvals_gb = pvals_gb.set_axis(sizes)\n",
    "\n",
    "pvals_b = pd.DataFrame(all_pvals_b)\n",
    "# pvals_b = pvals_b.set_axis(sizes)\n",
    "\n",
    "pvals_reg = pd.DataFrame(all_pvals_reg)\n",
    "# pvals_reg = pvals_reg.set_axis(sizes)"
   ]
  },
  {
   "cell_type": "code",
   "execution_count": null,
   "metadata": {},
   "outputs": [],
   "source": [
    "# Модификации для отрисовки графика\n",
    "\n",
    "pvals_c = pvals_c.T.set_axis(sizes[1:])\n",
    "\n",
    "pvals_gb = pvals_gb.T.set_axis(sizes[1:])\n",
    "\n",
    "pvals_b = pvals_b.T.set_axis(sizes[1:])\n",
    "\n",
    "pvals_reg = pvals_reg.T.set_axis(sizes[1:])"
   ]
  },
  {
   "cell_type": "code",
   "execution_count": null,
   "metadata": {},
   "outputs": [],
   "source": [
    "# Модификации для отрисовки графика\n",
    "\n",
    "data_cuped = None\n",
    "for i in range(pvals_c.shape[1]):\n",
    "    data_cuped = pd.concat([data_cuped, pvals_c.iloc[:, i]])\n",
    "    \n",
    "data_grad_boost = None\n",
    "for i in range(pvals_gb.shape[1]):\n",
    "    data_grad_boost = pd.concat([data_grad_boost, pvals_gb.iloc[:, i]])\n",
    "    \n",
    "    \n",
    "data_before = None\n",
    "for i in range(pvals_b.shape[1]):\n",
    "    data_before = pd.concat([data_before, pvals_b.iloc[:, i]])\n",
    "\n",
    "data_reg = None\n",
    "for i in range(pvals_reg.shape[1]):\n",
    "    data_reg = pd.concat([data_reg, pvals_reg.iloc[:, i]])"
   ]
  },
  {
   "cell_type": "code",
   "execution_count": null,
   "metadata": {},
   "outputs": [],
   "source": [
    "sizes = list(range(0, 2200, 200))\n",
    "sizes[1:]"
   ]
  },
  {
   "cell_type": "code",
   "execution_count": null,
   "metadata": {},
   "outputs": [],
   "source": [
    "sns.reset_defaults()"
   ]
  },
  {
   "cell_type": "code",
   "execution_count": null,
   "metadata": {},
   "outputs": [],
   "source": [
    "f = plt.subplots(1, figsize=(8, 5))\n",
    "sns.lineplot(data=data_cuped, label='CUPED', marker=\"o\", markersize=7, color='#3399ff')\n",
    "sns.lineplot(data=data_grad_boost, label='CUPAC', marker=\"o\", markersize=7, color='#009900')\n",
    "sns.lineplot(data=data_before, label='Default', marker=\"o\", markersize=7, color='#ff9933')\n",
    "sns.lineplot(data=data_reg, label='Ml-rate', marker=\"o\", markersize=7, color='#ff66ff')\n",
    "\n",
    "plt.plot(sizes[1:], [0.05] * len(sizes[1:]), color=\"#ff0000\", linestyle='dashed', label='alpha')\n",
    "# plt.title('Зависимость параметра p-value оцененного по 10 запускам от размера выборки')\n",
    "plt.xlabel('Размер контрольной выборки')\n",
    "plt.ylabel('p-value')\n",
    "plt.legend()\n",
    "plt.show()"
   ]
  }
 ],
 "metadata": {
  "kernelspec": {
   "display_name": "Python 3 (ipykernel)",
   "language": "python",
   "name": "python3"
  },
  "language_info": {
   "codemirror_mode": {
    "name": "ipython",
    "version": 3
   },
   "file_extension": ".py",
   "mimetype": "text/x-python",
   "name": "python",
   "nbconvert_exporter": "python",
   "pygments_lexer": "ipython3",
   "version": "3.9.15"
  }
 },
 "nbformat": 4,
 "nbformat_minor": 4
}
