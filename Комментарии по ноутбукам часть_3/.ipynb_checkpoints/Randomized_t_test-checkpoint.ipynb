{
 "cells": [
  {
   "cell_type": "markdown",
   "metadata": {},
   "source": [
    "### В данном ноутбуке представлены результаты работы рандомизированного T-теста из раздела $2.1$ Отчета о НИР. Результаты приводятся на искусственных данных, описанных ниже."
   ]
  },
  {
   "cell_type": "code",
   "execution_count": 1,
   "metadata": {},
   "outputs": [],
   "source": [
    "import numpy as np\n",
    "import statsmodels.api as sm\n",
    "import pandas as pd\n",
    "import joblib\n",
    "\n",
    "import warnings\n",
    "warnings.filterwarnings('ignore')\n",
    "\n",
    "from sklearn import linear_model\n",
    "from scipy import stats\n",
    "from sklearn.compose import ColumnTransformer\n",
    "from sklearn.metrics import mean_squared_error\n",
    "from sklearn.ensemble import RandomForestClassifier, GradientBoostingClassifier, GradientBoostingRegressor\n",
    "from sklearn.model_selection import train_test_split\n",
    "from sklearn.inspection import permutation_importance\n",
    "from sklearn.impute import SimpleImputer\n",
    "from sklearn.pipeline import Pipeline\n",
    "from sklearn.preprocessing import normalize, OrdinalEncoder, OneHotEncoder\n",
    "\n",
    "import matplotlib.pyplot as plt\n",
    "plt.rcParams.update(plt.rcParamsDefault)\n",
    "import seaborn as sns\n",
    "from tqdm.notebook import tqdm\n",
    "%matplotlib inline\n",
    "import numpy as np\n",
    "import math\n",
    "from functools import partial"
   ]
  },
  {
   "cell_type": "code",
   "execution_count": 2,
   "metadata": {},
   "outputs": [],
   "source": [
    "def get_coef_significance(X, Y): \n",
    "    \"\"\"\n",
    "    Функция для оценки статистической значимость коэффициентов линейной регрессии\n",
    "\n",
    "    Параметры:\n",
    "        X - DataFrame - данные, содержащие несколько объектов с признаками\n",
    "        Y - array - целевая метрика для объектов из X\n",
    "\n",
    "    Выход:\n",
    "        table - DataFrame - таблица со значениями p-value, относительно которых можно делать вывод о статистической значимости коэффициента при каждом признаке в X.\n",
    "        lin_reg - statsmodels.OLS - обученная модель регрессии\n",
    "    \"\"\" \n",
    "    X_train = sm.tools.tools.add_constant(X.values.astype(np.float64), prepend=True, has_constant='skip')\n",
    "    \n",
    "    Y_train = Y\n",
    "    lin_reg = sm.OLS(Y_train, X_train).fit()\n",
    "    summary = lin_reg.summary().tables[1]\n",
    "    table = pd.read_html(summary.as_html(), header=0, index_col=0)[0]\n",
    "    return table, lin_reg"
   ]
  },
  {
   "cell_type": "code",
   "execution_count": 3,
   "metadata": {},
   "outputs": [],
   "source": [
    "def check_pval(pval):\n",
    "    \"\"\"\n",
    "    Функция для автоматической проверки p-value на статистическую значимость\n",
    "\n",
    "    Параметры:\n",
    "        pval - float - значение p-value\n",
    "    \"\"\"  \n",
    "    if pval <= 0.05:\n",
    "        print(f'p-val: {pval}\\nСтат. значимая разница (отвергли нулевую гипотезу о равенстве средних)')\n",
    "    else:\n",
    "        print(f'p-val: {pval}\\nСтатзначимой разницы нет')"
   ]
  },
  {
   "cell_type": "code",
   "execution_count": 4,
   "metadata": {},
   "outputs": [],
   "source": [
    "def get_n_samples(alpha, beta, eps, scale=1, alternative=2):\n",
    "    \"\"\"\n",
    "    Функция для расчета минимального размера группы при фиксированной дисперсии, вероятности ошибок первого и второго рода и минимальной величине детектируемого эффекта.\n",
    "\n",
    "    Параметры:\n",
    "        alpha - float - вероятность ошибки первого рода\n",
    "        beta - float - вероятность ошибки второго рода\n",
    "        eps - float - минимальная величине детектируемого эффекта\n",
    "        scale - float - соотношение в тестовой и контрольной группах\n",
    "        alternative - int - односторонняя или двусторонняя альтернатива\n",
    "    Выход:\n",
    "        n_min - int - минимальрый размер группы\n",
    "    \"\"\"\n",
    "    if alternative == 1:\n",
    "        f_alpha = stats.norm.ppf(1 - alpha, loc=0, scale=1)\n",
    "    else:\n",
    "        f_alpha = stats.norm.ppf(1 - alpha / 2, loc=0, scale=1)\n",
    "        \n",
    "    f_beta = stats.norm.ppf(1 - beta, loc=0, scale=1)\n",
    "    n_min = ((f_alpha + f_beta) ** 2 * (s_c * scale + s_t)) // (scale * eps**2)\n",
    "    return n_min"
   ]
  },
  {
   "cell_type": "code",
   "execution_count": 5,
   "metadata": {},
   "outputs": [],
   "source": [
    "def ttest(x, y, randomized=False, alternative=2, verbose=False):\n",
    "    \"\"\"\n",
    "    Функция для проведения T-testa в двух модификациях: с обычной и с рандомизированной T-статистикой.\n",
    "\n",
    "    Параметры:\n",
    "        x - array - значение целевой метрики в тестовой группе\n",
    "        y - array - значение целевой метрики в контрольной группе\n",
    "        randomized - bool - индикатор того, какой тест проводить (рандомизированный - 1, стандартный - 0)\n",
    "        verbose - bool - печатать ли вспомогательную информацию\n",
    "        \n",
    "    Выход:\n",
    "         полученное в T-тесте p-value (float)\n",
    "    \"\"\" \n",
    "    n_x = x.shape[0]\n",
    "    n_y = y.shape[0]\n",
    "    \n",
    "    s_x = np.var(x, ddof=1)\n",
    "    s_y = np.var(y, ddof=1)\n",
    "    dof =  (s_x / n_x + s_y / n_y) ** 2 / ((s_x / n_x) ** 2 / (n_x - 1) + (s_y / n_y) ** 2 / (n_y - 1))\n",
    "    \n",
    "    if randomized:\n",
    "        b0 = n_x ** 0.75\n",
    "        b1 = n_y ** 0.75\n",
    "        \n",
    "        \n",
    "        theta_x = np.append(np.tile(np.array([1, np.sqrt(2), 1, np.sqrt(2)]), math.ceil(b0)),\\\n",
    "                   np.tile(np.array([1, np.sqrt(2), -1, -np.sqrt(2)]), n_x // 4 + 1))\n",
    "        \n",
    "        theta_x = theta_x[:n_x]\n",
    "\n",
    "        theta_y = np.append(np.tile(np.array([1, np.sqrt(2), 1, np.sqrt(2)]), math.ceil(b1)),\\\n",
    "                   np.tile(np.array([1, np.sqrt(2), -1, -np.sqrt(2)]), n_y // 4 + 1))\n",
    "        \n",
    "        theta_y = theta_y[:n_y]\n",
    "\n",
    "        t_val = (theta_x @ x - theta_y @ y) / np.sqrt(s_x * np.sum(theta_x ** 2) + s_y * np.sum(theta_y ** 2))\n",
    "        \n",
    "        if alternative == 1:\n",
    "            p = stats.t.cdf(t_val, dof)\n",
    "        else:  \n",
    "            p = 2*(stats.t.cdf(-abs(t_val), dof))\n",
    "        \n",
    "        \n",
    "    else: \n",
    "        if alternative == 1:\n",
    "            t_val, p = stats.ttest_ind(x, y, equal_var=False, alternative='less')\n",
    "        else:  \n",
    "            t_val, p = stats.ttest_ind(x, y, equal_var=False) \n",
    "    \n",
    "    if verbose:\n",
    "        check_pval(p)\n",
    "    return (t_val, p)"
   ]
  },
  {
   "cell_type": "markdown",
   "metadata": {},
   "source": [
    "## Экспримент c фиксированным уровнем значимости $\\alpha$, описанный в разделе 2.1.2 отчета о НИР"
   ]
  },
  {
   "cell_type": "markdown",
   "metadata": {},
   "source": [
    "Генерируем выборку из распределения Бернулли с одинаковым средним. Проводим рандомизированный Т-тест и стандартный Т-тест, замеряем вероятность ошибки первого рода, и расстояние до предельного распределения при $H_0$ для статистики и ее квадрата. Сооветствующие распределения имеют вид $\\mathcal{N}(0,1)$ и $\\chi^2(1)$, соответственно."
   ]
  },
  {
   "cell_type": "markdown",
   "metadata": {},
   "source": [
    "#### Маленькая выборка"
   ]
  },
  {
   "cell_type": "code",
   "execution_count": 6,
   "metadata": {},
   "outputs": [
    {
     "data": {
      "text/plain": [
       "(20, 20)"
      ]
     },
     "execution_count": 6,
     "metadata": {},
     "output_type": "execute_result"
    }
   ],
   "source": [
    "#вероятности успеха в серии бернулливевских испытаний для контроля и теста\n",
    "p_c = 0.3 #вероятность успеха в контрольной выборке\n",
    "p_t = 0.3 #вероятность успеха в тестовой выборке\n",
    "\n",
    "alpha = 0.05 #заданная вероятность ошибки 1-го рода\n",
    "beta = 0.2 #заданная вероятность ошибки 2-го рода\n",
    "eps = 0.4 #величина детектируемого эффекта для величины сдвига в среднем\n",
    "\n",
    "scale = 1.0\n",
    "s_c = p_c*(1-p_c) #дисперсия элемента контрольной выборки\n",
    "s_t = p_t*(1-p_t) #дисперсия элемента тестовой выборки\n",
    "\n",
    "#рассчитываем минимально допустимые размеры тестовой и контрольной выборок\n",
    "control_n = int(get_n_samples(alpha, beta, eps, scale=scale, alternative=2))\n",
    "treatment_n = int(scale * control_n)\n",
    "control_n, treatment_n"
   ]
  },
  {
   "cell_type": "markdown",
   "metadata": {},
   "source": [
    "**Комментарии банка**\n",
    "\n",
    "Вероятность успеха - это видимо процент заключенных фактов сделок. Например, 70% - отказов (0 сделок), 30% - факт сделки (одна и более).\n",
    "\n",
    "Для контрольной и тестовой групп генерятся совершенно одинаковые данные?"
   ]
  },
  {
   "cell_type": "code",
   "execution_count": 7,
   "metadata": {},
   "outputs": [
    {
     "data": {
      "application/vnd.jupyter.widget-view+json": {
       "model_id": "eabfd101cf4e4675a382c743b6e3cee5",
       "version_major": 2,
       "version_minor": 0
      },
      "text/plain": [
       "  0%|          | 0/10000 [00:00<?, ?it/s]"
      ]
     },
     "metadata": {},
     "output_type": "display_data"
    }
   ],
   "source": [
    "#число повторений эксперимента для подсчета достигнутой вероятности ошибки 1-го рода\n",
    "N_generations = 10_000\n",
    "\n",
    "p_vals_standart = []\n",
    "p_vals_random = []\n",
    "p_vals_pd = []\n",
    "p_vals_kl = []\n",
    "\n",
    "t_vals_standart = []\n",
    "t_vals_random = []\n",
    "pd_vals = []\n",
    "kl_vals = []\n",
    "\n",
    "\"\"\"\n",
    "N_generations раз повторяем T-тест с рандомизированной  и не рандомизированной статистикой, записываем итог теста\n",
    "для последующего подсчета вероятностей ошибки 1-го и второго рода. \n",
    "\"\"\"\n",
    "for i in tqdm(range(N_generations)):\n",
    "    #генерация контрольной и тестовой выборок\n",
    "    y_control = np.random.binomial(1, p_c, size=control_n)\n",
    "    y_treatment = np.random.binomial(1, p_t, size=treatment_n)\n",
    "    \n",
    "    #рандомиизированный и нерандомизированный t-тесты\n",
    "    (t_stat_orig, p_value_orig) = ttest(y_control, y_treatment, randomized = False, alternative=2)\n",
    "    (t_stat_rand, p_value_rand) = ttest(y_control, y_treatment, randomized=True, alternative=2)\n",
    "    \n",
    "    #сохраняем значения t-статистики и p-value\n",
    "    t_vals_standart.append(t_stat_orig)\n",
    "    t_vals_random.append(t_stat_rand)\n",
    "    \n",
    "    p_vals_standart.append(p_value_orig)\n",
    "    p_vals_random.append(p_value_rand)\n",
    "    \n",
    "# Вероятность ошибки первого рода\n",
    "first_error_orig = np.mean(np.array(p_vals_standart) <= alpha)\n",
    "first_error_rand = np.mean(np.array(p_vals_random) <= alpha)\n",
    "\n",
    "\n",
    "# Расстояние Колмогорова между распределением T-статистики и стандартным нормальным\n",
    "k_d_orig_norm = stats.ks_1samp(t_vals_standart, stats.norm.cdf).statistic\n",
    "k_d_rand_norm = stats.ks_1samp(t_vals_random, stats.norm.cdf).statistic\n",
    "\n",
    "\n",
    "# Расстояние Колмогорова между распределением квадрата T-статистики и Хи квадрат с 1 степенью свободы\n",
    "chisquare_cdf = partial(stats.chi2.cdf, df=1)\n",
    "k_d_orig_chi = stats.ks_1samp(np.array(t_vals_standart) ** 2, chisquare_cdf).statistic\n",
    "k_d_rand_chi = stats.ks_1samp(np.array(t_vals_random) ** 2, chisquare_cdf).statistic"
   ]
  },
  {
   "cell_type": "code",
   "execution_count": 8,
   "metadata": {},
   "outputs": [
    {
     "data": {
      "image/png": "[encoded data removed]",
      "text/plain": [
       "<Figure size 1296x360 with 2 Axes>"
      ]
     },
     "metadata": {
      "needs_background": "light"
     },
     "output_type": "display_data"
    }
   ],
   "source": [
    "f, (ax1, ax2) = plt.subplots(1, 2, figsize=(18, 5))\n",
    "\n",
    "_ = ax1.hist(t_vals_standart, bins='auto')\n",
    "ax1.set_title(f'Распределение стандартной t статистики', fontsize=20)\n",
    "\n",
    "_ = ax2.hist(t_vals_random, bins='auto')\n",
    "ax2.set_title(f'Распределение рандомизированной t статистики', fontsize=20)\n",
    "plt.show()\n",
    "\n"
   ]
  },
  {
   "cell_type": "code",
   "execution_count": 9,
   "metadata": {},
   "outputs": [
    {
     "data": {
      "text/html": [
       "<div>\n",
       "<style scoped>\n",
       "    .dataframe tbody tr th:only-of-type {\n",
       "        vertical-align: middle;\n",
       "    }\n",
       "\n",
       "    .dataframe tbody tr th {\n",
       "        vertical-align: top;\n",
       "    }\n",
       "\n",
       "    .dataframe thead th {\n",
       "        text-align: right;\n",
       "    }\n",
       "</style>\n",
       "<table border=\"1\" class=\"dataframe\">\n",
       "  <thead>\n",
       "    <tr style=\"text-align: right;\">\n",
       "      <th></th>\n",
       "      <th>1 type error</th>\n",
       "      <th>kolmogorov dist normal</th>\n",
       "      <th>kolmogorov dist 𝝌^2</th>\n",
       "    </tr>\n",
       "  </thead>\n",
       "  <tbody>\n",
       "    <tr>\n",
       "      <th>original ttest</th>\n",
       "      <td>0.0558</td>\n",
       "      <td>0.0704</td>\n",
       "      <td>0.1407</td>\n",
       "    </tr>\n",
       "    <tr>\n",
       "      <th>randomized ttest</th>\n",
       "      <td>0.0482</td>\n",
       "      <td>0.0211</td>\n",
       "      <td>0.0388</td>\n",
       "    </tr>\n",
       "  </tbody>\n",
       "</table>\n",
       "</div>"
      ],
      "text/plain": [
       "                  1 type error  kolmogorov dist normal  kolmogorov dist 𝝌^2\n",
       "original ttest          0.0558                  0.0704               0.1407\n",
       "randomized ttest        0.0482                  0.0211               0.0388"
      ]
     },
     "execution_count": 9,
     "metadata": {},
     "output_type": "execute_result"
    }
   ],
   "source": [
    "#рпосто табличка с результатами\n",
    "data = [[first_error_orig, k_d_orig_norm, k_d_orig_chi], [first_error_rand, k_d_rand_norm, k_d_rand_chi]]\n",
    "results = pd.DataFrame(data=data, index=['original ttest', 'randomized ttest'], \n",
    "                       columns=['1 type error', 'kolmogorov dist normal',  'kolmogorov dist 𝝌^2'])\n",
    "results"
   ]
  },
  {
   "cell_type": "markdown",
   "metadata": {},
   "source": [
    "#### Большая выборка"
   ]
  },
  {
   "cell_type": "code",
   "execution_count": 10,
   "metadata": {},
   "outputs": [
    {
     "data": {
      "text/plain": [
       "(3662, 3662)"
      ]
     },
     "execution_count": 10,
     "metadata": {},
     "output_type": "execute_result"
    }
   ],
   "source": [
    "#вероятности успеха в серии бернулливевских испытаний для контроля и теста\n",
    "p_c = 0.3 #вероятность успеха в контрольной выборке\n",
    "p_t = 0.3 #вероятность успеха в тестовой выборке\n",
    "\n",
    "alpha = 0.05 #заданная вероятность ошибки 1-го рода\n",
    "beta = 0.2 #заданная вероятность ошибки 2-го рода\n",
    "eps = 0.03 #величина детектируемого эффекта для величины сдвига в среднем\n",
    "\n",
    "scale = 1.0\n",
    "s_c = p_c*(1-p_c) #дисперсия элемента контрольной выборки\n",
    "s_t = p_t*(1-p_t) #дисперсия элемента тестовой выборки\n",
    "\n",
    "#рассчитываем минимально допустимые размеры тестовой и контрольной выборок\n",
    "control_n = int(get_n_samples(alpha, beta, eps, scale=scale, alternative=2))\n",
    "treatment_n = int(scale * control_n)\n",
    "control_n, treatment_n\n"
   ]
  },
  {
   "cell_type": "code",
   "execution_count": 11,
   "metadata": {},
   "outputs": [
    {
     "data": {
      "application/vnd.jupyter.widget-view+json": {
       "model_id": "9bc93df0e79d4ab68057c531dfd59019",
       "version_major": 2,
       "version_minor": 0
      },
      "text/plain": [
       "  0%|          | 0/10000 [00:00<?, ?it/s]"
      ]
     },
     "metadata": {},
     "output_type": "display_data"
    }
   ],
   "source": [
    "#число повторений эксперимента для подсчета достигнутой вероятности ошибки 1-го рода\n",
    "N_generations = 10_000\n",
    "\n",
    "p_vals_standart = []\n",
    "p_vals_random = []\n",
    "p_vals_pd = []\n",
    "p_vals_kl = []\n",
    "\n",
    "t_vals_standart = []\n",
    "t_vals_random = []\n",
    "pd_vals = []\n",
    "kl_vals = []\n",
    "\n",
    "\"\"\"\n",
    "N_generations раз повторяем T-тест с рандомизированной  и не рандомизированной статистикой, записываем итог теста\n",
    "для последующего подсчета вероятностей ошибки 1-го и второго рода. \n",
    "\"\"\"\n",
    "for i in tqdm(range(N_generations)):\n",
    "    #генерация контрольной и тестовой выборок\n",
    "    y_control = np.random.binomial(1, p_c, size=control_n)\n",
    "    y_treatment = np.random.binomial(1, p_t, size=treatment_n)\n",
    "    \n",
    "    #рандомиизированный и нерандомизированный t-тесты\n",
    "    (t_stat_orig, p_value_orig) = ttest(y_control, y_treatment, randomized = False, alternative=2)\n",
    "    (t_stat_rand, p_value_rand) = ttest(y_control, y_treatment, randomized=True, alternative=2)\n",
    "    \n",
    "    #сохраняем значения t-статистики и p-value\n",
    "    t_vals_standart.append(t_stat_orig)\n",
    "    t_vals_random.append(t_stat_rand)\n",
    "    \n",
    "    p_vals_standart.append(p_value_orig)\n",
    "    p_vals_random.append(p_value_rand)\n",
    "    \n",
    "# Вероятность ошибки первого рода\n",
    "first_error_orig = np.mean(np.array(p_vals_standart) <= alpha)\n",
    "first_error_rand = np.mean(np.array(p_vals_random) <= alpha)\n",
    "\n",
    "\n",
    "# Расстояние Колмогорова между распределением T-статистики и стандартным нормальным\n",
    "k_d_orig_norm = stats.ks_1samp(t_vals_standart, stats.norm.cdf).statistic\n",
    "k_d_rand_norm = stats.ks_1samp(t_vals_random, stats.norm.cdf).statistic\n",
    "\n",
    "\n",
    "# Расстояние Колмогорова между распределением квадрата T-статистики и Хи квадрат с 1 степенью свободы\n",
    "chisquare_cdf = partial(stats.chi2.cdf, df=1)\n",
    "k_d_orig_chi = stats.ks_1samp(np.array(t_vals_standart) ** 2, chisquare_cdf).statistic\n",
    "k_d_rand_chi = stats.ks_1samp(np.array(t_vals_random) ** 2, chisquare_cdf).statistic"
   ]
  },
  {
   "cell_type": "code",
   "execution_count": 12,
   "metadata": {},
   "outputs": [
    {
     "data": {
      "image/png": "[encoded data removed]",
      "text/plain": [
       "<Figure size 1296x360 with 2 Axes>"
      ]
     },
     "metadata": {
      "needs_background": "light"
     },
     "output_type": "display_data"
    }
   ],
   "source": [
    "f, (ax1, ax2) = plt.subplots(1, 2, figsize=(18, 5))\n",
    "\n",
    "_ = ax1.hist(t_vals_standart, bins='auto')\n",
    "ax1.set_title(f'Распределение стандартной t статистики', fontsize=20)\n",
    "\n",
    "_ = ax2.hist(t_vals_random, bins='auto')\n",
    "ax2.set_title(f'Распределение рандомизированной t статистики', fontsize=20)\n",
    "plt.show()\n"
   ]
  },
  {
   "cell_type": "code",
   "execution_count": null,
   "metadata": {},
   "outputs": [],
   "source": []
  }
 ],
 "metadata": {
  "kernelspec": {
   "display_name": "Python 3 (ipykernel)",
   "language": "python",
   "name": "python3"
  },
  "language_info": {
   "codemirror_mode": {
    "name": "ipython",
    "version": 3
   },
   "file_extension": ".py",
   "mimetype": "text/x-python",
   "name": "python",
   "nbconvert_exporter": "python",
   "pygments_lexer": "ipython3",
   "version": "3.9.7"
  }
 },
 "nbformat": 4,
 "nbformat_minor": 4
}
