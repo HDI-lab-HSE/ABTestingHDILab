{
 "cells": [
  {
   "cell_type": "code",
   "execution_count": 12,
   "id": "547998f4",
   "metadata": {},
   "outputs": [],
   "source": [
    "import pickle as pkl\n",
    "import pandas as pd\n",
    "import os"
   ]
  },
  {
   "cell_type": "code",
   "execution_count": 13,
   "id": "c0b92e74",
   "metadata": {},
   "outputs": [],
   "source": [
    "for root, dirs, files, in os.walk(\"./saved_variables/\"):\n",
    "    for file in files:\n",
    "        if file.endswith(\".pkl\"):\n",
    "            pd_frame = pd.DataFrame()\n",
    "            pd_frame = pd.read_pickle(\"./saved_variables/\" + file)\n",
    "            new_file = file.replace(\".pkl\",\".csv\")\n",
    "            pd_frame.to_csv(\"./saved_variables/\" + new_file, index=False)"
   ]
  },
  {
   "cell_type": "code",
   "execution_count": null,
   "id": "ddf1fc8c",
   "metadata": {},
   "outputs": [],
   "source": [
    "with open(\"file.pkl\", \"rb\") as f:\n",
    "    object = pkl.load(f)\n",
    "    \n",
    "df = pd.DataFrame(object)\n",
    "df.to_csv(r'file.csv')"
   ]
  }
 ],
 "metadata": {
  "kernelspec": {
   "display_name": "Python 3 (ipykernel)",
   "language": "python",
   "name": "python3"
  },
  "language_info": {
   "codemirror_mode": {
    "name": "ipython",
    "version": 3
   },
   "file_extension": ".py",
   "mimetype": "text/x-python",
   "name": "python",
   "nbconvert_exporter": "python",
   "pygments_lexer": "ipython3",
   "version": "3.9.15"
  }
 },
 "nbformat": 4,
 "nbformat_minor": 5
}
