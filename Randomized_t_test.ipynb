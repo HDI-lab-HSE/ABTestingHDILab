{
 "cells": [
  {
   "cell_type": "code",
   "execution_count": 10,
   "metadata": {},
   "outputs": [],
   "source": [
    "import numpy as np\n",
    "import statsmodels.api as sm\n",
    "import pandas as pd\n",
    "import joblib\n",
    "\n",
    "import warnings\n",
    "warnings.filterwarnings('ignore')\n",
    "\n",
    "from sklearn import linear_model\n",
    "from sklearn.compose import ColumnTransformer\n",
    "from sklearn.metrics import mean_squared_error\n",
    "from sklearn.ensemble import RandomForestClassifier, GradientBoostingClassifier, GradientBoostingRegressor\n",
    "from sklearn.model_selection import train_test_split\n",
    "from sklearn.inspection import permutation_importance\n",
    "from sklearn.impute import SimpleImputer\n",
    "from sklearn.pipeline import Pipeline\n",
    "from sklearn.preprocessing import normalize, OrdinalEncoder, OneHotEncoder\n",
    "\n",
    "from iterstrat.ml_stratifiers import MultilabelStratifiedKFold, MultilabelStratifiedShuffleSplit\n",
    "\n",
    "import matplotlib.pyplot as plt\n",
    "plt.rcParams.update(plt.rcParamsDefault)\n",
    "import seaborn as sns\n",
    "%matplotlib inline\n",
    "import numpy as np\n",
    "import math\n",
    "from functools import partial"
   ]
  },
  {
   "cell_type": "code",
   "execution_count": 11,
   "metadata": {},
   "outputs": [
    {
     "name": "stdout",
     "output_type": "stream",
     "text": [
      "The autoreload extension is already loaded. To reload it, use:\n",
      "  %reload_ext autoreload\n"
     ]
    }
   ],
   "source": [
    "from um_util import *\n",
    "# from um_models import *\n",
    "\n",
    "%load_ext autoreload\n",
    "%autoreload 2"
   ]
  },
  {
   "cell_type": "code",
   "execution_count": 12,
   "metadata": {},
   "outputs": [],
   "source": [
    "from tqdm.notebook import tqdm"
   ]
  },
  {
   "cell_type": "code",
   "execution_count": 13,
   "metadata": {},
   "outputs": [],
   "source": [
    "def get_coef_significance(X, Y):    \n",
    "    X_train = sm.tools.tools.add_constant(X.values.astype(np.float64), prepend=True, has_constant='skip')\n",
    "    \n",
    "    Y_train = Y\n",
    "#     log_reg = sm.Logit(Y_train, X_train).fit()\n",
    "    lin_reg = sm.OLS(Y_train, X_train).fit()\n",
    "    summary = lin_reg.summary().tables[1]\n",
    "    return pd.read_html(summary.as_html(), header=0, index_col=0)[0], lin_reg"
   ]
  },
  {
   "cell_type": "code",
   "execution_count": 14,
   "metadata": {},
   "outputs": [],
   "source": [
    "def check_pval(pval):\n",
    "    if pval <= 0.05:\n",
    "        print(f'p-val: {pval}\\nСтат. значимая разница (отвергли нулевую гипотезу о равенстве средних)')\n",
    "    else:\n",
    "        print(f'p-val: {pval}\\nСтатзначимой разницы нет')"
   ]
  },
  {
   "cell_type": "code",
   "execution_count": 15,
   "metadata": {},
   "outputs": [],
   "source": [
    "def ttest(c, e):\n",
    "    t_val, p = stats.ttest_ind(c, e, equal_var=False) \n",
    "    check_pval(p)\n",
    "    return p"
   ]
  },
  {
   "cell_type": "code",
   "execution_count": 16,
   "metadata": {},
   "outputs": [],
   "source": [
    "# ! pip install iterative-stratification"
   ]
  },
  {
   "cell_type": "markdown",
   "metadata": {},
   "source": [
    "## Датасет"
   ]
  },
  {
   "cell_type": "code",
   "execution_count": 17,
   "metadata": {},
   "outputs": [],
   "source": [
    "# please download data from: \n",
    "# http://go.criteo.net/criteo-research-uplift-v2.1.csv.gz\n",
    "\n",
    "inp_df = pd.read_csv('criteo-uplift-v2.1.csv')\n",
    "\n",
    "features = ['f{}'.format(n) for n in range(12)]\n",
    "inp_df[features] = normalize(inp_df[features], axis=0, norm='l2')\n",
    "df = inp_df\n",
    "\n",
    "X = features\n",
    "y = 'visit'\n",
    "t = 'treatment'"
   ]
  },
  {
   "cell_type": "code",
   "execution_count": 18,
   "metadata": {},
   "outputs": [],
   "source": [
    "cat_features = ['f1', 'f3', 'f4', 'f5', 'f6', 'f8', 'f9', 'f11']\n",
    "noncat_features = list(inp_df.columns.difference(cat_features + [y,t,'conversion', 'exposure']))"
   ]
  },
  {
   "cell_type": "code",
   "execution_count": 22,
   "metadata": {},
   "outputs": [
    {
     "name": "stdout",
     "output_type": "stream",
     "text": [
      "Full data p-value: 0.0\n"
     ]
    }
   ],
   "source": [
    "t, p = stats.ttest_ind(df.loc[df['treatment'] == 1, 'visit'], df.loc[df['treatment'] == 0, 'visit'], equal_var=False, random_state=3)\n",
    "print(f'Full data p-value: {p}')"
   ]
  },
  {
   "cell_type": "code",
   "execution_count": 23,
   "metadata": {},
   "outputs": [
    {
     "data": {
      "text/html": [
       "<div>\n",
       "<style scoped>\n",
       "    .dataframe tbody tr th:only-of-type {\n",
       "        vertical-align: middle;\n",
       "    }\n",
       "\n",
       "    .dataframe tbody tr th {\n",
       "        vertical-align: top;\n",
       "    }\n",
       "\n",
       "    .dataframe thead th {\n",
       "        text-align: right;\n",
       "    }\n",
       "</style>\n",
       "<table border=\"1\" class=\"dataframe\">\n",
       "  <thead>\n",
       "    <tr style=\"text-align: right;\">\n",
       "      <th></th>\n",
       "      <th>f0</th>\n",
       "      <th>f1</th>\n",
       "      <th>f2</th>\n",
       "      <th>f3</th>\n",
       "      <th>f4</th>\n",
       "      <th>f5</th>\n",
       "      <th>f6</th>\n",
       "      <th>f7</th>\n",
       "      <th>f8</th>\n",
       "      <th>f9</th>\n",
       "      <th>f10</th>\n",
       "      <th>f11</th>\n",
       "      <th>treatment</th>\n",
       "      <th>conversion</th>\n",
       "      <th>visit</th>\n",
       "      <th>exposure</th>\n",
       "    </tr>\n",
       "  </thead>\n",
       "  <tbody>\n",
       "    <tr>\n",
       "      <th>0</th>\n",
       "      <td>0.000166</td>\n",
       "      <td>0.000267</td>\n",
       "      <td>0.000284</td>\n",
       "      <td>0.000285</td>\n",
       "      <td>0.000266</td>\n",
       "      <td>0.000272</td>\n",
       "      <td>0.000013</td>\n",
       "      <td>0.000247</td>\n",
       "      <td>0.000269</td>\n",
       "      <td>0.000202</td>\n",
       "      <td>0.000266</td>\n",
       "      <td>-0.000262</td>\n",
       "      <td>1</td>\n",
       "      <td>0</td>\n",
       "      <td>0</td>\n",
       "      <td>0</td>\n",
       "    </tr>\n",
       "    <tr>\n",
       "      <th>1</th>\n",
       "      <td>0.000166</td>\n",
       "      <td>0.000267</td>\n",
       "      <td>0.000285</td>\n",
       "      <td>0.000285</td>\n",
       "      <td>0.000266</td>\n",
       "      <td>0.000272</td>\n",
       "      <td>0.000013</td>\n",
       "      <td>0.000247</td>\n",
       "      <td>0.000269</td>\n",
       "      <td>0.000202</td>\n",
       "      <td>0.000266</td>\n",
       "      <td>-0.000262</td>\n",
       "      <td>1</td>\n",
       "      <td>0</td>\n",
       "      <td>0</td>\n",
       "      <td>0</td>\n",
       "    </tr>\n",
       "    <tr>\n",
       "      <th>2</th>\n",
       "      <td>0.000166</td>\n",
       "      <td>0.000267</td>\n",
       "      <td>0.000284</td>\n",
       "      <td>0.000285</td>\n",
       "      <td>0.000266</td>\n",
       "      <td>0.000272</td>\n",
       "      <td>0.000013</td>\n",
       "      <td>0.000247</td>\n",
       "      <td>0.000269</td>\n",
       "      <td>0.000202</td>\n",
       "      <td>0.000266</td>\n",
       "      <td>-0.000262</td>\n",
       "      <td>1</td>\n",
       "      <td>0</td>\n",
       "      <td>0</td>\n",
       "      <td>0</td>\n",
       "    </tr>\n",
       "    <tr>\n",
       "      <th>3</th>\n",
       "      <td>0.000166</td>\n",
       "      <td>0.000267</td>\n",
       "      <td>0.000285</td>\n",
       "      <td>0.000285</td>\n",
       "      <td>0.000266</td>\n",
       "      <td>0.000272</td>\n",
       "      <td>0.000013</td>\n",
       "      <td>0.000247</td>\n",
       "      <td>0.000269</td>\n",
       "      <td>0.000202</td>\n",
       "      <td>0.000266</td>\n",
       "      <td>-0.000262</td>\n",
       "      <td>1</td>\n",
       "      <td>0</td>\n",
       "      <td>0</td>\n",
       "      <td>0</td>\n",
       "    </tr>\n",
       "    <tr>\n",
       "      <th>4</th>\n",
       "      <td>0.000166</td>\n",
       "      <td>0.000267</td>\n",
       "      <td>0.000286</td>\n",
       "      <td>0.000285</td>\n",
       "      <td>0.000266</td>\n",
       "      <td>0.000272</td>\n",
       "      <td>0.000013</td>\n",
       "      <td>0.000247</td>\n",
       "      <td>0.000269</td>\n",
       "      <td>0.000202</td>\n",
       "      <td>0.000266</td>\n",
       "      <td>-0.000262</td>\n",
       "      <td>1</td>\n",
       "      <td>0</td>\n",
       "      <td>0</td>\n",
       "      <td>0</td>\n",
       "    </tr>\n",
       "  </tbody>\n",
       "</table>\n",
       "</div>"
      ],
      "text/plain": [
       "         f0        f1        f2        f3        f4        f5        f6  \\\n",
       "0  0.000166  0.000267  0.000284  0.000285  0.000266  0.000272  0.000013   \n",
       "1  0.000166  0.000267  0.000285  0.000285  0.000266  0.000272  0.000013   \n",
       "2  0.000166  0.000267  0.000284  0.000285  0.000266  0.000272  0.000013   \n",
       "3  0.000166  0.000267  0.000285  0.000285  0.000266  0.000272  0.000013   \n",
       "4  0.000166  0.000267  0.000286  0.000285  0.000266  0.000272  0.000013   \n",
       "\n",
       "         f7        f8        f9       f10       f11  treatment  conversion  \\\n",
       "0  0.000247  0.000269  0.000202  0.000266 -0.000262          1           0   \n",
       "1  0.000247  0.000269  0.000202  0.000266 -0.000262          1           0   \n",
       "2  0.000247  0.000269  0.000202  0.000266 -0.000262          1           0   \n",
       "3  0.000247  0.000269  0.000202  0.000266 -0.000262          1           0   \n",
       "4  0.000247  0.000269  0.000202  0.000266 -0.000262          1           0   \n",
       "\n",
       "   visit  exposure  \n",
       "0      0         0  \n",
       "1      0         0  \n",
       "2      0         0  \n",
       "3      0         0  \n",
       "4      0         0  "
      ]
     },
     "execution_count": 23,
     "metadata": {},
     "output_type": "execute_result"
    }
   ],
   "source": [
    "df.head()"
   ]
  },
  {
   "cell_type": "markdown",
   "metadata": {},
   "source": [
    "## Эксперименты с уровнем значимости"
   ]
  },
  {
   "attachments": {
    "image.png": {
     "image/png": "[encoded data removed]"
    }
   },
   "cell_type": "markdown",
   "metadata": {},
   "source": [
    "![image.png](attachment:image.png)"
   ]
  },
  {
   "cell_type": "code",
   "execution_count": 24,
   "metadata": {},
   "outputs": [],
   "source": [
    "def get_n_samples(alpha, beta, eps, scale=1, alternative=2):\n",
    "    if alternative == 1:\n",
    "        f_alpha = stats.norm.ppf(1 - alpha, loc=0, scale=1)\n",
    "    else:\n",
    "        f_alpha = stats.norm.ppf(1 - alpha / 2, loc=0, scale=1)\n",
    "        \n",
    "    f_beta = stats.norm.ppf(1 - beta, loc=0, scale=1)\n",
    "    n_min = ((f_alpha + f_beta) ** 2 * (s_c * scale + s_t)) // (scale * eps**2)\n",
    "    return n_min"
   ]
  },
  {
   "cell_type": "code",
   "execution_count": 40,
   "metadata": {},
   "outputs": [],
   "source": [
    "def ttest(x, y, randomized=False, alternative=2, verbose=False):\n",
    "    n_x = x.shape[0]\n",
    "    n_y = y.shape[0]\n",
    "    \n",
    "    s_x = np.var(x, ddof=1)\n",
    "    s_y = np.var(y, ddof=1)\n",
    "    dof =  (s_x / n_x + s_y / n_y) ** 2 / ((s_x / n_x) ** 2 / (n_x - 1) + (s_y / n_y) ** 2 / (n_y - 1))\n",
    "    \n",
    "    if randomized:\n",
    "        b0 = n_x ** 0.75\n",
    "        b1 = n_y ** 0.75\n",
    "        \n",
    "        \n",
    "        theta_x = np.append(np.tile(np.array([1, np.sqrt(2), 1, np.sqrt(2)]), math.ceil(b0)),\\\n",
    "                   np.tile(np.array([1, np.sqrt(2), -1, -np.sqrt(2)]), n_x // 4 + 1))\n",
    "        \n",
    "        theta_x = theta_x[:n_x]\n",
    "    #     theta_x = theta_x / np.linalg.norm(theta_x)\n",
    "\n",
    "        theta_y = np.append(np.tile(np.array([1, np.sqrt(2), 1, np.sqrt(2)]), math.ceil(b1)),\\\n",
    "                   np.tile(np.array([1, np.sqrt(2), -1, -np.sqrt(2)]), n_y // 4 + 1))\n",
    "        \n",
    "        theta_y = theta_y[:n_y]\n",
    "    #     theta_y = theta_y / np.linalg.norm(theta_y)\n",
    "\n",
    "        t_val = (theta_x @ x - theta_y @ y) / np.sqrt(s_x * np.sum(theta_x ** 2) + s_y * np.sum(theta_y ** 2))\n",
    "        \n",
    "        if alternative == 1:\n",
    "            p = stats.t.cdf(t_val, dof)\n",
    "        else:  \n",
    "            p = 2*(stats.t.cdf(-abs(t_val), dof))\n",
    "        \n",
    "        \n",
    "    else: \n",
    "        if alternative == 1:\n",
    "            t_val, p = stats.ttest_ind(x, y, equal_var=False, alternative='less')\n",
    "        else:  \n",
    "            t_val, p = stats.ttest_ind(x, y, equal_var=False) \n",
    "    \n",
    "    if verbose:\n",
    "        check_pval(p)\n",
    "    return (t_val, p)"
   ]
  },
  {
   "cell_type": "code",
   "execution_count": 41,
   "metadata": {},
   "outputs": [],
   "source": [
    "def kl_div(x, y):\n",
    "    p = x.mean()\n",
    "    q = y.mean()\n",
    "    \n",
    "    pk = np.array([p, 1 - p])\n",
    "    qk = np.array([q, 1 - q])\n",
    "    \n",
    "    kl_stat = x.shape[0] * stats.entropy(pk, qk)\n",
    "    dof = 1\n",
    "    p = stats.chi2.sf(kl_stat, dof)\n",
    "    return kl_stat, p"
   ]
  },
  {
   "cell_type": "code",
   "execution_count": 42,
   "metadata": {},
   "outputs": [],
   "source": [
    "def calc_m(table, i, j, n):\n",
    "    x_ip = table[i, :].sum()\n",
    "    x_pj = table[:, j].sum()\n",
    "    return x_ip * x_pj / n\n",
    "\n",
    "def power_div(a, b, l=2/3):\n",
    "    n = len(a) + len(b)\n",
    "    r = 2\n",
    "    c = 2\n",
    "    table = np.array([[a[a==0].shape[0], a[a==1].shape[0]], \n",
    "                      [b[b == 0].shape[0], b[b==1].shape[0]]])\n",
    "    #print(table)\n",
    "    pd_stat = 0\n",
    "    for i in range(r):\n",
    "        for j in range(c):\n",
    "            m_ij= calc_m(table, i, j, n)\n",
    "            pd_stat += table[i][j] * ((table[i][j] / m_ij) ** l - 1)\n",
    "    \n",
    "    pd_stat *= 2 / (l * (l + 1)) \n",
    "    dof = (r - 1) * (c - 1)\n",
    "    p = stats.chi2.sf(pd_stat, dof)\n",
    "    \n",
    "    return pd_stat, p"
   ]
  },
  {
   "cell_type": "markdown",
   "metadata": {},
   "source": [
    "## Экспримент c фиксированным уровнем значимости $\\alpha$"
   ]
  },
  {
   "cell_type": "markdown",
   "metadata": {},
   "source": [
    "#### Маленькая выборка"
   ]
  },
  {
   "cell_type": "code",
   "execution_count": 164,
   "metadata": {},
   "outputs": [
    {
     "data": {
      "text/plain": [
       "(20, 20)"
      ]
     },
     "execution_count": 164,
     "metadata": {},
     "output_type": "execute_result"
    }
   ],
   "source": [
    "p_c = 0.3\n",
    "p_t = 0.3\n",
    "\n",
    "alpha = 0.05\n",
    "beta = 0.2\n",
    "eps = 0.4\n",
    "\n",
    "scale = 1.0\n",
    "s_c = p_c*(1-p_c)\n",
    "s_t = p_t*(1-p_t)\n",
    "\n",
    "control_n = int(get_n_samples(alpha, beta, eps, scale=scale, alternative=2))\n",
    "treatment_n = int(scale * control_n)\n",
    "control_n, treatment_n\n"
   ]
  },
  {
   "cell_type": "code",
   "execution_count": 172,
   "metadata": {},
   "outputs": [
    {
     "data": {
      "application/vnd.jupyter.widget-view+json": {
       "model_id": "a7f065573f4b4a6a85a4c8f7ad8be745",
       "version_major": 2,
       "version_minor": 0
      },
      "text/plain": [
       "  0%|          | 0/10000 [00:00<?, ?it/s]"
      ]
     },
     "metadata": {},
     "output_type": "display_data"
    },
    {
     "name": "stdout",
     "output_type": "stream",
     "text": [
      "Размер выборки: 20\n",
      "Ошибка первого рода в стандартном тесте: 0.0546, в рандомном: 0.0486\n"
     ]
    }
   ],
   "source": [
    "N_generations = 10_000\n",
    "\n",
    "p_vals_standart = []\n",
    "p_vals_random = []\n",
    "p_vals_pd = []\n",
    "p_vals_kl = []\n",
    "\n",
    "t_vals_standart = []\n",
    "t_vals_random = []\n",
    "pd_vals = []\n",
    "kl_vals = []\n",
    "\n",
    "\n",
    "alpha = 0.05\n",
    "\n",
    "for i in tqdm(range(N_generations)):\n",
    "    y_control = np.random.binomial(1, p_c, size=control_n)\n",
    "    y_treatment = np.random.binomial(1, p_t, size=treatment_n)\n",
    "    \n",
    "    (t_stat_orig, p_value_orig) = ttest(y_control, y_treatment, randomized = False, alternative=2)\n",
    "    (t_stat_rand, p_value_rand) = ttest(y_control, y_treatment, randomized=True, alternative=2)\n",
    "    \n",
    "    t_vals_standart.append(t_stat_orig)\n",
    "    t_vals_random.append(t_stat_rand)\n",
    "    \n",
    "    p_vals_standart.append(p_value_orig)\n",
    "    p_vals_random.append(p_value_rand)\n",
    "    \n",
    "\n",
    "first_error_orig = np.mean(np.array(p_vals_standart) <= alpha)\n",
    "first_error_rand = np.mean(np.array(p_vals_random) <= alpha)\n",
    "\n",
    "\n",
    "\n",
    "k_d_orig_norm = stats.ks_1samp(t_vals_standart, stats.norm.cdf).statistic\n",
    "k_d_rand_norm = stats.ks_1samp(t_vals_random, stats.norm.cdf).statistic\n",
    "\n",
    "\n",
    "\n",
    "# # for 2sided\n",
    "chisquare_cdf = partial(stats.chi2.cdf, df=1)\n",
    "k_d_orig_chi = stats.ks_1samp(np.array(t_vals_standart) ** 2, chisquare_cdf).statistic\n",
    "k_d_rand_chi = stats.ks_1samp(np.array(t_vals_random) ** 2, chisquare_cdf).statistic"
   ]
  },
  {
   "cell_type": "code",
   "execution_count": 173,
   "metadata": {},
   "outputs": [
    {
     "data": {
      "image/png": "[encoded data removed]",
      "text/plain": [
       "<Figure size 1296x360 with 2 Axes>"
      ]
     },
     "metadata": {
      "needs_background": "light"
     },
     "output_type": "display_data"
    }
   ],
   "source": [
    "f, (ax1, ax2) = plt.subplots(1, 2, figsize=(18, 5))\n",
    "\n",
    "_ = ax1.hist(t_vals_standart, bins='auto')\n",
    "ax1.set_title(f'Распределение стандартной t статистики', fontsize=20)\n",
    "\n",
    "_ = ax2.hist(t_vals_random, bins='auto')\n",
    "ax2.set_title(f'Распределение рандомизированной t статистики', fontsize=20)\n",
    "plt.show()\n",
    "\n"
   ]
  },
  {
   "cell_type": "code",
   "execution_count": 174,
   "metadata": {},
   "outputs": [
    {
     "data": {
      "text/html": [
       "<div>\n",
       "<style scoped>\n",
       "    .dataframe tbody tr th:only-of-type {\n",
       "        vertical-align: middle;\n",
       "    }\n",
       "\n",
       "    .dataframe tbody tr th {\n",
       "        vertical-align: top;\n",
       "    }\n",
       "\n",
       "    .dataframe thead th {\n",
       "        text-align: right;\n",
       "    }\n",
       "</style>\n",
       "<table border=\"1\" class=\"dataframe\">\n",
       "  <thead>\n",
       "    <tr style=\"text-align: right;\">\n",
       "      <th></th>\n",
       "      <th>1 type error</th>\n",
       "      <th>kolmogorov dist normal</th>\n",
       "      <th>kolmogorov dist 𝝌^2</th>\n",
       "    </tr>\n",
       "  </thead>\n",
       "  <tbody>\n",
       "    <tr>\n",
       "      <th>original ttest</th>\n",
       "      <td>0.0546</td>\n",
       "      <td>0.0725</td>\n",
       "      <td>0.1407</td>\n",
       "    </tr>\n",
       "    <tr>\n",
       "      <th>randomized ttest</th>\n",
       "      <td>0.0486</td>\n",
       "      <td>0.0238</td>\n",
       "      <td>0.0385</td>\n",
       "    </tr>\n",
       "  </tbody>\n",
       "</table>\n",
       "</div>"
      ],
      "text/plain": [
       "                  1 type error  kolmogorov dist normal  kolmogorov dist 𝝌^2\n",
       "original ttest          0.0546                  0.0725               0.1407\n",
       "randomized ttest        0.0486                  0.0238               0.0385"
      ]
     },
     "execution_count": 174,
     "metadata": {},
     "output_type": "execute_result"
    }
   ],
   "source": [
    "data = [[first_error_orig, k_d_orig_norm, k_d_orig_chi], [first_error_rand, k_d_rand_norm, k_d_rand_chi]]\n",
    "results = pd.DataFrame(data=data, index=['original ttest', 'randomized ttest'], \n",
    "                       columns=['1 type error', 'kolmogorov dist normal',  'kolmogorov dist 𝝌^2'])\n",
    "results"
   ]
  },
  {
   "cell_type": "markdown",
   "metadata": {},
   "source": [
    "#### Большая выборка"
   ]
  },
  {
   "cell_type": "code",
   "execution_count": 175,
   "metadata": {},
   "outputs": [
    {
     "data": {
      "text/plain": [
       "(3662, 3662)"
      ]
     },
     "execution_count": 175,
     "metadata": {},
     "output_type": "execute_result"
    }
   ],
   "source": [
    "p_c = 0.3\n",
    "p_t = 0.3\n",
    "\n",
    "alpha = 0.05\n",
    "beta = 0.2\n",
    "eps = 0.03\n",
    "\n",
    "scale = 1.0\n",
    "s_c = p_c*(1-p_c)\n",
    "s_t = p_t*(1-p_t)\n",
    "\n",
    "control_n = int(get_n_samples(alpha, beta, eps, scale=scale, alternative=2))\n",
    "treatment_n = int(scale * control_n)\n",
    "control_n, treatment_n\n"
   ]
  },
  {
   "cell_type": "code",
   "execution_count": 177,
   "metadata": {},
   "outputs": [
    {
     "data": {
      "application/vnd.jupyter.widget-view+json": {
       "model_id": "e4fd97932af84a308b2c8b33964f3339",
       "version_major": 2,
       "version_minor": 0
      },
      "text/plain": [
       "  0%|          | 0/10000 [00:00<?, ?it/s]"
      ]
     },
     "metadata": {},
     "output_type": "display_data"
    },
    {
     "name": "stdout",
     "output_type": "stream",
     "text": [
      "Размер выборки: 3662\n",
      "Ошибка первого рода в стандартном тесте: 0.0509, в рандомном: 0.0458\n"
     ]
    }
   ],
   "source": [
    "N_generations = 10_000\n",
    "\n",
    "p_vals_standart = []\n",
    "p_vals_random = []\n",
    "p_vals_pd = []\n",
    "p_vals_kl = []\n",
    "\n",
    "t_vals_standart = []\n",
    "t_vals_random = []\n",
    "pd_vals = []\n",
    "kl_vals = []\n",
    "\n",
    "\n",
    "alpha = 0.05\n",
    "\n",
    "for i in tqdm(range(N_generations)):\n",
    "    y_control = np.random.binomial(1, p_c, size=control_n)\n",
    "    y_treatment = np.random.binomial(1, p_t, size=treatment_n)\n",
    "    \n",
    "    (t_stat_orig, p_value_orig) = ttest(y_control, y_treatment, randomized = False, alternative=2)\n",
    "    (t_stat_rand, p_value_rand) = ttest(y_control, y_treatment, randomized=True, alternative=2)\n",
    "\n",
    "    t_vals_standart.append(t_stat_orig)\n",
    "    t_vals_random.append(t_stat_rand)\n",
    "    \n",
    "    p_vals_standart.append(p_value_orig)\n",
    "    p_vals_random.append(p_value_rand)\n",
    "    \n",
    "\n",
    "first_error_orig = np.mean(np.array(p_vals_standart) <= alpha)\n",
    "first_error_rand = np.mean(np.array(p_vals_random) <= alpha)\n",
    "\n",
    "\n",
    "\n",
    "k_d_orig_norm = stats.ks_1samp(t_vals_standart, stats.norm.cdf).statistic\n",
    "k_d_rand_norm = stats.ks_1samp(t_vals_random, stats.norm.cdf).statistic\n",
    "\n",
    "\n",
    "# # for 2sided\n",
    "chisquare_cdf = partial(stats.chi2.cdf, df=1)\n",
    "k_d_orig_chi = stats.ks_1samp(np.array(t_vals_standart) ** 2, chisquare_cdf).statistic\n",
    "k_d_rand_chi = stats.ks_1samp(np.array(t_vals_random) ** 2, chisquare_cdf).statistic"
   ]
  },
  {
   "cell_type": "code",
   "execution_count": 178,
   "metadata": {},
   "outputs": [
    {
     "data": {
      "image/png": "[encoded data removed]",
      "text/plain": [
       "<Figure size 1296x360 with 2 Axes>"
      ]
     },
     "metadata": {
      "needs_background": "light"
     },
     "output_type": "display_data"
    }
   ],
   "source": [
    "f, (ax1, ax2) = plt.subplots(1, 2, figsize=(18, 5))\n",
    "\n",
    "_ = ax1.hist(t_vals_standart, bins='auto')\n",
    "ax1.set_title(f'Распределение стандартной t статистики', fontsize=20)\n",
    "\n",
    "_ = ax2.hist(t_vals_random, bins='auto')\n",
    "ax2.set_title(f'Распределение рандомизированной t статистики', fontsize=20)\n",
    "plt.show()\n",
    "\n"
   ]
  }
 ],
 "metadata": {
  "kernelspec": {
   "display_name": "Python 3",
   "language": "python",
   "name": "python3"
  },
  "language_info": {
   "codemirror_mode": {
    "name": "ipython",
    "version": 3
   },
   "file_extension": ".py",
   "mimetype": "text/x-python",
   "name": "python",
   "nbconvert_exporter": "python",
   "pygments_lexer": "ipython3",
   "version": "3.7.4"
  }
 },
 "nbformat": 4,
 "nbformat_minor": 4
}
