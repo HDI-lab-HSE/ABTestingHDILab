{
 "cells": [
  {
   "cell_type": "code",
   "execution_count": 1,
   "id": "1986918c",
   "metadata": {},
   "outputs": [],
   "source": [
    "import numpy as np\n",
    "import joblib\n",
    "import matplotlib.pyplot as plt\n",
    "import pandas as pd\n",
    "from scipy.optimize import minimize\n",
    "from scipy.optimize import LinearConstraint\n",
    "\n",
    "%matplotlib inline"
   ]
  },
  {
   "cell_type": "markdown",
   "id": "7ce838a0",
   "metadata": {},
   "source": [
    "### Функция калибровки весов"
   ]
  },
  {
   "cell_type": "markdown",
   "id": "5fdcac49",
   "metadata": {},
   "source": [
    "Функция принимает на вход вспомогательные признаки $X_i$, $i \\in S$, где $S$ -- множество индексов элементов, попавших в выборку, соответствующие признакам значения сумм $T$ по всей генеральной совокупности и набор начальных весов $\\{d_i : i \\in S\\}$. Функция решает задачу оптимизации (4.7)\n",
    "$$\n",
    "    \\begin{cases}\n",
    "        \\sum\\limits_{i \\in S} d_i G_\\lambda \\left( \\frac{w_i}{d_i} \\right) \\rightarrow \\min\\limits_{\\{w_i : i \\in S\\}},\\\\\n",
    "        \\sum\\limits_{i \\in S} w_i X_i = T.\n",
    "    \\end{cases}\n",
    "$$\n",
    "и возвращает калиброванные веса $w_i$, $i \\in S$. Функция $G_\\lambda$ определена в формуле (4.8):\n",
    "$$\n",
    "    G_\\lambda =\n",
    "    \\begin{cases}\n",
    "        x\\log x - x + 1, \\quad \\text{если $\\lambda = 0$},\\\\\n",
    "        \\frac{x^{\\lambda + 1} - (\\lambda + 1)(x - 1) - 1}{\\lambda(\\lambda + 1)}, \\quad \\text{если $\\lambda > 0$,}\n",
    "    \\end{cases}\n",
    "$$\n",
    "где параметр $\\lambda \\in [0, 1]$ подается на вход функции. Функция описана в Главе 4.2 отчета."
   ]
  },
  {
   "cell_type": "code",
   "execution_count": 2,
   "id": "985af5e1",
   "metadata": {},
   "outputs": [],
   "source": [
    "# Метод калибровки весов\n",
    "#\n",
    "# initial_weights -- массив формы (n_samples, ); массив начальных весов;\n",
    "# обычно равен 1 / вероятности_появления\n",
    "#\n",
    "# features -- массив формы (n_features x n_samples); массив признаков\n",
    "#\n",
    "# totals -- массив формы (n_features, ); суммы признаков по всей генеральной совокупности\n",
    "#\n",
    "# power -- неотрицательное число; определяет меру расхождения G_power(x), которую предстоит минимизировать;\n",
    "# G_power(x) = (x**(power + 1) - (power + 1) * (x - 1) - 1) / power / (power + 1);\n",
    "# в случаяе power = 0 выражение для G_power(x) стоит понимать как поточечный предел\n",
    "#\n",
    "# Значение power = 1 соответствует процедуре GREG, power = 0 -- процедуре raking\n",
    "#\n",
    "# tol -- положительное число; значение power приравнивается к 0, если оно по абсолютной величине меньше tol \n",
    "#\n",
    "# Параметры солвера (используется trust-constr):\n",
    "#   gtol -- положительное число; солвер завершает работу, когда\n",
    "#   максимальное абсолютное значение компонент градиента Лагранжиана и\n",
    "#   нарушение ограничений меньше gtol\n",
    "#\n",
    "#   xtol -- положительное число; солвер завершает работу, когда радиус шара,\n",
    "#   на котором функция аппроксимируется модельной, (trust radius) становится меньше xtol\n",
    "#\n",
    "#   maxiter -- натуральное число; максимальное число итераций\n",
    "#\n",
    "#   verbose -- число из множества {0, 1, 2, 3}, отображает уровень детализации информации о работе солвера\n",
    "#   verbose = 0 -- информация не выводится\n",
    "#   verbose = 1 -- выводится отчет о завершении задачи\n",
    "#   verbose = 2 -- отображается прогресс после каждой итерации\n",
    "#   verbose = 3 -- наиболее подробный отчет\n",
    "#\n",
    "# Возвращаемое значение -- одномерный массив весов, соответствующих элементам выборки\n",
    "#\n",
    "def calibrate_weights(initial_weights, features, totals, power=1, tol=1e-3,\\\n",
    "                      gtol=1e-8, xtol=1e-8, maxiter=1000, verbose=0):\n",
    "    \n",
    "    # Если power не из отрезка [0, 1], выдать ошибку\n",
    "    if power < -tol or power > 1 + tol:\n",
    "        raise ValueError()\n",
    "    \n",
    "    # Начальные веса\n",
    "    d = initial_weights[:]\n",
    "    # Векторы признаков\n",
    "    X = features[:, :]\n",
    "    # Объем выборки\n",
    "    n = d.shape[0]\n",
    "    \n",
    "    D = np.diag(d)\n",
    "    # Начальное приближение для численного решения задачи оптимизации\n",
    "    # (является оценкой метода GREG)\n",
    "    w0 = d + D @ X @ np.linalg.pinv(X.T @ D @ X) @ (totals - X.T @ d)\n",
    "    \n",
    "    # Ограничения на взвешенную сумму признаков X.T @ w == totals\n",
    "    constraint = LinearConstraint(X.T, totals, totals)\n",
    "    \n",
    "    # Если power близка к 0, оптимизировать G_0 вместо G_power\n",
    "    if np.abs(power) < tol:\n",
    "        # Целевая функция, значение которой предстоить минимизировать\n",
    "        obj = lambda x : x.T @ np.log(x / d) - np.sum(x)\n",
    "        # Градиент функции, которую предстоит минимизировать\n",
    "        grad = lambda x : np.log(x / d)\n",
    "        # Численное решение задачи оптимизации с помощью scipy\n",
    "        res = minimize(obj, x0=w0, constraints=constraint, method='trust-constr', jac=grad,\\\n",
    "                       options={'gtol' : gtol, 'maxiter' : maxiter, 'verbose' : verbose})\n",
    "        # Выдать предупреждение, если метод оптимизации не сошелся\n",
    "        if res.success != 1:\n",
    "            print('Warning: the optimization method did not converge')\n",
    "        # Оптимальный набор весов\n",
    "        w = res.x\n",
    "    else:\n",
    "        # Целевая функция, значение которой предстоить минимизировать\n",
    "        obj = lambda x : d.T @ ((x / d)**(power + 1)) - (power + 1) * np.sum(x)\n",
    "        # Градиент функции, которую предстоит минимизировать\n",
    "        grad = lambda x : (power + 1) * ((x / d)**power - 1)\n",
    "        # Численное решение задачи оптимизации с помощью scipy\n",
    "        res = minimize(obj, x0=w0, constraints=constraint, method='trust-constr', jac=grad,\\\n",
    "                       options={'gtol' : gtol, 'maxiter' : maxiter, 'verbose' : verbose})\n",
    "        # Выдать предупреждение, если метод оптимизации не сошелся\n",
    "        if res.success != 1:\n",
    "            print('Warning: the optimization method did not converge')\n",
    "        # Оптимальный набор весов\n",
    "        w = res.x\n",
    "    \n",
    "    return w"
   ]
  },
  {
   "cell_type": "markdown",
   "id": "9c97754c",
   "metadata": {},
   "source": [
    "### Численные эксперименты\n",
    "\n",
    "Численные эксперименты, описанные в Главе 4.4"
   ]
  },
  {
   "cell_type": "markdown",
   "id": "b24da23d",
   "metadata": {},
   "source": [
    "### Пример 1: данные займов, калибровка по двум числовым признакам"
   ]
  },
  {
   "cell_type": "code",
   "execution_count": 3,
   "id": "6a911cff",
   "metadata": {},
   "outputs": [
    {
     "name": "stdout",
     "output_type": "stream",
     "text": [
      "(601, 6)\n",
      "   ID  Gender  Education  ApplicantIncome  LoanAmount  Loan_Status\n",
      "0   0       0          1           5849.0       127.0            1\n",
      "1   1       0          1           4583.0       128.0            0\n",
      "2   2       0          1           3000.0        66.0            1\n",
      "3   3       0          0           2583.0       120.0            1\n",
      "4   4       0          1           6000.0       141.0            1\n"
     ]
    }
   ],
   "source": [
    "# Чтение набора данных\n",
    "data = pd.read_csv('data/Loan_data_with_ID.csv', index_col=0)\n",
    "print(data.shape)\n",
    "print(data.head())"
   ]
  },
  {
   "cell_type": "code",
   "execution_count": 4,
   "id": "594c1b83",
   "metadata": {},
   "outputs": [],
   "source": [
    "# Выбор признаков для калибровки\n",
    "feature_columns = ['Education', 'Gender']\n",
    "\n",
    "# Целевая переменная\n",
    "target_column = 'Loan_Status'"
   ]
  },
  {
   "cell_type": "code",
   "execution_count": 5,
   "id": "b609173f",
   "metadata": {},
   "outputs": [
    {
     "name": "stdout",
     "output_type": "stream",
     "text": [
      "[468 112]\n"
     ]
    }
   ],
   "source": [
    "# Подсчет суммарных значений для каждого признака по генеральной совокупности\n",
    "totals = np.sum(np.array(data[feature_columns]), axis=0)\n",
    "print(totals)"
   ]
  },
  {
   "cell_type": "code",
   "execution_count": 6,
   "id": "999d6557",
   "metadata": {},
   "outputs": [],
   "source": [
    "# Объем генеральной совокупности\n",
    "n_total = data.shape[0]\n",
    "\n",
    "# Объем выборки (не более n_total)\n",
    "n_sample = 150\n",
    "\n",
    "# Начальные веса\n",
    "initial_weights = n_total / n_sample * np.ones(n_sample)"
   ]
  },
  {
   "cell_type": "code",
   "execution_count": 7,
   "id": "0316e5c1",
   "metadata": {},
   "outputs": [
    {
     "name": "stdout",
     "output_type": "stream",
     "text": [
      "[563 226 486 293 137  45 152 265  40 382 601 523 159 127 593 539 604 533\n",
      "  94  30 146 422 359 589 352 405 602  70 239 308 603 149 191 494 529 180\n",
      " 138 561 163 358   0 353 298 290 238 311   3 100 186 325 594 566 491 253\n",
      " 473  66  99 557 500  34 245 412 153 102 581 434 230  86 570 315 372 472\n",
      " 584 537 504  59  31 476 267 108 200   7 201 376 241 119 246 587 468 545\n",
      " 326  77 182 135 218 559 199 256 109 436 280 392 196 173  72 264 443 530\n",
      " 193 562 408 321 107 291 520 161 115 606 272 396 354  53 285 269 389 528\n",
      " 573 114 244 463  28 451 157 158 296 553 373 574 548 106  35 120 197  68\n",
      " 469 346 447  36 431 144]\n"
     ]
    }
   ],
   "source": [
    "np.random.seed(13)\n",
    "\n",
    "# Генерирование выборки\n",
    "sample = np.random.choice(data['ID'], size=n_sample, replace=False)\n",
    "# Вывод ID клиентов, попавших в выборку \n",
    "print(sample)"
   ]
  },
  {
   "cell_type": "code",
   "execution_count": 8,
   "id": "a0955c9d",
   "metadata": {},
   "outputs": [],
   "source": [
    "# Составление массива признаков и массива целевой переменной\n",
    "\n",
    "features = np.empty((0, len(feature_columns)))\n",
    "y = []\n",
    "\n",
    "for s in sample:\n",
    "    \n",
    "    s_features = data[data['ID'] == s][feature_columns]\n",
    "    features = np.append(features, np.array(s_features).reshape(1, -1), axis=0)\n",
    "    \n",
    "    y += [data[data['ID'] == s][target_column]]\n",
    "\n",
    "y = np.array(y).reshape(-1)"
   ]
  },
  {
   "cell_type": "code",
   "execution_count": 9,
   "id": "ce8264c3",
   "metadata": {},
   "outputs": [],
   "source": [
    "# Сравнение процедур калибровки при различных значениях степени\n",
    "\n",
    "power_list = np.linspace(0, 1, 21)\n",
    "\n",
    "estimates = []\n",
    "\n",
    "for p in power_list:\n",
    "    w = calibrate_weights(initial_weights, features, totals, power=p)\n",
    "    estimates += [w.T @ y]"
   ]
  },
  {
   "cell_type": "code",
   "execution_count": 10,
   "id": "1fc89b7d",
   "metadata": {},
   "outputs": [
    {
     "name": "stdout",
     "output_type": "stream",
     "text": [
      "Наилучшее значение показателя: 0.0\n"
     ]
    },
    {
     "data": {
      "image/png": "[encoded data removed]",
      "text/plain": [
       "<Figure size 720x504 with 1 Axes>"
      ]
     },
     "metadata": {
      "needs_background": "light"
     },
     "output_type": "display_data"
    }
   ],
   "source": [
    "# Настоящее значение суммы целевой переменной по всей генеральной совокупности\n",
    "y_total = data[target_column].sum()\n",
    "\n",
    "# Стандартная (некалиброванная) оценка суммы генеральной совокупности с одинаковыми весами\n",
    "y_sample = np.sum(y)\n",
    "y_naive = n_total / n_sample * y_sample\n",
    "\n",
    "# Подсчет величины ошибки и поиск оптимального значения степени\n",
    "\n",
    "# Относительная ошибка стандартной оценки\n",
    "error_naive = np.abs(y_naive - y_total) / y_total\n",
    "\n",
    "# Относительные ошибки калиброванных оценок\n",
    "errors = np.abs(estimates - y_total) / y_total\n",
    "\n",
    "power_best = power_list[np.argmin(errors)]\n",
    "print('Наилучшее значение показателя:', power_best)\n",
    "\n",
    "plt.figure(figsize=(10, 7))\n",
    "plt.plot(power_list, error_naive * np.ones(len(power_list)), 'm--', label='некалиброванная оценка')\n",
    "plt.plot(power_list, errors, 'b-', label='калиброванная оценка')\n",
    "plt.xlabel('Показатель', fontsize=14)\n",
    "plt.ylabel('Относительная ошибка', fontsize=14)\n",
    "plt.ylim(0, np.maximum(np.max(errors), error_naive) * 1.5)\n",
    "plt.legend(loc=0)\n",
    "plt.savefig('images/calibration_loan_data.png')\n",
    "plt.show()"
   ]
  },
  {
   "cell_type": "code",
   "execution_count": 11,
   "id": "9595f33b",
   "metadata": {},
   "outputs": [
    {
     "name": "stdout",
     "output_type": "stream",
     "text": [
      "Сумма генеральной совокупности: 414\n",
      "Стандартная (некалиброванная) оценка: 392.65333333333336\n",
      "`gtol` termination condition is satisfied.\n",
      "Number of iterations: 1, function evaluations: 1, CG iterations: 0, optimality: 4.44e-16, constraint violation: 1.71e-12, execution time: 0.00099 s.\n",
      "GREG: 408.4746592661119\n",
      "`gtol` termination condition is satisfied.\n",
      "Number of iterations: 4, function evaluations: 4, CG iterations: 3, optimality: 5.91e-10, constraint violation: 5.12e-13, execution time: 0.0029 s.\n",
      "Raking: 408.5099693364092\n",
      "`gtol` termination condition is satisfied.\n",
      "Number of iterations: 4, function evaluations: 4, CG iterations: 3, optimality: 5.91e-10, constraint violation: 5.12e-13, execution time: 0.0029 s.\n",
      "Калибровка с показателем 0.0 : 408.5099693364092\n"
     ]
    }
   ],
   "source": [
    "# Настоящее значение суммы целевой переменной по всей генеральной совокупности\n",
    "y_total = data[target_column].sum()\n",
    "print('Сумма генеральной совокупности:', y_total)\n",
    "\n",
    "# Стандартная оценка суммы генеральной совокупности с одинаковыми весами\n",
    "y_sample = np.sum(y)\n",
    "y_naive = n_total / n_sample * y_sample\n",
    "print('Стандартная (некалиброванная) оценка:', y_naive)\n",
    "\n",
    "# Калибровка методом GREG\n",
    "w = calibrate_weights(initial_weights, features, totals, power=1, verbose=1)\n",
    "print('GREG:', w.T @ y)\n",
    "\n",
    "# Калибровка методом raking\n",
    "w = calibrate_weights(initial_weights, features, totals, power=0, verbose=1)\n",
    "print('Raking:', w.T @ y)\n",
    "\n",
    "# Калибровка с наилучшим показателем\n",
    "w = calibrate_weights(initial_weights, features, totals, power=power_best, verbose=1)\n",
    "print('Калибровка с показателем', power_best, ':', w.T @ y)"
   ]
  },
  {
   "cell_type": "markdown",
   "id": "0d4735f7",
   "metadata": {},
   "source": [
    "### Пример 2: данные займов, калибровка по количеству наблюдений в стратах"
   ]
  },
  {
   "cell_type": "markdown",
   "id": "d4721f2c",
   "metadata": {},
   "source": [
    "Калибровка по количеству наблюдений в стратах описана в Главе 4.3 отчета"
   ]
  },
  {
   "cell_type": "code",
   "execution_count": 12,
   "id": "20d4533e",
   "metadata": {},
   "outputs": [
    {
     "name": "stdout",
     "output_type": "stream",
     "text": [
      "dict_keys([0, 1, 2, 3, 4, 5, 6, 7, 8, 9, 10, 11, 12, 13, 14, 15, 16, 17])\n",
      "[[5, 11, 12], [0, 3], [], [1], [6], [8, 16], [9, 15], [2], [], [7, 10], [], [14], [], [], [], [], [4, 13], [17]]\n"
     ]
    }
   ],
   "source": [
    "# Страты, полученные с помощью алгоритма, переданного индустриальным партнером\n",
    "sber_strata = joblib.load('saved_variables/Sber_data_stratification_loan.joblib')\n",
    "print(sber_strata.keys())\n",
    "\n",
    "# Объединения страт, полученные в результате применения генетического алгоритма\n",
    "ga_strata_unions = joblib.load('saved_variables/GA_data_stratification_loan.joblib')\n",
    "print(ga_strata_unions)"
   ]
  },
  {
   "cell_type": "code",
   "execution_count": 13,
   "id": "ba2367c5",
   "metadata": {},
   "outputs": [
    {
     "name": "stdout",
     "output_type": "stream",
     "text": [
      "(601, 6)\n",
      "   ID  Gender  Education  ApplicantIncome  LoanAmount  Loan_Status\n",
      "0   0       0          1           5849.0       127.0            1\n",
      "1   1       0          1           4583.0       128.0            0\n",
      "2   2       0          1           3000.0        66.0            1\n",
      "3   3       0          0           2583.0       120.0            1\n",
      "4   4       0          1           6000.0       141.0            1\n"
     ]
    }
   ],
   "source": [
    "# Чтение набора данных\n",
    "data = pd.read_csv('data/Loan_data_with_ID.csv', index_col=0)\n",
    "print(data.shape)\n",
    "print(data.head())\n",
    "\n",
    "# Целевая переменная\n",
    "target_column = 'Loan_Status'"
   ]
  },
  {
   "cell_type": "code",
   "execution_count": 14,
   "id": "42b5fbfd",
   "metadata": {},
   "outputs": [],
   "source": [
    "# Объем генеральной совокупности\n",
    "n_total = data.shape[0]\n",
    "\n",
    "# Объем выборки (не более n_total)\n",
    "n_sample = 150\n",
    "\n",
    "# Начальные веса\n",
    "initial_weights = n_total / n_sample * np.ones(n_sample)"
   ]
  },
  {
   "cell_type": "code",
   "execution_count": 15,
   "id": "8db5cf8d",
   "metadata": {},
   "outputs": [
    {
     "name": "stdout",
     "output_type": "stream",
     "text": [
      "[563 226 486 293 137  45 152 265  40 382 601 523 159 127 593 539 604 533\n",
      "  94  30 146 422 359 589 352 405 602  70 239 308 603 149 191 494 529 180\n",
      " 138 561 163 358   0 353 298 290 238 311   3 100 186 325 594 566 491 253\n",
      " 473  66  99 557 500  34 245 412 153 102 581 434 230  86 570 315 372 472\n",
      " 584 537 504  59  31 476 267 108 200   7 201 376 241 119 246 587 468 545\n",
      " 326  77 182 135 218 559 199 256 109 436 280 392 196 173  72 264 443 530\n",
      " 193 562 408 321 107 291 520 161 115 606 272 396 354  53 285 269 389 528\n",
      " 573 114 244 463  28 451 157 158 296 553 373 574 548 106  35 120 197  68\n",
      " 469 346 447  36 431 144]\n"
     ]
    }
   ],
   "source": [
    "np.random.seed(13)\n",
    "\n",
    "# Генерирование выборки\n",
    "sample = np.random.choice(data['ID'], size=n_sample, replace=False)\n",
    "# Вывод ID клиентов, попавших в выборку \n",
    "print(sample)"
   ]
  },
  {
   "cell_type": "markdown",
   "id": "a893f0c4",
   "metadata": {},
   "source": [
    "#### Пример с разбиением на страты, полученных с помощью алгоритма индустриального партнера"
   ]
  },
  {
   "cell_type": "code",
   "execution_count": 16,
   "id": "466e40db",
   "metadata": {},
   "outputs": [
    {
     "name": "stdout",
     "output_type": "stream",
     "text": [
      "[  1   7   2   2  21  32   4  15  49  20  16  15  20  88  78  13  83 135]\n"
     ]
    }
   ],
   "source": [
    "# Подсчет количества элементов в каждой страте\n",
    "totals = [len(sber_strata[k]) for k in sber_strata.keys()]\n",
    "    \n",
    "totals = np.array(totals)\n",
    "print(totals)"
   ]
  },
  {
   "cell_type": "code",
   "execution_count": 17,
   "id": "33818c0a",
   "metadata": {},
   "outputs": [],
   "source": [
    "# Составление массива признаков и массива целевой переменной\n",
    "\n",
    "features = np.empty((0, len(sber_strata.keys())))\n",
    "y = []\n",
    "\n",
    "for s in sample:\n",
    "    \n",
    "    s_features = [int(s in sber_strata[k]) for k in sber_strata.keys()]\n",
    "    features = np.append(features, np.array(s_features).reshape(1, -1), axis=0)\n",
    "    \n",
    "    y += [data[data['ID'] == s][target_column]]\n",
    "\n",
    "y = np.array(y).reshape(-1)"
   ]
  },
  {
   "cell_type": "code",
   "execution_count": 18,
   "id": "67414d85",
   "metadata": {},
   "outputs": [
    {
     "name": "stdout",
     "output_type": "stream",
     "text": [
      "(150, 4) (4,)\n"
     ]
    }
   ],
   "source": [
    "# Провести калибровку только по стратам, размер которых больше n_min\n",
    "n_min = 50\n",
    "features = features.T[totals > n_min].T\n",
    "totals = totals[totals > n_min]\n",
    "\n",
    "print(features.shape, totals.shape)"
   ]
  },
  {
   "cell_type": "code",
   "execution_count": 19,
   "id": "5741c4a1",
   "metadata": {},
   "outputs": [],
   "source": [
    "# Сравнение процедур калибровки при различных значениях степени\n",
    "\n",
    "power_list = np.linspace(0, 1, 21)\n",
    "\n",
    "estimates = []\n",
    "\n",
    "for p in power_list:\n",
    "    w = calibrate_weights(initial_weights, features, totals, power=p)\n",
    "    estimates += [w.T @ y]"
   ]
  },
  {
   "cell_type": "code",
   "execution_count": 20,
   "id": "12966746",
   "metadata": {},
   "outputs": [
    {
     "name": "stdout",
     "output_type": "stream",
     "text": [
      "Наилучшее значение показателя: 0.0\n"
     ]
    },
    {
     "data": {
      "image/png": "[encoded data removed]",
      "text/plain": [
       "<Figure size 720x504 with 1 Axes>"
      ]
     },
     "metadata": {
      "needs_background": "light"
     },
     "output_type": "display_data"
    }
   ],
   "source": [
    "# Настоящее значение суммы целевой переменной по всей генеральной совокупности\n",
    "y_total = data[target_column].sum()\n",
    "\n",
    "# Стандартная (некалиброванная) оценка суммы генеральной совокупности с одинаковыми весами\n",
    "y_sample = np.sum(y)\n",
    "y_naive = n_total / n_sample * y_sample\n",
    "\n",
    "# Подсчет величины ошибки и поиск оптимального значения степени\n",
    "\n",
    "# Относительная ошибка стандартной оценки\n",
    "error_naive = np.abs(y_naive - y_total) / y_total\n",
    "\n",
    "# Относительные ошибки калиброванных оценок\n",
    "errors = np.abs(estimates - y_total) / y_total\n",
    "\n",
    "power_best = power_list[np.argmin(errors)]\n",
    "print('Наилучшее значение показателя:', power_best)\n",
    "\n",
    "plt.figure(figsize=(10, 7))\n",
    "plt.plot(power_list, error_naive * np.ones(len(power_list)), 'm--', label='некалиброванная оценка')\n",
    "plt.plot(power_list, errors, 'b-', label='калиброванная оценка')\n",
    "plt.xlabel('Показатель', fontsize=14)\n",
    "plt.ylabel('Относительная ошибка', fontsize=14)\n",
    "plt.ylim(0, np.maximum(np.max(errors), error_naive) * 1.5)\n",
    "plt.legend(loc=0)\n",
    "plt.savefig('images/calmar_loan_data.png')\n",
    "plt.show()"
   ]
  },
  {
   "cell_type": "code",
   "execution_count": 21,
   "id": "e73761ee",
   "metadata": {},
   "outputs": [
    {
     "name": "stdout",
     "output_type": "stream",
     "text": [
      "Сумма генеральной совокупности: 414\n",
      "Стандартная (некалиброванная) оценка: 392.65333333333336\n",
      "`gtol` termination condition is satisfied.\n",
      "Number of iterations: 1, function evaluations: 1, CG iterations: 0, optimality: 0.00e+00, constraint violation: 2.84e-14, execution time: 0.00052 s.\n",
      "GREG: 406.5111447991174\n",
      "`gtol` termination condition is satisfied.\n",
      "Number of iterations: 1, function evaluations: 1, CG iterations: 0, optimality: 5.55e-17, constraint violation: 2.84e-14, execution time: 0.00073 s.\n",
      "Raking: 406.5111447991174\n",
      "`gtol` termination condition is satisfied.\n",
      "Number of iterations: 1, function evaluations: 1, CG iterations: 0, optimality: 5.55e-17, constraint violation: 2.84e-14, execution time: 0.00039 s.\n",
      "Калибровка с показателем 0.0 : 406.5111447991174\n"
     ]
    }
   ],
   "source": [
    "# Настоящее значение суммы целевой переменной по всей генеральной совокупности\n",
    "y_total = data[target_column].sum()\n",
    "print('Сумма генеральной совокупности:', y_total)\n",
    "\n",
    "# Стандартная оценка суммы генеральной совокупности с одинаковыми весами\n",
    "y_sample = np.sum(y)\n",
    "y_naive = n_total / n_sample * y_sample\n",
    "print('Стандартная (некалиброванная) оценка:', y_naive)\n",
    "\n",
    "# Калибровка методом GREG\n",
    "w = calibrate_weights(initial_weights, features, totals, power=1, verbose=1)\n",
    "print('GREG:', w.T @ y)\n",
    "\n",
    "# Калибровка методом raking\n",
    "w = calibrate_weights(initial_weights, features, totals, power=0, verbose=1)\n",
    "print('Raking:', w.T @ y)\n",
    "\n",
    "# Калибровка с наилучшим показателем\n",
    "w = calibrate_weights(initial_weights, features, totals, power=power_best, verbose=1)\n",
    "print('Калибровка с показателем', power_best, ':', w.T @ y)"
   ]
  },
  {
   "cell_type": "markdown",
   "id": "f1d20aca",
   "metadata": {},
   "source": [
    "#### Пример с разбиением на страты, полученных с помощью генетического алгоритма"
   ]
  },
  {
   "cell_type": "code",
   "execution_count": 22,
   "id": "095aa53b",
   "metadata": {},
   "outputs": [],
   "source": [
    "# Страты, полученные с помощью генетического алгоритма\n",
    "ga_strata = dict()\n",
    "\n",
    "key = 0\n",
    "\n",
    "for union in ga_strata_unions:\n",
    "    \n",
    "    if len(union) == 0:\n",
    "        continue\n",
    "    \n",
    "    ga_strata[key] = []\n",
    "    \n",
    "    for k in union:\n",
    "        ga_strata[key] += sber_strata[k]\n",
    "        \n",
    "    key += 1"
   ]
  },
  {
   "cell_type": "code",
   "execution_count": 23,
   "id": "8fcb1401",
   "metadata": {},
   "outputs": [
    {
     "name": "stdout",
     "output_type": "stream",
     "text": [
      "[ 67   3   7   4 132  33   2  31  78 109 135]\n"
     ]
    }
   ],
   "source": [
    "# Подсчет количества элементов в каждой страте\n",
    "totals = [len(ga_strata[k]) for k in ga_strata.keys()]\n",
    "    \n",
    "totals = np.array(totals)\n",
    "print(totals)"
   ]
  },
  {
   "cell_type": "code",
   "execution_count": 24,
   "id": "695d065c",
   "metadata": {},
   "outputs": [],
   "source": [
    "# Составление массива признаков и массива целевой переменной\n",
    "\n",
    "features = np.empty((0, len(ga_strata.keys())))\n",
    "y = []\n",
    "\n",
    "for s in sample:\n",
    "    \n",
    "    s_features = [int(s in ga_strata[k]) for k in ga_strata.keys()]\n",
    "    features = np.append(features, np.array(s_features).reshape(1, -1), axis=0)\n",
    "    \n",
    "    y += [data[data['ID'] == s][target_column]]\n",
    "\n",
    "y = np.array(y).reshape(-1)"
   ]
  },
  {
   "cell_type": "code",
   "execution_count": 25,
   "id": "d2f0c60f",
   "metadata": {},
   "outputs": [
    {
     "name": "stdout",
     "output_type": "stream",
     "text": [
      "(150, 4) (4,)\n"
     ]
    }
   ],
   "source": [
    "# Провести калибровку только по стратам, размер которых больше n_min\n",
    "n_min = 70\n",
    "features = features.T[totals > n_min].T\n",
    "totals = totals[totals > n_min]\n",
    "\n",
    "print(features.shape, totals.shape)"
   ]
  },
  {
   "cell_type": "code",
   "execution_count": 26,
   "id": "be098a4a",
   "metadata": {},
   "outputs": [],
   "source": [
    "# Сравнение процедур калибровки при различных значениях степени\n",
    "\n",
    "power_list = np.linspace(0, 1, 21)\n",
    "\n",
    "estimates = []\n",
    "\n",
    "for p in power_list:\n",
    "    w = calibrate_weights(initial_weights, features, totals, power=p)\n",
    "    estimates += [w.T @ y]"
   ]
  },
  {
   "cell_type": "code",
   "execution_count": 27,
   "id": "bca54987",
   "metadata": {},
   "outputs": [
    {
     "name": "stdout",
     "output_type": "stream",
     "text": [
      "Наилучшее значение показателя: 0.0\n"
     ]
    },
    {
     "data": {
      "image/png": "[encoded data removed]",
      "text/plain": [
       "<Figure size 720x504 with 1 Axes>"
      ]
     },
     "metadata": {
      "needs_background": "light"
     },
     "output_type": "display_data"
    }
   ],
   "source": [
    "# Настоящее значение суммы целевой переменной по всей генеральной совокупности\n",
    "y_total = data[target_column].sum()\n",
    "\n",
    "# Стандартная (некалиброванная) оценка суммы генеральной совокупности с одинаковыми весами\n",
    "y_sample = np.sum(y)\n",
    "y_naive = n_total / n_sample * y_sample\n",
    "\n",
    "# Подсчет величины ошибки и поиск оптимального значения степени\n",
    "\n",
    "# Относительная ошибка стандартной оценки\n",
    "error_naive = np.abs(y_naive - y_total) / y_total\n",
    "\n",
    "# Относительные ошибки калиброванных оценок\n",
    "errors = np.abs(estimates - y_total) / y_total\n",
    "\n",
    "power_best = power_list[np.argmin(errors)]\n",
    "print('Наилучшее значение показателя:', power_best)\n",
    "\n",
    "# Строим зависимость относительной ошибки предсказания от значения параметра, использованного при калибровке\n",
    "plt.figure(figsize=(10, 7))\n",
    "plt.plot(power_list, error_naive * np.ones(len(power_list)), 'm--', label='некалиброванная оценка')\n",
    "plt.plot(power_list, errors, 'b-', label='калиброванная оценка')\n",
    "plt.xlabel('Показатель', fontsize=14)\n",
    "plt.ylabel('Относительная ошибка', fontsize=14)\n",
    "plt.ylim(0, np.maximum(np.max(errors), error_naive) * 1.5)\n",
    "plt.legend(loc=0)\n",
    "plt.savefig('images/calmar_loan_data_genetic.png')\n",
    "plt.show()"
   ]
  },
  {
   "cell_type": "code",
   "execution_count": 28,
   "id": "145d669b",
   "metadata": {},
   "outputs": [
    {
     "name": "stdout",
     "output_type": "stream",
     "text": [
      "Сумма генеральной совокупности: 414\n",
      "Стандартная (некалиброванная) оценка: 392.65333333333336\n",
      "`gtol` termination condition is satisfied.\n",
      "Number of iterations: 1, function evaluations: 1, CG iterations: 0, optimality: 5.55e-17, constraint violation: 2.84e-14, execution time: 0.00045 s.\n",
      "GREG: 395.46608214247595\n",
      "`gtol` termination condition is satisfied.\n",
      "Number of iterations: 1, function evaluations: 1, CG iterations: 0, optimality: 2.78e-17, constraint violation: 2.84e-14, execution time: 0.00042 s.\n",
      "Raking: 395.46608214247595\n",
      "`gtol` termination condition is satisfied.\n",
      "Number of iterations: 1, function evaluations: 1, CG iterations: 0, optimality: 2.78e-17, constraint violation: 2.84e-14, execution time: 0.00027 s.\n",
      "Калибровка с показателем 0.0 : 395.46608214247595\n"
     ]
    }
   ],
   "source": [
    "# Настоящее значение суммы целевой переменной по всей генеральной совокупности\n",
    "y_total = data[target_column].sum()\n",
    "print('Сумма генеральной совокупности:', y_total)\n",
    "\n",
    "# Стандартная оценка суммы генеральной совокупности с одинаковыми весами\n",
    "y_sample = np.sum(y)\n",
    "y_naive = n_total / n_sample * y_sample\n",
    "print('Стандартная (некалиброванная) оценка:', y_naive)\n",
    "\n",
    "# Калибровка методом GREG\n",
    "w = calibrate_weights(initial_weights, features, totals, power=1, verbose=1)\n",
    "print('GREG:', w.T @ y)\n",
    "\n",
    "# Калибровка методом raking\n",
    "w = calibrate_weights(initial_weights, features, totals, power=0, verbose=1)\n",
    "print('Raking:', w.T @ y)\n",
    "\n",
    "# Калибровка с наилучшим показателем\n",
    "w = calibrate_weights(initial_weights, features, totals, power=power_best, verbose=1)\n",
    "print('Калибровка с показателем', power_best, ':', w.T @ y)"
   ]
  },
  {
   "cell_type": "markdown",
   "id": "51c04e30",
   "metadata": {},
   "source": [
    "### Пример 3: искусственные данные с количественной целевой переменной с распределением Пуассона (стр. 40 отчета)"
   ]
  },
  {
   "cell_type": "code",
   "execution_count": 29,
   "id": "3f434b8d",
   "metadata": {},
   "outputs": [
    {
     "name": "stdout",
     "output_type": "stream",
     "text": [
      "Ковариационная матрица признаков:\n",
      "[[ 0.91310778 -0.20422878]\n",
      " [-0.20422878  1.36158522]]\n",
      "(1000, 2)\n",
      "v = [0.15073966 0.24376398]\n"
     ]
    }
   ],
   "source": [
    "# Генерирование синтетических данных с двумя признаками с нормальным распределением\n",
    "# и с целевой переменной с распределением Пуассона\n",
    "np.random.seed(1)\n",
    "\n",
    "# Размер генеральной совокупности\n",
    "n_population = 1000\n",
    "\n",
    "# Генерирование ковариационной матрицы признаков\n",
    "eigenvalues = 2 * np.random.rand(2)\n",
    "eigenvectors, _, _ = np.linalg.svd(np.random.rand(2, 2))\n",
    "cov = eigenvectors @ np.diag(eigenvalues) @ eigenvectors.T\n",
    "print('Ковариационная матрица признаков:')\n",
    "print(cov)\n",
    "# Квадратный корень из ковариационной матрицы\n",
    "cov_sqrt = eigenvectors @ np.diag(eigenvalues**0.5) @ eigenvectors.T\n",
    "\n",
    "# Генерирование признаков\n",
    "features = np.random.randn(1000, 2) @ cov_sqrt\n",
    "print(features.shape)\n",
    "\n",
    "# Генерирование целевой переменной\n",
    "v = np.random.rand(2)\n",
    "print('v =', v)\n",
    "target = np.random.poisson(np.exp(features @ v))"
   ]
  },
  {
   "cell_type": "code",
   "execution_count": 30,
   "id": "7a4b6774",
   "metadata": {},
   "outputs": [
    {
     "name": "stdout",
     "output_type": "stream",
     "text": [
      "[33.81829137 28.25579226]\n"
     ]
    }
   ],
   "source": [
    "# Подсчет суммарных значений для каждого признака по генеральной совокупности\n",
    "totals = np.sum(features, axis=0)\n",
    "print(totals)"
   ]
  },
  {
   "cell_type": "code",
   "execution_count": 31,
   "id": "563368f0",
   "metadata": {},
   "outputs": [],
   "source": [
    "# Объем выборки (не более n_population)\n",
    "n_sample = 100\n",
    "\n",
    "# Начальные веса\n",
    "initial_weights = n_population / n_sample * np.ones(n_sample)"
   ]
  },
  {
   "cell_type": "code",
   "execution_count": 32,
   "id": "1afd8fa4",
   "metadata": {},
   "outputs": [
    {
     "name": "stdout",
     "output_type": "stream",
     "text": [
      "[945 452 304 433 864 291 986 923 260 546 591 390 407 261 594 618 196  78\n",
      " 765 644 991 417 416 165 279 388 576 810 729 669 785 674 987 480 612 362\n",
      " 855  70 779 675 545 337 736 740 687 380 414 346 570 189 751 593 743 663\n",
      " 108 878 542 192 371 561 972 336 670 872 553 624 647 577 472 114  63  15\n",
      " 275 423 458 822 928 830 828 512 222 195 459 799 363 980 705  98 733  46\n",
      " 731 411 721  58 877 430 677  99 918 921]\n"
     ]
    }
   ],
   "source": [
    "np.random.seed(13)\n",
    "\n",
    "# Генерирование выборки\n",
    "sample = np.random.choice(np.arange(n_population), size=n_sample, replace=False)\n",
    "# Вывод индексов, попавших в выборку \n",
    "print(sample)\n",
    "\n",
    "# Признаки и целевые переменные элементов выборки \n",
    "X = features[sample]\n",
    "y = target[sample]"
   ]
  },
  {
   "cell_type": "code",
   "execution_count": 33,
   "id": "76feac0e",
   "metadata": {},
   "outputs": [],
   "source": [
    "# Сравнение процедур калибровки при различных значениях степени\n",
    "\n",
    "power_list = np.linspace(0, 1, 21)\n",
    "\n",
    "estimates = []\n",
    "\n",
    "for p in power_list:\n",
    "    w = calibrate_weights(initial_weights, X, totals, power=p)\n",
    "    estimates += [w.T @ y]"
   ]
  },
  {
   "cell_type": "code",
   "execution_count": 34,
   "id": "4b5c4829",
   "metadata": {},
   "outputs": [
    {
     "name": "stdout",
     "output_type": "stream",
     "text": [
      "Наилучшее значение показателя: 1.0\n"
     ]
    },
    {
     "data": {
      "image/png": "[encoded data removed]",
      "text/plain": [
       "<Figure size 720x504 with 1 Axes>"
      ]
     },
     "metadata": {
      "needs_background": "light"
     },
     "output_type": "display_data"
    }
   ],
   "source": [
    "# Настоящее значение суммы целевой переменной по всей генеральной совокупности\n",
    "y_total = target.sum()\n",
    "\n",
    "# Стандартная (некалиброванная) оценка суммы генеральной совокупности с одинаковыми весами\n",
    "y_sample = np.sum(y)\n",
    "y_naive = n_population / n_sample * y_sample\n",
    "\n",
    "# Подсчет величины ошибки и поиск оптимального значения степени\n",
    "\n",
    "# Относительная ошибка стандартной оценки\n",
    "error_naive = np.abs(y_naive - y_total) / y_total\n",
    "\n",
    "# Относительные ошибки калиброванных оценок\n",
    "errors = np.abs(estimates - y_total) / y_total\n",
    "\n",
    "power_best = power_list[np.argmin(errors)]\n",
    "print('Наилучшее значение показателя:', power_best)\n",
    "\n",
    "# Строим зависимость относительной ошибки предсказания от значения параметра, использованного при калибровке\n",
    "plt.figure(figsize=(10, 7))\n",
    "plt.plot(power_list, error_naive * np.ones(len(power_list)), 'm--', label='некалиброванная оценка')\n",
    "plt.plot(power_list, errors, 'b-', label='калиброванная оценка')\n",
    "plt.xlabel('Показатель', fontsize=14)\n",
    "plt.ylabel('Относительная ошибка', fontsize=14)\n",
    "plt.ylim(0, np.maximum(np.max(errors), error_naive) * 1.5)\n",
    "plt.legend(loc=0)\n",
    "plt.savefig('images/calibration_synthetic_data.png')\n",
    "plt.show()"
   ]
  },
  {
   "cell_type": "code",
   "execution_count": 35,
   "id": "ea409a6e",
   "metadata": {},
   "outputs": [
    {
     "name": "stdout",
     "output_type": "stream",
     "text": [
      "Сумма генеральной совокупности: 1013\n",
      "Стандартная (некалиброванная) оценка: 1110.0\n",
      "`gtol` termination condition is satisfied.\n",
      "Number of iterations: 1, function evaluations: 1, CG iterations: 0, optimality: 3.61e-16, constraint violation: 6.75e-14, execution time: 0.00055 s.\n",
      "GREG: 1053.8790268093085\n",
      "`gtol` termination condition is satisfied.\n",
      "Number of iterations: 14, function evaluations: 15, CG iterations: 14, optimality: 1.91e-09, constraint violation: 2.84e-14, execution time: 0.011 s.\n",
      "Raking: 1062.4157177368988\n",
      "`gtol` termination condition is satisfied.\n",
      "Number of iterations: 1, function evaluations: 1, CG iterations: 0, optimality: 3.61e-16, constraint violation: 6.75e-14, execution time: 0.00021 s.\n",
      "Калибровка с показателем 1.0 : 1053.8790268093085\n"
     ]
    }
   ],
   "source": [
    "# Настоящее значение суммы целевой переменной по всей генеральной совокупности\n",
    "y_total = target.sum()\n",
    "print('Сумма генеральной совокупности:', y_total)\n",
    "\n",
    "# Стандартная оценка суммы генеральной совокупности с одинаковыми весами\n",
    "y_sample = np.sum(y)\n",
    "y_naive = n_population / n_sample * y_sample\n",
    "print('Стандартная (некалиброванная) оценка:', y_naive)\n",
    "\n",
    "# Калибровка методом GREG\n",
    "w = calibrate_weights(initial_weights, X, totals, power=1, verbose=1)\n",
    "print('GREG:', w.T @ y)\n",
    "\n",
    "# Калибровка методом raking\n",
    "w = calibrate_weights(initial_weights, X, totals, power=0, verbose=1)\n",
    "print('Raking:', w.T @ y)\n",
    "\n",
    "# Калибровка с наилучшим показателем\n",
    "w = calibrate_weights(initial_weights, X, totals, power=power_best, verbose=1)\n",
    "print('Калибровка с показателем', power_best, ':', w.T @ y)"
   ]
  },
  {
   "cell_type": "code",
   "execution_count": null,
   "id": "9fa7272e",
   "metadata": {},
   "outputs": [],
   "source": []
  }
 ],
 "metadata": {
  "kernelspec": {
   "display_name": "Python 3 (ipykernel)",
   "language": "python",
   "name": "python3"
  },
  "language_info": {
   "codemirror_mode": {
    "name": "ipython",
    "version": 3
   },
   "file_extension": ".py",
   "mimetype": "text/x-python",
   "name": "python",
   "nbconvert_exporter": "python",
   "pygments_lexer": "ipython3",
   "version": "3.10.12"
  }
 },
 "nbformat": 4,
 "nbformat_minor": 5
}
