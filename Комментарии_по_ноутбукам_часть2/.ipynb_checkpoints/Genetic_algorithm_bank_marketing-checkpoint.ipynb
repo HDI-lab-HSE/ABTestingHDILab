{
 "cells": [
  {
   "cell_type": "markdown",
   "metadata": {},
   "source": [
    "# Применение генетического алгоритма на данных банковского маркетинга (data/bank-full.csv). Данный код относится к разделу 1.5 отчета о НИР."
   ]
  },
  {
   "cell_type": "code",
   "execution_count": 1,
   "metadata": {},
   "outputs": [],
   "source": [
    "import pandas as pd\n",
    "import numpy as np\n",
    "import joblib\n",
    "import scipy\n",
    "from tqdm.notebook import tqdm\n",
    "from scipy.stats import chi2_contingency, kstest, ks_2samp, ttest_ind\n",
    "import matplotlib.pyplot as plt\n",
    "%matplotlib inline\n",
    "import seaborn as sns\n",
    "\n",
    "\n",
    "import warnings\n",
    "warnings.filterwarnings('ignore')"
   ]
  },
  {
   "cell_type": "code",
   "execution_count": 2,
   "metadata": {},
   "outputs": [
    {
     "data": {
      "text/html": [
       "<div>\n",
       "<style scoped>\n",
       "    .dataframe tbody tr th:only-of-type {\n",
       "        vertical-align: middle;\n",
       "    }\n",
       "\n",
       "    .dataframe tbody tr th {\n",
       "        vertical-align: top;\n",
       "    }\n",
       "\n",
       "    .dataframe thead th {\n",
       "        text-align: right;\n",
       "    }\n",
       "</style>\n",
       "<table border=\"1\" class=\"dataframe\">\n",
       "  <thead>\n",
       "    <tr style=\"text-align: right;\">\n",
       "      <th></th>\n",
       "      <th>age</th>\n",
       "      <th>job</th>\n",
       "      <th>marital</th>\n",
       "      <th>education</th>\n",
       "      <th>default</th>\n",
       "      <th>balance</th>\n",
       "      <th>housing</th>\n",
       "      <th>loan</th>\n",
       "      <th>contact</th>\n",
       "      <th>day</th>\n",
       "      <th>month</th>\n",
       "      <th>duration</th>\n",
       "      <th>campaign</th>\n",
       "      <th>pdays</th>\n",
       "      <th>previous</th>\n",
       "      <th>poutcome</th>\n",
       "      <th>y</th>\n",
       "    </tr>\n",
       "  </thead>\n",
       "  <tbody>\n",
       "    <tr>\n",
       "      <th>0</th>\n",
       "      <td>58</td>\n",
       "      <td>management</td>\n",
       "      <td>married</td>\n",
       "      <td>tertiary</td>\n",
       "      <td>no</td>\n",
       "      <td>2143</td>\n",
       "      <td>yes</td>\n",
       "      <td>no</td>\n",
       "      <td>unknown</td>\n",
       "      <td>5</td>\n",
       "      <td>may</td>\n",
       "      <td>261</td>\n",
       "      <td>1</td>\n",
       "      <td>-1</td>\n",
       "      <td>0</td>\n",
       "      <td>unknown</td>\n",
       "      <td>no</td>\n",
       "    </tr>\n",
       "    <tr>\n",
       "      <th>1</th>\n",
       "      <td>44</td>\n",
       "      <td>technician</td>\n",
       "      <td>single</td>\n",
       "      <td>secondary</td>\n",
       "      <td>no</td>\n",
       "      <td>29</td>\n",
       "      <td>yes</td>\n",
       "      <td>no</td>\n",
       "      <td>unknown</td>\n",
       "      <td>5</td>\n",
       "      <td>may</td>\n",
       "      <td>151</td>\n",
       "      <td>1</td>\n",
       "      <td>-1</td>\n",
       "      <td>0</td>\n",
       "      <td>unknown</td>\n",
       "      <td>no</td>\n",
       "    </tr>\n",
       "    <tr>\n",
       "      <th>2</th>\n",
       "      <td>33</td>\n",
       "      <td>entrepreneur</td>\n",
       "      <td>married</td>\n",
       "      <td>secondary</td>\n",
       "      <td>no</td>\n",
       "      <td>2</td>\n",
       "      <td>yes</td>\n",
       "      <td>yes</td>\n",
       "      <td>unknown</td>\n",
       "      <td>5</td>\n",
       "      <td>may</td>\n",
       "      <td>76</td>\n",
       "      <td>1</td>\n",
       "      <td>-1</td>\n",
       "      <td>0</td>\n",
       "      <td>unknown</td>\n",
       "      <td>no</td>\n",
       "    </tr>\n",
       "    <tr>\n",
       "      <th>3</th>\n",
       "      <td>47</td>\n",
       "      <td>blue-collar</td>\n",
       "      <td>married</td>\n",
       "      <td>unknown</td>\n",
       "      <td>no</td>\n",
       "      <td>1506</td>\n",
       "      <td>yes</td>\n",
       "      <td>no</td>\n",
       "      <td>unknown</td>\n",
       "      <td>5</td>\n",
       "      <td>may</td>\n",
       "      <td>92</td>\n",
       "      <td>1</td>\n",
       "      <td>-1</td>\n",
       "      <td>0</td>\n",
       "      <td>unknown</td>\n",
       "      <td>no</td>\n",
       "    </tr>\n",
       "    <tr>\n",
       "      <th>4</th>\n",
       "      <td>33</td>\n",
       "      <td>unknown</td>\n",
       "      <td>single</td>\n",
       "      <td>unknown</td>\n",
       "      <td>no</td>\n",
       "      <td>1</td>\n",
       "      <td>no</td>\n",
       "      <td>no</td>\n",
       "      <td>unknown</td>\n",
       "      <td>5</td>\n",
       "      <td>may</td>\n",
       "      <td>198</td>\n",
       "      <td>1</td>\n",
       "      <td>-1</td>\n",
       "      <td>0</td>\n",
       "      <td>unknown</td>\n",
       "      <td>no</td>\n",
       "    </tr>\n",
       "  </tbody>\n",
       "</table>\n",
       "</div>"
      ],
      "text/plain": [
       "   age           job  marital  education default  balance housing loan  \\\n",
       "0   58    management  married   tertiary      no     2143     yes   no   \n",
       "1   44    technician   single  secondary      no       29     yes   no   \n",
       "2   33  entrepreneur  married  secondary      no        2     yes  yes   \n",
       "3   47   blue-collar  married    unknown      no     1506     yes   no   \n",
       "4   33       unknown   single    unknown      no        1      no   no   \n",
       "\n",
       "   contact  day month  duration  campaign  pdays  previous poutcome   y  \n",
       "0  unknown    5   may       261         1     -1         0  unknown  no  \n",
       "1  unknown    5   may       151         1     -1         0  unknown  no  \n",
       "2  unknown    5   may        76         1     -1         0  unknown  no  \n",
       "3  unknown    5   may        92         1     -1         0  unknown  no  \n",
       "4  unknown    5   may       198         1     -1         0  unknown  no  "
      ]
     },
     "execution_count": 2,
     "metadata": {},
     "output_type": "execute_result"
    }
   ],
   "source": [
    "## Для скачивания датасета раскомментировать следующий код\n",
    "\n",
    "# !wget https://archive.ics.uci.edu/ml/machine-learning-databases/00222/bank.zip\n",
    "# !unzip bank.zip\n",
    "\n",
    "#по умолчанию этот датасет уже скачан и лежит в папке data\n",
    "df = pd.read_csv('data/bank-full.csv', sep=';')\n",
    "df.head()"
   ]
  },
  {
   "cell_type": "code",
   "execution_count": 3,
   "metadata": {},
   "outputs": [
    {
     "data": {
      "text/plain": [
       "(45211, 17)"
      ]
     },
     "execution_count": 3,
     "metadata": {},
     "output_type": "execute_result"
    }
   ],
   "source": [
    "df.shape"
   ]
  },
  {
   "cell_type": "markdown",
   "metadata": {},
   "source": [
    "# Обработка признаков датасета"
   ]
  },
  {
   "cell_type": "markdown",
   "metadata": {},
   "source": [
    "#### y (целевая переменная)\n",
    "\n",
    "Заменим \"yes\" - на 1, \"no\" - на 0"
   ]
  },
  {
   "cell_type": "code",
   "execution_count": 4,
   "metadata": {},
   "outputs": [],
   "source": [
    "df[\"y\"] = pd.factorize(df['y'])[0]\n"
   ]
  },
  {
   "cell_type": "markdown",
   "metadata": {},
   "source": [
    "#### Age\n",
    "\n",
    "Бинаризуем значение данного признака"
   ]
  },
  {
   "cell_type": "code",
   "execution_count": 5,
   "metadata": {},
   "outputs": [
    {
     "data": {
      "text/plain": [
       "[[0, 27], [28, 40], [41, 55], [56, 100]]"
      ]
     },
     "execution_count": 5,
     "metadata": {},
     "output_type": "execute_result"
    }
   ],
   "source": [
    "intervals = []\n",
    "\n",
    "beg = 0\n",
    "#интервалы бинаризации для возраста\n",
    "for i in [27, 40, 55, 100]:\n",
    "    intervals.append([beg, i])\n",
    "    beg = i + 1\n",
    "    \n",
    "intervals   "
   ]
  },
  {
   "cell_type": "code",
   "execution_count": 6,
   "metadata": {},
   "outputs": [],
   "source": [
    "intervals_np = np.array(intervals)\n",
    "df['age'] = np.digitize(df['age'], intervals_np[:, 0]) - 1"
   ]
  },
  {
   "cell_type": "code",
   "execution_count": 7,
   "metadata": {},
   "outputs": [
    {
     "data": {
      "text/plain": [
       "0        3\n",
       "1        2\n",
       "2        1\n",
       "3        2\n",
       "4        1\n",
       "        ..\n",
       "45206    2\n",
       "45207    3\n",
       "45208    3\n",
       "45209    3\n",
       "45210    1\n",
       "Name: age, Length: 45211, dtype: int64"
      ]
     },
     "execution_count": 7,
     "metadata": {},
     "output_type": "execute_result"
    }
   ],
   "source": [
    "df['age'] "
   ]
  },
  {
   "cell_type": "markdown",
   "metadata": {},
   "source": [
    "**Комментарии банка**\n",
    "\n",
    "Бинаризуем значение данного признака? Назначая 4 интервала.\n",
    "\n",
    "Всегда считала что бинарный это двойной.\n",
    "\n",
    "Может просто назначаем интервалы."
   ]
  },
  {
   "cell_type": "code",
   "execution_count": 8,
   "metadata": {},
   "outputs": [
    {
     "data": {
      "text/plain": [
       "<AxesSubplot:xlabel='age', ylabel='Count'>"
      ]
     },
     "execution_count": 8,
     "metadata": {},
     "output_type": "execute_result"
    },
    {
     "data": {
      "image/png": "[encoded data removed]",
      "text/plain": [
       "<Figure size 432x288 with 1 Axes>"
      ]
     },
     "metadata": {
      "needs_background": "light"
     },
     "output_type": "display_data"
    }
   ],
   "source": [
    "sns.histplot(data=df, x='age', hue='y')"
   ]
  },
  {
   "cell_type": "markdown",
   "metadata": {},
   "source": [
    "#### job column\n",
    "\n",
    "Удалим строки, содержащие пустое значение признака (\"unknown\") и каждое уникальное значение категории заменим на число"
   ]
  },
  {
   "cell_type": "code",
   "execution_count": 9,
   "metadata": {},
   "outputs": [],
   "source": [
    "df = df[df['job'] != 'unknown']"
   ]
  },
  {
   "cell_type": "code",
   "execution_count": 10,
   "metadata": {},
   "outputs": [],
   "source": [
    "df['job'] = pd.factorize(df['job'])[0]"
   ]
  },
  {
   "cell_type": "markdown",
   "metadata": {},
   "source": [
    "#### martial column\n",
    "\n",
    "Удалим строки, содержащие пустое значение признака (\"unknown\") и каждое уникальное значение категории заменим на число"
   ]
  },
  {
   "cell_type": "code",
   "execution_count": 11,
   "metadata": {},
   "outputs": [],
   "source": [
    "df = df[df['marital'] != 'unknown']"
   ]
  },
  {
   "cell_type": "code",
   "execution_count": 12,
   "metadata": {},
   "outputs": [],
   "source": [
    "df['marital'] = pd.factorize(df['marital'])[0]"
   ]
  },
  {
   "cell_type": "code",
   "execution_count": 13,
   "metadata": {},
   "outputs": [
    {
     "data": {
      "text/plain": [
       "<AxesSubplot:xlabel='marital', ylabel='Count'>"
      ]
     },
     "execution_count": 13,
     "metadata": {},
     "output_type": "execute_result"
    },
    {
     "data": {
      "image/png": "[encoded data removed]",
      "text/plain": [
       "<Figure size 432x288 with 1 Axes>"
      ]
     },
     "metadata": {
      "needs_background": "light"
     },
     "output_type": "display_data"
    }
   ],
   "source": [
    "sns.histplot(data=df, x='marital', hue='y')"
   ]
  },
  {
   "cell_type": "markdown",
   "metadata": {},
   "source": [
    "#### education column\n",
    "\n",
    "Каждое уникальное значение категории заменим на число"
   ]
  },
  {
   "cell_type": "code",
   "execution_count": 14,
   "metadata": {},
   "outputs": [],
   "source": [
    "df['education'] = pd.factorize(df['education'])[0]"
   ]
  },
  {
   "cell_type": "code",
   "execution_count": 15,
   "metadata": {},
   "outputs": [
    {
     "data": {
      "text/plain": [
       "<AxesSubplot:xlabel='education', ylabel='Count'>"
      ]
     },
     "execution_count": 15,
     "metadata": {},
     "output_type": "execute_result"
    },
    {
     "data": {
      "image/png": "[encoded data removed]",
      "text/plain": [
       "<Figure size 432x288 with 1 Axes>"
      ]
     },
     "metadata": {
      "needs_background": "light"
     },
     "output_type": "display_data"
    }
   ],
   "source": [
    "sns.histplot(data=df, x='education', hue='y')"
   ]
  },
  {
   "cell_type": "markdown",
   "metadata": {},
   "source": [
    "#### default column\n",
    "\n",
    "Каждое уникальное значение категории заменим на число"
   ]
  },
  {
   "cell_type": "code",
   "execution_count": 16,
   "metadata": {},
   "outputs": [],
   "source": [
    "df['default'] = pd.factorize(df['default'])[0]"
   ]
  },
  {
   "cell_type": "code",
   "execution_count": 17,
   "metadata": {},
   "outputs": [
    {
     "data": {
      "text/plain": [
       "<AxesSubplot:xlabel='default', ylabel='Count'>"
      ]
     },
     "execution_count": 17,
     "metadata": {},
     "output_type": "execute_result"
    },
    {
     "data": {
      "image/png": "[encoded data removed]",
      "text/plain": [
       "<Figure size 432x288 with 1 Axes>"
      ]
     },
     "metadata": {
      "needs_background": "light"
     },
     "output_type": "display_data"
    }
   ],
   "source": [
    "sns.histplot(data=df, x='default', hue='y')"
   ]
  },
  {
   "cell_type": "markdown",
   "metadata": {},
   "source": [
    "#### housing and loan"
   ]
  },
  {
   "cell_type": "markdown",
   "metadata": {},
   "source": [
    "Каждое уникальное значение категории заменим на число"
   ]
  },
  {
   "cell_type": "code",
   "execution_count": 18,
   "metadata": {},
   "outputs": [
    {
     "data": {
      "text/plain": [
       "<AxesSubplot:xlabel='housing', ylabel='Count'>"
      ]
     },
     "execution_count": 18,
     "metadata": {},
     "output_type": "execute_result"
    },
    {
     "data": {
      "image/png": "[encoded data removed]",
      "text/plain": [
       "<Figure size 432x288 with 1 Axes>"
      ]
     },
     "metadata": {
      "needs_background": "light"
     },
     "output_type": "display_data"
    }
   ],
   "source": [
    "sns.histplot(data=df, x='housing', hue='y')"
   ]
  },
  {
   "cell_type": "code",
   "execution_count": 19,
   "metadata": {},
   "outputs": [],
   "source": [
    "df['housing'] = pd.factorize(df['housing'])[0]"
   ]
  },
  {
   "cell_type": "code",
   "execution_count": 20,
   "metadata": {},
   "outputs": [
    {
     "data": {
      "text/plain": [
       "<AxesSubplot:xlabel='loan', ylabel='Count'>"
      ]
     },
     "execution_count": 20,
     "metadata": {},
     "output_type": "execute_result"
    },
    {
     "data": {
      "image/png": "[encoded data removed]",
      "text/plain": [
       "<Figure size 432x288 with 1 Axes>"
      ]
     },
     "metadata": {
      "needs_background": "light"
     },
     "output_type": "display_data"
    }
   ],
   "source": [
    "sns.histplot(data=df, x='loan', hue='y')"
   ]
  },
  {
   "cell_type": "markdown",
   "metadata": {},
   "source": [
    "#### оставшиеся признаки: contact & campaign & poutcome (просто визуализируем)"
   ]
  },
  {
   "cell_type": "code",
   "execution_count": 21,
   "metadata": {},
   "outputs": [
    {
     "data": {
      "text/plain": [
       "<AxesSubplot:xlabel='contact', ylabel='Count'>"
      ]
     },
     "execution_count": 21,
     "metadata": {},
     "output_type": "execute_result"
    },
    {
     "data": {
      "image/png": "[encoded data removed]",
      "text/plain": [
       "<Figure size 432x288 with 1 Axes>"
      ]
     },
     "metadata": {
      "needs_background": "light"
     },
     "output_type": "display_data"
    }
   ],
   "source": [
    "sns.histplot(data=df, x='contact', hue='y')"
   ]
  },
  {
   "cell_type": "code",
   "execution_count": 22,
   "metadata": {},
   "outputs": [
    {
     "data": {
      "text/plain": [
       "<AxesSubplot:xlabel='campaign', ylabel='Count'>"
      ]
     },
     "execution_count": 22,
     "metadata": {},
     "output_type": "execute_result"
    },
    {
     "data": {
      "image/png": "[encoded data removed]",
      "text/plain": [
       "<Figure size 432x288 with 1 Axes>"
      ]
     },
     "metadata": {
      "needs_background": "light"
     },
     "output_type": "display_data"
    }
   ],
   "source": [
    "sns.histplot(data=df, x='campaign', log_scale=True, hue='y')"
   ]
  },
  {
   "cell_type": "code",
   "execution_count": 23,
   "metadata": {},
   "outputs": [
    {
     "data": {
      "text/plain": [
       "<AxesSubplot:xlabel='poutcome', ylabel='Count'>"
      ]
     },
     "execution_count": 23,
     "metadata": {},
     "output_type": "execute_result"
    },
    {
     "data": {
      "image/png": "[encoded data removed]",
      "text/plain": [
       "<Figure size 432x288 with 1 Axes>"
      ]
     },
     "metadata": {
      "needs_background": "light"
     },
     "output_type": "display_data"
    }
   ],
   "source": [
    "sns.histplot(data=df, x='poutcome', hue='y')"
   ]
  },
  {
   "cell_type": "code",
   "execution_count": 24,
   "metadata": {},
   "outputs": [
    {
     "data": {
      "text/plain": [
       "0          unknown\n",
       "1          unknown\n",
       "2          unknown\n",
       "3          unknown\n",
       "5          unknown\n",
       "           ...    \n",
       "45206     cellular\n",
       "45207     cellular\n",
       "45208     cellular\n",
       "45209    telephone\n",
       "45210     cellular\n",
       "Name: contact, Length: 44923, dtype: object"
      ]
     },
     "execution_count": 24,
     "metadata": {},
     "output_type": "execute_result"
    }
   ],
   "source": [
    "df['contact']"
   ]
  },
  {
   "cell_type": "code",
   "execution_count": 25,
   "metadata": {},
   "outputs": [
    {
     "data": {
      "text/plain": [
       "0        unknown\n",
       "1        unknown\n",
       "2        unknown\n",
       "3        unknown\n",
       "5        unknown\n",
       "          ...   \n",
       "45206    unknown\n",
       "45207    unknown\n",
       "45208    success\n",
       "45209    unknown\n",
       "45210      other\n",
       "Name: poutcome, Length: 44923, dtype: object"
      ]
     },
     "execution_count": 25,
     "metadata": {},
     "output_type": "execute_result"
    }
   ],
   "source": [
    "df['poutcome']"
   ]
  },
  {
   "cell_type": "markdown",
   "metadata": {},
   "source": [
    "**Комментарии банка**\n",
    "\n",
    "Итого по предобработке датафрейма:\n",
    "\n",
    "+ Если фича с числовыми данными, ее приводим к интервалам\n",
    "\n",
    "+ Если фича с категориальными, их преобразовываем 0 1 2 3  и тд.\n",
    "\n",
    "Так?\n",
    "\n",
    "\"оставшиеся признаки: contact & campaign & poutcome (просто визуализируем)\"\n",
    "\n",
    "+ Почему с этими признаками нечего не делаем? Они лишние по ним не будем стратифицировать и тп.? Если так, зачем их вообще визуализировать, можно их присто удалить после подгрузки датасета."
   ]
  },
  {
   "cell_type": "code",
   "execution_count": 24,
   "metadata": {},
   "outputs": [
    {
     "data": {
      "text/html": [
       "<div>\n",
       "<style scoped>\n",
       "    .dataframe tbody tr th:only-of-type {\n",
       "        vertical-align: middle;\n",
       "    }\n",
       "\n",
       "    .dataframe tbody tr th {\n",
       "        vertical-align: top;\n",
       "    }\n",
       "\n",
       "    .dataframe thead th {\n",
       "        text-align: right;\n",
       "    }\n",
       "</style>\n",
       "<table border=\"1\" class=\"dataframe\">\n",
       "  <thead>\n",
       "    <tr style=\"text-align: right;\">\n",
       "      <th></th>\n",
       "      <th>age</th>\n",
       "      <th>job</th>\n",
       "      <th>marital</th>\n",
       "      <th>education</th>\n",
       "      <th>default</th>\n",
       "      <th>balance</th>\n",
       "      <th>housing</th>\n",
       "      <th>loan</th>\n",
       "      <th>contact</th>\n",
       "      <th>day</th>\n",
       "      <th>month</th>\n",
       "      <th>duration</th>\n",
       "      <th>campaign</th>\n",
       "      <th>pdays</th>\n",
       "      <th>previous</th>\n",
       "      <th>poutcome</th>\n",
       "      <th>y</th>\n",
       "      <th>ID</th>\n",
       "    </tr>\n",
       "  </thead>\n",
       "  <tbody>\n",
       "    <tr>\n",
       "      <th>0</th>\n",
       "      <td>3</td>\n",
       "      <td>0</td>\n",
       "      <td>0</td>\n",
       "      <td>0</td>\n",
       "      <td>0</td>\n",
       "      <td>2143</td>\n",
       "      <td>0</td>\n",
       "      <td>no</td>\n",
       "      <td>unknown</td>\n",
       "      <td>5</td>\n",
       "      <td>may</td>\n",
       "      <td>261</td>\n",
       "      <td>1</td>\n",
       "      <td>-1</td>\n",
       "      <td>0</td>\n",
       "      <td>unknown</td>\n",
       "      <td>0</td>\n",
       "      <td>0</td>\n",
       "    </tr>\n",
       "    <tr>\n",
       "      <th>1</th>\n",
       "      <td>2</td>\n",
       "      <td>1</td>\n",
       "      <td>1</td>\n",
       "      <td>1</td>\n",
       "      <td>0</td>\n",
       "      <td>29</td>\n",
       "      <td>0</td>\n",
       "      <td>no</td>\n",
       "      <td>unknown</td>\n",
       "      <td>5</td>\n",
       "      <td>may</td>\n",
       "      <td>151</td>\n",
       "      <td>1</td>\n",
       "      <td>-1</td>\n",
       "      <td>0</td>\n",
       "      <td>unknown</td>\n",
       "      <td>0</td>\n",
       "      <td>1</td>\n",
       "    </tr>\n",
       "    <tr>\n",
       "      <th>2</th>\n",
       "      <td>1</td>\n",
       "      <td>2</td>\n",
       "      <td>0</td>\n",
       "      <td>1</td>\n",
       "      <td>0</td>\n",
       "      <td>2</td>\n",
       "      <td>0</td>\n",
       "      <td>yes</td>\n",
       "      <td>unknown</td>\n",
       "      <td>5</td>\n",
       "      <td>may</td>\n",
       "      <td>76</td>\n",
       "      <td>1</td>\n",
       "      <td>-1</td>\n",
       "      <td>0</td>\n",
       "      <td>unknown</td>\n",
       "      <td>0</td>\n",
       "      <td>2</td>\n",
       "    </tr>\n",
       "    <tr>\n",
       "      <th>3</th>\n",
       "      <td>2</td>\n",
       "      <td>3</td>\n",
       "      <td>0</td>\n",
       "      <td>2</td>\n",
       "      <td>0</td>\n",
       "      <td>1506</td>\n",
       "      <td>0</td>\n",
       "      <td>no</td>\n",
       "      <td>unknown</td>\n",
       "      <td>5</td>\n",
       "      <td>may</td>\n",
       "      <td>92</td>\n",
       "      <td>1</td>\n",
       "      <td>-1</td>\n",
       "      <td>0</td>\n",
       "      <td>unknown</td>\n",
       "      <td>0</td>\n",
       "      <td>3</td>\n",
       "    </tr>\n",
       "    <tr>\n",
       "      <th>5</th>\n",
       "      <td>1</td>\n",
       "      <td>0</td>\n",
       "      <td>0</td>\n",
       "      <td>0</td>\n",
       "      <td>0</td>\n",
       "      <td>231</td>\n",
       "      <td>0</td>\n",
       "      <td>no</td>\n",
       "      <td>unknown</td>\n",
       "      <td>5</td>\n",
       "      <td>may</td>\n",
       "      <td>139</td>\n",
       "      <td>1</td>\n",
       "      <td>-1</td>\n",
       "      <td>0</td>\n",
       "      <td>unknown</td>\n",
       "      <td>0</td>\n",
       "      <td>5</td>\n",
       "    </tr>\n",
       "    <tr>\n",
       "      <th>...</th>\n",
       "      <td>...</td>\n",
       "      <td>...</td>\n",
       "      <td>...</td>\n",
       "      <td>...</td>\n",
       "      <td>...</td>\n",
       "      <td>...</td>\n",
       "      <td>...</td>\n",
       "      <td>...</td>\n",
       "      <td>...</td>\n",
       "      <td>...</td>\n",
       "      <td>...</td>\n",
       "      <td>...</td>\n",
       "      <td>...</td>\n",
       "      <td>...</td>\n",
       "      <td>...</td>\n",
       "      <td>...</td>\n",
       "      <td>...</td>\n",
       "      <td>...</td>\n",
       "    </tr>\n",
       "    <tr>\n",
       "      <th>45206</th>\n",
       "      <td>2</td>\n",
       "      <td>1</td>\n",
       "      <td>0</td>\n",
       "      <td>0</td>\n",
       "      <td>0</td>\n",
       "      <td>825</td>\n",
       "      <td>1</td>\n",
       "      <td>no</td>\n",
       "      <td>cellular</td>\n",
       "      <td>17</td>\n",
       "      <td>nov</td>\n",
       "      <td>977</td>\n",
       "      <td>3</td>\n",
       "      <td>-1</td>\n",
       "      <td>0</td>\n",
       "      <td>unknown</td>\n",
       "      <td>1</td>\n",
       "      <td>45206</td>\n",
       "    </tr>\n",
       "    <tr>\n",
       "      <th>45207</th>\n",
       "      <td>3</td>\n",
       "      <td>4</td>\n",
       "      <td>2</td>\n",
       "      <td>3</td>\n",
       "      <td>0</td>\n",
       "      <td>1729</td>\n",
       "      <td>1</td>\n",
       "      <td>no</td>\n",
       "      <td>cellular</td>\n",
       "      <td>17</td>\n",
       "      <td>nov</td>\n",
       "      <td>456</td>\n",
       "      <td>2</td>\n",
       "      <td>-1</td>\n",
       "      <td>0</td>\n",
       "      <td>unknown</td>\n",
       "      <td>1</td>\n",
       "      <td>45207</td>\n",
       "    </tr>\n",
       "    <tr>\n",
       "      <th>45208</th>\n",
       "      <td>3</td>\n",
       "      <td>4</td>\n",
       "      <td>0</td>\n",
       "      <td>1</td>\n",
       "      <td>0</td>\n",
       "      <td>5715</td>\n",
       "      <td>1</td>\n",
       "      <td>no</td>\n",
       "      <td>cellular</td>\n",
       "      <td>17</td>\n",
       "      <td>nov</td>\n",
       "      <td>1127</td>\n",
       "      <td>5</td>\n",
       "      <td>184</td>\n",
       "      <td>3</td>\n",
       "      <td>success</td>\n",
       "      <td>1</td>\n",
       "      <td>45208</td>\n",
       "    </tr>\n",
       "    <tr>\n",
       "      <th>45209</th>\n",
       "      <td>3</td>\n",
       "      <td>3</td>\n",
       "      <td>0</td>\n",
       "      <td>1</td>\n",
       "      <td>0</td>\n",
       "      <td>668</td>\n",
       "      <td>1</td>\n",
       "      <td>no</td>\n",
       "      <td>telephone</td>\n",
       "      <td>17</td>\n",
       "      <td>nov</td>\n",
       "      <td>508</td>\n",
       "      <td>4</td>\n",
       "      <td>-1</td>\n",
       "      <td>0</td>\n",
       "      <td>unknown</td>\n",
       "      <td>0</td>\n",
       "      <td>45209</td>\n",
       "    </tr>\n",
       "    <tr>\n",
       "      <th>45210</th>\n",
       "      <td>1</td>\n",
       "      <td>2</td>\n",
       "      <td>0</td>\n",
       "      <td>1</td>\n",
       "      <td>0</td>\n",
       "      <td>2971</td>\n",
       "      <td>1</td>\n",
       "      <td>no</td>\n",
       "      <td>cellular</td>\n",
       "      <td>17</td>\n",
       "      <td>nov</td>\n",
       "      <td>361</td>\n",
       "      <td>2</td>\n",
       "      <td>188</td>\n",
       "      <td>11</td>\n",
       "      <td>other</td>\n",
       "      <td>0</td>\n",
       "      <td>45210</td>\n",
       "    </tr>\n",
       "  </tbody>\n",
       "</table>\n",
       "<p>44923 rows × 18 columns</p>\n",
       "</div>"
      ],
      "text/plain": [
       "       age  job  marital  education  default  balance  housing loan  \\\n",
       "0        3    0        0          0        0     2143        0   no   \n",
       "1        2    1        1          1        0       29        0   no   \n",
       "2        1    2        0          1        0        2        0  yes   \n",
       "3        2    3        0          2        0     1506        0   no   \n",
       "5        1    0        0          0        0      231        0   no   \n",
       "...    ...  ...      ...        ...      ...      ...      ...  ...   \n",
       "45206    2    1        0          0        0      825        1   no   \n",
       "45207    3    4        2          3        0     1729        1   no   \n",
       "45208    3    4        0          1        0     5715        1   no   \n",
       "45209    3    3        0          1        0      668        1   no   \n",
       "45210    1    2        0          1        0     2971        1   no   \n",
       "\n",
       "         contact  day month  duration  campaign  pdays  previous poutcome  y  \\\n",
       "0        unknown    5   may       261         1     -1         0  unknown  0   \n",
       "1        unknown    5   may       151         1     -1         0  unknown  0   \n",
       "2        unknown    5   may        76         1     -1         0  unknown  0   \n",
       "3        unknown    5   may        92         1     -1         0  unknown  0   \n",
       "5        unknown    5   may       139         1     -1         0  unknown  0   \n",
       "...          ...  ...   ...       ...       ...    ...       ...      ... ..   \n",
       "45206   cellular   17   nov       977         3     -1         0  unknown  1   \n",
       "45207   cellular   17   nov       456         2     -1         0  unknown  1   \n",
       "45208   cellular   17   nov      1127         5    184         3  success  1   \n",
       "45209  telephone   17   nov       508         4     -1         0  unknown  0   \n",
       "45210   cellular   17   nov       361         2    188        11    other  0   \n",
       "\n",
       "          ID  \n",
       "0          0  \n",
       "1          1  \n",
       "2          2  \n",
       "3          3  \n",
       "5          5  \n",
       "...      ...  \n",
       "45206  45206  \n",
       "45207  45207  \n",
       "45208  45208  \n",
       "45209  45209  \n",
       "45210  45210  \n",
       "\n",
       "[44923 rows x 18 columns]"
      ]
     },
     "execution_count": 24,
     "metadata": {},
     "output_type": "execute_result"
    }
   ],
   "source": [
    "#преобразуем индекс клиентов к целочисленному\n",
    "df['ID'] = df.index.astype(int)\n",
    "df"
   ]
  },
  {
   "cell_type": "code",
   "execution_count": 25,
   "metadata": {},
   "outputs": [],
   "source": [
    "cat_features = ['age', 'job', 'marital', 'education', 'housing', ]\n",
    "num_features = ['balance']"
   ]
  },
  {
   "cell_type": "code",
   "execution_count": 26,
   "metadata": {},
   "outputs": [],
   "source": [
    "# Отобрали признаки, по которым будем проводить стратификацию \n",
    "strat_features = ['age', 'job', 'education', 'balance', 'housing']"
   ]
  },
  {
   "cell_type": "markdown",
   "metadata": {},
   "source": [
    "# Код стратификации Индустриального Партнера"
   ]
  },
  {
   "cell_type": "code",
   "execution_count": 27,
   "metadata": {},
   "outputs": [],
   "source": [
    "def get_base_stratification(df, df_aa, p_key:str, part):  \n",
    "    \"\"\"\n",
    "    За основу взяли функцию true_strat. Данная функция возвращает разбиение данных на страты.\n",
    "    \"\"\"\n",
    "    ERR=0\n",
    "    flag_group = 0\n",
    "    mes = \"\"\n",
    "    \n",
    "        \n",
    "    if(p_key not in df.columns):\n",
    "        ERR = 1\n",
    "        mes = \"ОШИБКА: В данных не найден столбец содержащий объекты деления!\"\n",
    "        \n",
    "    elif(len(df.columns)<2):  \n",
    "        ERR = 2\n",
    "        mes = \"ОШИБКА: Не найдены столбцы с критериями однородности!\"\n",
    "        \n",
    "    elif(df[p_key].duplicated().any() == True):   \n",
    "        ERR = 3\n",
    "        mes = \"ОШИБКА: В ключевом столбце найдены дубликаты! Значения должны быть уникальными.\" \n",
    "        \n",
    "\n",
    "    if(ERR > 0): # Если есть ошибки, то запуск деления не возможен    \n",
    "        \n",
    "        print(mes)\n",
    "        \n",
    "        return ERR\n",
    "        \n",
    "    else:\n",
    "        \n",
    "        df = sorting_features(df_res = df, p_key = p_key) # сортируем фичи по типу, чистим данные\n",
    "    \n",
    "        form_strat_ = form_strat(df, part) # формируем страты\n",
    "        return form_strat_"
   ]
  },
  {
   "cell_type": "markdown",
   "metadata": {},
   "source": [
    "## Формирование страт"
   ]
  },
  {
   "cell_type": "code",
   "execution_count": 28,
   "metadata": {
    "scrolled": false
   },
   "outputs": [],
   "source": [
    "# Формирование страт\n",
    "\"\"\"\n",
    "Функция скрипта:  формирование страт.\n",
    "\n",
    "Входящие параметры: \n",
    "df – таблица с данными по участникам\n",
    "part - количество групп, формат – целые числа, в MVP0 значение всегда 2\n",
    "\n",
    "\"\"\"\n",
    "    \n",
    "def form_strat(df, part):\n",
    "    \n",
    "    features = []\n",
    "    strat_feature = []\n",
    "    features_strat = ['age : xi2', 'job : xi2', 'education : xi2', 'balance : ks', 'housing : xi2']\n",
    "    \n",
    "    kombo={}\n",
    "    strat_kombo = {}\n",
    "    strat = {}\n",
    "    \n",
    "    for i in df.columns:  \n",
    "        if(i in features_strat):\n",
    "            if('ks' in i):\n",
    "                df[i.replace('ks', 'interval')] = interval_combo(df[i]) # формируем интервалы из числовых фичей\n",
    "                features.append(i.replace('ks', 'interval'))\n",
    "            else:\n",
    "                features.append(i)   \n",
    "# группируем данные\n",
    "    for i in features:          \n",
    "        strat_feature.append({i:df.groupby(i).groups})\n",
    "\n",
    "\n",
    "    for i in strat_feature:\n",
    "        for k in i:        \n",
    "        \n",
    "            iloc={}\n",
    "        \n",
    "            kombo[k] = iloc\n",
    "        \n",
    "            for j in i[k]:        \n",
    "            \n",
    "                iloc[k+\"_\"+str(j)] = list(i[k][j])\n",
    "\n",
    "\n",
    "    for q in range(len(features)):\n",
    "        \n",
    "        if(q == 0):\n",
    "            col_unic = kombo[features[q]]\n",
    "        else: \n",
    "            col_unic = strat\n",
    "    \n",
    "        if(q+1<len(features)):\n",
    "            strat = {}\n",
    "    \n",
    "            for e in col_unic:\n",
    "            \n",
    "                for r in kombo[features[q+1]]:\n",
    "                    cells_strat = list(set(col_unic[e]) & set(kombo[features[q+1]][r]))\n",
    "                    \n",
    "\n",
    "                    \n",
    "                    #print(\"Последний столбец:\",features[q])\n",
    "                    if(q == len(features)-2):\n",
    "                        #print(\"Последний столбец:\",features[q])\n",
    "                        if(len(cells_strat)>0): # если страта не пустая \\ больше или равна кол-ву групп, записываем участников\n",
    "                            \n",
    "                            if(len(cells_strat)<part):\n",
    "                                if(\"one_strat\" not in strat):\n",
    "                                    strat[\"one_strat\"] = cells_strat\n",
    "                                else:    \n",
    "                                    strat[\"one_strat\"].append(cells_strat[0])\n",
    "                            #elif(len(cells_strat)==3 and part == 2):\n",
    "                               # strat[(str(e)+\"__\"+str(r)).replace(\" : xi2\", \"\")] = cells_strat[:2]\n",
    "                               # if(\"one_strat\" not in strat):\n",
    "                                    #strat[\"one_strat\"] = cells_strat[2]\n",
    "                                #else:    \n",
    "                                    #strat[\"one_strat\"].append(cells_strat[2])\n",
    "                                #print(\"\\n\",\"Три участника страты:\", strat[(str(e)+\"__\"+str(r)).replace(\" : xi2\", \"\")], cells_strat[:2])\n",
    "                      #print(\"Нормальная страта:\", (str(e)+\"__\"+str(r)).replace(\" : xi2\", \"\"))\n",
    "                            else:\n",
    "                                strat[(str(e)+\"__\"+str(r)).replace(\" : xi2\", \"\")] = cells_strat\n",
    "                        \n",
    "                    else:    \n",
    "                        \n",
    "                        strat[(str(e)+\"__\"+str(r)).replace(\" : xi2\", \"\")] = cells_strat\n",
    "                        \n",
    "    if(len(strat)==0):\n",
    "        strat={'one_strat': list(df.index)}\n",
    "  \n",
    "    return strat  \n",
    "\n"
   ]
  },
  {
   "cell_type": "markdown",
   "metadata": {},
   "source": [
    "## Отбор числа участников из страты"
   ]
  },
  {
   "cell_type": "markdown",
   "metadata": {},
   "source": [
    "#### Пропорциональное размещение"
   ]
  },
  {
   "cell_type": "markdown",
   "metadata": {},
   "source": [
    "Считаем, что сумма числа наблюдений, попавших во все страты, совпадает с числом наблюдений в генеральной совокупности (ГС).\n",
    "\n",
    "Далее фиксируется объем выборки $n$, необходимый для проведения теста на заданном уровне значимости (например, в соответствии с формулой минимального размера выборки). Далее число наблюдений $n_h$, выбираемых из страты номер $h$, вычисляется в соответствии с формулами из раздела Отчета о НИР 1.2.\n",
    "\n",
    "Исключение из правил:\n",
    "\n",
    "* При округлении количества наблюдений, генерируемых из страты, общее число участников теста может получиться меньше, чем заявленное изначально число $n$. Возможное решение - просто округлять размер подвыборок в большую сторону."
   ]
  },
  {
   "cell_type": "markdown",
   "metadata": {},
   "source": [
    "### Формирование интервалов для числовых фичей"
   ]
  },
  {
   "cell_type": "markdown",
   "metadata": {},
   "source": [
    "### Метод процентилей"
   ]
  },
  {
   "cell_type": "code",
   "execution_count": 29,
   "metadata": {},
   "outputs": [],
   "source": [
    "\"\"\"\n",
    "Функция скрипта:  формирование интервалов в числовой фиче.\n",
    "\n",
    "Входные параметры скрипта:\n",
    "s – отдельная фича, столбец\n",
    "\n",
    "На выходе скрипта:\n",
    "\n",
    "s_percentile, столбец содержащий интервалы для фичи, которая загружалась при вызове скрипта. \n",
    "\n",
    "\"\"\"\n",
    "\n",
    "def interval_combo(s):\n",
    "    \n",
    "    s_percentile = pd.Series(list(s.values), index=list(s.index)) \n",
    "    \n",
    "    p = [0.5, 0.25, 0.05] \n",
    "    \n",
    "    for i in p:\n",
    "        s_percentile[list(s[(s<s.quantile(q=i))].index)] = i\n",
    "        s_percentile[list(s[(s>=s.quantile(q=1.0-i))].index)] = i\n",
    "        \n",
    "    s_percentile[list(s[(s == 0)].index)] = 0 # ноль выделяем в отдельный интервал \n",
    "    s_percentile[list(s[(s < 0)].index)] = -1 # минусовые значения выделяем в отдельный интервал - т.к. убытки\n",
    "     \n",
    "            \n",
    "    return s_percentile\n"
   ]
  },
  {
   "cell_type": "markdown",
   "metadata": {},
   "source": [
    "## Сводный скрипт стратификации"
   ]
  },
  {
   "cell_type": "code",
   "execution_count": 30,
   "metadata": {
    "scrolled": false
   },
   "outputs": [],
   "source": [
    "\"\"\"\n",
    "Функция скрипта:  сортировка фичей по критериям + чистка данных в фичах.\n",
    "\n",
    "Входящие параметры: \n",
    "df_res – таблица с данными участников\n",
    "p_key -  p_key – название ключевого столбца (содержит объекты деления), формат – строковый, \n",
    "значение берется из входного параметра p_key скрипта, который вызывает скрипт sorting_features\n",
    "\n",
    "flag_aa = False - флаг АА-теста, выбор будет ли проводиться АА-тест или стандартная проверка на однородность.\n",
    "\n",
    "\"\"\"\n",
    "\n",
    "def sorting_features(df_res, p_key:str, flag_aa = False): # сортировка фичей по критериям + чистка данных в фичах\n",
    "    \n",
    "    features_ks = ['balance']\n",
    "    features_xi2 = ['age', 'job', 'education', 'housing']\n",
    "    features_case = []\n",
    "\n",
    "    list_kriterii=[]\n",
    "\n",
    "    for i in df_res.columns:  \n",
    "        \n",
    "        #print(i,'тип фичи', df_res[i].dtype)\n",
    "        \n",
    "        if((i == p_key) or (i == 'group_num') or (\"ks\" in i) or (\"xi2\" in i) or (\"interval\" in i) or (\"tt\" in i)):\n",
    "            list_kriterii.append(i)\n",
    "            \n",
    "        else:\n",
    "                    \n",
    "            if(i in features_xi2):\n",
    "                #print(\"Хи2 1\", i)\n",
    "                list_kriterii.append(i+\" : xi2\")\n",
    "                \n",
    "            elif(i in features_ks and (df_res[i].dtype == np.float64 or df_res[i].dtype == np.int64) and flag_aa == False):\n",
    "                #print(\"ks\", i)\n",
    "                list_kriterii.append(i+\" : ks\")\n",
    "            \n",
    "            elif(df_res[i].dtype != np.float64 and df_res[i].dtype != np.int64):\n",
    "                #print(\"Нужна чистка\", i)\n",
    "                \n",
    "                # чистка данных в  фиче\n",
    "                df_res[i] = df_res[i].replace({'null':np.nan, 'Null':np.nan,'NULL':np.nan,'nan':np.nan,'Nan':np.nan,'NaN':np.nan,'NAN':np.nan,'-':np.nan, '':np.nan, ' ':np.nan})          \n",
    "                \n",
    "                try:\n",
    "                    # перевод фичи в числовой формат\n",
    "                    df_res = df_res.astype({i: \"float64\"})\n",
    "                except:  \n",
    "                    if(i in features_ks or i in features_case):\n",
    "                        print(\"Ошибка при переводе в числовой формат фичи:\", i, \" Данные в фиче не относятся к числовым, требуется замена данных.\")\n",
    "                         \n",
    "            # анализ данных в фиче, после чистки данных\n",
    "            \n",
    "            if(i +\" : ks\" not in list_kriterii and i+\" : xi2\" not in list_kriterii and i+\" : tt\" not in list_kriterii): \n",
    "                if(flag_aa == True and (df_res[i].dtype == np.float64 or df_res[i].dtype == np.int64)):\n",
    "                    list_kriterii.append(i+\" : tt\")\n",
    "                \n",
    "                elif(df_res[i].nunique()>7 and (df_res[i].dtype == np.float64 or df_res[i].dtype == np.int64)):\n",
    "                        #print(\"KS\", i)                \n",
    "                        list_kriterii.append(i+\" : ks\")\n",
    "                    \n",
    "                else:\n",
    "                    #print(\"Хи2 2\", i)\n",
    "                    list_kriterii.append(i+\" : xi2\")\n",
    "                    \n",
    "           \n",
    "                \n",
    "    df_res.columns = list_kriterii                \n",
    "    return df_res\n"
   ]
  },
  {
   "cell_type": "markdown",
   "metadata": {},
   "source": [
    "### Проверка однородности - получаем p-value"
   ]
  },
  {
   "cell_type": "code",
   "execution_count": 31,
   "metadata": {},
   "outputs": [],
   "source": [
    "# скрипт хи2\n",
    "\n",
    "def ser_conjugacy(ser, index):\n",
    "    zero=[]        \n",
    "    index_plus = list(set(index) - set(ser.index.tolist()))\n",
    " \n",
    "    for i in range (len(index_plus)):\n",
    "        zero.append(0)\n",
    "    \n",
    "    return pd.concat([ser, pd.Series(zero, index=index_plus)]) \n",
    "\n",
    "\"\"\"\n",
    "Функция скрипта: Построение таблицы сопряженности с учетом малонаполненных подгрупп, проведение стат. теста Хи2.\n",
    "\n",
    "Входящие параметры: \n",
    "gr_A - данные участников по столбцу от одной группы\n",
    "gr_B - данные участников по столбцу от другой группы\n",
    "\n",
    "\n",
    "\"\"\"\n",
    "\n",
    "def check_homo_cat_xi2_other(gr_A,gr_B): \n",
    "    nonhomo={}\n",
    "    other={}\n",
    "    count=0\n",
    "\n",
    "    # строим таблицу сопряженности\n",
    "    gr_B=gr_B.groupby(gr_B).count()\n",
    "    gr_A=gr_A.groupby(gr_A).count()\n",
    "    index_= pd.Series(gr_B.index.tolist()+gr_A.index.tolist())\n",
    "    index_= index_.groupby(index_).count().index.tolist()\n",
    "    \n",
    "    gr_B = ser_conjugacy(gr_B, index_)\n",
    "    gr_A = ser_conjugacy(gr_A, index_)    \n",
    "   \n",
    "    merge_data=pd.DataFrame()\n",
    "    merge_data['id_x']=gr_A\n",
    "    merge_data['id_y']=gr_B\n",
    "    merge_data=merge_data.fillna(0)     # заполнение пропусков нулями\n",
    "   \n",
    "    # Обрабатывем малонаполненные группы\n",
    "    count_sub_gr=(merge_data['id_x']+merge_data['id_y']).sort_values()    \n",
    "    \n",
    "    \n",
    "    # если есть малонаполненные подгруппы, то объединяем их\n",
    "    for i in count_sub_gr.index:   \n",
    "           \n",
    "        if((count_sub_gr.loc[i]<=15) or (count==1)):\n",
    "            \n",
    "            if(count==0):                                          \n",
    "                other = {'id_x': merge_data['id_x'].loc[i],'id_y':merge_data['id_y'].loc[i]}   \n",
    "                \n",
    "            else:  \n",
    "                other = {'id_x': merge_data['id_x'].loc[i]+other['id_x'],'id_y':merge_data['id_y'].loc[i]+other['id_y']}  \n",
    "            \n",
    "            count+=1\n",
    "            merge_data.drop(labels = [i],axis = 0, inplace = True)                \n",
    "            \n",
    "            \n",
    "    if(len(other)>0):                \n",
    "            merge_data = pd.concat([merge_data, pd.DataFrame([other],index =['Прочее'])]) # , ignore_index=True\n",
    "    #print(\"\\n\")  \n",
    "    \n",
    "          \n",
    "    pvalue = chi2_contingency(merge_data[[\"id_x\",\"id_y\"]])[1]    \n",
    "        \n",
    "    #print('p-value:', round(pvalue,5))    \n",
    "    if (str(pvalue)=='nan'):       \n",
    "        \n",
    "        pvalue = 0\n",
    "        \n",
    "    \n",
    "    return pvalue\n"
   ]
  },
  {
   "cell_type": "code",
   "execution_count": 32,
   "metadata": {},
   "outputs": [],
   "source": [
    "# Тест Колмогорова-Смирнова\n",
    "\n",
    "\"\"\"\n",
    "Функция скрипта: Проведение стат. теста Колмогорова-Смирнова.\n",
    "\n",
    "Входящие параметры: \n",
    "gr_A - данные участников по столбцу от одной группы\n",
    "gr_B - данные участников по столбцу от другой группы\n",
    "alpha  –  уровень значимости, формат – дробное число, значение берется из входного параметра alpha  скрипта, который вызывает  скрипт ks_test\n",
    "\n",
    "\"\"\"\n",
    "def ks_test(gr_A,gr_B,alpha):\n",
    "    ks_test=ks_2samp(gr_A,gr_B)[1]\n",
    "    #if(ks_test<alpha):\n",
    "        #print(\"Колмогоров-Смирнов, НЕ однородны: р=\",ks_test)    \n",
    "    #else:\n",
    "        #print(\"Колмогоров-Смирнов, однородны: р=\",ks_test) \n",
    "    \n",
    "    return ks_test\n",
    "    \n"
   ]
  },
  {
   "cell_type": "code",
   "execution_count": 33,
   "metadata": {},
   "outputs": [],
   "source": [
    "\"\"\"\n",
    "Функция скрипта: проверка однородности, формирования отчета по фичам\n",
    "Входящие параметры: \n",
    "\n",
    "•\tdf_res – таблица сформированная скриптами random_strat или multy_group•\t\n",
    "•\talpha  –  уровень значимости, формат – дробное число, значение берется из входного параметра alpha  скрипта, который вызывает  скрипт checking_uniformity\n",
    "•\tp_group - название столбца с указанием принадлежности к группе таблицы df_res, формат - строковый, если скрипт вызывается скрипами random_strat или multy_group, значение «».\n",
    "•\tpart -  количество групп, формат – целые числа, значение берется из входного параметра part скрипта, который вызывает скрипт checking_uniformity\n",
    "\"\"\"\n",
    "\n",
    "def checking_uniformity(df_res, p_group:str, part, alpha):\n",
    "    flag_group=0      \n",
    "\n",
    "    \n",
    "    df_report = pd.DataFrame()    \n",
    "    df_report_new  = pd.DataFrame()\n",
    "    \n",
    "    \n",
    "    for i in df_res.columns:   \n",
    "                        \n",
    "        if('Unnamed' in i):                \n",
    "            df_res.drop(i, axis=1, inplace=True)\n",
    "            \n",
    "        elif(('xi2' in i) or ('ks' in i) or ('tt' in i)):\n",
    "                        \n",
    "            \n",
    "#####################################################################################################3                        \n",
    "               \n",
    "                        # проверка на две группы  \n",
    "            if(part==2):\n",
    "                #print(\"две группы\")\n",
    "                        \n",
    "                gr_A=df_res[(df_res[\"group_num\"] == 0 )][i] \n",
    "                gr_B=df_res[(df_res[\"group_num\"] == 1 )][i]                         \n",
    "                        \n",
    "                    # если распределение биноминальное или категориальное - отправляем на хи2, кат - не более 7 уникальзых значений. \n",
    "                \n",
    "                \n",
    "                \n",
    "                if('xi2' in i):\n",
    "                            \n",
    "                    #print(\"бином или категория\", i, df_res[i].dtypes)  #фича на хи2                    \n",
    "                    p_value = check_homo_cat_xi2_other(gr_A,gr_B)\n",
    "                    #res=[i,p_value,alpha] \n",
    "                    \n",
    "                        #break  \n",
    "                            \n",
    "                            \n",
    "                elif('ks' in i):     \n",
    "                    # числовые отправляются на критерий Колмогорова-Смирнова\n",
    "                    #print(\"колмогоров\", i, df_res[i].dtypes)  \n",
    "                    \n",
    "                    p_value = ks_test(gr_A,gr_B,alpha) \n",
    "                    #res=[i,p_value,alpha] \n",
    "                     # Заполняем данными по итерации датафрейм сплитовалки  \n",
    "                elif('tt' in i):   \n",
    "                    \n",
    "                    p_value = t_test(gr_A,gr_B, alpha)\n",
    "                    \n",
    "                        #break #если однородность не найдена на одной из колонок, следующие не проверяются, переход к следующей итерации\n",
    "            # если нет однородности\n",
    "                \n",
    "                if(p_value < alpha):                        \n",
    "                    flag = 0  \n",
    "                else:\n",
    "                    flag = 1\n",
    "                    \n",
    "            df_report_new = pd.DataFrame({'features':i, 'p-value':p_value, 'alpha':alpha, 'flag':flag},index = [0])\n",
    "        \n",
    "            df_report = pd.concat([df_report, df_report_new], ignore_index=True)\n",
    "                        \n",
    "    \n",
    "    if(df_report['flag'].nunique()==1 and df_report['flag'].unique()==1):\n",
    "        flag_group = 1 \n",
    "    #print(\"Флаг однородности:\", flag_group)\n",
    "    \n",
    "    # flag_group = 1, значит однородно\n",
    "    return flag_group, df_report \n",
    " "
   ]
  },
  {
   "cell_type": "markdown",
   "metadata": {},
   "source": [
    "### Отбор и деление"
   ]
  },
  {
   "cell_type": "code",
   "execution_count": 34,
   "metadata": {},
   "outputs": [],
   "source": [
    "# деление на группы\n",
    "\n",
    "\"\"\"\n",
    "Функция скрипта: деление на группы \n",
    "\n",
    "Входящие параметры: \n",
    "df - данные по участникам страты, формат – таблица,\n",
    "part - количество групп, формат – целые числа.\n",
    "\n",
    "\"\"\"\n",
    "def find_group(df,part:int):        \n",
    "    \n",
    "    df_new = pd.DataFrame()\n",
    "    df_res = pd.DataFrame()\n",
    "    \n",
    "    if(len(df)>0):\n",
    "        n_h = len(df)\n",
    "        df.reset_index(drop=True, inplace=True) # сбрасываем индексы\n",
    "        n_h_group = round(n_h/part)\n",
    "        \n",
    "        if(n_h_group > 0):\n",
    "            for i in range(part):          \n",
    "            \n",
    "                if(i!=(part-1)): \n",
    "                \n",
    "                                   \n",
    "                        df_new=df.sample(n=n_h_group)             \n",
    "                        df=df[~df.index.isin(df_new.index)]  \n",
    "            \n",
    "                else:    \n",
    "                    df_new=df\n",
    "            \n",
    "        \n",
    "                df_new['group_num']=i    \n",
    "                df_res = pd.concat([df_res, df_new], ignore_index=True) #\n",
    "        \n",
    "        \n",
    "    return df_res   "
   ]
  },
  {
   "cell_type": "code",
   "execution_count": 35,
   "metadata": {},
   "outputs": [],
   "source": [
    "\"\"\"\n",
    "Функция скрипта: При репрезентативном отборе пропорционально вычисляет размер страты для тестовой выборки.\n",
    "\n",
    "Входящие параметры: \n",
    "df_strat – данные по участникам страты, формат – таблица\n",
    "n_gs – количество участников в ГС, формат - целые числа\n",
    "n – количество участников в выборке, формат - целые числа\n",
    "part - количество групп, формат – целые числа, в MVP0 значение всегда 2.\n",
    "\n",
    "\"\"\"\n",
    "\n",
    "def select_prop(df_strat, n_gs:int, n:int, part:int):\n",
    "    \n",
    "    per_strat = len(df_strat)/n_gs # находим процент, занимаемый стратой в ГС\n",
    "        \n",
    "    \n",
    "    n_h =  round(n*per_strat) \n",
    "    if(n_h > 0 and n_h < part):\n",
    "        n_h = part # отрез участников для малых страт    \n",
    "        \n",
    "    if(part == 2 and n_h==3):\n",
    "        n_h = 2\n",
    "        \n",
    "       # рандомно выбераем из страты нужное кол-во участников в выборку\n",
    "    if(n_h > 0):       \n",
    "        df_strat = df_strat.sample(n=n_h) \n",
    "    else:\n",
    "        df_strat = pd.DataFrame()\n",
    "\n",
    "        \n",
    "    return df_strat\n",
    " "
   ]
  },
  {
   "cell_type": "code",
   "execution_count": 36,
   "metadata": {},
   "outputs": [],
   "source": [
    "\"\"\"\n",
    "Входные параметры скрипта:\n",
    "gr_A - данные участников по столбцу от одной группы\n",
    "gr_B - данные участников по столбцу от другой группы\n",
    "alpha  –  уровень значимости, формат – дробное число, значение берется из входного параметра alpha  скрипта, который вызывает  скрипт ks_test\n",
    "\n",
    "\"\"\"\n",
    "\n",
    "def t_test(gr_A,gr_B, alpha):\n",
    "    \n",
    "    # t-тест с разными дисперсиями модификация Уэлша\n",
    "    stat, p_value = ttest_ind(gr_A, gr_B, equal_var=False)[:2]  \n",
    "    #if(p_value<alpha):\n",
    "        #print(\"t-test, НЕ однородны: р=\",ks_test)    \n",
    "    #else:\n",
    "        #print(\"t-test, однородны: р=\",ks_test) \n",
    "    return  p_value \n",
    "    "
   ]
  },
  {
   "cell_type": "code",
   "execution_count": 37,
   "metadata": {},
   "outputs": [],
   "source": [
    "\"\"\"\n",
    "Входные параметры скрипта:\n",
    "df_aa - данные включающие ключевой столбец идентичный таблице df и фичи для проведения АА-теста, формат – таблица;\n",
    "df – данные включающие ключевой столбец и фичи с признаками однородности, формат – таблица;\n",
    "part - количество групп, формат – целые числа, в MVP0 значение всегда 2.\n",
    "p_key – название ключевого столбца, формат - строковый\n",
    "alpha – уровень значимости, формат – дробное число, по умолчанию 0.05\n",
    "representative – флаг репрезентативного отбора, если True, то репрезентативный отбор производится.\n",
    "\n",
    "\"\"\"\n",
    "\n",
    "def aa_test(df_aa, df, p_key:str ,part:int, alpha:float, representative:bool):\n",
    "    \n",
    "    #print('Колонки датасета АА -аа',df_aa.columns)\n",
    "    \n",
    "    df = df[['group_num']]\n",
    "    df_aa = df_aa.sort_values(by = p_key, inplace=False)  \n",
    "    df_aa = df_aa.astype({p_key: \"str\"})\n",
    "    df_aa = df_aa.set_index(p_key)\n",
    "        \n",
    "    # Если есть репрезентативный отбор\n",
    "    if(representative == True):\n",
    "   \n",
    "        df_aa=df_aa[df_aa.index.isin(df.index)] \n",
    "    #\n",
    "    df_aa[\"group_num\"] = df[\"group_num\"].values\n",
    "    \n",
    "    # чистим данные\n",
    "    df_aa = sorting_features(df_aa, p_key, True)\n",
    "    \n",
    "    \n",
    "    # проверка однородности      \n",
    "    flag_aa, df_report_test_aa = checking_uniformity(df_aa, p_group = \"group_num\", part = part, alpha = alpha)\n",
    "   \n",
    "    #print('df',\"\\n\", df.head())\n",
    "    #print(\"\\n\")\n",
    "    #print('df_aa',\"\\n\",df_aa.head())\n",
    "    #print(\"\\n\")  \n",
    "    if(len(df) == len(df_aa)):\n",
    "        \n",
    "        return flag_aa, df_report_test_aa, df_aa\n",
    "    "
   ]
  },
  {
   "cell_type": "markdown",
   "metadata": {},
   "source": [
    "# Код генетического алгоритма, описанный в разделе 1.5.1 отчета о НИР"
   ]
  },
  {
   "cell_type": "markdown",
   "metadata": {},
   "source": [
    "Схема генетического алгоритма для задачи стартификации:\n",
    "\n",
    "- Целевая функция - стратифицированная дисперсия \n",
    "  $$\n",
    "    Var[\\hat{Y}^{(strat)}] = \\frac{1}{N^2}\\sum_{h=1}^{H} N_h^2 \\left(1 - \\frac{n_h}{N_h}\\right)\\frac{S_h^2}{n_h}\\,. \\qquad (1)\n",
    "  $$\n",
    "\n",
    "- Получить разбиение на атомарные страты, которые впоследствии не бьются на более мелкие\n",
    "- Случайным образом создать несколько начальных стратификаций над атомарными стартами (начальная популяция)\n",
    "- Повторять:\n",
    "  - Найти оптимальные пропорции для сэмплирования из каждой страты для каждой стратификации по формуле \n",
    "    $$\n",
    "      n_i = \\dfrac{S_i^2 N_i n}{\\sum\\limits_{j=1}^H S^2_j N_j}\\,.\\qquad (2)\n",
    "    $$\n",
    "  - Посчитать целевую фуцнкцию для каждой стратификации в популяции\n",
    "  - Породить новую популяцию стратификаций, путем скрещивания особей старого поколения, с маленькими значениями целевой функции\n",
    "  - К каждой стратификации применить процесс мутации"
   ]
  },
  {
   "cell_type": "code",
   "execution_count": 38,
   "metadata": {},
   "outputs": [],
   "source": [
    "df_inp = df[['ID'] + strat_features]\n",
    "df_aa = df[['ID', 'y']]"
   ]
  },
  {
   "cell_type": "code",
   "execution_count": 39,
   "metadata": {},
   "outputs": [
    {
     "name": "stdout",
     "output_type": "stream",
     "text": [
      "Wall time: 3.37 s\n"
     ]
    }
   ],
   "source": [
    "%%time\n",
    "#минимальное число элементов страты для корректного подсчета выборочной дисперсии\n",
    "min_sample_in_group = 2\n",
    "#стартовое разбиение на атомарные страты. Может осуществляться любым алгоритмом, за основу взят скрипт, переданный Заказчиком \n",
    "atomic_strats = get_base_stratification(df_inp, df_aa, p_key=\"ID\", part=min_sample_in_group)  "
   ]
  },
  {
   "cell_type": "code",
   "execution_count": 40,
   "metadata": {},
   "outputs": [],
   "source": [
    "def sample_strata_sizes_(df, strata_dict, p_key, target_df, n):\n",
    "    \"\"\"\n",
    "    Функция возвращает оптимальные размеры подвыборок для сэмплирования из страт по формуле (2)\n",
    "    \n",
    "    Параметры:\n",
    "        df - DataFrame - все объекты\n",
    "        strata_dict - dict[list] - значения в словаре -- индексы объектов, принадлежащих каждой страте\n",
    "                      элемент dict[i] содержит индексы объектов ГС, попавших в страту номер i\n",
    "        p_key - str - название колонки, содержащей уникальный идентификатор каждого пользователя\n",
    "        target_df - DataFrame - значение целевой метрики для всех объектов\n",
    "        n - int - суммарное число объектов для сэмплирования из всех страт\n",
    "    Выход:\n",
    "        n_h - array - оптимальные размеры подвыборок для каждой страты. При этом len(n_h) == число страт в strata_dict \n",
    "    \"\"\"\n",
    "    stds = []\n",
    "    sizes = []\n",
    "    #сохраняем число элементов в каждой из страт и стандартные отклонения целевой переменной (y) \n",
    "    for i in strata_dict:\n",
    "        df_strat = df[df[p_key].astype(int).isin(strata_dict[i])]\n",
    "        y = target_df.loc[target_df[p_key].isin(df_strat[p_key]), 'y']\n",
    "        stds.append(y.values.std())\n",
    "        sizes.append(y.shape[0])\n",
    "        \n",
    "    sizes =  np.array(sizes)\n",
    "    stds = np.array(stds)\n",
    "    #оптимальные размеры подвыборок с учетом формулы Горвитца-Томпсона\n",
    "    n_h = (sizes * stds * n) / np.sum(stds * sizes)\n",
    "    return n_h"
   ]
  },
  {
   "cell_type": "code",
   "execution_count": 41,
   "metadata": {},
   "outputs": [
    {
     "data": {
      "text/plain": [
       "78239.19117415108"
      ]
     },
     "execution_count": 41,
     "metadata": {},
     "output_type": "execute_result"
    }
   ],
   "source": [
    "# Подсчитываем стратифицированную дисперсию по формуле (1) при простом разбиении на страты и сэмплировании с учетом дисперсии\n",
    "# Выход: V_min - float - стратифицированная дисперсия\n",
    "\n",
    "#размер выборки из ГС\n",
    "n = 2_000\n",
    "\n",
    "#число элементов, которые необходимо выбирать из каждой атомарной страты\n",
    "n_h = sample_strata_sizes_(df_inp, atomic_strats, \"ID\", df_aa, n)\n",
    "n_h = np.round(n_h).astype(int)\n",
    "\n",
    "df_res_all_strat_std = pd.DataFrame()\n",
    "j = 0\n",
    "\n",
    "stratified_var_ = 0\n",
    "\n",
    "#подсчет дисперсии целевой метрики внутри страт\n",
    "for i in atomic_strats:\n",
    "    df_strat = df[df[\"ID\"].astype(int).isin(atomic_strats[i])]\n",
    "    N = df_strat.shape[0]\n",
    "    \n",
    "    var = df_aa.loc[df_aa.ID.isin(df_strat.ID), \"y\"].values.var(ddof=1)\n",
    "    if n_h[j] > 0:\n",
    "        stratified_var_ += N ** 2 * (1 - n_h[j] / N) * ( var / n_h[j])\n",
    "\n",
    "    j += 1\n",
    "#подсчет стратифицированной дисперсии, отвечающей исходному (атомарному) разбиению на страты\n",
    "V_min = stratified_var_\n",
    "V_min"
   ]
  },
  {
   "cell_type": "code",
   "execution_count": 42,
   "metadata": {},
   "outputs": [],
   "source": [
    "atomic_strats_keys = list(atomic_strats.keys())\n",
    "atomic_strats_ind = list(range(len(atomic_strats_keys)))\n",
    "atomic_strata_by_ind = dict(zip(atomic_strats_ind, list(atomic_strats.values())))"
   ]
  },
  {
   "cell_type": "code",
   "execution_count": 43,
   "metadata": {},
   "outputs": [],
   "source": [
    "# Подсчитываем стратифицированное среднее и стратифицированную дисперсию для атомарных страт\n",
    "# Выход:\n",
    "#    var_dict - dict - ключ -- номер атомарной страты, значение -- стратифицированная дисперсия атомарной страты\n",
    "#    mean_dict - dict - ключ -- номер атомарной страты, значение -- стратифицированное среднее атомарной страты\n",
    " \n",
    "p_key = 'ID'\n",
    "target_column = 'y'\n",
    "\n",
    "variances = []\n",
    "means = []\n",
    "\n",
    "#подсчет среднего значения и дисперсии внутри атомарных страт\n",
    "for key in atomic_strats_keys:\n",
    "    data = df[df[p_key].astype(int).isin(atomic_strats[key])]\n",
    "    if len(data) <= 1:\n",
    "        variances.append(0.0)\n",
    "    else:\n",
    "        variances.append(data[target_column].values.var(ddof=1))\n",
    "    means.append(data[target_column].values.mean())\n",
    "\n",
    "#сохранение посчитанных среднего и дисперсии\n",
    "var_dict = dict(zip(atomic_strats_ind, variances))\n",
    "mean_dict = dict(zip(atomic_strats_ind, means))"
   ]
  },
  {
   "cell_type": "code",
   "execution_count": 44,
   "metadata": {},
   "outputs": [],
   "source": [
    "# Вспомогательные функции для генетического алгоритма\n",
    "P_KEY = 'ID'\n",
    "TARGET_COLUMN = 'y'\n",
    "TOTAL_SIZE = df_inp.shape[0]\n",
    "NORM_CONST = df_inp.shape[0]\n",
    "    \n",
    "\n",
    "def join_vars_sizes(atomic_strats_numbers):\n",
    "    \"\"\"\n",
    "    Подсчет дисперсии в новом объединении атомарных страт\n",
    "\n",
    "    Параметры:\n",
    "        atomic_strats_numbers - list - номера атомарных страт, входящих в данную страту\n",
    "    Выход:\n",
    "        var - float - дисперсия страты\n",
    "        total_size - int - число объектов в страте\n",
    "    \"\"\"\n",
    "    new_mean = join_means(atomic_strats_numbers)\n",
    "    var = 0\n",
    "    total_size = 0\n",
    "    for i in atomic_strats_numbers:\n",
    "        size = len(atomic_strata_by_ind[i])\n",
    "        total_size += size\n",
    "\n",
    "\n",
    "        var += (size - 1) * var_dict[i] + size * (mean_dict[i] - new_mean) ** 2\n",
    "\n",
    "    if total_size <= 1:\n",
    "        return 0.0, total_size\n",
    "    \n",
    "    var = var / (total_size - 1)\n",
    "    return var, total_size\n",
    "\n",
    "\n",
    "def join_means(atomic_strats_numbers):\n",
    "    \"\"\"\n",
    "    Подсчет среднего в новом объединении атомарных страт\n",
    "    \n",
    "    Параметры:\n",
    "        atomic_strats_numbers - list - номера атомарных страт, входящих в данную\n",
    "    Выход:\n",
    "        mean - float - среднее в страте\n",
    "    \"\"\"\n",
    "    mean = 0 \n",
    "    total_size = 0\n",
    "    for i in atomic_strats_numbers:\n",
    "        size = len(atomic_strata_by_ind[i])\n",
    "        total_size += size\n",
    "        mean += (mean_dict[i] * size)\n",
    "    \n",
    "    mean = mean / total_size\n",
    "    return mean\n",
    "\n",
    "\n",
    "def minimize_var_solution(all_strats, n):\n",
    "    \"\"\"\n",
    "    Подсчет оптимальных пропорций при сэмплировании из страт\n",
    "    \n",
    "    Параметры:\n",
    "        all_strats - list[list] - лист с элементами (номерами атомарных страт), задающий новую стратификацию\n",
    "        n - int - число объектов для сэмплирвоания в группу\n",
    "        \n",
    "    Выход:\n",
    "        n_h - array[int] - оптимальное число для сэмплирвоания из каждой страты, посчитанное по формуле (2)\n",
    "    \"\"\"\n",
    "    stds = []\n",
    "    sizes = []\n",
    "    for strata in all_strats:\n",
    "        if len(strata) == 0:\n",
    "            stds.append(0)\n",
    "            sizes.append(0)\n",
    "            continue\n",
    "        var, size = join_vars_sizes(strata)\n",
    "        stds.append(np.sqrt(var))\n",
    "        sizes.append(size)\n",
    "        \n",
    "    if VERBOSE:\n",
    "        print(f\"stds: {stds}\\n\")\n",
    "    sizes =  np.array(sizes)\n",
    "    stds = np.array(stds)  \n",
    "    n_h = (sizes * stds * n) / np.sum(stds * sizes)\n",
    "    n_h = np.round(n_h).astype(int)\n",
    "    return n_h\n",
    "\n",
    "\n",
    "\n",
    "def calc_stratified_var(stratification, n_h):\n",
    "    \"\"\"\n",
    "    Считаем стратифицированную дисперсию для разбиения с учетом насэмплированных элементов по формуле (1)\n",
    "    \n",
    "    Параметры:\n",
    "        stratification - list[list] - лист с элементами (номерами атомарных страт) задающий новую стратификацию\n",
    "        n_h - np.array - оптимальные пропорции для сэмплирования из страт\n",
    "    \n",
    "    Выход:\n",
    "        stratified_var - float - стратифицирванная дисперсия\n",
    "    \"\"\"\n",
    "    stratified_var = 0\n",
    "    j = 0\n",
    "    for strat in stratification:\n",
    "        \n",
    "        if VERBOSE:\n",
    "            print(f'starta: {strat}\\n')\n",
    "            \n",
    "        if len(strat) == 0:\n",
    "            stratified_var += 0\n",
    "        \n",
    "        else:\n",
    "            var, N = join_vars_sizes(strat)\n",
    "            \n",
    "            if N > 1 and n_h[j] > 0:\n",
    "                stratified_var += N ** 2 * (1 - n_h[j] / N) * ( var / n_h[j])\n",
    "            else:\n",
    "                stratified_var += 0\n",
    "\n",
    "        if VERBOSE:\n",
    "            print(f\"stratified_var: {stratified_var}\\n\")\n",
    "        j += 1\n",
    "        \n",
    "    return stratified_var\n",
    "\n",
    "\n",
    "def create_stratification(generation_atom_dict1, generation_atom_dict2, mutation_rate):\n",
    "    \"\"\"\n",
    "    По двум родителям порождаем новую стратификацию\n",
    "    Параметры:\n",
    "        generation_atom_dict1 - dict - словарь первого родителя, где ключ - номер атомарной страты, значение - номер страты в новом разбиении\n",
    "        generation_atom_dict2 - dict - словарь второго родителя, где ключ - номер атомарной страты, значение - номер страты в новом разбиении\n",
    "        mutation_rate - float - вероятность мутации\n",
    "    Выход:\n",
    "        stratification - list[list] - стратификация, каждая страта - лист с элементами (номерами атомарных страт), входящих в нее\n",
    "        atom_dict - dict - словарь, в котором каждой атомарной страте приписано, к какой страте (в текущем разбиении) она принадлежит \n",
    "    \"\"\"\n",
    "    C = np.random.randint(1, K) \n",
    "    if VERBOSE:\n",
    "        print(f\"C: {C}\\n\")\n",
    "    # страты с индексами [0,1,.., C-1] размечаем как в первом родителе\n",
    "    # страты с индексами [C, C+1, .., K-1] размечаем как во втором родителе\n",
    "    atom_dict = {}\n",
    "    stratification = [[] for i in range(U)]\n",
    "    for i in range(0, K):\n",
    "       \n",
    "        mutation_number = np.random.rand(1)[0]\n",
    "        if mutation_number < mutation_rate:\n",
    "            # Мутация. С вероятностью mutation_rate номер страты меняется на случайный\n",
    "            new_strata_index = np.random.randint(0, U)\n",
    "        elif i < C:\n",
    "            new_strata_index = generation_atom_dict1[i] \n",
    "        else:\n",
    "            new_strata_index = generation_atom_dict2[i] \n",
    "\n",
    "        stratification[new_strata_index].append(i)\n",
    "        atom_dict[i] = new_strata_index\n",
    "        if VERBOSE:\n",
    "            print(f\"atom: {i}, mutation_number: {mutation_number}, new_strata_index: {new_strata_index}\")\n",
    "    \n",
    "    if VERBOSE:\n",
    "        print(f\"stratification: {stratification}\\n\")\n",
    "    return stratification, atom_dict\n",
    "\n",
    "\n",
    "\n",
    "def produce_next_generation(generation, generation_atom_dict, elitism=0.2, mutation_rate=0.0, n=10):\n",
    "    \"\"\"\n",
    "    Основная функция для порождения нового поколения\n",
    "    Параметры:\n",
    "        generation - list[list[list]] - лист стратификаций. Каждая стратификация - list[list] с элементами (номерами атомарных страт), входящих в данную страту\n",
    "        generation_atom_dict - list[dict] - словарь для каждой стратификации в поколении, в котором каждой атомарной страте приписано, к какой страте (в текущем разбиении) она принадлежит\n",
    "    Выход:\n",
    "        next_generation - list[list[list]] - лист с новой стратификацией. Каждая стратификация - list[list] с элементами (номерами атомарных страт), входящих в данную страту\n",
    "        next_generation_atom_dict - list[dict] - словарь для каждой новой стратификации, в котором каждой атомарной страте приписано, к какой страте она принадлежит \n",
    "    \"\"\"\n",
    "    global BEST_STRATS_WITH_VAR\n",
    "    n_individuals = len(generation)\n",
    "    next_generation_atom_dict = []\n",
    "    next_generation = []\n",
    "\n",
    "    if VERBOSE:\n",
    "        print(\"=\"*10, 'counting stratified vars', \"=\"*10, '\\n')\n",
    "\n",
    "    stratified_vars = []\n",
    "\n",
    "    # Подсчет стратифицированной дисперсии для каждой из стратификаций в новом поколении\n",
    "    for individual in generation:\n",
    "        if VERBOSE:\n",
    "            print(f\"\\n\\nindividual: {individual}\\n\")\n",
    "        n_h = minimize_var_solution(individual, n)\n",
    "        if VERBOSE:\n",
    "            print(f\"n_h: {n_h}\\n\")\n",
    "\n",
    "        strat_var = calc_stratified_var(individual, n_h)\n",
    "        if VERBOSE:\n",
    "            print(f\"total strat_var: {strat_var}\\n\")\n",
    "\n",
    "        stratified_vars.append(strat_var)\n",
    "        \n",
    "    #нормировка\n",
    "    stratified_vars = np.array(stratified_vars) / NORM_CONST\n",
    "    \n",
    "    if VERBOSE:\n",
    "        print(f\"stratified_vars: {stratified_vars}\\n\")\n",
    "\n",
    "    #сохранение лучшей из текущих стратификаций\n",
    "    if len(stratified_vars[stratified_vars > 0]) > 0:\n",
    "        masked_stratified_vars = np.ma.masked_equal(stratified_vars, 0, copy=False)\n",
    "\n",
    "        if BEST_STRATS_WITH_VAR[1] > np.min(masked_stratified_vars):\n",
    "            BEST_STRATS_WITH_VAR = (generation[np.argmin(masked_stratified_vars)], np.min(masked_stratified_vars))\n",
    "        \n",
    "            joblib.dump(BEST_STRATS_WITH_VAR, \"best_strat_and_var_marketing2.joblib\")\n",
    "    #вероятность выживания стратификации связана с оценкой стратифицированной дисперсии соответствующего разбиения\n",
    "    probs = scipy.special.softmax(-stratified_vars)\n",
    "\n",
    "    if VERBOSE:\n",
    "        print(f\"probs: {probs}\\n\\n\\n\\n\")\n",
    "\n",
    "\n",
    "    if VERBOSE:\n",
    "        print(\"=\"*10, 'choosing best stratifications', \"=\"*10, '\\n')\n",
    "\n",
    "    # Отбор лучших стратификаций в новое поколение\n",
    "    part = np.round(elitism * len(generation)).astype(int)\n",
    "    indexes_of_best = probs.argsort()[-part:]\n",
    "    if VERBOSE:\n",
    "        print(f\"part: {part}, indexes_of_best: {indexes_of_best}\\n\")\n",
    "\n",
    "    \n",
    "    if VERBOSE:\n",
    "        print(\"=\"*10, 'creating new generation', \"=\"*10, '\\n')\n",
    "    for i in range(part):\n",
    "        next_generation.append(generation[indexes_of_best[i]])\n",
    "        next_generation_atom_dict.append(generation_atom_dict[indexes_of_best[i]])\n",
    "\n",
    "    if VERBOSE:\n",
    "        print(f\"next_generation_best: {next_generation}, next_generation_best_dict: {next_generation_atom_dict}\\n\")\n",
    "\n",
    "    \n",
    "    # Генерация нового поколения путем скрещивания и мутаций\n",
    "    n_individuals = n_individuals - part\n",
    "\n",
    "    for i in range(0, n_individuals):\n",
    "        if VERBOSE:\n",
    "            print(f\"\\n\\n\\nindividual: {i}\\n\")\n",
    "\n",
    "        # Сэмплирование двух стратификации с вероятностями, пропорциональными стратифицированной дисперсии \n",
    "        indexes = np.arange(0, len(generation))\n",
    "        parents_indexes = np.random.choice(indexes, size=2, replace=False, p=probs)\n",
    "        #выбор особей для скрещивания\n",
    "        parent1 = generation_atom_dict[parents_indexes[0]]\n",
    "        parent2 = generation_atom_dict[parents_indexes[1]]\n",
    "\n",
    "        if VERBOSE:\n",
    "            print(f\"chosen parents: {parents_indexes}, dict1: {parent1}, dict2: {parent2}\\n\")\n",
    "        #порождение потомка по родителям, выбранным выше\n",
    "        child, child_atom_dict = create_stratification(parent1, parent2, mutation_rate)\n",
    "\n",
    "        if VERBOSE:\n",
    "            print(f\"child: {child}, child_atom_dict: {child_atom_dict}\\n\")\n",
    "        #сохранение ребенка в новом поколении\n",
    "        next_generation.append(child)\n",
    "        next_generation_atom_dict.append(child_atom_dict)\n",
    "    \n",
    "    if VERBOSE:\n",
    "        print(next_generation)\n",
    "    if VERBOSE:\n",
    "        print(next_generation_atom_dict)\n",
    "    \n",
    "    return next_generation, next_generation_atom_dict"
   ]
  },
  {
   "cell_type": "code",
   "execution_count": 45,
   "metadata": {},
   "outputs": [],
   "source": [
    "def create_atom_dicts(generation):\n",
    "    \"\"\"\n",
    "    Создание словаря для стратификаций. Каждой атомарной страте сопоставляется номер новой страты, которой она принадлежит.\n",
    "\n",
    "    Параметры:\n",
    "        generation - list[list[list]] - лист стратификаций. Каждая стратификация - list[list] с элементами (номерами атомарных страт), входящих в данную страту\n",
    "    Выход:\n",
    "        dicts - list[dict] - лист со словарями для каждой стратификации, где каждой атомарной страте приписано, к какой страте она принадлежит \n",
    "    \"\"\"\n",
    "    dicts = []\n",
    "    for stratification in generation:\n",
    "        curr_dict = {}\n",
    "        for start_ind in range(len(stratification)):\n",
    "            strat = stratification[start_ind]\n",
    "            for i in strat:\n",
    "                curr_dict[i] = start_ind\n",
    "        \n",
    "        dicts.append(curr_dict)\n",
    "\n",
    "    return dicts"
   ]
  },
  {
   "cell_type": "code",
   "execution_count": 46,
   "metadata": {},
   "outputs": [],
   "source": [
    "def produce_init_generation(num_individual, num_atomic_strats, U, method='rand'):\n",
    "    \"\"\"\n",
    "    Порождает изначальные стратификации случайным образом. Возвращает изначальные num_individual стратификаций над атомарными.\n",
    "\n",
    "    Параметры:\n",
    "        num_individual - int - число изначальных стратификаций\n",
    "        method - str - каким методом создавать эти стратификации \n",
    "        num_atomic_strats - int - число атомарных страт\n",
    "        U - int - максимальное чичло страт в каждой стартификации\n",
    "    Выход:\n",
    "        generation - list[list[list]] - лист стратификаций. Каждая стратификация - list[list] с элементами (номерами атомарных страт), входящих в данную страту\n",
    "        atom_dicts - list[dict] - словарь для каждой стратификации в поколении, в котором каждой атомарной страте приписано, к какой страте (в текущем разбиении) она принадлежит\n",
    "    \"\"\"\n",
    "    generation = []\n",
    "\n",
    "    if method == 'rand':\n",
    "        if num_atomic_strats == U:\n",
    "            num_individual = num_individual - 1\n",
    "        \n",
    "        for i in range(num_individual):\n",
    "            individual = [[] for _ in range(U)]\n",
    "            strat_vector = np.random.randint(0, U, num_atomic_strats)\n",
    "            for j in range(num_atomic_strats):\n",
    "                index_strat = strat_vector[j]\n",
    "                individual[index_strat].append(j)\n",
    "            generation.append(individual)\n",
    "    \n",
    "    else:\n",
    "        raise ValueError('Метод не имплементирован')\n",
    "    \n",
    "\n",
    "\n",
    "    atom_dicts = create_atom_dicts(generation)\n",
    "\n",
    "    if num_atomic_strats == U:\n",
    "        init_startification = np.arange(0, num_atomic_strats, 1).reshape((-1, 1))\n",
    "        init_dict = dict(zip(np.arange(0, num_atomic_strats, 1), np.arange(0, num_atomic_strats, 1)))\n",
    "\n",
    "        generation.append(init_startification.tolist())\n",
    "        atom_dicts.append(init_dict)\n",
    "\n",
    "    return generation, atom_dicts"
   ]
  },
  {
   "cell_type": "code",
   "execution_count": 47,
   "metadata": {},
   "outputs": [],
   "source": [
    "## Для создания файла для логирования нужно раскомментировать следующий код\n",
    "\n",
    "# !rm -rf logs_marketing.txt\n",
    "# !touch logs_marketing.txt\n",
    "# !cat logs_marketing.txt"
   ]
  },
  {
   "cell_type": "code",
   "execution_count": 48,
   "metadata": {
    "scrolled": true
   },
   "outputs": [
    {
     "data": {
      "application/vnd.jupyter.widget-view+json": {
       "model_id": "9bd2cfc8077244dbb6578993584417ae",
       "version_major": 2,
       "version_minor": 0
      },
      "text/plain": [
       "  0%|          | 0/4000 [00:00<?, ?it/s]"
      ]
     },
     "metadata": {},
     "output_type": "display_data"
    },
    {
     "name": "stdout",
     "output_type": "stream",
     "text": [
      "Wall time: 24min 9s\n"
     ]
    }
   ],
   "source": [
    "%%time\n",
    "\n",
    "# Запуск генетического алгоритма\n",
    "# данный параметр можно увеличивать, для гарантированного воспроизведения результатов отчета поставить\n",
    "#max_iter = 400_000\n",
    "max_iter = 4000         # Максимальное число итераций\n",
    "V_limit = V_min         # Пороговое значение для стратифицированной дисперсии, если curr_var < V_limit => выходим\n",
    "mutation_rate = 0.001   # Вероятность мутировать (выбрать рандомную метку для объекта)\n",
    "n = 2_000               # Размер выборки из генеральной совокупности\n",
    "elitism = 0.3           # Доля лучших решений, не мутирующая при переходе в следующее поколение\n",
    "n_init = 20             # Число особей, поддерживаемое на каждом шаге генетического алгоритма\n",
    "\n",
    "\n",
    "K = len(atomic_strata_by_ind.keys())\n",
    "U = K\n",
    "BEST_STRATS_WITH_VAR = (([], np.inf))\n",
    "\n",
    "input_ = produce_init_generation(n_init, K, U, method='rand') \n",
    "\n",
    "\n",
    "VERBOSE = False\n",
    "\n",
    "logs_file = open(\"logs_marketing.txt\",\"a\")\n",
    "\n",
    "logs_file.write(f\"Init var: {V_min / NORM_CONST}, mut_rate: {mutation_rate}\\n\\n\\n\")\n",
    "logs_file.flush()\n",
    "\n",
    "for iter_num in tqdm(range(0, max_iter)):\n",
    "    \n",
    "        \n",
    "    logs_file.write(f\"Iter number: {iter_num} | Best varance: {BEST_STRATS_WITH_VAR[1]}\\n\\n\")\n",
    "    logs_file.flush()\n",
    "    \n",
    "    if VERBOSE:\n",
    "        print(f'\\n\\n\\n\\n iter: {iter_num}')\n",
    "    input_ = produce_next_generation(input_[0], input_[1], elitism=elitism, mutation_rate=mutation_rate, n=n)\n",
    "    \n",
    "logs_file.write(f\"THE END\\n\")\n",
    "logs_file.close()"
   ]
  },
  {
   "cell_type": "code",
   "execution_count": 49,
   "metadata": {},
   "outputs": [],
   "source": [
    "BEST_STRATS_WITH_VAR = joblib.load(\"best_strat_and_var_marketing2.joblib\")"
   ]
  },
  {
   "cell_type": "code",
   "execution_count": 50,
   "metadata": {},
   "outputs": [],
   "source": [
    "non_empty_strats = 0\n",
    "for i in BEST_STRATS_WITH_VAR[0]:\n",
    "    non_empty_strats += 1 if len(i) > 0 else 0"
   ]
  },
  {
   "cell_type": "code",
   "execution_count": 51,
   "metadata": {},
   "outputs": [
    {
     "data": {
      "text/html": [
       "<div>\n",
       "<style scoped>\n",
       "    .dataframe tbody tr th:only-of-type {\n",
       "        vertical-align: middle;\n",
       "    }\n",
       "\n",
       "    .dataframe tbody tr th {\n",
       "        vertical-align: top;\n",
       "    }\n",
       "\n",
       "    .dataframe thead th {\n",
       "        text-align: right;\n",
       "    }\n",
       "</style>\n",
       "<table border=\"1\" class=\"dataframe\">\n",
       "  <thead>\n",
       "    <tr style=\"text-align: right;\">\n",
       "      <th></th>\n",
       "      <th>Стратифицированная дисперсия</th>\n",
       "      <th>Число страт</th>\n",
       "    </tr>\n",
       "    <tr>\n",
       "      <th>Разбиение на страты</th>\n",
       "      <th></th>\n",
       "      <th></th>\n",
       "    </tr>\n",
       "  </thead>\n",
       "  <tbody>\n",
       "    <tr>\n",
       "      <th>Оригинальное</th>\n",
       "      <td>1.74</td>\n",
       "      <td>1072</td>\n",
       "    </tr>\n",
       "    <tr>\n",
       "      <th>Генетический алгоритм</th>\n",
       "      <td>1.70</td>\n",
       "      <td>771</td>\n",
       "    </tr>\n",
       "  </tbody>\n",
       "</table>\n",
       "</div>"
      ],
      "text/plain": [
       "                       Стратифицированная дисперсия  Число страт\n",
       "Разбиение на страты                                             \n",
       "Оригинальное                                   1.74         1072\n",
       "Генетический алгоритм                          1.70          771"
      ]
     },
     "execution_count": 51,
     "metadata": {},
     "output_type": "execute_result"
    }
   ],
   "source": [
    "data = [[round(V_min / NORM_CONST, 2), len(atomic_strats_ind)], [round(BEST_STRATS_WITH_VAR[1], 2), non_empty_strats]]\n",
    "\n",
    "compar_table = pd.DataFrame(data, index=['Оригинальное', 'Генетический алгоритм'], columns=['Стратифицированная дисперсия', \"Число страт\"])\n",
    "compar_table.index.name = 'Разбиение на страты'\n",
    "compar_table"
   ]
  },
  {
   "cell_type": "code",
   "execution_count": null,
   "metadata": {},
   "outputs": [],
   "source": []
  }
 ],
 "metadata": {
  "kernelspec": {
   "display_name": "Python 3 (ipykernel)",
   "language": "python",
   "name": "python3"
  },
  "language_info": {
   "codemirror_mode": {
    "name": "ipython",
    "version": 3
   },
   "file_extension": ".py",
   "mimetype": "text/x-python",
   "name": "python",
   "nbconvert_exporter": "python",
   "pygments_lexer": "ipython3",
   "version": "3.9.7"
  }
 },
 "nbformat": 4,
 "nbformat_minor": 2
}
