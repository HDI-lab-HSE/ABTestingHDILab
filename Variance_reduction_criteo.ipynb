{
 "cells": [
  {
   "cell_type": "markdown",
   "metadata": {},
   "source": [
    "# Снижение дисперсии при A/B тестировании с помощью контрольных перменных, описанное в разделе 3 отчета о НИР."
   ]
  },
  {
   "cell_type": "markdown",
   "metadata": {},
   "source": [
    "Предположим, что в процессе проведения A/B теста нам доступны пары наблюдений $(X_i, Y_i)_{i=1}^n$, где $X_i$ и $Y_i~-~$ признаки и значение целевой метрики для $i$-го пользователя соотвественно. Суть метода контрольных переменных заключается в том, чтобы на основании значения признаков $X$ построить такую случайную величину $\\zeta$ с известным математическим ожиданием и конечной дисперсией, что\n",
    "$$\n",
    "Var(Y +\\zeta) \\ll Var(Y)\\,.\n",
    "$$\n",
    "В таком случае выводы о наличие эффекта при A/B тестировании будут делаться на основании разницы в средних, обнаруживаемой в наборе величин $\\{Y_i + \\zeta_i\\}$, обладающих меньшей дисперсией. Таким образом, за счет снижения дисперсии $\\{Y_i + \\zeta_i\\}$ можно снизить размер выборки, требуемый для получения статистически значимых результатов."
   ]
  },
  {
   "cell_type": "code",
   "execution_count": 7,
   "metadata": {},
   "outputs": [],
   "source": [
    "import numpy as np\n",
    "import statsmodels.api as sm\n",
    "import pandas as pd\n",
    "from tqdm.notebook import tqdm\n",
    "import itertools\n",
    "\n",
    "#для запуска части ноутбука с генерацией данных раскомментируйте\n",
    "#import joblib\n",
    "\n",
    "import warnings\n",
    "warnings.filterwarnings('ignore')\n",
    "\n",
    "from sklearn import linear_model\n",
    "from sklearn.compose import ColumnTransformer\n",
    "from sklearn.metrics import mean_squared_error\n",
    "from sklearn.ensemble import RandomForestClassifier, GradientBoostingClassifier, GradientBoostingRegressor\n",
    "from sklearn.model_selection import train_test_split\n",
    "from sklearn.inspection import permutation_importance\n",
    "from sklearn.impute import SimpleImputer\n",
    "from sklearn.pipeline import Pipeline\n",
    "from sklearn.preprocessing import normalize, OrdinalEncoder, OneHotEncoder\n",
    "from scipy import stats\n",
    "\n",
    "from sklearn.utils import check_random_state\n",
    "from sklearn.utils.validation import _num_samples, check_array\n",
    "from sklearn.utils.multiclass import type_of_target\n",
    "\n",
    "from sklearn.model_selection._split import _BaseKFold, _RepeatedSplits, \\\n",
    "    BaseShuffleSplit, _validate_shuffle_split\n",
    "\n",
    "import matplotlib.pyplot as plt\n",
    "plt.rcParams.update(plt.rcParamsDefault)\n",
    "import seaborn as sns\n",
    "%matplotlib inline"
   ]
  },
  {
   "cell_type": "markdown",
   "metadata": {},
   "source": [
    "Код в следующей ячейке копирует (открытую) библиотеку iterstrat, распространяемую под открытой лицензией BSD-3. Подробнее с кодом библиотеки можно ознакомиться по ссылке https://github.com/trent-b/iterative-stratification"
   ]
  },
  {
   "cell_type": "code",
   "execution_count": 8,
   "metadata": {},
   "outputs": [],
   "source": [
    "\"\"\"This file includes multilabel cross validators based on an implementation of\n",
    "the Iterative Stratification algorithm described in the following paper:\n",
    "Sechidis K., Tsoumakas G., Vlahavas I. (2011) On the Stratification of Multi-\n",
    "Label Data. In: Gunopulos D., Hofmann T., Malerba D., Vazirgiannis M. (eds)\n",
    "Machine Learning and Knowledge Discovery in Databases. ECML PKDD 2011. Lecture\n",
    "Notes in Computer Science, vol 6913. Springer, Berlin, Heidelberg.\n",
    "\n",
    "From scikit-learn 0.19.0, StratifiedKFold, RepeatedStratifiedKFold, and\n",
    "StratifiedShuffleSplit were copied and modified, retaining compatibility\n",
    "with scikit-learn.\n",
    "\n",
    "Attribution to authors of scikit-learn/model_selection/_split.py under BSD 3 clause:\n",
    "    Alexandre Gramfort <alexandre.gramfort@inria.fr>,\n",
    "    Gael Varoquaux <gael.varoquaux@normalesup.org>,\n",
    "    Olivier Grisel <olivier.grisel@ensta.org>,\n",
    "    Raghav RV <rvraghav93@gmail.com>\n",
    "\"\"\"\n",
    "\n",
    "# Author: Trent J. Bradberry <trentjason@hotmail.com>\n",
    "# License: BSD 3 clause\n",
    "\n",
    "def IterativeStratification(labels, r, random_state):\n",
    "    \"\"\"This function implements the Iterative Stratification algorithm described\n",
    "    in the following paper:\n",
    "    Sechidis K., Tsoumakas G., Vlahavas I. (2011) On the Stratification of\n",
    "    Multi-Label Data. In: Gunopulos D., Hofmann T., Malerba D., Vazirgiannis M.\n",
    "    (eds) Machine Learning and Knowledge Discovery in Databases. ECML PKDD\n",
    "    2011. Lecture Notes in Computer Science, vol 6913. Springer, Berlin,\n",
    "    Heidelberg.\n",
    "    \"\"\"\n",
    "\n",
    "    n_samples = labels.shape[0]\n",
    "    test_folds = np.zeros(n_samples, dtype=int)\n",
    "\n",
    "    # Calculate the desired number of examples at each subset\n",
    "    c_folds = r * n_samples\n",
    "\n",
    "    # Calculate the desired number of examples of each label at each subset\n",
    "    c_folds_labels = np.outer(r, labels.sum(axis=0))\n",
    "\n",
    "    labels_not_processed_mask = np.ones(n_samples, dtype=bool)\n",
    "\n",
    "    while np.any(labels_not_processed_mask):\n",
    "        # Find the label with the fewest (but at least one) remaining examples,\n",
    "        # breaking ties randomly\n",
    "        num_labels = labels[labels_not_processed_mask].sum(axis=0)\n",
    "\n",
    "        # Handle case where only all-zero labels are left by distributing\n",
    "        # across all folds as evenly as possible (not in original algorithm but\n",
    "        # mentioned in the text). (By handling this case separately, some\n",
    "        # code redundancy is introduced; however, this approach allows for\n",
    "        # decreased execution time when there are a relatively large number\n",
    "        # of all-zero labels.)\n",
    "        if num_labels.sum() == 0:\n",
    "            sample_idxs = np.where(labels_not_processed_mask)[0]\n",
    "\n",
    "            for sample_idx in sample_idxs:\n",
    "                fold_idx = np.where(c_folds == c_folds.max())[0]\n",
    "\n",
    "                if fold_idx.shape[0] > 1:\n",
    "                    fold_idx = fold_idx[random_state.choice(fold_idx.shape[0])]\n",
    "\n",
    "                test_folds[sample_idx] = fold_idx\n",
    "                c_folds[fold_idx] -= 1\n",
    "\n",
    "            break\n",
    "\n",
    "        label_idx = np.where(num_labels == num_labels[np.nonzero(num_labels)].min())[0]\n",
    "        if label_idx.shape[0] > 1:\n",
    "            label_idx = label_idx[random_state.choice(label_idx.shape[0])]\n",
    "\n",
    "        sample_idxs = np.where(np.logical_and(labels[:, label_idx].flatten(), labels_not_processed_mask))[0]\n",
    "\n",
    "        for sample_idx in sample_idxs:\n",
    "            # Find the subset(s) with the largest number of desired examples\n",
    "            # for this label, breaking ties by considering the largest number\n",
    "            # of desired examples, breaking further ties randomly\n",
    "            label_folds = c_folds_labels[:, label_idx]\n",
    "            fold_idx = np.where(label_folds == label_folds.max())[0]\n",
    "\n",
    "            if fold_idx.shape[0] > 1:\n",
    "                temp_fold_idx = np.where(c_folds[fold_idx] ==\n",
    "                                         c_folds[fold_idx].max())[0]\n",
    "                fold_idx = fold_idx[temp_fold_idx]\n",
    "\n",
    "                if temp_fold_idx.shape[0] > 1:\n",
    "                    fold_idx = fold_idx[random_state.choice(temp_fold_idx.shape[0])]\n",
    "\n",
    "            test_folds[sample_idx] = fold_idx\n",
    "            labels_not_processed_mask[sample_idx] = False\n",
    "\n",
    "            # Update desired number of examples\n",
    "            c_folds_labels[fold_idx, labels[sample_idx]] -= 1\n",
    "            c_folds[fold_idx] -= 1\n",
    "\n",
    "    return test_folds\n",
    "\n",
    "\n",
    "class MultilabelStratifiedKFold(_BaseKFold):\n",
    "    \"\"\"Multilabel stratified K-Folds cross-validator\n",
    "    Provides train/test indices to split multilabel data into train/test sets.\n",
    "    This cross-validation object is a variation of KFold that returns\n",
    "    stratified folds for multilabel data. The folds are made by preserving\n",
    "    the percentage of samples for each label.\n",
    "    Parameters\n",
    "    ----------\n",
    "    n_splits : int, default=3\n",
    "        Number of folds. Must be at least 2.\n",
    "    shuffle : boolean, optional\n",
    "        Whether to shuffle each stratification of the data before splitting\n",
    "        into batches.\n",
    "    random_state : int, RandomState instance or None, optional, default=None\n",
    "        If int, random_state is the seed used by the random number generator;\n",
    "        If RandomState instance, random_state is the random number generator;\n",
    "        If None, the random number generator is the RandomState instance used\n",
    "        by `np.random`. Unlike StratifiedKFold that only uses random_state\n",
    "        when ``shuffle`` == True, this multilabel implementation\n",
    "        always uses the random_state since the iterative stratification\n",
    "        algorithm breaks ties randomly.\n",
    "    Examples\n",
    "    --------\n",
    "    >>> from iterstrat.ml_stratifiers import MultilabelStratifiedKFold\n",
    "    >>> import numpy as np\n",
    "    >>> X = np.array([[1,2], [3,4], [1,2], [3,4], [1,2], [3,4], [1,2], [3,4]])\n",
    "    >>> y = np.array([[0,0], [0,0], [0,1], [0,1], [1,1], [1,1], [1,0], [1,0]])\n",
    "    >>> mskf = MultilabelStratifiedKFold(n_splits=2, random_state=0)\n",
    "    >>> mskf.get_n_splits(X, y)\n",
    "    2\n",
    "    >>> print(mskf)  # doctest: +NORMALIZE_WHITESPACE\n",
    "    MultilabelStratifiedKFold(n_splits=2, random_state=0, shuffle=False)\n",
    "    >>> for train_index, test_index in mskf.split(X, y):\n",
    "    ...    print(\"TRAIN:\", train_index, \"TEST:\", test_index)\n",
    "    ...    X_train, X_test = X[train_index], X[test_index]\n",
    "    ...    y_train, y_test = y[train_index], y[test_index]\n",
    "    TRAIN: [0 3 4 6] TEST: [1 2 5 7]\n",
    "    TRAIN: [1 2 5 7] TEST: [0 3 4 6]\n",
    "    Notes\n",
    "    -----\n",
    "    Train and test sizes may be slightly different in each fold.\n",
    "    See also\n",
    "    --------\n",
    "    RepeatedMultilabelStratifiedKFold: Repeats Multilabel Stratified K-Fold\n",
    "    n times.\n",
    "    \"\"\"\n",
    "\n",
    "    def __init__(self, n_splits=3, *, shuffle=False, random_state=None):\n",
    "        super(MultilabelStratifiedKFold, self).__init__(n_splits=n_splits, shuffle=shuffle, random_state=random_state)\n",
    "\n",
    "    def _make_test_folds(self, X, y):\n",
    "        y = np.asarray(y, dtype=bool)\n",
    "        type_of_target_y = type_of_target(y)\n",
    "\n",
    "        if type_of_target_y != 'multilabel-indicator':\n",
    "            raise ValueError(\n",
    "                'Supported target type is: multilabel-indicator. Got {!r} instead.'.format(type_of_target_y))\n",
    "\n",
    "        num_samples = y.shape[0]\n",
    "\n",
    "        rng = check_random_state(self.random_state)\n",
    "        indices = np.arange(num_samples)\n",
    "\n",
    "        if self.shuffle:\n",
    "            rng.shuffle(indices)\n",
    "            y = y[indices]\n",
    "\n",
    "        r = np.asarray([1 / self.n_splits] * self.n_splits)\n",
    "\n",
    "        test_folds = IterativeStratification(labels=y, r=r, random_state=rng)\n",
    "\n",
    "        return test_folds[np.argsort(indices)]\n",
    "\n",
    "    def _iter_test_masks(self, X=None, y=None, groups=None):\n",
    "        test_folds = self._make_test_folds(X, y)\n",
    "        for i in range(self.n_splits):\n",
    "            yield test_folds == i\n",
    "\n",
    "    def split(self, X, y, groups=None):\n",
    "        \"\"\"Generate indices to split data into training and test set.\n",
    "        Parameters\n",
    "        ----------\n",
    "        X : array-like, shape (n_samples, n_features)\n",
    "            Training data, where n_samples is the number of samples\n",
    "            and n_features is the number of features.\n",
    "            Note that providing ``y`` is sufficient to generate the splits and\n",
    "            hence ``np.zeros(n_samples)`` may be used as a placeholder for\n",
    "            ``X`` instead of actual training data.\n",
    "        y : array-like, shape (n_samples, n_labels)\n",
    "            The target variable for supervised learning problems.\n",
    "            Multilabel stratification is done based on the y labels.\n",
    "        groups : object\n",
    "            Always ignored, exists for compatibility.\n",
    "        Returns\n",
    "        -------\n",
    "        train : ndarray\n",
    "            The training set indices for that split.\n",
    "        test : ndarray\n",
    "            The testing set indices for that split.\n",
    "        Notes\n",
    "        -----\n",
    "        Randomized CV splitters may return different results for each call of\n",
    "        split. You can make the results identical by setting ``random_state``\n",
    "        to an integer.\n",
    "        \"\"\"\n",
    "        y = check_array(y, ensure_2d=False, dtype=None)\n",
    "        return super(MultilabelStratifiedKFold, self).split(X, y, groups)\n",
    "\n",
    "\n",
    "class RepeatedMultilabelStratifiedKFold(_RepeatedSplits):\n",
    "    \"\"\"Repeated Multilabel Stratified K-Fold cross validator.\n",
    "    Repeats Mulilabel Stratified K-Fold n times with different randomization\n",
    "    in each repetition.\n",
    "    Parameters\n",
    "    ----------\n",
    "    n_splits : int, default=5\n",
    "        Number of folds. Must be at least 2.\n",
    "    n_repeats : int, default=10\n",
    "        Number of times cross-validator needs to be repeated.\n",
    "    random_state : None, int or RandomState, default=None\n",
    "        Random state to be used to generate random state for each\n",
    "        repetition as well as randomly breaking ties within the iterative\n",
    "        stratification algorithm.\n",
    "    Examples\n",
    "    --------\n",
    "    >>> from iterstrat.ml_stratifiers import RepeatedMultilabelStratifiedKFold\n",
    "    >>> import numpy as np\n",
    "    >>> X = np.array([[1,2], [3,4], [1,2], [3,4], [1,2], [3,4], [1,2], [3,4]])\n",
    "    >>> y = np.array([[0,0], [0,0], [0,1], [0,1], [1,1], [1,1], [1,0], [1,0]])\n",
    "    >>> rmskf = RepeatedMultilabelStratifiedKFold(n_splits=2, n_repeats=2,\n",
    "    ...     random_state=0)\n",
    "    >>> for train_index, test_index in rmskf.split(X, y):\n",
    "    ...     print(\"TRAIN:\", train_index, \"TEST:\", test_index)\n",
    "    ...     X_train, X_test = X[train_index], X[test_index]\n",
    "    ...     y_train, y_test = y[train_index], y[test_index]\n",
    "    ...\n",
    "    TRAIN: [0 3 4 6] TEST: [1 2 5 7]\n",
    "    TRAIN: [1 2 5 7] TEST: [0 3 4 6]\n",
    "    TRAIN: [0 1 4 5] TEST: [2 3 6 7]\n",
    "    TRAIN: [2 3 6 7] TEST: [0 1 4 5]\n",
    "    See also\n",
    "    --------\n",
    "    RepeatedStratifiedKFold: Repeats (Non-multilabel) Stratified K-Fold\n",
    "    n times.\n",
    "    \"\"\"\n",
    "    def __init__(self, n_splits=5, *, n_repeats=10, random_state=None):\n",
    "        super(RepeatedMultilabelStratifiedKFold, self).__init__(\n",
    "            MultilabelStratifiedKFold, n_repeats=n_repeats, random_state=random_state,\n",
    "            n_splits=n_splits)\n",
    "\n",
    "\n",
    "class MultilabelStratifiedShuffleSplit(BaseShuffleSplit):\n",
    "    \"\"\"Multilabel Stratified ShuffleSplit cross-validator\n",
    "    Provides train/test indices to split data into train/test sets.\n",
    "    This cross-validation object is a merge of MultilabelStratifiedKFold and\n",
    "    ShuffleSplit, which returns stratified randomized folds for multilabel\n",
    "    data. The folds are made by preserving the percentage of each label.\n",
    "    Note: like the ShuffleSplit strategy, multilabel stratified random splits\n",
    "    do not guarantee that all folds will be different, although this is\n",
    "    still very likely for sizeable datasets.\n",
    "    Parameters\n",
    "    ----------\n",
    "    n_splits : int, default 10\n",
    "        Number of re-shuffling & splitting iterations.\n",
    "    test_size : float, int, None, optional\n",
    "        If float, should be between 0.0 and 1.0 and represent the proportion\n",
    "        of the dataset to include in the test split. If int, represents the\n",
    "        absolute number of test samples. If None, the value is set to the\n",
    "        complement of the train size. By default, the value is set to 0.1.\n",
    "        The default will change in version 0.21. It will remain 0.1 only\n",
    "        if ``train_size`` is unspecified, otherwise it will complement\n",
    "        the specified ``train_size``.\n",
    "    train_size : float, int, or None, default is None\n",
    "        If float, should be between 0.0 and 1.0 and represent the\n",
    "        proportion of the dataset to include in the train split. If\n",
    "        int, represents the absolute number of train samples. If None,\n",
    "        the value is automatically set to the complement of the test size.\n",
    "    random_state : int, RandomState instance or None, optional (default=None)\n",
    "        If int, random_state is the seed used by the random number generator;\n",
    "        If RandomState instance, random_state is the random number generator;\n",
    "        If None, the random number generator is the RandomState instance used\n",
    "        by `np.random`. Unlike StratifiedShuffleSplit that only uses\n",
    "        random_state when ``shuffle`` == True, this multilabel implementation\n",
    "        always uses the random_state since the iterative stratification\n",
    "        algorithm breaks ties randomly.\n",
    "    Examples\n",
    "    --------\n",
    "    >>> from iterstrat.ml_stratifiers import MultilabelStratifiedShuffleSplit\n",
    "    >>> import numpy as np\n",
    "    >>> X = np.array([[1,2], [3,4], [1,2], [3,4], [1,2], [3,4], [1,2], [3,4]])\n",
    "    >>> y = np.array([[0,0], [0,0], [0,1], [0,1], [1,1], [1,1], [1,0], [1,0]])\n",
    "    >>> msss = MultilabelStratifiedShuffleSplit(n_splits=3, test_size=0.5,\n",
    "    ...    random_state=0)\n",
    "    >>> msss.get_n_splits(X, y)\n",
    "    3\n",
    "    >>> print(mss)       # doctest: +ELLIPSIS\n",
    "    MultilabelStratifiedShuffleSplit(n_splits=3, random_state=0, test_size=0.5,\n",
    "                                     train_size=None)\n",
    "    >>> for train_index, test_index in msss.split(X, y):\n",
    "    ...    print(\"TRAIN:\", train_index, \"TEST:\", test_index)\n",
    "    ...    X_train, X_test = X[train_index], X[test_index]\n",
    "    ...    y_train, y_test = y[train_index], y[test_index]\n",
    "    TRAIN: [1 2 5 7] TEST: [0 3 4 6]\n",
    "    TRAIN: [2 3 6 7] TEST: [0 1 4 5]\n",
    "    TRAIN: [1 2 5 6] TEST: [0 3 4 7]\n",
    "    Notes\n",
    "    -----\n",
    "    Train and test sizes may be slightly different from desired due to the\n",
    "    preference of stratification over perfectly sized folds.\n",
    "    \"\"\"\n",
    "\n",
    "    def __init__(self, n_splits=10, *, test_size=\"default\", train_size=None,\n",
    "                 random_state=None):\n",
    "        super(MultilabelStratifiedShuffleSplit, self).__init__(\n",
    "            n_splits=n_splits, test_size=test_size, train_size=train_size, random_state=random_state)\n",
    "\n",
    "    def _iter_indices(self, X, y, groups=None):\n",
    "        n_samples = _num_samples(X)\n",
    "        y = check_array(y, ensure_2d=False, dtype=None)\n",
    "        y = np.asarray(y, dtype=bool)\n",
    "        type_of_target_y = type_of_target(y)\n",
    "\n",
    "        if type_of_target_y != 'multilabel-indicator':\n",
    "            raise ValueError(\n",
    "                'Supported target type is: multilabel-indicator. Got {!r} instead.'.format(\n",
    "                    type_of_target_y))\n",
    "\n",
    "        n_train, n_test = _validate_shuffle_split(n_samples, self.test_size,\n",
    "                                                  self.train_size)\n",
    "\n",
    "        n_samples = y.shape[0]\n",
    "        rng = check_random_state(self.random_state)\n",
    "        y_orig = y.copy()\n",
    "\n",
    "        r = np.array([n_train, n_test]) / (n_train + n_test)\n",
    "\n",
    "        for _ in range(self.n_splits):\n",
    "            indices = np.arange(n_samples)\n",
    "            rng.shuffle(indices)\n",
    "            y = y_orig[indices]\n",
    "\n",
    "            test_folds = IterativeStratification(labels=y, r=r, random_state=rng)\n",
    "\n",
    "            test_idx = test_folds[np.argsort(indices)] == 1\n",
    "            test = np.where(test_idx)[0]\n",
    "            train = np.where(~test_idx)[0]\n",
    "\n",
    "            yield train, test\n",
    "\n",
    "    def split(self, X, y, groups=None):\n",
    "        \"\"\"Generate indices to split data into training and test set.\n",
    "        Parameters\n",
    "        ----------\n",
    "        X : array-like, shape (n_samples, n_features)\n",
    "            Training data, where n_samples is the number of samples\n",
    "            and n_features is the number of features.\n",
    "            Note that providing ``y`` is sufficient to generate the splits and\n",
    "            hence ``np.zeros(n_samples)`` may be used as a placeholder for\n",
    "            ``X`` instead of actual training data.\n",
    "        y : array-like, shape (n_samples, n_labels)\n",
    "            The target variable for supervised learning problems.\n",
    "            Multilabel stratification is done based on the y labels.\n",
    "        groups : object\n",
    "            Always ignored, exists for compatibility.\n",
    "        Returns\n",
    "        -------\n",
    "        train : ndarray\n",
    "            The training set indices for that split.\n",
    "        test : ndarray\n",
    "            The testing set indices for that split.\n",
    "        Notes\n",
    "        -----\n",
    "        Randomized CV splitters may return different results for each call of\n",
    "        split. You can make the results identical by setting ``random_state``\n",
    "        to an integer.\n",
    "        \"\"\"\n",
    "        y = check_array(y, ensure_2d=False, dtype=None)\n",
    "        return super(MultilabelStratifiedShuffleSplit, self).split(X, y, groups)"
   ]
  },
  {
   "cell_type": "code",
   "execution_count": 9,
   "metadata": {},
   "outputs": [],
   "source": [
    "def get_coef_significance(X, Y): \n",
    "    \"\"\"\n",
    "    Функция для оценки статистической значимость коэффициентов линейной регрессии\n",
    "\n",
    "    Параметры:\n",
    "        X - DataFrame - данные, содержащие несколько объектов с признаками\n",
    "        Y - array - целевая метрика для объектов из X\n",
    "\n",
    "    Выход:\n",
    "        table - DataFrame - таблица со значениями p-value, относительно которых можно делать вывод о статистической значимости коэффициента при каждом признаке в X.\n",
    "        lin_reg - statsmodels.OLS - обученная модель регрессии\n",
    "    \"\"\"\n",
    "    X_train = sm.tools.tools.add_constant(X.values.astype(np.float64), prepend=True, has_constant='skip')\n",
    "    \n",
    "    Y_train = Y\n",
    "\n",
    "    lin_reg = sm.OLS(Y_train, X_train).fit()\n",
    "    summary = lin_reg.summary().tables[1]\n",
    "    table = pd.read_html(summary.as_html(), header=0, index_col=0)[0]\n",
    "    return table, lin_reg"
   ]
  },
  {
   "cell_type": "code",
   "execution_count": 10,
   "metadata": {},
   "outputs": [],
   "source": [
    "def check_pval(pval):\n",
    "    \"\"\"\n",
    "    Функция для автоматической проверки p-value на статистическую значимость\n",
    "\n",
    "    Параметры:\n",
    "        pval - float - значение p-value\n",
    "    \"\"\"  \n",
    "    if pval <= 0.05:\n",
    "        print(f'p-val: {pval}\\nСтат. значимая разница (отвергли нулевую гипотезу о равенстве средних)')\n",
    "    else:\n",
    "        print(f'p-val: {pval}\\nСтатзначимой разницы нет')"
   ]
  },
  {
   "cell_type": "code",
   "execution_count": 11,
   "metadata": {},
   "outputs": [],
   "source": [
    "def ttest(x, y, randomized=False, verbose=False):\n",
    "    \"\"\"\n",
    "    Функция для проведения T-testa в двух модификациях: с обычной и с рандомизированной T-статистикой.\n",
    "\n",
    "    Параметры:\n",
    "        x - array - значение целевой метрики в тестовой группе\n",
    "        y - array - значение целевой метрики в контрольной группе\n",
    "        randomized - bool - индикатор того, какой тест проводить (рандомизированный - 1, стандартный - 0)\n",
    "        verbose - bool - печатать ли вспомогательную информацию\n",
    "        \n",
    "    Выход:\n",
    "         полученное в T-тесте p-value (float)\n",
    "    \"\"\" \n",
    "    #число элементов в тестовой группе\n",
    "    n_x = x.shape[0]\n",
    "    #число элементов в контрольной группе\n",
    "    n_y = y.shape[0]\n",
    "\n",
    "    #дисперсия целевой метрики в тестовой группе\n",
    "    s_x = np.var(x, ddof=1)\n",
    "    #дисперсия целевой метрики в контрольной группе\n",
    "    s_y = np.var(y, ddof=1)\n",
    "    #рандомизированный тест\n",
    "    if randomized:\n",
    "        #подсчет числа степеней свободы знаменателя при T-тесте\n",
    "        dof =  (s_x / n_x + s_y / n_y) ** 2 / ((s_x / n_x) ** 2 / (n_x - 1) + (s_y / n_y) ** 2 / (n_y - 1))\n",
    "        #генерация вектора весов с единичной сферы, удовлетворяющего условиям теоремы Клартага-Содина. \n",
    "        #используемый вектор основывается на повторении блоков (1,\\sqrt{2},1,\\sqrt{2}) и (1,\\sqrt{2},-1,-\\sqrt{2}) и их последующей нормировке\n",
    "        b0 = n_x ** 0.75\n",
    "        b1 = n_y ** 0.75\n",
    "        #вектор весов для тестовой группы\n",
    "        theta_x = np.append(np.tile(np.array([1, np.sqrt(2), 1, np.sqrt(2)]), math.ceil(b0)),\\\n",
    "                   np.tile(np.array([1, np.sqrt(2), -1, -np.sqrt(2)]), n_x // 4 + 1))\n",
    "        theta_x = theta_x[:n_x]\n",
    "        #вектор весов для контрольной группы\n",
    "        theta_y = np.append(np.tile(np.array([1, np.sqrt(2), 1, np.sqrt(2)]), math.ceil(b1)),\\\n",
    "                   np.tile(np.array([1, np.sqrt(2), -1, -np.sqrt(2)]), n_y // 4 + 1))\n",
    "        theta_y = theta_y[:n_y]\n",
    "        #подсчет Т-статистики\n",
    "        t_val = (theta_x @ x - theta_y @ y) / np.sqrt(s_x * np.sum(theta_x ** 2) + s_y * np.sum(theta_y ** 2))\n",
    "        #p-value для двустороннего теста\n",
    "        p = 2*(stats.t.cdf(-abs(t_val), dof))\n",
    "    #не рандомизированный тест, используется стандартный Т-тест\n",
    "    else: \n",
    "        t_val, p = stats.ttest_ind(x, y, equal_var=False)     \n",
    "    if verbose:\n",
    "        check_pval(p)\n",
    "    return p"
   ]
  },
  {
   "cell_type": "markdown",
   "metadata": {},
   "source": [
    "# Обработка датасета и генерация подвыборок"
   ]
  },
  {
   "cell_type": "code",
   "execution_count": 12,
   "metadata": {},
   "outputs": [
    {
     "name": "stdout",
     "output_type": "stream",
     "text": [
      "--2023-11-17 13:31:33--  http://go.criteo.net/criteo-research-uplift-v2.1.csv.gz\n",
      "Распознаётся go.criteo.net (go.criteo.net)… 178.250.7.18\n",
      "Подключение к go.criteo.net (go.criteo.net)|178.250.7.18|:80... соединение установлено.\n",
      "HTTP-запрос отправлен. Ожидание ответа… 302 Found\n",
      "Адрес: https://criteostorage.blob.core.windows.net/criteo-research-datasets/criteo-uplift-v2.1.csv.gz [переход]\n",
      "--2023-11-17 13:31:34--  https://criteostorage.blob.core.windows.net/criteo-research-datasets/criteo-uplift-v2.1.csv.gz\n",
      "Распознаётся criteostorage.blob.core.windows.net (criteostorage.blob.core.windows.net)… 20.209.1.1\n",
      "Подключение к criteostorage.blob.core.windows.net (criteostorage.blob.core.windows.net)|20.209.1.1|:443... соединение установлено.\n",
      "HTTP-запрос отправлен. Ожидание ответа… 200 OK\n",
      "Длина: 311422618 (297M) [application/x-gzip]\n",
      "Сохранение в: «criteo-research-uplift-v2.1.csv.gz»\n",
      "\n",
      "criteo-research-upl 100%[===================>] 297,00M   910KB/s    за 4m 19s  \n",
      "\n",
      "2023-11-17 13:35:57 (1,15 MB/s) - «criteo-research-uplift-v2.1.csv.gz» сохранён [311422618/311422618]\n",
      "\n"
     ]
    }
   ],
   "source": [
    "## Для скачивания датасета раскомментировать следующий код\n",
    "!wget http://go.criteo.net/criteo-research-uplift-v2.1.csv.gz\n",
    "!gzip -d ./criteo-research-uplift-v2.1.csv.gz"
   ]
  },
  {
   "cell_type": "markdown",
   "metadata": {},
   "source": [
    "В случае, если у вас не работает утилита wget - датасет нужно скачать вручную по ссылке выше и распаковать из архива в .csv файл с названием 'criteo-research-uplift-v2.1.csv'"
   ]
  },
  {
   "cell_type": "code",
   "execution_count": 13,
   "metadata": {},
   "outputs": [],
   "source": [
    "#считывание датасета\n",
    "inp_df = pd.read_csv('criteo-research-uplift-v2.1.csv')\n",
    "\n",
    "features = ['f{}'.format(n) for n in range(12)]\n",
    "inp_df[features] = normalize(inp_df[features], axis=0, norm='l2')\n",
    "df = inp_df \n",
    "\n",
    "X = features\n",
    "y = 'visit'\n",
    "t = 'treatment'"
   ]
  },
  {
   "cell_type": "code",
   "execution_count": 14,
   "metadata": {},
   "outputs": [],
   "source": [
    "cat_features = ['f1', 'f3', 'f4', 'f5', 'f6', 'f8', 'f9', 'f11']\n",
    "noncat_features = list(df.columns.difference(cat_features + [y,t,'conversion', 'exposure']))"
   ]
  },
  {
   "cell_type": "code",
   "execution_count": 15,
   "metadata": {},
   "outputs": [
    {
     "name": "stdout",
     "output_type": "stream",
     "text": [
      "p-value по всем данных: 0.0\n"
     ]
    }
   ],
   "source": [
    "t, p = stats.ttest_ind(df.loc[df['treatment'] == 1, 'visit'], df.loc[df['treatment'] == 0, 'visit'], equal_var=False, random_state=3)\n",
    "print(f'p-value по всем данных: {p}')"
   ]
  },
  {
   "cell_type": "markdown",
   "metadata": {},
   "source": [
    "## Генерация стратифицированной подвыборки меньшего размера\n",
    "\n",
    "В данной подвыборке с помощью стандартного Т-теста нулевая гипотеза \n",
    "$$\\mathcal{H_0}: \\mu_1 = \\mu_2\\, ,$$\n",
    "не отвергается при истинности альтернативной\n",
    "$$\\mathcal{H_1}: \\mu_1 \\neq \\mu_2\\, ,$$\n",
    "\n",
    "где $\\mu_1$ и $\\mu_2$ - математические ожидания в тестовой и контрольной выборках. Таким образом, размеры сгенерированных подвыборок недостаточны для того, чтобы обнаружить величину эффекта, равную $\\mu_1 - \\mu_2$.\n",
    "\n",
    "Стратифицированная подвыборка генерируется с помощью MultilabelStratifiedShuffleSplit"
   ]
  },
  {
   "cell_type": "code",
   "execution_count": 16,
   "metadata": {},
   "outputs": [
    {
     "data": {
      "text/plain": [
       "['f0', 'f2', 'f8', 'f9', 'visit']"
      ]
     },
     "execution_count": 16,
     "metadata": {},
     "output_type": "execute_result"
    }
   ],
   "source": [
    "columns = ['f0', 'f2', 'f8', 'f9', 'visit']\n",
    "columns"
   ]
  },
  {
   "cell_type": "code",
   "execution_count": 17,
   "metadata": {},
   "outputs": [],
   "source": [
    "all_control = df.loc[df['treatment'] == 0]\n",
    "all_treatment = df.loc[df['treatment'] == 1]"
   ]
  },
  {
   "cell_type": "code",
   "execution_count": 18,
   "metadata": {},
   "outputs": [
    {
     "data": {
      "text/plain": [
       "5.666672389299249"
      ]
     },
     "execution_count": 18,
     "metadata": {},
     "output_type": "execute_result"
    }
   ],
   "source": [
    "scale = all_treatment.shape[0] / all_control.shape[0]\n",
    "scale"
   ]
  },
  {
   "cell_type": "code",
   "execution_count": 87,
   "metadata": {},
   "outputs": [],
   "source": [
    "control_sample = pd.read_pickle(\"saved_variables/control_sample.pkl\")  \n",
    "treatment_sample = pd.read_pickle(\"saved_variables/treatment_sample.pkl\")\n",
    "control_sample_1 = pd.read_csv(\"saved_variables/control_sample.csv\") "
   ]
  },
  {
   "cell_type": "code",
   "execution_count": 91,
   "metadata": {},
   "outputs": [],
   "source": [
    "from pandas.util.testing import assert_frame_equal"
   ]
  },
  {
   "cell_type": "code",
   "execution_count": 93,
   "metadata": {},
   "outputs": [
    {
     "name": "stdout",
     "output_type": "stream",
     "text": [
      "(1049, 16)\n",
      "(1049, 17)\n"
     ]
    }
   ],
   "source": [
    "#assert_frame_equal(control_sample, control_sample_1)\n",
    "print(control_sample.shape)\n",
    "print(control_sample_1.shape)"
   ]
  },
  {
   "cell_type": "code",
   "execution_count": 100,
   "metadata": {},
   "outputs": [
    {
     "name": "stdout",
     "output_type": "stream",
     "text": [
      "f0\n",
      "f1\n",
      "f2\n",
      "f3\n",
      "f4\n",
      "f5\n",
      "f6\n",
      "f7\n",
      "f8\n",
      "f9\n",
      "f10\n",
      "f11\n",
      "treatment\n",
      "conversion\n",
      "visit\n",
      "exposure\n",
      "16\n"
     ]
    }
   ],
   "source": [
    "control_sample.head()\n",
    "for col in control_sample.columns:\n",
    "    print(col)\n",
    "print(len(control_sample.columns))"
   ]
  },
  {
   "cell_type": "code",
   "execution_count": 99,
   "metadata": {},
   "outputs": [
    {
     "name": "stdout",
     "output_type": "stream",
     "text": [
      "Unnamed: 0\n",
      "f0\n",
      "f1\n",
      "f2\n",
      "f3\n",
      "f4\n",
      "f5\n",
      "f6\n",
      "f7\n",
      "f8\n",
      "f9\n",
      "f10\n",
      "f11\n",
      "treatment\n",
      "conversion\n",
      "visit\n",
      "exposure\n"
     ]
    }
   ],
   "source": [
    "control_sample_1.head()\n",
    "for col in control_sample_1.columns:\n",
    "    print(col)"
   ]
  },
  {
   "cell_type": "markdown",
   "metadata": {},
   "source": [
    "### В данной секции стратифицированным образом отбирается заданное число подвыборок размера 0.0005 от всего датасета. Если вы не хотите ждать, пока они будут сгенерированы, пропустите данную секцию и загрузите готовые данные из ячейки выше. В противном случае - раскомментируйте код ниже."
   ]
  },
  {
   "cell_type": "code",
   "execution_count": 57,
   "metadata": {},
   "outputs": [],
   "source": [
    "#size_control = 0.0005\n",
    "#scale = all_treatment.shape[0] / all_control.shape[0]\n",
    "#size_treatment = int(scale * size_control * all_control.shape[0]) # scale * control_size = scale * 0.002 * all_control.shape[0]\n",
    "\n",
    "#msss_control = MultilabelStratifiedShuffleSplit(n_splits=1, test_size=size_control, random_state=0)\n",
    "#msss_treatment = MultilabelStratifiedShuffleSplit(n_splits=1, test_size=size_treatment, random_state=0)"
   ]
  },
  {
   "cell_type": "code",
   "execution_count": 58,
   "metadata": {},
   "outputs": [],
   "source": [
    "#trval_i, control_sample_i = next(msss_control.split(all_control.values, all_control.loc[:, columns].values))\n",
    "#trval_i, treatment_sample_i = next(msss_treatment.split(all_treatment.values, all_treatment.loc[:, columns].values))"
   ]
  },
  {
   "cell_type": "code",
   "execution_count": 59,
   "metadata": {},
   "outputs": [],
   "source": [
    "#control_sample = all_control.iloc[control_sample_i]\n",
    "#treatment_sample = all_treatment.iloc[treatment_sample_i]"
   ]
  },
  {
   "cell_type": "code",
   "execution_count": 60,
   "metadata": {},
   "outputs": [],
   "source": [
    "#print(control_sample)"
   ]
  },
  {
   "cell_type": "code",
   "execution_count": 61,
   "metadata": {},
   "outputs": [],
   "source": [
    "#print(f\"treatment: {treatment_sample.shape[0]}, control: {control_sample.shape[0]}, frac: {treatment_sample.shape[0] / control_sample.shape[0]}\")\n"
   ]
  },
  {
   "cell_type": "code",
   "execution_count": 62,
   "metadata": {},
   "outputs": [],
   "source": [
    "#control_size = 0.0005\n",
    "#stats.ttest_ind(treatment_sample['visit'], control_sample['visit'], equal_var=False, random_state=1)"
   ]
  },
  {
   "cell_type": "code",
   "execution_count": 63,
   "metadata": {},
   "outputs": [],
   "source": [
    "#print(f\"Дисперсия в подвыборках: контроль {control_sample['visit'].var()}, тест {treatment_sample['visit'].var()}\")"
   ]
  },
  {
   "cell_type": "markdown",
   "metadata": {},
   "source": [
    "## Генерация исторического контекста\n",
    "\n",
    "Генерация стратифицированной подвыборки, которая соответствует предэкспериментальному периоду.\n",
    "\n",
    "Стратифицированная подвыборка генерируется с помощью MultilabelStratifiedShuffleSplit"
   ]
  },
  {
   "cell_type": "code",
   "execution_count": 66,
   "metadata": {},
   "outputs": [],
   "source": [
    "# # Код ниже в этой секции можно не запускать, а скачать сохраненную подвыборку\n",
    "control_sample_hist = pd.read_pickle(\"saved_variables/control_sample_hist.pkl\")  \n",
    "treatment_sample_hist = pd.read_pickle(\"saved_variables/treatment_sample_hist.pkl\")"
   ]
  },
  {
   "cell_type": "code",
   "execution_count": 67,
   "metadata": {},
   "outputs": [],
   "source": [
    "#all_control_for_hist = df.loc[(df['treatment'] == 0) & (~df.index.isin(control_sample.index))]\n",
    "#all_treatment_for_hist = df.loc[(df['treatment'] == 1) & (~df.index.isin(treatment_sample.index))]"
   ]
  },
  {
   "cell_type": "code",
   "execution_count": 68,
   "metadata": {},
   "outputs": [],
   "source": [
    "#size_control = 0.0005\n",
    "#scale = all_treatment_for_hist.shape[0] / all_control_for_hist.shape[0]\n",
    "#size_treatment = int(scale * size_control * all_control_for_hist.shape[0]) # scale * control_size = scale * 0.002 * all_control.shape[0]\n",
    "\n",
    "#msss_control = MultilabelStratifiedShuffleSplit(n_splits=1, test_size=size_control, random_state=2)\n",
    "#msss_treatment = MultilabelStratifiedShuffleSplit(n_splits=1, test_size=size_treatment, random_state=2)"
   ]
  },
  {
   "cell_type": "code",
   "execution_count": 69,
   "metadata": {},
   "outputs": [],
   "source": [
    "#trval_i, control_sample_hist_i = next(msss_control.split(all_control_for_hist.values, all_control_for_hist.loc[:, columns].values))\n",
    "#trval_i, treatment_sample_hist_i = next(msss_treatment.split(all_treatment_for_hist.values, all_treatment_for_hist.loc[:, columns].values))"
   ]
  },
  {
   "cell_type": "code",
   "execution_count": 70,
   "metadata": {},
   "outputs": [],
   "source": [
    "#control_sample_hist = all_control_for_hist.iloc[control_sample_hist_i]\n",
    "#treatment_sample_hist = all_treatment_for_hist.iloc[treatment_sample_hist_i]"
   ]
  },
  {
   "cell_type": "code",
   "execution_count": 71,
   "metadata": {},
   "outputs": [],
   "source": [
    "#print(f\"treatment: {treatment_sample_hist.shape[0]}, control: {control_sample_hist.shape[0]}, frac: {treatment_sample_hist.shape[0] / control_sample_hist.shape[0]}\")"
   ]
  },
  {
   "cell_type": "markdown",
   "metadata": {},
   "source": [
    "## Генерация подвыборки с увеличивающимся размером\n",
    "\n",
    "Генерация стратифицированных подвыборок размерами от 420 до 4200 с шагом 420 для эксперимента, описанного в разделе 3.4.1 отчета о НИР.\n",
    "\n",
    "Стратифицированные подвыборки генерируются с помощью MultilabelStratifiedShuffleSplit"
   ]
  },
  {
   "cell_type": "code",
   "execution_count": 72,
   "metadata": {},
   "outputs": [],
   "source": [
    "all_control = df.loc[(df['treatment'] == 0) & (~df.index.isin(control_sample_hist.index))]\n",
    "all_treatment = df.loc[(df['treatment'] == 1) & (~df.index.isin(treatment_sample_hist.index))]"
   ]
  },
  {
   "cell_type": "code",
   "execution_count": 73,
   "metadata": {},
   "outputs": [
    {
     "data": {
      "application/json": {
       "ascii": false,
       "bar_format": null,
       "colour": null,
       "elapsed": 0.013765096664428711,
       "initial": 0,
       "n": 0,
       "ncols": null,
       "nrows": 24,
       "postfix": null,
       "prefix": "",
       "rate": null,
       "total": 10,
       "unit": "it",
       "unit_divisor": 1000,
       "unit_scale": false
      },
      "application/vnd.jupyter.widget-view+json": {
       "model_id": "f1ab16e952304a36b2e288b9aabc85bb",
       "version_major": 2,
       "version_minor": 0
      },
      "text/plain": [
       "  0%|          | 0/10 [00:00<?, ?it/s]"
      ]
     },
     "metadata": {},
     "output_type": "display_data"
    },
    {
     "data": {
      "application/json": {
       "ascii": false,
       "bar_format": null,
       "colour": null,
       "elapsed": 0.015185117721557617,
       "initial": 0,
       "n": 0,
       "ncols": null,
       "nrows": 24,
       "postfix": null,
       "prefix": "",
       "rate": null,
       "total": 10,
       "unit": "it",
       "unit_divisor": 1000,
       "unit_scale": false
      },
      "application/vnd.jupyter.widget-view+json": {
       "model_id": "87b3c484cba341bc9902d437abb7306a",
       "version_major": 2,
       "version_minor": 0
      },
      "text/plain": [
       "  0%|          | 0/10 [00:00<?, ?it/s]"
      ]
     },
     "metadata": {},
     "output_type": "display_data"
    }
   ],
   "source": [
    "# ## Код ниже в этой секции можно не запускать, а скачать сохраненную подвыборку из папки saved_variables\n",
    "n_splits = 10\n",
    "#Большие размеры выборок для теста и контроля\n",
    "control_indexes_big = []\n",
    "treatment_indexes_big = []\n",
    "for i in range(n_splits):\n",
    "    control_indexes_big.append(pd.read_pickle(f\"saved_variables/control_data_split_35e-5_{i}.pkl\")) \n",
    "    treatment_indexes_big.append(pd.read_pickle(f\"saved_variables/treatment_data_split_35e-5_{i}.pkl\"))\n",
    "\n",
    "#Маленькие размеры выборок для теста и контроля\n",
    "control_indexes_small = []\n",
    "treatment_indexes_small = []\n",
    "for i in range(n_splits):\n",
    "    control_indexes_small.append(pd.read_pickle(f\"saved_variables/control_data_split_2e-4_{i}.pkl\"))\n",
    "    treatment_indexes_small.append(pd.read_pickle(f\"saved_variables/treatment_data_split_2e-4_{i}.pkl\")) \n",
    "\n",
    "all_in_slit_control = []\n",
    "all_in_slit_treatment = []\n",
    "\n",
    "for i in tqdm(range(0, len(control_indexes_small))):\n",
    "    all_in_slit_control.extend(control_indexes_small[i].index)\n",
    "    all_in_slit_treatment.extend(treatment_indexes_small[i].index)\n",
    "    \n",
    "for i in tqdm(range(0, len(control_indexes_big))):\n",
    "    all_in_slit_control.extend(control_indexes_big[i].index)\n",
    "    all_in_slit_treatment.extend(treatment_indexes_big[i].index)"
   ]
  },
  {
   "cell_type": "code",
   "execution_count": 74,
   "metadata": {},
   "outputs": [],
   "source": [
    "#size_control = 0.00035\n",
    "#n_splits = 10\n",
    "\n",
    "#all_control.shape[0] * size_control"
   ]
  },
  {
   "cell_type": "code",
   "execution_count": 75,
   "metadata": {},
   "outputs": [],
   "source": [
    "#size_control = 0.00035\n",
    "#scale = all_treatment.shape[0] / all_control.shape[0]\n",
    "#size_treatment = int(scale * size_control * all_control.shape[0]) # scale * control_size = scale * 0.002 * all_control.shape[0]\n",
    "\n",
    "#msss_control = MultilabelStratifiedShuffleSplit(n_splits=10, test_size=size_control, random_state=3)\n",
    "#msss_treatment = MultilabelStratifiedShuffleSplit(n_splits=10, test_size=size_treatment, random_state=3)"
   ]
  },
  {
   "cell_type": "code",
   "execution_count": 76,
   "metadata": {},
   "outputs": [],
   "source": [
    "#control_generator = msss_control.split(all_control.values, all_control.loc[:, columns].values)\n",
    "#treatment_generator = msss_treatment.split(all_treatment.values, all_treatment.loc[:, columns].values)"
   ]
  },
  {
   "cell_type": "code",
   "execution_count": 77,
   "metadata": {},
   "outputs": [],
   "source": [
    "#%%time\n",
    "\n",
    "#control_indexes = list(control_generator)\n",
    "#treatment_indexes = list(treatment_generator)"
   ]
  },
  {
   "cell_type": "code",
   "execution_count": 78,
   "metadata": {},
   "outputs": [],
   "source": [
    "#data_control = []\n",
    "#data_treatment = []\n",
    "\n",
    "#for i in tqdm(range(0, len(control_indexes))):\n",
    "#    data_control.append(all_control.iloc[control_indexes[i][1]])\n",
    "#    data_treatment.append(all_treatment.iloc[treatment_indexes[i][1]])"
   ]
  },
  {
   "cell_type": "markdown",
   "metadata": {},
   "source": [
    "# Методы снижения дисперсии при помощи контрольных переменных"
   ]
  },
  {
   "cell_type": "markdown",
   "metadata": {},
   "source": [
    "## Метод CUPED из раздела 3.1 отчета о НИР"
   ]
  },
  {
   "cell_type": "markdown",
   "metadata": {},
   "source": [
    "A. Deng, Y. Xu, R. Kohavi, T. Walker. \"Improving the sensitivity of online controlled experiments by utilizing pre-experiment data\""
   ]
  },
  {
   "cell_type": "code",
   "execution_count": 79,
   "metadata": {},
   "outputs": [],
   "source": [
    "def modify_with_cuped(control, experimental, control_hist, experimental_hist, columns, pipeline=False, encoder=\"OHE\", verbose=False):\n",
    "    \"\"\"\n",
    "    Применение метода CUPED к контрольной и тестовой выборкам.\n",
    "        \n",
    "\n",
    "    Параметры:\n",
    "        control - DataFrame - объекты, относящиеся к контрольной группе\n",
    "        experimental - DataFrame - объекты, относящиеся к контрольной группе\n",
    "        control_hist - DataFrame - объекты, относящиеся к историческим данным\n",
    "        experimental_hist - DataFrame - объекты, относящиеся к историческим данным\n",
    "        columns - list[str] - имена признаков, используемые в качестве контрольных переменных\n",
    "        pipeline - bool - индикатор дополнительного преобразования признаков\n",
    "        encoder - str - какой энкодер использовать, если pipeline=True\n",
    "        verbose - bool - печатать ли впомогательную информацию \n",
    "    Выход:\n",
    "        p-value - float - значение p-value до и после применения CUPED\n",
    "    \"\"\"\n",
    "    if verbose:\n",
    "        print(f\"Control size: {control.shape[0]}, Experimental size: {experimental.shape[0]}\")\n",
    "    #для обучения контрольной переменной используется предыстория для контрольной и экспериментальной групп\n",
    "    X = pd.concat((control_hist, experimental_hist), axis=0).sample(frac=1)\n",
    "    #выделим целевую переменную\n",
    "    Y = X['visit']\n",
    "    #выделим значимые признаки\n",
    "    X = X[columns]\n",
    "    \n",
    "    categorical_columns = list(set(cat_features).intersection(set(columns)))\n",
    "    numerical_columns = list(set(noncat_features).intersection(set(columns)))\n",
    "\n",
    "\n",
    "    # Применение пайплайна обработки категориальных признаков (если pipeline=True) и обучение модели\n",
    "    \n",
    "    if pipeline:\n",
    "        #центрируем числовые признаки\n",
    "        means = np.mean(X[numerical_columns])\n",
    "        X[numerical_columns] = X[numerical_columns] - means\n",
    "        #one-hot-encoding для категориальных признаков (по умолчанию)\n",
    "        if encoder == 'OHE':\n",
    "            categorical_encoder = OneHotEncoder(\n",
    "            handle_unknown=\"ignore\"\n",
    "            )\n",
    "        else:  \n",
    "            categorical_encoder = OrdinalEncoder(\n",
    "            handle_unknown=\"use_encoded_value\", unknown_value=-1\n",
    "            )\n",
    "            \n",
    "        numerical_pipe = SimpleImputer(strategy=\"mean\")\n",
    "        #применить заданную предобработку к \n",
    "        preprocessing = ColumnTransformer(\n",
    "            [\n",
    "                (\"cat\", categorical_encoder, categorical_columns),\n",
    "                (\"num\", numerical_pipe, numerical_columns),\n",
    "            ],\n",
    "            #раскомментировать строчку ниже в более новых версиях sklearn\n",
    "            #verbose_feature_names_out=False,\n",
    "        )\n",
    "        #общий пайплайн из предобработки и линейной регрессии\n",
    "        reg = Pipeline(\n",
    "            [\n",
    "                (\"preprocess\", preprocessing),\n",
    "                (\"regressor\", linear_model.LinearRegression()),\n",
    "            ]\n",
    "        )\n",
    "        #фит на данных\n",
    "        reg.fit(X, Y)\n",
    "        #центрируем признаки в контрольной и тестовых группах на исторические средние\n",
    "        c = control[columns]\n",
    "        e = experimental[columns]\n",
    "        c[numerical_columns] = c[numerical_columns] - means\n",
    "        e[numerical_columns] = e[numerical_columns] - means\n",
    "    else:\n",
    "        #просто центрируем все признаки и обучаем линейную регрессию\n",
    "        means = np.mean(X)\n",
    "        X = X - means\n",
    "\n",
    "        reg = Pipeline(\n",
    "            [\n",
    "                (\"regressor\", linear_model.LinearRegression()),\n",
    "            ]\n",
    "        )\n",
    "        reg.fit(X, Y)\n",
    "        #центрируем признаки в контрольной и тестовых группах на исторические средние\n",
    "        c = control[columns] - means\n",
    "        e = experimental[columns] - means\n",
    "\n",
    "    y_c = control['visit']\n",
    "    y_e = experimental['visit']\n",
    "    # Изменение целевой переменной\n",
    "    control_cuped = y_c - reg.predict(c) + reg.predict(c).mean()\n",
    "    experimental_cuped = y_e - reg.predict(e) + reg.predict(e).mean()\n",
    "    \n",
    "    if verbose:\n",
    "        print(f\"control var new: {np.var(control_cuped)}, var old: {np.var(y_c)}\")\n",
    "        print(f\"exper var new: {np.var(experimental_cuped)}, var old: {np.var(y_e)}\")\n",
    "\n",
    "        print(f\"Mean diff\\nold: {y_c.mean() - y_e.mean()}, new: {control_cuped.mean() - experimental_cuped.mean()}\\n\")\n",
    "    #p-значения для (нерандомизированного) t-теста до и после применения CUPED\n",
    "    p_before = ttest(y_c, y_e)\n",
    "    p_after = ttest(control_cuped, experimental_cuped)\n",
    "    return p_before, p_after"
   ]
  },
  {
   "cell_type": "markdown",
   "metadata": {},
   "source": [
    "## Метод CUPAC из раздела 3.2 отчета о НИР"
   ]
  },
  {
   "cell_type": "markdown",
   "metadata": {},
   "source": [
    "A. Poyarkov, A. Drutsa, A. Khalyavin, G. Gusev, P. Serdyukov. \"Boosted decision tree regression adjustment for variance reduction in online controlled experiments.\""
   ]
  },
  {
   "cell_type": "code",
   "execution_count": 80,
   "metadata": {},
   "outputs": [],
   "source": [
    "def modify_with_cupac(control, experimental, control_hist, experimental_hist, columns, pipeline=False, encoder='OHE', verbose=False):\n",
    "    \"\"\"\n",
    "    Применение метода CUPAC к контрольной и тестовой выборкам\n",
    "\n",
    "    Параметры:\n",
    "        control - DataFrame - объекты, относящиеся к контрольной группе\n",
    "        experimental - DataFrame - объекты, относящиеся к контрольной группе\n",
    "        control_hist - DataFrame - объекты, относящиеся к историческим данным\n",
    "        experimental_hist - DataFrame - объекты, относящиеся к историческим данным\n",
    "        columns - list[str] - имена признаков, используемые в качестве контрольных переменных\n",
    "        pipeline - bool - индикатор дополнительного преобразования признаков\n",
    "        encoder - str - какой энкодер использовать, если pipeline=True\n",
    "        verbose - bool - печатать ли впомогательную информацию \n",
    "    Выход:\n",
    "        p-value - float - значение p-value до и после применения CUPAC\n",
    "    \"\"\"\n",
    "    if verbose:\n",
    "        print(f\"Control size: {control.shape[0]}, Experimental size: {experimental.shape[0]}\")\n",
    "\n",
    "    X = pd.concat((control_hist, experimental_hist), axis=0).sample(frac=1)\n",
    "\n",
    "\n",
    "    Y = X['visit']\n",
    "    X = X[columns]\n",
    "    \n",
    "    categorical_columns = list(set(cat_features).intersection(set(columns)))\n",
    "    numerical_columns = list(set(noncat_features).intersection(set(columns)))\n",
    "    \n",
    "    # Применение пайплайна обработки категориальных признаков (если pipeline=True) и обучение модели\n",
    "    if pipeline:\n",
    "        \n",
    "        means = np.mean(X[numerical_columns])\n",
    "        X[numerical_columns] = X[numerical_columns] - means\n",
    "        \n",
    "        if encoder == 'OHE':\n",
    "            categorical_encoder = OneHotEncoder(\n",
    "            handle_unknown=\"ignore\"\n",
    "            )\n",
    "        else:  \n",
    "            categorical_encoder = OrdinalEncoder(\n",
    "            handle_unknown=\"use_encoded_value\", unknown_value=-1\n",
    "            )\n",
    "            \n",
    "        numerical_pipe = SimpleImputer(strategy=\"mean\")\n",
    "\n",
    "        preprocessing = ColumnTransformer(\n",
    "            [\n",
    "                (\"cat\", categorical_encoder, categorical_columns),\n",
    "                (\"num\", numerical_pipe, numerical_columns),\n",
    "            ],\n",
    "            #раскомментировать строчку ниже в более новых версиях sklearn\n",
    "            #verbose_feature_names_out=False,\n",
    "        )\n",
    "\n",
    "        reg = Pipeline(\n",
    "            [\n",
    "                (\"preprocess\", preprocessing),\n",
    "                (\"regressor\", GradientBoostingRegressor(n_estimators=200, learning_rate=0.01, min_samples_split=2, min_samples_leaf=1, max_depth=3, random_state=2)),\n",
    "            ]\n",
    "        )\n",
    "        reg.fit(X, Y)\n",
    "        \n",
    "        c = control[columns]\n",
    "        e = experimental[columns]\n",
    "        c[numerical_columns] = c[numerical_columns] - means\n",
    "        e[numerical_columns] = e[numerical_columns] - means\n",
    "    else:\n",
    "        means = np.mean(X)\n",
    "        X = X - means\n",
    "        \n",
    "        reg = Pipeline(\n",
    "            [\n",
    "                (\"regressor\", GradientBoostingRegressor(n_estimators=200, learning_rate=0.01, min_samples_split=2, min_samples_leaf=1, max_depth=3, random_state=2)),\n",
    "            ]\n",
    "        )\n",
    "        reg.fit(X, Y)\n",
    "    \n",
    "        c = control[columns] - means\n",
    "        e = experimental[columns] - means\n",
    "    \n",
    "\n",
    "\n",
    "    y_c = control['visit']\n",
    "    y_e = experimental['visit']\n",
    "\n",
    "    \n",
    "    # Изменение целевой переменной\n",
    "    control_cuped = y_c - reg.predict(c)  + reg.predict(c).mean()\n",
    "    experimental_cuped = y_e - reg.predict(e) + reg.predict(e).mean()\n",
    "\n",
    "    if verbose:\n",
    "        print(f\"control var new: {np.var(control_cuped)}, var old: {np.var(y_c)}\")\n",
    "        print(f\"exper var new: {np.var(experimental_cuped)}, var old: {np.var(y_e)}\")\n",
    "\n",
    "        print(f\"Mean diff\\nold: {y_c.mean() - y_e.mean()}, new: {control_cuped.mean() - experimental_cuped.mean()}\\n\")\n",
    "    \n",
    "    \n",
    "    p_before = ttest(y_c, y_e)\n",
    "    \n",
    "    p_after = ttest(control_cuped, experimental_cuped)\n",
    "    return p_before, p_after"
   ]
  },
  {
   "cell_type": "markdown",
   "metadata": {},
   "source": [
    "## Метод ML-rate из раздела 3.3 отчета о НИР"
   ]
  },
  {
   "cell_type": "markdown",
   "metadata": {},
   "source": [
    "Y. Guo, D. Coey, M. Konutgan, W. Li, C. Schoener, M. Goldman. \"Machine learning for variance reduction in online experiments.\""
   ]
  },
  {
   "cell_type": "code",
   "execution_count": 81,
   "metadata": {},
   "outputs": [],
   "source": [
    "def modify_with_ml_rate(control, experimental, control_hist, experimental_hist, columns, verbose=False, aa=False):\n",
    "    \"\"\"\n",
    "    Применение метода Ml-rate к контрольной и тестовой выборкам\n",
    "\n",
    "    Параметры:\n",
    "        control - DataFrame - объекты, относящиеся к контрольной группе\n",
    "        experimental - DataFrame - объекты, относящиеся к контрольной группе\n",
    "        control_hist - DataFrame - объекты, относящиеся к историческим данным\n",
    "        experimental_hist - DataFrame - объекты, относящиеся к историческим данным\n",
    "        columns - list[str] - имена признаков, используемые в качестве контрольных переменных\n",
    "        verbose - bool - печатать ли впомогательную информацию \n",
    "        aa - bool - проводится ли AA тест\n",
    "    Выход:\n",
    "        p-value - float - значение p-value до и после применения Ml-rate\n",
    "    \"\"\"\n",
    "    if verbose:\n",
    "        print(f\"Control size: {control.shape[0]}, Experimental size: {experimental.shape[0]}\")\n",
    "    \n",
    "    if aa:\n",
    "        experimental['treatment'] = 1\n",
    "        \n",
    "    Z = pd.concat((control, experimental, control_hist, experimental_hist), axis=0).sample(frac=1)\n",
    "    means = np.mean(Z[columns])\n",
    "\n",
    "    Y = Z['visit']\n",
    "    X = Z[columns]\n",
    "    X = X - means.values\n",
    "    X = pd.concat((X, Z['treatment']), axis=1)\n",
    "    \n",
    "    # Обучение модели линейной регрессии\n",
    "    table_summary, model = get_coef_significance(sm.tools.tools.add_constant(X), Y)\n",
    "    p_after = table_summary.iloc[-1, :]['P>|t|']\n",
    "    \n",
    "    return p_after"
   ]
  },
  {
   "cell_type": "markdown",
   "metadata": {},
   "source": [
    "# Отбор признаков "
   ]
  },
  {
   "cell_type": "markdown",
   "metadata": {},
   "source": [
    "Для метода CUPED были выбраны наиболее значимые признаки из датасета при обучении линейной регрессии.\n",
    "\n",
    "Для метода CUPAC - с помощью Permutation Feature Importance. Данный подход основан на том, что при изменении значений конкретного признака (путем случайной перестановки или перемешивания) и оценке влияния этого изменения на метрику качества модели можно определить, насколько важен этот признак для модели."
   ]
  },
  {
   "cell_type": "code",
   "execution_count": 82,
   "metadata": {},
   "outputs": [],
   "source": [
    "cols_regr_ordinal = ['f6', 'f8', 'f9', 'f0', 'f2']\n",
    "cols_boosting = ['f2', 'f0', 'f9', 'f10', 'f4', 'f7', 'f8']"
   ]
  },
  {
   "cell_type": "markdown",
   "metadata": {},
   "source": [
    "# Эксперимент с размером исторических данных из раздела 3.4.2 отчета о НИР"
   ]
  },
  {
   "cell_type": "code",
   "execution_count": 83,
   "metadata": {},
   "outputs": [],
   "source": [
    "def draw_graphics(before=None, after_cup=None, after_gb=None, p_after_reg=None, title='', alpha=0.05):\n",
    "    \"\"\"\n",
    "    Функция для отрисовки результатов работы методов\n",
    "\n",
    "    Параметры:\n",
    "        before - array - значения p-value для метода с использование изначальной целевой переменной\n",
    "        after_cup - array - значения p-value для метода с использование целевой переменной, модифицированной методов CUPED\n",
    "        after_gb - array - значения p-value для метода с использование целевой переменной, модифицированной методов CUPAC\n",
    "        after_reg - array - значения p-value для метода с использование целевой переменной, модифицированной методов Ml-rate\n",
    "        title - str - дополнительная над графиками\n",
    "        alpha - float - уровень значимости\n",
    "    \"\"\"\n",
    "    if len(title) != 0:\n",
    "        print('\\n', title, '\\n')\n",
    "        \n",
    "    f, (ax1, ax2) = plt.subplots(1, 2, figsize=(18, 5))\n",
    "\n",
    "    ax1.plot(shapes, [alpha] * len(shapes), color=\"red\", linestyle='dashed', label='alpha')\n",
    "    if not (before is None):\n",
    "        ax1.plot(shapes, before, marker='o', ms=5, label='Default')\n",
    "        ax2.plot(shapes, np.log(before), marker='o', ms=5, label='Default')\n",
    "    if not (after_cup is None):\n",
    "        ax1.plot(shapes, after_cup, marker='o', ms=5, label='CUPED')\n",
    "        ax2.plot(shapes, np.log(after_cup), marker='o', ms=5, label='CUPED')\n",
    "    if not (after_gb is None):\n",
    "        ax1.plot(shapes, after_gb, marker='o', ms=5, label='CUPAC')\n",
    "        ax2.plot(shapes, np.log(after_gb), marker='o', ms=5, label='CUPAC')\n",
    "    if not (p_after_reg is None):\n",
    "        ax1.plot(shapes, p_after_reg, marker='o', ms=5, label='Ml-rate')\n",
    "        ax2.plot(shapes, np.log(p_after_reg), marker='o', ms=5, label='Ml-rate')\n",
    "    ax1.set_xlabel('Размер контрольной выборки', fontsize=15)\n",
    "    ax1.set_ylabel('p-value', fontsize=15)\n",
    "#     ax1.set_title(f'Поведение p-value в зависимости от размера выборки', fontsize=15)\n",
    "\n",
    "    ax2.plot(shapes, [np.log(alpha)] * len(shapes), color=\"red\", linestyle='dashed', label='alpha')\n",
    "    ax2.set_xlabel('Размер контрольной выборки', fontsize=15)\n",
    "    ax2.set_ylabel('log p-value', fontsize=15)\n",
    "#     ax2.set_title(f'Поведение log p-value в зависимости от размера выборки',fontsize=15)\n",
    "\n",
    "    ax1.legend(fontsize='x-large')\n",
    "    ax2.legend(fontsize='x-large')"
   ]
  },
  {
   "cell_type": "markdown",
   "metadata": {},
   "source": [
    "## Очень маленький исторический контекст (см. раздел отчета 3.4.2 для более подробного описания постановки задач)"
   ]
  },
  {
   "cell_type": "code",
   "execution_count": 84,
   "metadata": {
    "scrolled": true
   },
   "outputs": [
    {
     "data": {
      "application/json": {
       "ascii": false,
       "bar_format": null,
       "colour": null,
       "elapsed": 0.008654117584228516,
       "initial": 0,
       "n": 0,
       "ncols": null,
       "nrows": 24,
       "postfix": null,
       "prefix": "",
       "rate": null,
       "total": 10,
       "unit": "it",
       "unit_divisor": 1000,
       "unit_scale": false
      },
      "application/vnd.jupyter.widget-view+json": {
       "model_id": "00040db4e7284dcdbb9b19ad62a88453",
       "version_major": 2,
       "version_minor": 0
      },
      "text/plain": [
       "  0%|          | 0/10 [00:00<?, ?it/s]"
      ]
     },
     "metadata": {},
     "output_type": "display_data"
    }
   ],
   "source": [
    "indexes_control = np.array([])\n",
    "indexes_treatment = np.array([])\n",
    "cols1 = cols_regr_ordinal\n",
    "cols2 = cols_boosting\n",
    "cols3 = ['f4', 'f11', 'f2']\n",
    "\n",
    "shapes = []\n",
    "\n",
    "before = []\n",
    "after_cup = []\n",
    "after_gb = []\n",
    "after_reg = []\n",
    "\n",
    "all_test_control = pd.DataFrame()\n",
    "all_test_treatment = pd.DataFrame()\n",
    "\n",
    "i = 0\n",
    "for i in tqdm(range(0, len(control_indexes_small))):\n",
    "    test_control = control_indexes_small[i]\n",
    "    test_treatment = treatment_indexes_small[i]\n",
    "    \n",
    "    test_control = test_control[~np.isin(test_control.index, indexes_control)]\n",
    "    test_treatment = test_treatment[~np.isin(test_treatment.index, indexes_treatment)]\n",
    "\n",
    "    # Добавление элементов в выборку с прошлого шага\n",
    "    all_test_control = pd.concat((all_test_control, test_control), axis=0)\n",
    "    all_test_treatment = pd.concat((all_test_treatment, test_treatment), axis=0)\n",
    "    shapes.append(all_test_control.shape[0])\n",
    "    \n",
    "    indexes_control = np.append(indexes_control,  test_control.index)\n",
    "    indexes_treatment = np.append(indexes_treatment,  test_treatment.index)\n",
    "    \n",
    "    # Выбор исторического контекста\n",
    "    hist_c = control_sample_hist.sample(100, random_state=1)\n",
    "    hist_e = treatment_sample_hist.sample(100, random_state=1)\n",
    "    \n",
    "    # Запуск методов\n",
    "    p_bef, p_aft_cup = modify_with_cuped(all_test_control, all_test_treatment, hist_c, hist_e, cols1, True, encoder=\"Ord\", verbose=False)\n",
    "    p_bef, p_aft_gb = modify_with_cupac(all_test_control, all_test_treatment, hist_c, hist_e, cols2, False, verbose=False)\n",
    "    p_aft_reg = modify_with_ml_rate(all_test_control, all_test_treatment, hist_c, hist_e, cols3)\n",
    "    \n",
    "    \n",
    "    before.append(p_bef)\n",
    "    after_cup.append(p_aft_cup)\n",
    "    after_gb.append(p_aft_gb)\n",
    "    after_reg.append(p_aft_reg)"
   ]
  },
  {
   "cell_type": "code",
   "execution_count": 85,
   "metadata": {},
   "outputs": [
    {
     "name": "stdout",
     "output_type": "stream",
     "text": [
      "\n",
      " Маленькие фолды: 420\n",
      "Маленькая история: 200 \n",
      "\n"
     ]
    },
    {
     "data": {
      "image/png": "[encoded data removed]",
      "text/plain": [
       "<Figure size 1800x500 with 2 Axes>"
      ]
     },
     "metadata": {},
     "output_type": "display_data"
    }
   ],
   "source": [
    "draw_graphics(before, after_cup, after_gb, after_reg, title=f'Маленькие фолды: {control_indexes_small[0].shape[0]}\\nМаленькая история: {hist_c.shape[0] + hist_e.shape[0]}')\n",
    "plt.show()"
   ]
  },
  {
   "cell_type": "markdown",
   "metadata": {},
   "source": [
    "## Маленький исторический контекст (см. раздел отчета 3.4.2 для более подробного описания постановки задач)"
   ]
  },
  {
   "cell_type": "code",
   "execution_count": null,
   "metadata": {
    "scrolled": true
   },
   "outputs": [],
   "source": [
    "indexes_control = np.array([])\n",
    "indexes_treatment = np.array([])\n",
    "cols1 = cols_regr_ordinal\n",
    "cols2 = cols_boosting\n",
    "cols3 = ['f4', 'f11', 'f2']\n",
    "\n",
    "shapes = []\n",
    "\n",
    "before = []\n",
    "after_cup = []\n",
    "after_gb = []\n",
    "after_reg = []\n",
    "\n",
    "all_test_control = pd.DataFrame()\n",
    "all_test_treatment = pd.DataFrame()\n",
    "\n",
    "i = 0\n",
    "for i in tqdm(range(0, len(control_indexes_small))):\n",
    "    test_control = control_indexes_small[i]\n",
    "    test_treatment = treatment_indexes_small[i]\n",
    "    \n",
    "    \n",
    "    test_control = test_control[~np.isin(test_control.index, indexes_control)]\n",
    "    test_treatment = test_treatment[~np.isin(test_treatment.index, indexes_treatment)]\n",
    "    \n",
    "    # Добавление элементов в выборку с прошлого шага\n",
    "    all_test_control = pd.concat((all_test_control, test_control), axis=0)\n",
    "    all_test_treatment = pd.concat((all_test_treatment, test_treatment), axis=0)\n",
    "    shapes.append(all_test_control.shape[0])\n",
    "    \n",
    "    indexes_control = np.append(indexes_control,  test_control.index)\n",
    "    indexes_treatment = np.append(indexes_treatment,  test_treatment.index)\n",
    "    \n",
    "    # Выбор исторического контекста\n",
    "    hist_c = control_sample_hist.sample(450, random_state=1)\n",
    "    hist_e = treatment_sample_hist.sample(int(scale * 450), random_state=1)\n",
    "    \n",
    "    # Запуск методов\n",
    "    p_bef, p_aft_cup = modify_with_cuped(all_test_control, all_test_treatment, hist_c, hist_e, cols1, True, encoder=\"Ord\", verbose=False)\n",
    "    p_bef, p_aft_gb = modify_with_cupac(all_test_control, all_test_treatment, hist_c, hist_e, cols2, False, verbose=False)\n",
    "    p_aft_reg = modify_with_ml_rate(all_test_control, all_test_treatment, hist_c, hist_e, cols3)\n",
    "\n",
    "    \n",
    "    before.append(p_bef)\n",
    "    after_cup.append(p_aft_cup)\n",
    "    after_gb.append(p_aft_gb)\n",
    "    after_reg.append(p_aft_reg)"
   ]
  },
  {
   "cell_type": "code",
   "execution_count": null,
   "metadata": {},
   "outputs": [],
   "source": [
    "draw_graphics(before, after_cup, after_gb, after_reg, title=f'Маленькие фолды: {control_indexes_small[0].shape[0]}\\nМаленькая история: {hist_c.shape[0] + hist_e.shape[0]}')\n",
    "plt.show()"
   ]
  },
  {
   "cell_type": "markdown",
   "metadata": {},
   "source": [
    "## Большой исторический контекст (см. раздел отчета 3.4.2 для более подробного описания постановки задач)"
   ]
  },
  {
   "cell_type": "code",
   "execution_count": null,
   "metadata": {
    "scrolled": true
   },
   "outputs": [],
   "source": [
    "indexes_control = np.array([])\n",
    "indexes_treatment = np.array([])\n",
    "cols1 = cols_regr_ordinal\n",
    "cols2 = cols_boosting\n",
    "cols3 = ['f4', 'f11', 'f2']\n",
    "\n",
    "shapes = []\n",
    "\n",
    "before = []\n",
    "after_cup = []\n",
    "after_gb = []\n",
    "after_reg = []\n",
    "\n",
    "all_test_control = pd.DataFrame()\n",
    "all_test_treatment = pd.DataFrame()\n",
    "\n",
    "i = 0\n",
    "for i in tqdm(range(0, len(control_indexes_small))):\n",
    "    test_control = control_indexes_small[i]\n",
    "    test_treatment = treatment_indexes_small[i]\n",
    "    \n",
    "    test_control = test_control[~np.isin(test_control.index, indexes_control)]\n",
    "    test_treatment = test_treatment[~np.isin(test_treatment.index, indexes_treatment)]\n",
    "    \n",
    "    # Добавление элементов в выборку с прошлого шага\n",
    "    all_test_control = pd.concat((all_test_control, test_control), axis=0)\n",
    "    all_test_treatment = pd.concat((all_test_treatment, test_treatment), axis=0)\n",
    "    shapes.append(all_test_control.shape[0])\n",
    "    \n",
    "    indexes_control = np.append(indexes_control,  test_control.index)\n",
    "    indexes_treatment = np.append(indexes_treatment,  test_treatment.index)\n",
    "    \n",
    "    # Выбор исторического контекста\n",
    "    hist_c = control_sample_hist\n",
    "    hist_e = treatment_sample_hist\n",
    "    \n",
    "    # Запуск методов\n",
    "    p_bef, p_aft_cup = modify_with_cuped(all_test_control, all_test_treatment, hist_c, hist_e, cols1, True, encoder=\"Ord\", verbose=False)\n",
    "    p_bef, p_aft_gb = modify_with_cupac(all_test_control, all_test_treatment, hist_c, hist_e, cols2, False, verbose=False)\n",
    "    p_aft_reg = modify_with_ml_rate(all_test_control, all_test_treatment, hist_c, hist_e, cols3)\n",
    "    \n",
    "    \n",
    "    before.append(p_bef)\n",
    "    after_cup.append(p_aft_cup)\n",
    "    after_gb.append(p_aft_gb)\n",
    "    after_reg.append(p_aft_reg)"
   ]
  },
  {
   "cell_type": "code",
   "execution_count": null,
   "metadata": {},
   "outputs": [],
   "source": [
    "draw_graphics(before, after_cup, after_gb, after_reg, title=f'Маленькие фолды: {control_indexes_small[0].shape[0]}\\nМаленькая история: {hist_c.shape[0] + hist_e.shape[0]}')\n",
    "plt.show()"
   ]
  },
  {
   "cell_type": "markdown",
   "metadata": {},
   "source": [
    "# Эксперимент по сравнению методов, описанный в разделе 3.4.1 отчета о НИР"
   ]
  },
  {
   "cell_type": "code",
   "execution_count": null,
   "metadata": {},
   "outputs": [],
   "source": [
    "sizes = [400, 800, 1000, 1200, 1500, 2000]"
   ]
  },
  {
   "cell_type": "code",
   "execution_count": null,
   "metadata": {},
   "outputs": [],
   "source": [
    "columns = ['f0', 'f2', 'f8', 'f9']"
   ]
  },
  {
   "cell_type": "markdown",
   "metadata": {},
   "source": [
    "Для данного эксперимента было сгенерированно по 10 стратифицированных подвыборок с размерами контрольной группы `400, 800, 1000, 1200, 1500, 2000`. На каждой паре подвыборки из тестовой и контрольной групп замерялось p-value до и после применения различных методов снижения дисперсии. По 10 запускам был оценен разброс значений. \n",
    "\n",
    "Генерация стратифицированных подвыборок проиводилась с помощью MultilabelStratifiedShuffleSplit"
   ]
  },
  {
   "cell_type": "code",
   "execution_count": null,
   "metadata": {},
   "outputs": [],
   "source": [
    "# all_control = df.loc[(df['treatment'] == 0) & (~df.index.isin(control_sample_hist.index))]\n",
    "# all_treatment = df.loc[(df['treatment'] == 1) & (~df.index.isin(treatment_sample_hist.index))]\n",
    "# scale = all_treatment.shape[0] / all_control.shape[0]\n",
    "\n",
    "#число повторений\n",
    "#n_repeats = 10\n",
    "\n",
    "# control_generators = []\n",
    "# treatment_generators = []\n",
    "\n",
    "# for size in tqdm(sizes):\n",
    "#     msss_control = MultilabelStratifiedShuffleSplit(n_splits=n_repeats, test_size=size, random_state=size + 5)\n",
    "#     msss_treatment = MultilabelStratifiedShuffleSplit(n_splits=n_repeats, test_size=int(size * scale), random_state=size + 5)\n",
    "    \n",
    "#     control_generator = msss_control.split(all_control.values, all_control.loc[:, columns].values)\n",
    "#     treatment_generator = msss_treatment.split(all_treatment.values, all_treatment.loc[:, columns].values)\n",
    "    \n",
    "#     control_indexes = list(control_generator)\n",
    "#     treatment_indexes = list(treatment_generator)\n",
    "    \n",
    "    \n",
    "#     data_control = []\n",
    "#     data_treatment = []\n",
    "\n",
    "#     for i in tqdm(range(0, len(control_indexes))):\n",
    "#         data_control.append(all_control.iloc[control_indexes[i][1]])\n",
    "#         data_treatment.append(all_treatment.iloc[treatment_indexes[i][1]])\n",
    "    \n",
    "#     print(control_indexes[0][1].shape)\n",
    "\n",
    "#     joblib.dump(data_control, f'control_data_split_{size}.joblib')\n",
    "#     joblib.dump(data_treatment, f'treatment_data_split_{size}.joblib')"
   ]
  },
  {
   "cell_type": "markdown",
   "metadata": {},
   "source": [
    "Генерация исторических данных. Из всего датасета удаляютсяя индексы объектов из тестовой и контрольной выборок одного размера, после чего из оставшихся объектов выбираются пользователи, составляющие исторический контекст."
   ]
  },
  {
   "cell_type": "code",
   "execution_count": null,
   "metadata": {
    "scrolled": true
   },
   "outputs": [],
   "source": [
    "# history_size = 1000\n",
    "# history_scale = scale\n",
    "\n",
    "# for size in tqdm(sizes):\n",
    "#     control_ind = joblib.load(f'control_data_split_{size}.joblib')\n",
    "#     treatment_ind = joblib.load(f'treatment_data_split_{size}.joblib')\n",
    "    \n",
    "#     all_in_slit_control = []\n",
    "#     all_in_slit_treatment = []\n",
    "    \n",
    "#     for i in range(0, len(control_ind)):\n",
    "#         all_in_slit_control.extend(control_ind[i].index)\n",
    "#         all_in_slit_treatment.extend(treatment_ind[i].index)\n",
    "        \n",
    "        \n",
    "#     all_control_for_hist = df.loc[(df['treatment'] == 0) & (~df.index.isin(all_in_slit_control))]\n",
    "#     all_treatment_for_hist = df.loc[(df['treatment'] == 1) & (~df.index.isin(all_in_slit_treatment))]\n",
    "     \n",
    "    \n",
    "#     msss_control = MultilabelStratifiedShuffleSplit(n_splits=10, test_size=history_size, random_state=size + 2)\n",
    "#     msss_treatment = MultilabelStratifiedShuffleSplit(n_splits=10, test_size=int(history_size * history_scale), random_state=size + 2)\n",
    "    \n",
    "#     control_generator = msss_control.split(all_control_for_hist.values, all_control_for_hist.loc[:, columns].values)\n",
    "#     treatment_generator = msss_treatment.split(all_treatment_for_hist.values, all_treatment_for_hist.loc[:, columns].values)\n",
    "    \n",
    "#     control_indexes = list(control_generator)\n",
    "#     treatment_indexes = list(treatment_generator)\n",
    "    \n",
    "#     print(control_indexes[0][1].shape)\n",
    "    \n",
    "#     hist_control_table = []\n",
    "#     hist_treatment_table = []\n",
    "    \n",
    "#     for i in range(0, len(control_indexes)):\n",
    "#         hist_control_table.append(all_control_for_hist.iloc[control_indexes[i][1]])\n",
    "#         hist_treatment_table.append(all_treatment_for_hist.iloc[treatment_indexes[i][1]])\n",
    "\n",
    "\n",
    "        \n",
    "        \n",
    "#     joblib.dump(hist_control_table, f'control_data_hist_{size}.joblib')\n",
    "#     joblib.dump(hist_treatment_table, f'treatment_data_hist_{size}.joblib')\n",
    "    "
   ]
  },
  {
   "cell_type": "code",
   "execution_count": null,
   "metadata": {},
   "outputs": [],
   "source": [
    "def run_test(sample_c, sample_t, history_c_ind, history_t_ind):\n",
    "    \"\"\"\n",
    "    Функция для запуска тестов\n",
    "\n",
    "    Параметры:\n",
    "        sample_c - list[DataFrame] - объекты контрольной группы\n",
    "        sample_t - list[DataFrame] - объекты тестовой группы\n",
    "        history_c_ind - list[DataFrame] - историческая выборка\n",
    "        history_t_ind - list[DataFrame] - историческая выборка\n",
    "        \n",
    "    Выход:\n",
    "        before - array - значения p-value без применения методов \n",
    "        after_cup - array - значения p-value после применения CUPED \n",
    "        after_gb - array - значения p-value после применения CUPAC  \n",
    "        after_reg - array - значения p-value после применения ML-rate  \n",
    "\n",
    "    \"\"\"\n",
    "    before = []\n",
    "    after_cup = []\n",
    "    after_gb = []\n",
    "    after_reg = []\n",
    "\n",
    "    cols1 = cols_regr_ordinal\n",
    "    cols2 = cols_boosting\n",
    "    cols3 = ['f4', 'f11', 'f2']\n",
    "    \n",
    "    \n",
    "    for i in tqdm(range(0, len(sample_c))):\n",
    "        test_control = sample_c[i]\n",
    "        test_treatment = sample_t[i]\n",
    "        \n",
    "        hist_control = history_c_ind[i]\n",
    "        hist_treatment = history_t_ind[i]\n",
    "        \n",
    "        \n",
    "        p_bef, p_after_cup = modify_with_cuped(test_control, test_treatment, hist_control, hist_treatment, cols1, True, encoder='Ord')\n",
    "        p_bef, p_after_gb = modify_with_cupac(test_control, test_treatment, hist_control, hist_treatment, cols2)\n",
    "        p_aft_reg = modify_with_ml_rate(test_control, test_treatment, hist_control, hist_treatment, cols3)\n",
    "\n",
    "        \n",
    "        before.append(p_bef)\n",
    "        after_cup.append(p_after_cup)\n",
    "        after_gb.append(p_after_gb)\n",
    "        after_reg.append(p_aft_reg)\n",
    "        \n",
    "    return np.array(before), np.array(after_cup), np.array(after_gb), np.array(after_reg)"
   ]
  },
  {
   "cell_type": "code",
   "execution_count": null,
   "metadata": {},
   "outputs": [],
   "source": [
    "#арзмеры генерируемых подвыборок\n",
    "sizes = [400, 800, 1000, 1200, 1500, 2000]\n",
    "#число генерируемых подвыборок\n",
    "n_repeats = 10\n",
    "\n",
    "pvals_b = []\n",
    "pvals_c = []\n",
    "pvals_gb = []\n",
    "pvals_reg = []\n",
    "\n",
    "# Загрузка сгенерированных данных в формате list[DataFrame] и запуск тестов\n",
    "for size in tqdm(sizes):\n",
    "    control_ind = []\n",
    "    treatment_ind = []\n",
    "    for i in range(n_repeats):\n",
    "        control_ind.append(pd.read_csv(f\"saved_variables/control_data_split_{size}_{i}.csv\"))\n",
    "        treatment_ind.append(pd.read_csv(f\"saved_variables/treatment_data_split_{size}_{i}.csv\"))\n",
    "\n",
    "    control_ind_hist = []\n",
    "    treatment_ind_hist = []\n",
    "    for i in range(n_repeats):\n",
    "        control_ind_hist.append(pd.read_csv(f\"saved_variables/control_data_hist_{size}_{i}.csv\"))\n",
    "        treatment_ind_hist.append(pd.read_csv(f\"saved_variables/treatment_data_hist_{size}_{i}.csv\"))\n",
    "    \n",
    "    b, c, gb, reg = run_test(control_ind, treatment_ind, control_ind_hist, treatment_ind_hist)\n",
    "    pvals_b.append(b)\n",
    "    pvals_c.append(c)\n",
    "    pvals_gb.append(gb)\n",
    "    pvals_reg.append(reg)\n"
   ]
  },
  {
   "cell_type": "code",
   "execution_count": null,
   "metadata": {},
   "outputs": [],
   "source": [
    "# Модификации для отрисовки графика\n",
    "\n",
    "pvals_c = pd.DataFrame(pvals_c)\n",
    "pvals_c = pvals_c.set_axis(sizes)\n",
    "\n",
    "pvals_gb = pd.DataFrame(pvals_gb)\n",
    "pvals_gb = pvals_gb.set_axis(sizes)\n",
    "\n",
    "pvals_b = pd.DataFrame(pvals_b)\n",
    "pvals_b = pvals_b.set_axis(sizes)\n",
    "\n",
    "pvals_reg = pd.DataFrame(pvals_reg)\n",
    "pvals_reg = pvals_reg.set_axis(sizes)"
   ]
  },
  {
   "cell_type": "code",
   "execution_count": null,
   "metadata": {},
   "outputs": [],
   "source": [
    "data_cuped = None\n",
    "for i in range(pvals_c.shape[1]):\n",
    "    data_cuped = pd.concat([data_cuped, pvals_c.iloc[:, i]])\n",
    "    \n",
    "data_grad_boost = None\n",
    "for i in range(pvals_gb.shape[1]):\n",
    "    data_grad_boost = pd.concat([data_grad_boost, pvals_gb.iloc[:, i]])\n",
    "    \n",
    "    \n",
    "data_before = None\n",
    "for i in range(pvals_b.shape[1]):\n",
    "    data_before = pd.concat([data_before, pvals_b.iloc[:, i]])\n",
    "\n",
    "data_reg = None\n",
    "for i in range(pvals_reg.shape[1]):\n",
    "    data_reg = pd.concat([data_reg, pvals_reg.iloc[:, i]])"
   ]
  },
  {
   "cell_type": "code",
   "execution_count": null,
   "metadata": {},
   "outputs": [],
   "source": [
    "f = plt.subplots(1, figsize=(10, 7))\n",
    "sns.lineplot(data=data_cuped, label='CUPED', marker=\"o\", markersize=7, color='#3399ff')\n",
    "sns.lineplot(data=data_grad_boost, label='CUPAC', marker=\"o\", markersize=7, color='#009900')\n",
    "sns.lineplot(data=data_before, label='Default', marker=\"o\", markersize=7, color='#ff9933')\n",
    "sns.lineplot(data=data_reg, label='Ml-rate', marker=\"o\", markersize=7, color='#ff66ff')\n",
    "plt.plot(sizes, [0.05] * len(sizes), color=\"#ff0000\", linestyle='dashed', label='alpha')\n",
    "# plt.title('Зависимость параметра p-value оцененного по 10 запускам от размера выборки')\n",
    "plt.xlabel('Размер контрольной выборки')\n",
    "plt.ylabel('p-value')\n",
    "\n",
    "plt.show()"
   ]
  },
  {
   "cell_type": "markdown",
   "metadata": {},
   "source": [
    "# A/A тест на данных Criteo из раздела 3.6 отчета о НИР."
   ]
  },
  {
   "cell_type": "markdown",
   "metadata": {},
   "source": [
    "В данной секции мы проверяем, что методы снижения дисперсии CUPED/CUPAC/ML-RATE не приводят к ложноположительным результатам T-теста. Для этого мы анализируем работу методов на выборках без статистически значимой разницы: проводим T-тест на двух контрольных подвыборках одинакового размера."
   ]
  },
  {
   "cell_type": "code",
   "execution_count": 54,
   "metadata": {},
   "outputs": [],
   "source": [
    "def run_test_AA(sample, history, n_pairs=45):\n",
    "    \"\"\"\n",
    "    Функция для запуск методов на всех парах одинакового размера из котнтрольной группы.        \n",
    "    \n",
    "    Параметры:\n",
    "        sample - list[DataFrame] - объекты контрольной группы\n",
    "        history - list[DataFrame] - историческая выборка\n",
    "        \n",
    "    Выход:\n",
    "        before - array - значения p-value без применения методов \n",
    "        after_cup - array - значения p-value после применения CUPED \n",
    "        after_gb - array - значения p-value после применения CUPAC  \n",
    "        after_reg - array - значения p-value после применения ML-rate  \n",
    "\n",
    "    \"\"\"\n",
    "    before = []\n",
    "    after_cup = []\n",
    "    after_gb = []\n",
    "    after_reg = []\n",
    "\n",
    "    cols1 = cols_regr_ordinal\n",
    "    cols2 = cols_boosting\n",
    "    cols3 = ['f4', 'f11', 'f2']\n",
    "    \n",
    "    indexes = list(range(0, len(sample)))\n",
    "\n",
    "    pairs = np.array(list((itertools.combinations(indexes, 2))))\n",
    "    chosen_indexes = np.random.choice(np.arange(0, len(pairs)), n_pairs, replace=False)\n",
    "    chosen_pairs = pairs[chosen_indexes]\n",
    "    \n",
    "    for pair in tqdm(chosen_pairs):\n",
    "        test_control = sample[pair[0]]\n",
    "        test_treatment = sample[pair[1]]\n",
    "        \n",
    "        hist_control = history[pair[0]]\n",
    "        hist_treatment = history[pair[1]]\n",
    "        \n",
    "        p_bef, p_after_cup = modify_with_cuped(test_control, test_treatment, hist_control, hist_treatment, cols1, True, encoder='Ord')\n",
    "        p_bef, p_after_gb = modify_with_cupac(test_control, test_treatment, hist_control, hist_treatment, cols2)\n",
    "        p_aft_reg = modify_with_ml_rate(test_control, test_treatment, hist_control, hist_treatment, cols3, aa=True)\n",
    "        \n",
    "        before.append(p_bef)\n",
    "        after_cup.append(p_after_cup)\n",
    "        after_gb.append(p_after_gb)\n",
    "        after_reg.append(p_aft_reg)\n",
    "        \n",
    "    return np.array(before), np.array(after_cup), np.array(after_gb), np.array(after_reg)"
   ]
  },
  {
   "cell_type": "code",
   "execution_count": 55,
   "metadata": {},
   "outputs": [
    {
     "data": {
      "application/json": {
       "ascii": false,
       "bar_format": null,
       "colour": null,
       "elapsed": 0.0053958892822265625,
       "initial": 0,
       "n": 0,
       "ncols": null,
       "nrows": 24,
       "postfix": null,
       "prefix": "",
       "rate": null,
       "total": 6,
       "unit": "it",
       "unit_divisor": 1000,
       "unit_scale": false
      },
      "application/vnd.jupyter.widget-view+json": {
       "model_id": "0ef285ae413541dd9ee90bd0a39dcb84",
       "version_major": 2,
       "version_minor": 0
      },
      "text/plain": [
       "  0%|          | 0/6 [00:00<?, ?it/s]"
      ]
     },
     "metadata": {},
     "output_type": "display_data"
    },
    {
     "data": {
      "application/json": {
       "ascii": false,
       "bar_format": null,
       "colour": null,
       "elapsed": 0.005821943283081055,
       "initial": 0,
       "n": 0,
       "ncols": null,
       "nrows": 24,
       "postfix": null,
       "prefix": "",
       "rate": null,
       "total": 45,
       "unit": "it",
       "unit_divisor": 1000,
       "unit_scale": false
      },
      "application/vnd.jupyter.widget-view+json": {
       "model_id": "3b454d737d244830abacbb221fd1189d",
       "version_major": 2,
       "version_minor": 0
      },
      "text/plain": [
       "  0%|          | 0/45 [00:00<?, ?it/s]"
      ]
     },
     "metadata": {},
     "output_type": "display_data"
    },
    {
     "data": {
      "application/json": {
       "ascii": false,
       "bar_format": null,
       "colour": null,
       "elapsed": 0.005564212799072266,
       "initial": 0,
       "n": 0,
       "ncols": null,
       "nrows": 24,
       "postfix": null,
       "prefix": "",
       "rate": null,
       "total": 45,
       "unit": "it",
       "unit_divisor": 1000,
       "unit_scale": false
      },
      "application/vnd.jupyter.widget-view+json": {
       "model_id": "481b3db8e34945bbacd8f7a84758505b",
       "version_major": 2,
       "version_minor": 0
      },
      "text/plain": [
       "  0%|          | 0/45 [00:00<?, ?it/s]"
      ]
     },
     "metadata": {},
     "output_type": "display_data"
    },
    {
     "data": {
      "application/json": {
       "ascii": false,
       "bar_format": null,
       "colour": null,
       "elapsed": 0.006449222564697266,
       "initial": 0,
       "n": 0,
       "ncols": null,
       "nrows": 24,
       "postfix": null,
       "prefix": "",
       "rate": null,
       "total": 45,
       "unit": "it",
       "unit_divisor": 1000,
       "unit_scale": false
      },
      "application/vnd.jupyter.widget-view+json": {
       "model_id": "f02065179c824e2091ee1243137154f5",
       "version_major": 2,
       "version_minor": 0
      },
      "text/plain": [
       "  0%|          | 0/45 [00:00<?, ?it/s]"
      ]
     },
     "metadata": {},
     "output_type": "display_data"
    },
    {
     "data": {
      "application/json": {
       "ascii": false,
       "bar_format": null,
       "colour": null,
       "elapsed": 0.006606101989746094,
       "initial": 0,
       "n": 0,
       "ncols": null,
       "nrows": 24,
       "postfix": null,
       "prefix": "",
       "rate": null,
       "total": 45,
       "unit": "it",
       "unit_divisor": 1000,
       "unit_scale": false
      },
      "application/vnd.jupyter.widget-view+json": {
       "model_id": "fd7e7d3821b94f7b8becbf9e63276846",
       "version_major": 2,
       "version_minor": 0
      },
      "text/plain": [
       "  0%|          | 0/45 [00:00<?, ?it/s]"
      ]
     },
     "metadata": {},
     "output_type": "display_data"
    },
    {
     "data": {
      "application/json": {
       "ascii": false,
       "bar_format": null,
       "colour": null,
       "elapsed": 0.0063669681549072266,
       "initial": 0,
       "n": 0,
       "ncols": null,
       "nrows": 24,
       "postfix": null,
       "prefix": "",
       "rate": null,
       "total": 45,
       "unit": "it",
       "unit_divisor": 1000,
       "unit_scale": false
      },
      "application/vnd.jupyter.widget-view+json": {
       "model_id": "7fafd13b46674f58ad5bb4444e536c41",
       "version_major": 2,
       "version_minor": 0
      },
      "text/plain": [
       "  0%|          | 0/45 [00:00<?, ?it/s]"
      ]
     },
     "metadata": {},
     "output_type": "display_data"
    },
    {
     "data": {
      "application/json": {
       "ascii": false,
       "bar_format": null,
       "colour": null,
       "elapsed": 0.007116079330444336,
       "initial": 0,
       "n": 0,
       "ncols": null,
       "nrows": 24,
       "postfix": null,
       "prefix": "",
       "rate": null,
       "total": 45,
       "unit": "it",
       "unit_divisor": 1000,
       "unit_scale": false
      },
      "application/vnd.jupyter.widget-view+json": {
       "model_id": "e0cb729610cb4947a082965a8c42734a",
       "version_major": 2,
       "version_minor": 0
      },
      "text/plain": [
       "  0%|          | 0/45 [00:00<?, ?it/s]"
      ]
     },
     "metadata": {},
     "output_type": "display_data"
    }
   ],
   "source": [
    "# Запуск методов на данных без статистически значимой разницы\n",
    "# control_ind - list[DataFrame] - контрольная выборка\n",
    "# control_ind_hist - list[DataFrame] - исторические выборки\n",
    "# На выходе - 4 array[list[float]] - 4 листа с значением p-value для каждого метода для каждой пары\n",
    "\n",
    "sizes = [400, 800, 1000, 1200, 1500, 2000]\n",
    "\n",
    "pvals_b = []\n",
    "pvals_c = []\n",
    "pvals_gb = []\n",
    "pvals_reg = []\n",
    "\n",
    "for size in tqdm(sizes):    \n",
    "    control_ind = []\n",
    "    control_ind_hist = []\n",
    "    for i in range(n_repeats):\n",
    "        control_ind.append(pd.read_pickle(f\"saved_variables/control_data_split_{size}_notarget_{i}.pkl\"))\n",
    "        control_ind_hist.append(pd.read_pickle(f\"saved_variables/control_data_hist_{size}_notarget_{i}.pkl\"))\n",
    "    \n",
    "    b, c, gb, reg = run_test_AA(control_ind, control_ind_hist)\n",
    "    \n",
    "    pvals_b.append(b)\n",
    "    pvals_c.append(c)\n",
    "    pvals_gb.append(gb)\n",
    "    pvals_reg.append(reg)"
   ]
  },
  {
   "cell_type": "code",
   "execution_count": 56,
   "metadata": {},
   "outputs": [],
   "source": [
    "# Модификациии для отрисовки графика\n",
    "\n",
    "pvals_c = pd.DataFrame(pvals_c)\n",
    "pvals_c = pvals_c.set_axis(sizes)\n",
    "\n",
    "pvals_gb = pd.DataFrame(pvals_gb)\n",
    "pvals_gb = pvals_gb.set_axis(sizes)\n",
    "\n",
    "pvals_b = pd.DataFrame(pvals_b)\n",
    "pvals_b = pvals_b.set_axis(sizes)\n",
    "\n",
    "pvals_reg = pd.DataFrame(pvals_reg)\n",
    "pvals_reg = pvals_reg.set_axis(sizes)"
   ]
  },
  {
   "cell_type": "code",
   "execution_count": 57,
   "metadata": {},
   "outputs": [],
   "source": [
    "# Модификациии для отрисовки графика\n",
    "\n",
    "data_cuped = None\n",
    "for i in range(pvals_c.shape[1]):\n",
    "    data_cuped = pd.concat([data_cuped, pvals_c.iloc[:, i]])\n",
    "    \n",
    "data_grad_boost = None\n",
    "for i in range(pvals_gb.shape[1]):\n",
    "    data_grad_boost = pd.concat([data_grad_boost, pvals_gb.iloc[:, i]])\n",
    "    \n",
    "    \n",
    "data_before = None\n",
    "for i in range(pvals_b.shape[1]):\n",
    "    data_before = pd.concat([data_before, pvals_b.iloc[:, i]])\n",
    "\n",
    "data_reg = None\n",
    "for i in range(pvals_reg.shape[1]):\n",
    "    data_reg = pd.concat([data_reg, pvals_reg.iloc[:, i]])"
   ]
  },
  {
   "cell_type": "code",
   "execution_count": 58,
   "metadata": {},
   "outputs": [
    {
     "data": {
      "image/png": "[encoded data removed]",
      "text/plain": [
       "<Figure size 1000x700 with 1 Axes>"
      ]
     },
     "metadata": {},
     "output_type": "display_data"
    }
   ],
   "source": [
    "f = plt.subplots(1, figsize=(10, 7))\n",
    "sns.lineplot(data=data_cuped, label='CUPED', marker=\"o\", markersize=7, color='#3399ff')\n",
    "sns.lineplot(data=data_grad_boost, label='CUPAC', marker=\"o\", markersize=7, color='#009900')\n",
    "sns.lineplot(data=data_before, label='Default', marker=\"o\", markersize=7, color='#ff9933')\n",
    "sns.lineplot(data=data_reg, label='Ml-rate', marker=\"o\", markersize=7, color='#ff66ff')\n",
    "\n",
    "plt.plot(sizes, [0.05] * len(sizes), color=\"#ff0000\", linestyle='dashed', label='alpha')\n",
    "# plt.title('Зависимость параметра p-value оцененного по 10 запускам от размера выборки')\n",
    "plt.xlabel('Размер контрольной выборки')\n",
    "plt.ylabel('p-value')\n",
    "plt.legend()\n",
    "plt.show()"
   ]
  }
 ],
 "metadata": {
  "kernelspec": {
   "display_name": "Python 3 (ipykernel)",
   "language": "python",
   "name": "python3"
  },
  "language_info": {
   "codemirror_mode": {
    "name": "ipython",
    "version": 3
   },
   "file_extension": ".py",
   "mimetype": "text/x-python",
   "name": "python",
   "nbconvert_exporter": "python",
   "pygments_lexer": "ipython3",
   "version": "3.9.15"
  }
 },
 "nbformat": 4,
 "nbformat_minor": 4
}
